{
 "cells": [
  {
   "cell_type": "code",
   "execution_count": 1,
   "id": "2fd55e52",
   "metadata": {},
   "outputs": [],
   "source": [
    "import pandas as pd\n",
    "import matplotlib.pyplot as plt\n",
    "import numpy as np\n",
    "import seaborn as sns\n",
    "pd.set_option('display.max_columns', None)"
   ]
  },
  {
   "cell_type": "code",
   "execution_count": 2,
   "id": "6b6f83d2",
   "metadata": {},
   "outputs": [],
   "source": [
    "#Custom figures\n",
    "import matplotlib \n",
    "matplotlib.rc('xtick', labelsize=8) \n",
    "matplotlib.rc('ytick', labelsize=8) \n",
    "matplotlib.rc('font', size=18)"
   ]
  },
  {
   "cell_type": "markdown",
   "id": "3766e3bb",
   "metadata": {},
   "source": [
    "## 1. Import study data"
   ]
  },
  {
   "cell_type": "code",
   "execution_count": 3,
   "id": "42bdf8df",
   "metadata": {},
   "outputs": [
    {
     "ename": "FileNotFoundError",
     "evalue": "[Errno 2] No such file or directory: 'ADNIMERGE.csv'",
     "output_type": "error",
     "traceback": [
      "\u001b[1;31m---------------------------------------------------------------------------\u001b[0m",
      "\u001b[1;31mFileNotFoundError\u001b[0m                         Traceback (most recent call last)",
      "Input \u001b[1;32mIn [3]\u001b[0m, in \u001b[0;36m<cell line: 1>\u001b[1;34m()\u001b[0m\n\u001b[1;32m----> 1\u001b[0m ADNIMERGE \u001b[38;5;241m=\u001b[39m \u001b[43mpd\u001b[49m\u001b[38;5;241;43m.\u001b[39;49m\u001b[43mread_csv\u001b[49m\u001b[43m(\u001b[49m\u001b[38;5;124;43m\"\u001b[39;49m\u001b[38;5;124;43mADNIMERGE.csv\u001b[39;49m\u001b[38;5;124;43m\"\u001b[39;49m\u001b[43m,\u001b[49m\u001b[43mlow_memory\u001b[49m\u001b[38;5;241;43m=\u001b[39;49m\u001b[38;5;28;43;01mFalse\u001b[39;49;00m\u001b[43m)\u001b[49m\n\u001b[0;32m      2\u001b[0m ADNIMERGE \u001b[38;5;241m=\u001b[39m ADNIMERGE[ADNIMERGE[\u001b[38;5;124m'\u001b[39m\u001b[38;5;124mVISCODE\u001b[39m\u001b[38;5;124m'\u001b[39m]\u001b[38;5;241m==\u001b[39m\u001b[38;5;124m'\u001b[39m\u001b[38;5;124mbl\u001b[39m\u001b[38;5;124m'\u001b[39m]\n\u001b[0;32m      3\u001b[0m ADNIMERGE\u001b[38;5;241m.\u001b[39mhead()\n",
      "File \u001b[1;32m~\\anaconda3\\lib\\site-packages\\pandas\\util\\_decorators.py:311\u001b[0m, in \u001b[0;36mdeprecate_nonkeyword_arguments.<locals>.decorate.<locals>.wrapper\u001b[1;34m(*args, **kwargs)\u001b[0m\n\u001b[0;32m    305\u001b[0m \u001b[38;5;28;01mif\u001b[39;00m \u001b[38;5;28mlen\u001b[39m(args) \u001b[38;5;241m>\u001b[39m num_allow_args:\n\u001b[0;32m    306\u001b[0m     warnings\u001b[38;5;241m.\u001b[39mwarn(\n\u001b[0;32m    307\u001b[0m         msg\u001b[38;5;241m.\u001b[39mformat(arguments\u001b[38;5;241m=\u001b[39marguments),\n\u001b[0;32m    308\u001b[0m         \u001b[38;5;167;01mFutureWarning\u001b[39;00m,\n\u001b[0;32m    309\u001b[0m         stacklevel\u001b[38;5;241m=\u001b[39mstacklevel,\n\u001b[0;32m    310\u001b[0m     )\n\u001b[1;32m--> 311\u001b[0m \u001b[38;5;28;01mreturn\u001b[39;00m func(\u001b[38;5;241m*\u001b[39margs, \u001b[38;5;241m*\u001b[39m\u001b[38;5;241m*\u001b[39mkwargs)\n",
      "File \u001b[1;32m~\\anaconda3\\lib\\site-packages\\pandas\\io\\parsers\\readers.py:680\u001b[0m, in \u001b[0;36mread_csv\u001b[1;34m(filepath_or_buffer, sep, delimiter, header, names, index_col, usecols, squeeze, prefix, mangle_dupe_cols, dtype, engine, converters, true_values, false_values, skipinitialspace, skiprows, skipfooter, nrows, na_values, keep_default_na, na_filter, verbose, skip_blank_lines, parse_dates, infer_datetime_format, keep_date_col, date_parser, dayfirst, cache_dates, iterator, chunksize, compression, thousands, decimal, lineterminator, quotechar, quoting, doublequote, escapechar, comment, encoding, encoding_errors, dialect, error_bad_lines, warn_bad_lines, on_bad_lines, delim_whitespace, low_memory, memory_map, float_precision, storage_options)\u001b[0m\n\u001b[0;32m    665\u001b[0m kwds_defaults \u001b[38;5;241m=\u001b[39m _refine_defaults_read(\n\u001b[0;32m    666\u001b[0m     dialect,\n\u001b[0;32m    667\u001b[0m     delimiter,\n\u001b[1;32m   (...)\u001b[0m\n\u001b[0;32m    676\u001b[0m     defaults\u001b[38;5;241m=\u001b[39m{\u001b[38;5;124m\"\u001b[39m\u001b[38;5;124mdelimiter\u001b[39m\u001b[38;5;124m\"\u001b[39m: \u001b[38;5;124m\"\u001b[39m\u001b[38;5;124m,\u001b[39m\u001b[38;5;124m\"\u001b[39m},\n\u001b[0;32m    677\u001b[0m )\n\u001b[0;32m    678\u001b[0m kwds\u001b[38;5;241m.\u001b[39mupdate(kwds_defaults)\n\u001b[1;32m--> 680\u001b[0m \u001b[38;5;28;01mreturn\u001b[39;00m \u001b[43m_read\u001b[49m\u001b[43m(\u001b[49m\u001b[43mfilepath_or_buffer\u001b[49m\u001b[43m,\u001b[49m\u001b[43m \u001b[49m\u001b[43mkwds\u001b[49m\u001b[43m)\u001b[49m\n",
      "File \u001b[1;32m~\\anaconda3\\lib\\site-packages\\pandas\\io\\parsers\\readers.py:575\u001b[0m, in \u001b[0;36m_read\u001b[1;34m(filepath_or_buffer, kwds)\u001b[0m\n\u001b[0;32m    572\u001b[0m _validate_names(kwds\u001b[38;5;241m.\u001b[39mget(\u001b[38;5;124m\"\u001b[39m\u001b[38;5;124mnames\u001b[39m\u001b[38;5;124m\"\u001b[39m, \u001b[38;5;28;01mNone\u001b[39;00m))\n\u001b[0;32m    574\u001b[0m \u001b[38;5;66;03m# Create the parser.\u001b[39;00m\n\u001b[1;32m--> 575\u001b[0m parser \u001b[38;5;241m=\u001b[39m TextFileReader(filepath_or_buffer, \u001b[38;5;241m*\u001b[39m\u001b[38;5;241m*\u001b[39mkwds)\n\u001b[0;32m    577\u001b[0m \u001b[38;5;28;01mif\u001b[39;00m chunksize \u001b[38;5;129;01mor\u001b[39;00m iterator:\n\u001b[0;32m    578\u001b[0m     \u001b[38;5;28;01mreturn\u001b[39;00m parser\n",
      "File \u001b[1;32m~\\anaconda3\\lib\\site-packages\\pandas\\io\\parsers\\readers.py:933\u001b[0m, in \u001b[0;36mTextFileReader.__init__\u001b[1;34m(self, f, engine, **kwds)\u001b[0m\n\u001b[0;32m    930\u001b[0m     \u001b[38;5;28mself\u001b[39m\u001b[38;5;241m.\u001b[39moptions[\u001b[38;5;124m\"\u001b[39m\u001b[38;5;124mhas_index_names\u001b[39m\u001b[38;5;124m\"\u001b[39m] \u001b[38;5;241m=\u001b[39m kwds[\u001b[38;5;124m\"\u001b[39m\u001b[38;5;124mhas_index_names\u001b[39m\u001b[38;5;124m\"\u001b[39m]\n\u001b[0;32m    932\u001b[0m \u001b[38;5;28mself\u001b[39m\u001b[38;5;241m.\u001b[39mhandles: IOHandles \u001b[38;5;241m|\u001b[39m \u001b[38;5;28;01mNone\u001b[39;00m \u001b[38;5;241m=\u001b[39m \u001b[38;5;28;01mNone\u001b[39;00m\n\u001b[1;32m--> 933\u001b[0m \u001b[38;5;28mself\u001b[39m\u001b[38;5;241m.\u001b[39m_engine \u001b[38;5;241m=\u001b[39m \u001b[38;5;28;43mself\u001b[39;49m\u001b[38;5;241;43m.\u001b[39;49m\u001b[43m_make_engine\u001b[49m\u001b[43m(\u001b[49m\u001b[43mf\u001b[49m\u001b[43m,\u001b[49m\u001b[43m \u001b[49m\u001b[38;5;28;43mself\u001b[39;49m\u001b[38;5;241;43m.\u001b[39;49m\u001b[43mengine\u001b[49m\u001b[43m)\u001b[49m\n",
      "File \u001b[1;32m~\\anaconda3\\lib\\site-packages\\pandas\\io\\parsers\\readers.py:1217\u001b[0m, in \u001b[0;36mTextFileReader._make_engine\u001b[1;34m(self, f, engine)\u001b[0m\n\u001b[0;32m   1213\u001b[0m     mode \u001b[38;5;241m=\u001b[39m \u001b[38;5;124m\"\u001b[39m\u001b[38;5;124mrb\u001b[39m\u001b[38;5;124m\"\u001b[39m\n\u001b[0;32m   1214\u001b[0m \u001b[38;5;66;03m# error: No overload variant of \"get_handle\" matches argument types\u001b[39;00m\n\u001b[0;32m   1215\u001b[0m \u001b[38;5;66;03m# \"Union[str, PathLike[str], ReadCsvBuffer[bytes], ReadCsvBuffer[str]]\"\u001b[39;00m\n\u001b[0;32m   1216\u001b[0m \u001b[38;5;66;03m# , \"str\", \"bool\", \"Any\", \"Any\", \"Any\", \"Any\", \"Any\"\u001b[39;00m\n\u001b[1;32m-> 1217\u001b[0m \u001b[38;5;28mself\u001b[39m\u001b[38;5;241m.\u001b[39mhandles \u001b[38;5;241m=\u001b[39m \u001b[43mget_handle\u001b[49m\u001b[43m(\u001b[49m\u001b[43m  \u001b[49m\u001b[38;5;66;43;03m# type: ignore[call-overload]\u001b[39;49;00m\n\u001b[0;32m   1218\u001b[0m \u001b[43m    \u001b[49m\u001b[43mf\u001b[49m\u001b[43m,\u001b[49m\n\u001b[0;32m   1219\u001b[0m \u001b[43m    \u001b[49m\u001b[43mmode\u001b[49m\u001b[43m,\u001b[49m\n\u001b[0;32m   1220\u001b[0m \u001b[43m    \u001b[49m\u001b[43mencoding\u001b[49m\u001b[38;5;241;43m=\u001b[39;49m\u001b[38;5;28;43mself\u001b[39;49m\u001b[38;5;241;43m.\u001b[39;49m\u001b[43moptions\u001b[49m\u001b[38;5;241;43m.\u001b[39;49m\u001b[43mget\u001b[49m\u001b[43m(\u001b[49m\u001b[38;5;124;43m\"\u001b[39;49m\u001b[38;5;124;43mencoding\u001b[39;49m\u001b[38;5;124;43m\"\u001b[39;49m\u001b[43m,\u001b[49m\u001b[43m \u001b[49m\u001b[38;5;28;43;01mNone\u001b[39;49;00m\u001b[43m)\u001b[49m\u001b[43m,\u001b[49m\n\u001b[0;32m   1221\u001b[0m \u001b[43m    \u001b[49m\u001b[43mcompression\u001b[49m\u001b[38;5;241;43m=\u001b[39;49m\u001b[38;5;28;43mself\u001b[39;49m\u001b[38;5;241;43m.\u001b[39;49m\u001b[43moptions\u001b[49m\u001b[38;5;241;43m.\u001b[39;49m\u001b[43mget\u001b[49m\u001b[43m(\u001b[49m\u001b[38;5;124;43m\"\u001b[39;49m\u001b[38;5;124;43mcompression\u001b[39;49m\u001b[38;5;124;43m\"\u001b[39;49m\u001b[43m,\u001b[49m\u001b[43m \u001b[49m\u001b[38;5;28;43;01mNone\u001b[39;49;00m\u001b[43m)\u001b[49m\u001b[43m,\u001b[49m\n\u001b[0;32m   1222\u001b[0m \u001b[43m    \u001b[49m\u001b[43mmemory_map\u001b[49m\u001b[38;5;241;43m=\u001b[39;49m\u001b[38;5;28;43mself\u001b[39;49m\u001b[38;5;241;43m.\u001b[39;49m\u001b[43moptions\u001b[49m\u001b[38;5;241;43m.\u001b[39;49m\u001b[43mget\u001b[49m\u001b[43m(\u001b[49m\u001b[38;5;124;43m\"\u001b[39;49m\u001b[38;5;124;43mmemory_map\u001b[39;49m\u001b[38;5;124;43m\"\u001b[39;49m\u001b[43m,\u001b[49m\u001b[43m \u001b[49m\u001b[38;5;28;43;01mFalse\u001b[39;49;00m\u001b[43m)\u001b[49m\u001b[43m,\u001b[49m\n\u001b[0;32m   1223\u001b[0m \u001b[43m    \u001b[49m\u001b[43mis_text\u001b[49m\u001b[38;5;241;43m=\u001b[39;49m\u001b[43mis_text\u001b[49m\u001b[43m,\u001b[49m\n\u001b[0;32m   1224\u001b[0m \u001b[43m    \u001b[49m\u001b[43merrors\u001b[49m\u001b[38;5;241;43m=\u001b[39;49m\u001b[38;5;28;43mself\u001b[39;49m\u001b[38;5;241;43m.\u001b[39;49m\u001b[43moptions\u001b[49m\u001b[38;5;241;43m.\u001b[39;49m\u001b[43mget\u001b[49m\u001b[43m(\u001b[49m\u001b[38;5;124;43m\"\u001b[39;49m\u001b[38;5;124;43mencoding_errors\u001b[39;49m\u001b[38;5;124;43m\"\u001b[39;49m\u001b[43m,\u001b[49m\u001b[43m \u001b[49m\u001b[38;5;124;43m\"\u001b[39;49m\u001b[38;5;124;43mstrict\u001b[39;49m\u001b[38;5;124;43m\"\u001b[39;49m\u001b[43m)\u001b[49m\u001b[43m,\u001b[49m\n\u001b[0;32m   1225\u001b[0m \u001b[43m    \u001b[49m\u001b[43mstorage_options\u001b[49m\u001b[38;5;241;43m=\u001b[39;49m\u001b[38;5;28;43mself\u001b[39;49m\u001b[38;5;241;43m.\u001b[39;49m\u001b[43moptions\u001b[49m\u001b[38;5;241;43m.\u001b[39;49m\u001b[43mget\u001b[49m\u001b[43m(\u001b[49m\u001b[38;5;124;43m\"\u001b[39;49m\u001b[38;5;124;43mstorage_options\u001b[39;49m\u001b[38;5;124;43m\"\u001b[39;49m\u001b[43m,\u001b[49m\u001b[43m \u001b[49m\u001b[38;5;28;43;01mNone\u001b[39;49;00m\u001b[43m)\u001b[49m\u001b[43m,\u001b[49m\n\u001b[0;32m   1226\u001b[0m \u001b[43m\u001b[49m\u001b[43m)\u001b[49m\n\u001b[0;32m   1227\u001b[0m \u001b[38;5;28;01massert\u001b[39;00m \u001b[38;5;28mself\u001b[39m\u001b[38;5;241m.\u001b[39mhandles \u001b[38;5;129;01mis\u001b[39;00m \u001b[38;5;129;01mnot\u001b[39;00m \u001b[38;5;28;01mNone\u001b[39;00m\n\u001b[0;32m   1228\u001b[0m f \u001b[38;5;241m=\u001b[39m \u001b[38;5;28mself\u001b[39m\u001b[38;5;241m.\u001b[39mhandles\u001b[38;5;241m.\u001b[39mhandle\n",
      "File \u001b[1;32m~\\anaconda3\\lib\\site-packages\\pandas\\io\\common.py:789\u001b[0m, in \u001b[0;36mget_handle\u001b[1;34m(path_or_buf, mode, encoding, compression, memory_map, is_text, errors, storage_options)\u001b[0m\n\u001b[0;32m    784\u001b[0m \u001b[38;5;28;01melif\u001b[39;00m \u001b[38;5;28misinstance\u001b[39m(handle, \u001b[38;5;28mstr\u001b[39m):\n\u001b[0;32m    785\u001b[0m     \u001b[38;5;66;03m# Check whether the filename is to be opened in binary mode.\u001b[39;00m\n\u001b[0;32m    786\u001b[0m     \u001b[38;5;66;03m# Binary mode does not support 'encoding' and 'newline'.\u001b[39;00m\n\u001b[0;32m    787\u001b[0m     \u001b[38;5;28;01mif\u001b[39;00m ioargs\u001b[38;5;241m.\u001b[39mencoding \u001b[38;5;129;01mand\u001b[39;00m \u001b[38;5;124m\"\u001b[39m\u001b[38;5;124mb\u001b[39m\u001b[38;5;124m\"\u001b[39m \u001b[38;5;129;01mnot\u001b[39;00m \u001b[38;5;129;01min\u001b[39;00m ioargs\u001b[38;5;241m.\u001b[39mmode:\n\u001b[0;32m    788\u001b[0m         \u001b[38;5;66;03m# Encoding\u001b[39;00m\n\u001b[1;32m--> 789\u001b[0m         handle \u001b[38;5;241m=\u001b[39m \u001b[38;5;28;43mopen\u001b[39;49m\u001b[43m(\u001b[49m\n\u001b[0;32m    790\u001b[0m \u001b[43m            \u001b[49m\u001b[43mhandle\u001b[49m\u001b[43m,\u001b[49m\n\u001b[0;32m    791\u001b[0m \u001b[43m            \u001b[49m\u001b[43mioargs\u001b[49m\u001b[38;5;241;43m.\u001b[39;49m\u001b[43mmode\u001b[49m\u001b[43m,\u001b[49m\n\u001b[0;32m    792\u001b[0m \u001b[43m            \u001b[49m\u001b[43mencoding\u001b[49m\u001b[38;5;241;43m=\u001b[39;49m\u001b[43mioargs\u001b[49m\u001b[38;5;241;43m.\u001b[39;49m\u001b[43mencoding\u001b[49m\u001b[43m,\u001b[49m\n\u001b[0;32m    793\u001b[0m \u001b[43m            \u001b[49m\u001b[43merrors\u001b[49m\u001b[38;5;241;43m=\u001b[39;49m\u001b[43merrors\u001b[49m\u001b[43m,\u001b[49m\n\u001b[0;32m    794\u001b[0m \u001b[43m            \u001b[49m\u001b[43mnewline\u001b[49m\u001b[38;5;241;43m=\u001b[39;49m\u001b[38;5;124;43m\"\u001b[39;49m\u001b[38;5;124;43m\"\u001b[39;49m\u001b[43m,\u001b[49m\n\u001b[0;32m    795\u001b[0m \u001b[43m        \u001b[49m\u001b[43m)\u001b[49m\n\u001b[0;32m    796\u001b[0m     \u001b[38;5;28;01melse\u001b[39;00m:\n\u001b[0;32m    797\u001b[0m         \u001b[38;5;66;03m# Binary mode\u001b[39;00m\n\u001b[0;32m    798\u001b[0m         handle \u001b[38;5;241m=\u001b[39m \u001b[38;5;28mopen\u001b[39m(handle, ioargs\u001b[38;5;241m.\u001b[39mmode)\n",
      "\u001b[1;31mFileNotFoundError\u001b[0m: [Errno 2] No such file or directory: 'ADNIMERGE.csv'"
     ]
    }
   ],
   "source": [
    "ADNIMERGE = pd.read_csv(\"ADNIMERGE.csv\",low_memory=False)\n",
    "ADNIMERGE = ADNIMERGE[ADNIMERGE['VISCODE']=='bl']\n",
    "ADNIMERGE.head()"
   ]
  },
  {
   "cell_type": "code",
   "execution_count": null,
   "id": "737fc2b2",
   "metadata": {},
   "outputs": [],
   "source": [
    "print(\"Number of rows: \", ADNIMERGE.shape[0])\n",
    "print(\"Number of columns: \", ADNIMERGE.shape[1])"
   ]
  },
  {
   "cell_type": "markdown",
   "id": "babfba66",
   "metadata": {},
   "source": [
    "## 2. EDA (Study Data)\n",
    "\n",
    "### 2.1. Age distribution by diagnostic status in baseline"
   ]
  },
  {
   "cell_type": "markdown",
   "id": "3d366ec1",
   "metadata": {},
   "source": [
    "Diagnostic codes (in baseline):\n",
    "\n",
    "- **CN**: controls\n",
    "- **AD**: alzheimer's disease (dementia diagnostic)\n",
    "- **LMCI**: late mild cognitive impairment\n",
    "- **EMCI**: early mild cognitive impairment\n",
    "- **SMC**: subjective memory concerns (it is considered cognitive normal)"
   ]
  },
  {
   "cell_type": "code",
   "execution_count": null,
   "id": "33d2a1bb",
   "metadata": {},
   "outputs": [],
   "source": [
    "ADNIMERGE['DX_bl'].unique()"
   ]
  },
  {
   "cell_type": "code",
   "execution_count": null,
   "id": "1ed58b17",
   "metadata": {},
   "outputs": [],
   "source": [
    "sns.boxplot( x=ADNIMERGE[\"DX_bl\"], y=ADNIMERGE[\"AGE\"], width=0.7);\n",
    "plt.title(\"Age distribution by cognitive phenotype\")\n",
    "plt.xlabel(\"Diagnosis\")\n",
    "plt.ylabel(\"Age\")\n",
    "plt.show()"
   ]
  },
  {
   "cell_type": "markdown",
   "id": "72e35e12",
   "metadata": {},
   "source": [
    "#### Kruskal-Wallis Test"
   ]
  },
  {
   "cell_type": "markdown",
   "id": "482f0c16",
   "metadata": {},
   "source": [
    "To compare the distributions, we have performed a **Kruskal-Wallis** test which is a non-parametric test and an alternative to one-way Anova. By non-parametric we mean, the data is not assumed to become from a particular distribution. The main objective of this test is used to determine whether there is a statistical difference between the medians of at least three independent groups. \n",
    "\n",
    "The hypothesese are: \n",
    "- **Null hypothesis (H0)**: the median is the same for all the data groups\n",
    "- **Alternative hypothesis (Ha)**: the median is not equal for all data groups. "
   ]
  },
  {
   "cell_type": "code",
   "execution_count": null,
   "id": "5a163ad1",
   "metadata": {},
   "outputs": [],
   "source": [
    "#Import required package\n",
    "from scipy import stats"
   ]
  },
  {
   "cell_type": "code",
   "execution_count": null,
   "id": "c41e31a1",
   "metadata": {},
   "outputs": [],
   "source": [
    "#Count NAs\n",
    "print(\"Number of missing values for the age: \", ADNIMERGE['AGE'].isna().sum())"
   ]
  },
  {
   "cell_type": "code",
   "execution_count": null,
   "id": "2a788e12",
   "metadata": {},
   "outputs": [],
   "source": [
    "#drop rows with NANs as they are giving problems in the statistical analysis\n",
    "ADNIMERGE = ADNIMERGE.dropna(subset = ['AGE'])\n",
    "print(\"Number of missing values for the age: \", ADNIMERGE['AGE'].isna().sum())"
   ]
  },
  {
   "cell_type": "code",
   "execution_count": null,
   "id": "64fab8c3",
   "metadata": {},
   "outputs": [],
   "source": [
    "#Prepare data for statistical tests\n",
    "CN_age = ADNIMERGE[ADNIMERGE[\"DX_bl\"]=='CN']['AGE'].values.tolist()\n",
    "AD_age = ADNIMERGE[ADNIMERGE[\"DX_bl\"]=='AD']['AGE'].values.tolist()\n",
    "LMCI_age = ADNIMERGE[ADNIMERGE[\"DX_bl\"]=='LMCI']['AGE'].values.tolist()\n",
    "SMC_age = ADNIMERGE[ADNIMERGE[\"DX_bl\"]=='SMC']['AGE'].values.tolist()\n",
    "EMCI_age = ADNIMERGE[ADNIMERGE[\"DX_bl\"]=='EMCI']['AGE'].values.tolist()"
   ]
  },
  {
   "cell_type": "code",
   "execution_count": null,
   "id": "746b2aef",
   "metadata": {},
   "outputs": [],
   "source": [
    "#Run Kruskal-Wallis test\n",
    "KW_age = stats.kruskal(CN_age, AD_age, LMCI_age, SMC_age, EMCI_age)\n",
    "print(KW_age)"
   ]
  },
  {
   "cell_type": "markdown",
   "id": "fb44a8f9",
   "metadata": {},
   "source": [
    "The p-value is below 0.05 and thus, we can reject the null hypothesis, suggesting that the at least one of the groups do not have the same age distribution as the others.\n",
    "\n",
    "#### Mann-Whitney Test\n",
    "\n",
    "In addition, we can compare the distributions of each of the cognitive impairment groups with the controls using a **Mann-Whitney** test. This test is equivalent to the Kruskal-Wallis test, but compares only two grous at a time. "
   ]
  },
  {
   "cell_type": "code",
   "execution_count": null,
   "id": "577c1859",
   "metadata": {},
   "outputs": [],
   "source": [
    "#Mann-Whitney tests\n",
    "print(\"Controls-SMC: \", stats.mannwhitneyu(CN_age,AD_age))\n",
    "print(\"Controls-EMCI: \", stats.mannwhitneyu(CN_age,EMCI_age))\n",
    "print(\"Controls-LMCI: \", stats.mannwhitneyu(CN_age,LMCI_age))\n",
    "print(\"Controls-AD: \", stats.mannwhitneyu(CN_age,AD_age))"
   ]
  },
  {
   "cell_type": "markdown",
   "id": "8646352a",
   "metadata": {},
   "source": [
    "We cannot reject the null hypothesis only for the LMCI group, where the p-value suggests that the two distributions are the same. "
   ]
  },
  {
   "cell_type": "code",
   "execution_count": null,
   "id": "423e3f52",
   "metadata": {},
   "outputs": [],
   "source": [
    "#groupping all patients in the same group\n",
    "noCN_age = ADNIMERGE[ADNIMERGE[\"DX_bl\"]!='CN']['AGE'].values.tolist()\n",
    "print(\"Controls-no controls: \", stats.mannwhitneyu(CN_age,noCN_age))"
   ]
  },
  {
   "cell_type": "markdown",
   "id": "a4c94f2e",
   "metadata": {},
   "source": [
    "**Conclusion**: the age distribution is not the same in controls than in the different groups, except if we only consider two groups (healthy and patients with cognitive impairment). These results do not support a normalization based on the age of the controls. Nevertheless these tests should be repeated for the patients included in the batteries that are going to be used for the study. "
   ]
  },
  {
   "cell_type": "markdown",
   "id": "89a05353",
   "metadata": {},
   "source": [
    "### 2.2. Gender distribution by diagnosis group"
   ]
  },
  {
   "cell_type": "code",
   "execution_count": null,
   "id": "e5e4a262",
   "metadata": {},
   "outputs": [],
   "source": [
    "#calculate sum of values by group\n",
    "df_sex = ADNIMERGE.groupby(['DX_bl', 'PTGENDER']).agg(Count=(\"RID\", 'count'))\n",
    "df_sex = df_sex.reset_index()\n",
    "#df_sex"
   ]
  },
  {
   "cell_type": "code",
   "execution_count": null,
   "id": "be952333",
   "metadata": {},
   "outputs": [],
   "source": [
    "#print barplot\n",
    "sns.barplot(x=\"DX_bl\",\n",
    "           y=\"Count\",\n",
    "           hue=\"PTGENDER\",\n",
    "           data=df_sex)\n",
    "\n",
    "plt.show()"
   ]
  },
  {
   "cell_type": "markdown",
   "id": "150addd1",
   "metadata": {},
   "source": [
    "### 2.3. Ethnic distribution by diagnosis group"
   ]
  },
  {
   "cell_type": "code",
   "execution_count": null,
   "id": "c565afef",
   "metadata": {},
   "outputs": [],
   "source": [
    "#calculate sum of values by group\n",
    "df_eth = ADNIMERGE.groupby(['DX_bl', 'PTRACCAT']).agg(Count=(\"RID\", 'count'))\n",
    "df_eth = df_eth.reset_index()\n",
    "#df_eth.head()"
   ]
  },
  {
   "cell_type": "code",
   "execution_count": null,
   "id": "431e4890",
   "metadata": {},
   "outputs": [],
   "source": [
    "#print barplot\n",
    "sns.barplot(x=\"DX_bl\",\n",
    "           y=\"Count\",\n",
    "           hue=\"PTRACCAT\",\n",
    "           data=df_eth)\n",
    "\n",
    "plt.show()"
   ]
  },
  {
   "cell_type": "markdown",
   "id": "c16d6927",
   "metadata": {},
   "source": [
    "## 3. Neurocognitive test batteries data inspection\n",
    "\n",
    "First we are going to find how many patients -in baseline- have been administered with the three batteries (ADAS-cog, MMSE, MoCA)."
   ]
  },
  {
   "cell_type": "markdown",
   "id": "a591cd6c",
   "metadata": {},
   "source": [
    "### 3.1. Data import"
   ]
  },
  {
   "cell_type": "markdown",
   "id": "b678d6a7",
   "metadata": {},
   "source": [
    "#### ADAS-cog"
   ]
  },
  {
   "cell_type": "code",
   "execution_count": null,
   "id": "4f7565b9",
   "metadata": {},
   "outputs": [],
   "source": [
    "#ADAS-cog (ADNIGO,2,3)\n",
    "ADAS = pd.read_csv(\"Neuropsychological/ADAS_ADNIGO23.csv\")\n",
    "ADAS = ADAS[ADAS['VISCODE2']=='bl']\n",
    "ADAS.head()"
   ]
  },
  {
   "cell_type": "code",
   "execution_count": null,
   "id": "aaf4db2f",
   "metadata": {},
   "outputs": [],
   "source": [
    "print(\"Number of subjects: \", len(ADAS['RID'].unique()))"
   ]
  },
  {
   "cell_type": "markdown",
   "id": "1a3a7305",
   "metadata": {},
   "source": [
    "Count missing data"
   ]
  },
  {
   "cell_type": "code",
   "execution_count": null,
   "id": "9ad93941",
   "metadata": {
    "scrolled": false
   },
   "outputs": [],
   "source": [
    "ADAS_columns = [\"Q1SCORE\",\"Q2SCORE\",\"Q3SCORE\",\"Q4SCORE\",\"Q5SCORE\",\"Q6SCORE\",\"Q7SCORE\",\n",
    "          \"Q8SCORE\",\"Q9SCORE\",\"Q10SCORE\",\"Q11SCORE\",\"Q12SCORE\",\"Q13SCORE\"]\n",
    "\n",
    "for column in ADAS_columns:\n",
    "    NullSum = ADAS[column].isnull().sum(axis = 0)\n",
    "    print(f\"{column}: {NullSum}\")\n",
    "    \n",
    "print(\"Number of rows with missing values: \", ADAS[ADAS_columns].isna().any(axis=1).sum())\n",
    "    \n",
    "print(\"Total number of tests: \", len(ADAS_columns) )"
   ]
  },
  {
   "cell_type": "markdown",
   "id": "0284a249",
   "metadata": {},
   "source": [
    "There are only 13 subjects that have missing data in any test. "
   ]
  },
  {
   "cell_type": "code",
   "execution_count": null,
   "id": "a23f06f7",
   "metadata": {},
   "outputs": [],
   "source": [
    "#Drop NaN\n",
    "ADAS = ADAS.dropna(subset=ADAS_columns)\n",
    "print(\"Number of subjects that have completed all tests: \", ADAS.shape[0])"
   ]
  },
  {
   "cell_type": "markdown",
   "id": "4e2176c5",
   "metadata": {},
   "source": [
    "#### MMSE"
   ]
  },
  {
   "cell_type": "code",
   "execution_count": null,
   "id": "3f4a13d5",
   "metadata": {},
   "outputs": [],
   "source": [
    "#MMSE (ADNI1,GO,2,3)\n",
    "MMSE = pd.read_csv(\"Neuropsychological/MMSE.csv\",low_memory=False)\n",
    "MMSE = MMSE[MMSE['VISCODE2']=='sc']\n",
    "MMSE.head()"
   ]
  },
  {
   "cell_type": "code",
   "execution_count": null,
   "id": "0daf8e42",
   "metadata": {},
   "outputs": [],
   "source": [
    "print(\"Number of subjects: \", len(MMSE['RID'].unique()))"
   ]
  },
  {
   "cell_type": "code",
   "execution_count": null,
   "id": "9b842d7f",
   "metadata": {
    "scrolled": true
   },
   "outputs": [],
   "source": [
    "#Count missing data\n",
    "MMSE_columns = [\"MMDATE\",\"MMYEAR\",\"MMMONTH\",\"MMDAY\",\"MMSEASON\",\"MMHOSPIT\",\"MMFLOOR\",\n",
    "          \"MMCITY\",\"MMAREA\",\"MMSTATE\",\"MMBALL\",\"MMFLAG\",\"MMTREE\",\"MMD\",\n",
    "               \"MML\",\"MMR\",\"MMO\",\"MMW\",\"MMBALLDL\",\"MMFLAGDL\",\"MMTREEDL\",\"MMWATCH\",\n",
    "               \"MMPENCIL\",\"MMREPEAT\",\"MMHAND\",\"MMFOLD\",\"MMONFLR\",\"MMREAD\",\"MMWRITE\",\n",
    "               \"MMDRAW\"]\n",
    "\n",
    "for column in MMSE_columns:\n",
    "    NullSum = MMSE[column].isnull().sum(axis = 0)\n",
    "    print(f\"{column}: {NullSum}\")\n",
    "\n",
    "print(\"Number of rows with missing values: \", MMSE[MMSE_columns].isna().any(axis=1).sum())\n",
    "\n",
    "print(\"Total number of tests: \", len(MMSE_columns) )"
   ]
  },
  {
   "cell_type": "markdown",
   "id": "46224425",
   "metadata": {},
   "source": [
    "There are 1605 patients that have missing data so maybe deleting all these rows is not the best strategy to deal with missing values. "
   ]
  },
  {
   "cell_type": "code",
   "execution_count": null,
   "id": "ba6e3af0",
   "metadata": {},
   "outputs": [],
   "source": [
    "#Drop NaN\n",
    "MMSE = MMSE.dropna(subset=MMSE_columns)\n",
    "print(\"Number of subjects that have completed all tests: \", MMSE.shape[0])"
   ]
  },
  {
   "cell_type": "markdown",
   "id": "4a77ba2f",
   "metadata": {},
   "source": [
    "#### MoCA"
   ]
  },
  {
   "cell_type": "code",
   "execution_count": null,
   "id": "51da137c",
   "metadata": {},
   "outputs": [],
   "source": [
    "#MoCA (ADNIGO,2,3)\n",
    "MOCA = pd.read_csv(\"Neuropsychological/MOCA.csv\")\n",
    "MOCA = MOCA[MOCA['VISCODE2']=='bl']\n",
    "MOCA.head()"
   ]
  },
  {
   "cell_type": "code",
   "execution_count": null,
   "id": "cfcde47e",
   "metadata": {},
   "outputs": [],
   "source": [
    "print(\"Number of subjects: \", len(MOCA['RID'].unique()))"
   ]
  },
  {
   "cell_type": "code",
   "execution_count": null,
   "id": "78cffecc",
   "metadata": {
    "scrolled": true
   },
   "outputs": [],
   "source": [
    "#Count missing data\n",
    "MOCA_columns = MOCA.columns[8:-4].tolist()\n",
    "\n",
    "for column in MOCA_columns:\n",
    "    NullSum = MOCA[column].isnull().sum(axis = 0)\n",
    "    print(f\"{column}: {NullSum}\")\n",
    "    \n",
    "print(\"Number of rows with missing values: \", MOCA[MOCA_columns].isna().any(axis=1).sum())\n",
    "    \n",
    "print(\"Total number of tests: \", len(MOCA_columns) )"
   ]
  },
  {
   "cell_type": "code",
   "execution_count": null,
   "id": "46f38a6f",
   "metadata": {},
   "outputs": [],
   "source": [
    "#Drop NaN\n",
    "MOCA = MOCA.dropna(subset=MOCA_columns)\n",
    "print(\"Number of subjects that have completed all tests: \", MOCA.shape[0])"
   ]
  },
  {
   "cell_type": "markdown",
   "id": "ffb4bbb1",
   "metadata": {},
   "source": [
    "There are 50 subjects that have missing data. "
   ]
  },
  {
   "cell_type": "markdown",
   "id": "d1f3c797",
   "metadata": {},
   "source": [
    "#### Merged batteries\n",
    "\n",
    "Merge the three test batteries (ADAS-cog, MMSE and MoCA)."
   ]
  },
  {
   "cell_type": "code",
   "execution_count": null,
   "id": "c28db483",
   "metadata": {},
   "outputs": [],
   "source": [
    "df = pd.merge(pd.merge(ADAS,MMSE,on='RID'),MOCA,on='RID')\n",
    "df.head()"
   ]
  },
  {
   "cell_type": "code",
   "execution_count": null,
   "id": "e5e48960",
   "metadata": {},
   "outputs": [],
   "source": [
    "print(\"Number of subjects with data for all batteries: \", df.shape[0])"
   ]
  },
  {
   "cell_type": "markdown",
   "id": "0ac65286",
   "metadata": {},
   "source": [
    "If we do not discard the rows that have missing values, the total number of patients in the merged table would be 1605. All of them will be patients with information for the 3 batteries -although not necessarily all test completed-."
   ]
  },
  {
   "cell_type": "markdown",
   "id": "d84cfb2f",
   "metadata": {},
   "source": [
    "### 3.2. EDA"
   ]
  },
  {
   "cell_type": "code",
   "execution_count": null,
   "id": "1c5ae542",
   "metadata": {},
   "outputs": [],
   "source": [
    "#Diagnosis bar plot\n",
    "df_ADNIMERGE = pd.merge(df,ADNIMERGE,on='RID')\n",
    "\n",
    "df_ADNIMERGE_groupped = df_ADNIMERGE.copy()\n",
    "df_ADNIMERGE_groupped['DX_bl'] = df_ADNIMERGE['DX_bl'].replace({'EMCI':'MCI', 'LMCI':'MCI',\"SMC\":\"CN\"})\n",
    "\n",
    "#calculate sum of values by group\n",
    "df_dx = df_ADNIMERGE_groupped.groupby(['DX_bl']).agg(Count=(\"RID\", 'count'))\n",
    "df_dx = df_dx.reset_index()\n",
    "\n",
    "#print barplot\n",
    "fig = plt.figure(figsize=(6,5))\n",
    "\n",
    "sns.barplot(x=\"DX_bl\",\n",
    "           y=\"Count\",\n",
    "           data=df_dx,\n",
    "           color='steelblue',\n",
    "           order=[\"CN\",\"MCI\",\"AD\"])\n",
    "\n",
    "plt.xlabel(\"Diagnosis\")\n",
    "plt.ylabel(\"Count\")\n",
    "\n",
    "plt.show()"
   ]
  },
  {
   "cell_type": "code",
   "execution_count": null,
   "id": "9d36a187",
   "metadata": {},
   "outputs": [],
   "source": [
    "import warnings\n",
    "warnings.filterwarnings('ignore')\n",
    "\n",
    "#Count number of instances in each group\n",
    "df_CN = pd.merge(df,df_ADNIMERGE_groupped[df_ADNIMERGE_groupped[\"DX_bl\"]=='CN'],on='RID')\n",
    "df_MCI = pd.merge(df,df_ADNIMERGE_groupped[df_ADNIMERGE_groupped[\"DX_bl\"]=='MCI'],on='RID')\n",
    "df_AD = pd.merge(df,df_ADNIMERGE_groupped[df_ADNIMERGE_groupped[\"DX_bl\"]=='AD'],on='RID')\n",
    "\n",
    "print(\"Number of controls: \", df_CN.shape[0])\n",
    "print(\"Number of MCI subjects: \", df_MCI.shape[0])\n",
    "print(\"Number of AD subjects: \", df_AD.shape[0])"
   ]
  },
  {
   "cell_type": "markdown",
   "id": "a1aa074c",
   "metadata": {},
   "source": [
    "#### Age distribution"
   ]
  },
  {
   "cell_type": "code",
   "execution_count": null,
   "id": "dd73cf65",
   "metadata": {},
   "outputs": [],
   "source": [
    "#Age Distribution \n",
    "\n",
    "sns.boxplot(x=df_ADNIMERGE_groupped[\"DX_bl\"], y=df_ADNIMERGE[\"AGE\"], width=0.7,\n",
    "           order=[\"CN\",\"MCI\",\"AD\"])\n",
    "plt.title(\"Age distribution by cognitive phenotype\")\n",
    "plt.xlabel(\"Diagnosis\")\n",
    "plt.ylabel(\"Age\")\n",
    "plt.show()"
   ]
  },
  {
   "cell_type": "markdown",
   "id": "bd5008bc",
   "metadata": {},
   "source": [
    "#### Kruskal-Wallis test"
   ]
  },
  {
   "cell_type": "code",
   "execution_count": null,
   "id": "0cb0332f",
   "metadata": {},
   "outputs": [],
   "source": [
    "#Kruskal-Wallis test\n",
    "KW_age = stats.kruskal(df_CN['AGE'].values.tolist(), df_MCI['AGE'].values.tolist(), df_AD['AGE'].values.tolist())\n",
    "KW_age"
   ]
  },
  {
   "cell_type": "markdown",
   "id": "66486fc4",
   "metadata": {},
   "source": [
    "#### Mann-Whitney tests"
   ]
  },
  {
   "cell_type": "code",
   "execution_count": null,
   "id": "0b87088b",
   "metadata": {},
   "outputs": [],
   "source": [
    "#Mann-Whitney tests\n",
    "print(\"Controls-MCI: \", stats.mannwhitneyu(df_CN['AGE'].values.tolist(),df_MCI['AGE'].values.tolist()))\n",
    "print(\"Controls-AD: \", stats.mannwhitneyu(df_CN['AGE'].values.tolist(),df_AD['AGE'].values.tolist()))"
   ]
  },
  {
   "cell_type": "markdown",
   "id": "3869966b",
   "metadata": {},
   "source": [
    "These results indicate that the MCI group does not have the same age distribution than the controls. Thus, it does not supports a normalization based on age. "
   ]
  },
  {
   "cell_type": "markdown",
   "id": "d063a500",
   "metadata": {},
   "source": [
    "#### Shapiro-Wilk test for normality"
   ]
  },
  {
   "cell_type": "code",
   "execution_count": null,
   "id": "cb7e83fa",
   "metadata": {},
   "outputs": [],
   "source": [
    "#Shapiro-Wilk test for normality\n",
    "print(\"Controls: \", stats.shapiro(df_CN['AGE'].values.tolist()))\n",
    "print(\"MCI: \", stats.shapiro(df_MCI['AGE'].values.tolist()))\n",
    "print(\"AD: \", stats.shapiro(df_AD['AGE'].values.tolist()))"
   ]
  },
  {
   "cell_type": "markdown",
   "id": "a470f432",
   "metadata": {},
   "source": [
    "The controls are the only group that have a normal distribution for the age. "
   ]
  },
  {
   "cell_type": "markdown",
   "id": "a57b8307",
   "metadata": {},
   "source": [
    "#### Sex distribution"
   ]
  },
  {
   "cell_type": "code",
   "execution_count": null,
   "id": "e77ad01f",
   "metadata": {},
   "outputs": [],
   "source": [
    "#Sex distribution\n",
    "\n",
    "#calculate sum of values by group\n",
    "df_sex = df_ADNIMERGE_groupped.groupby(['DX_bl', 'PTGENDER']).agg(Count=(\"RID\", 'count'))\n",
    "df_sex = df_sex.reset_index()\n",
    "\n",
    "#print barplot\n",
    "sns.barplot(x=\"DX_bl\",\n",
    "           y=\"Count\",\n",
    "           hue=\"PTGENDER\",\n",
    "           data=df_sex,\n",
    "           order=[\"CN\",\"MCI\",\"AD\"])\n",
    "\n",
    "plt.title(\"Sex distribution by cognitive phenotype\")\n",
    "plt.xlabel(\"Diagnosis\")\n",
    "plt.ylabel(\"Count\")\n",
    "plt.legend(title='Sex')\n",
    "\n",
    "plt.show()"
   ]
  },
  {
   "cell_type": "markdown",
   "id": "ba07131c",
   "metadata": {},
   "source": [
    "#### Ethnicity distribution"
   ]
  },
  {
   "cell_type": "code",
   "execution_count": null,
   "id": "b25ae10c",
   "metadata": {},
   "outputs": [],
   "source": [
    "#Ethnic distribution\n",
    "\n",
    "#calculate sum of values by group\n",
    "df_eth = df_ADNIMERGE_groupped.groupby(['DX_bl', 'PTRACCAT']).agg(Count=(\"RID\", 'count'))\n",
    "df_eth = df_eth.reset_index()\n",
    "\n",
    "#print barplot\n",
    "sns.barplot(x=\"DX_bl\",\n",
    "           y=\"Count\",\n",
    "           hue=\"PTRACCAT\",\n",
    "           data=df_eth,\n",
    "           order=[\"CN\",\"MCI\",\"AD\"])\n",
    "\n",
    "plt.title(\"Ethnicity distribution by cognitive phenotype\")\n",
    "plt.xlabel(\"Diagnosis\")\n",
    "plt.ylabel(\"Count\")\n",
    "plt.legend(title='Ethnic group')\n",
    "plt.legend(loc='upper left')\n",
    "\n",
    "plt.show()"
   ]
  },
  {
   "cell_type": "markdown",
   "id": "9535da33",
   "metadata": {},
   "source": [
    "#### Years of education distribution"
   ]
  },
  {
   "cell_type": "code",
   "execution_count": null,
   "id": "7f5e3139",
   "metadata": {},
   "outputs": [],
   "source": [
    "#Age Distribution \n",
    "\n",
    "sns.boxplot(x=df_ADNIMERGE_groupped[\"DX_bl\"], y=df_ADNIMERGE_groupped[\"PTEDUCAT\"], width=0.7,\n",
    "           order=[\"CN\",\"MCI\",\"AD\"])\n",
    "\n",
    "plt.title(\"Number of years of Education distribution by cognitive phenotype\")\n",
    "plt.xlabel(\"Diagnosis\")\n",
    "plt.ylabel(\"N. years of Education\")\n",
    "plt.show()"
   ]
  },
  {
   "cell_type": "markdown",
   "id": "d904c1a4",
   "metadata": {},
   "source": [
    "#### Kruskal-Wallis test"
   ]
  },
  {
   "cell_type": "code",
   "execution_count": null,
   "id": "fde1ef57",
   "metadata": {},
   "outputs": [],
   "source": [
    "#Kruskal-Wallis test\n",
    "KW_ed = stats.kruskal(df_CN['PTEDUCAT'].values.tolist(), df_MCI['PTEDUCAT'].values.tolist(), df_AD['PTEDUCAT'].values.tolist())\n",
    "KW_ed"
   ]
  },
  {
   "cell_type": "markdown",
   "id": "13b140eb",
   "metadata": {},
   "source": [
    "#### Mann-Whitney tests"
   ]
  },
  {
   "cell_type": "code",
   "execution_count": null,
   "id": "9e1e2439",
   "metadata": {},
   "outputs": [],
   "source": [
    "#Mann-Whitney tests\n",
    "print(\"Controls-MCI: \", stats.mannwhitneyu(df_CN['PTEDUCAT'].values.tolist(),df_MCI['PTEDUCAT'].values.tolist()))\n",
    "print(\"Controls-AD: \", stats.mannwhitneyu(df_CN['PTEDUCAT'].values.tolist(),df_AD['PTEDUCAT'].values.tolist()))"
   ]
  },
  {
   "cell_type": "markdown",
   "id": "718bfd53",
   "metadata": {},
   "source": [
    "These results indicate that the MCI group does not have the same age distribution than the controls."
   ]
  },
  {
   "cell_type": "markdown",
   "id": "266e9a30",
   "metadata": {},
   "source": [
    "#### Shapiro-Wilk test for normality"
   ]
  },
  {
   "cell_type": "code",
   "execution_count": null,
   "id": "5acd28e9",
   "metadata": {},
   "outputs": [],
   "source": [
    "#Shapiro-Wilk test for normality\n",
    "print(\"Controls: \", stats.shapiro(df_CN['PTEDUCAT'].values.tolist()))\n",
    "print(\"MCI: \", stats.shapiro(df_MCI['PTEDUCAT'].values.tolist()))\n",
    "print(\"AD: \", stats.shapiro(df_AD['PTEDUCAT'].values.tolist()))"
   ]
  },
  {
   "cell_type": "markdown",
   "id": "1255c515",
   "metadata": {},
   "source": [
    "The education level does not follow a normal distribution. "
   ]
  },
  {
   "cell_type": "markdown",
   "id": "4bd87c25",
   "metadata": {},
   "source": [
    "## 4. DATA PREPROCESSING"
   ]
  },
  {
   "cell_type": "code",
   "execution_count": null,
   "id": "5e6402e4",
   "metadata": {},
   "outputs": [],
   "source": [
    "from sklearn.preprocessing import StandardScaler"
   ]
  },
  {
   "cell_type": "markdown",
   "id": "da9dabe9",
   "metadata": {},
   "source": [
    "#### Plot z-scores by cognitive domain\n",
    "\n",
    "1. Compute averages of each test\n",
    "2. Group by NC domain\n",
    "3. Compute the average of each domain"
   ]
  },
  {
   "cell_type": "code",
   "execution_count": null,
   "id": "bdf9b444",
   "metadata": {},
   "outputs": [],
   "source": [
    "def zscores_means(X, dx, metadata_path):\n",
    "    \"\"\"Function to generate a table with the means by domain and diagnostic group.\n",
    "    It takes a list with the zscore df variable names for each diagnostic group\"\"\"\n",
    "    #Compute the test means\n",
    "    means_df = X.mean(axis=0).to_frame()\n",
    "    means_df.columns = [\"Mean\"]\n",
    "    means_df['ADNI column'] = means_df.index\n",
    "\n",
    "    #Import the test-cognitive domain relations    \n",
    "    metadata = pd.read_csv(metadata_path, sep=\";\", \n",
    "                            usecols = ['ADNI column', 'Cognitive Domain'])\n",
    "\n",
    "    means_df = means_df.join(metadata.set_index('ADNI column'))[['Cognitive Domain', 'Mean']]\n",
    "\n",
    "    #Compute NC domain means\n",
    "    means_df = means_df.groupby(['Cognitive Domain'])['Mean'].mean().to_frame()\n",
    "    means_df.reset_index(inplace=True)\n",
    "\n",
    "    #Add diagnostic group\n",
    "    means_df[\"Diagnostic\"] = dx\n",
    "    \n",
    "    return(means_df)"
   ]
  },
  {
   "cell_type": "markdown",
   "id": "4fee2854",
   "metadata": {},
   "source": [
    "### 4.1. ADAS-Cog"
   ]
  },
  {
   "cell_type": "code",
   "execution_count": null,
   "id": "1bfca12b",
   "metadata": {},
   "outputs": [],
   "source": [
    "#get test results for the controls\n",
    "ADAS_CN = ADAS[ADAS.RID.isin(ADNIMERGE[ADNIMERGE[\"DX_bl\"]=='CN'].RID)]\n",
    "print(\"Number of controls: \", ADAS_CN.shape[0])"
   ]
  },
  {
   "cell_type": "markdown",
   "id": "a1a03fba",
   "metadata": {},
   "source": [
    "#### Control data"
   ]
  },
  {
   "cell_type": "code",
   "execution_count": null,
   "id": "241b734f",
   "metadata": {},
   "outputs": [],
   "source": [
    "#filter table to show only tests results\n",
    "ADAS_CN = ADAS_CN[ADAS_columns]\n",
    "ADAS_CN.head()"
   ]
  },
  {
   "cell_type": "code",
   "execution_count": null,
   "id": "5cda909f",
   "metadata": {
    "scrolled": true
   },
   "outputs": [],
   "source": [
    "#Control statistics\n",
    "ADAS_CN.describe()"
   ]
  },
  {
   "cell_type": "markdown",
   "id": "16b1c869",
   "metadata": {},
   "source": [
    "#### Fit the scaler with the controls data"
   ]
  },
  {
   "cell_type": "code",
   "execution_count": null,
   "id": "039ff702",
   "metadata": {},
   "outputs": [],
   "source": [
    "scaler = StandardScaler()\n",
    "scaler.fit(ADAS_CN)"
   ]
  },
  {
   "cell_type": "markdown",
   "id": "188f79be",
   "metadata": {},
   "source": [
    "#### Transform data"
   ]
  },
  {
   "cell_type": "code",
   "execution_count": null,
   "id": "3727dc8a",
   "metadata": {
    "scrolled": true
   },
   "outputs": [],
   "source": [
    "ADAS_DX = pd.merge(ADAS,ADNIMERGE,on='RID')\n",
    "\n",
    "X_ADAS = ADAS_DX[ADAS_columns] #tests scores\n",
    "Y_ADAS = pd.DataFrame(ADAS_DX[\"DX_bl\"]) #diagnosis\n",
    "\n",
    "#scale data\n",
    "X_ADAS = scaler.transform(X_ADAS)\n",
    "\n",
    "#Convert into pandas dataframe\n",
    "X_ADAS = pd.DataFrame(X_ADAS,columns=ADAS_columns)\n",
    "X_ADAS.head()"
   ]
  },
  {
   "cell_type": "markdown",
   "id": "455f5de4",
   "metadata": {},
   "source": [
    "#### Divide data by diagnostic group"
   ]
  },
  {
   "cell_type": "code",
   "execution_count": null,
   "id": "0109a6f4",
   "metadata": {},
   "outputs": [],
   "source": [
    "#Get indexes of subjects belonging to each group\n",
    "ADAS_indexes = {} #Create empty dictionary\n",
    "dx_groups = [\"CN\",\"MCI\", \"AD\"] #diagnostic groups list\n",
    "\n",
    "Y_ADAS = Y_ADAS.replace({'EMCI':'MCI', 'LMCI':'MCI',\"SMC\":\"CN\"})\n",
    "\n",
    "for dx in dx_groups:\n",
    "    ADAS_indexes[dx] = Y_ADAS.index[Y_ADAS['DX_bl'] == dx].tolist()\n",
    "    \n",
    "#Filter results table by diagnostic group\n",
    "X_ADAS_CN = X_ADAS.iloc[ADAS_indexes[\"CN\"]]\n",
    "X_ADAS_MCI = X_ADAS.iloc[ADAS_indexes[\"MCI\"]]\n",
    "X_ADAS_AD = X_ADAS.iloc[ADAS_indexes[\"AD\"]]\n",
    "\n",
    "print(\"Number of instances CN: \", X_ADAS_CN.shape[0])\n",
    "print(\"Number of instances MCI: \", X_ADAS_MCI.shape[0])\n",
    "print(\"Number of instances AD: \", X_ADAS_AD.shape[0])"
   ]
  },
  {
   "cell_type": "markdown",
   "id": "2610db51",
   "metadata": {},
   "source": [
    "#### Plot z-scores by domain"
   ]
  },
  {
   "cell_type": "code",
   "execution_count": null,
   "id": "81ecbaf0",
   "metadata": {},
   "outputs": [],
   "source": [
    "metadata_path = \"./Tests/ADAS_Metadata.csv\"\n",
    "#Compute zscores means for each cognitive domain by diagnostic group\n",
    "ADAS_means_CN = zscores_means(X_ADAS_CN, \"CN\", metadata_path)\n",
    "ADAS_means_MCI = zscores_means(X_ADAS_MCI, \"MCI\", metadata_path)\n",
    "ADAS_means_AD = zscores_means(X_ADAS_AD, \"AD\", metadata_path)\n",
    "\n",
    "#Concanetate all dataframes\n",
    "ADAS_means_df = pd.concat([ADAS_means_CN, ADAS_means_MCI, ADAS_means_AD])\n",
    "ADAS_means_df.index = range(len(ADAS_means_df))\n",
    "\n",
    "#plot dataframe\n",
    "sns.lineplot(data=ADAS_means_df, x='Cognitive Domain', y='Mean', hue='Diagnostic')\n",
    "plt.title(\"Cognitive phenotype groups mean scores (ADAS)\")\n",
    "plt.ylabel(\"Mean z-scores\")\n",
    "plt.legend(title=\"Diagnostic group\")\n",
    "plt.show()"
   ]
  },
  {
   "cell_type": "markdown",
   "id": "d84f909c",
   "metadata": {},
   "source": [
    "### 4.2. MMSE"
   ]
  },
  {
   "cell_type": "code",
   "execution_count": null,
   "id": "e8e309d2",
   "metadata": {},
   "outputs": [],
   "source": [
    "#get test results for the controls\n",
    "MMSE_CN = MMSE[MMSE.RID.isin(ADNIMERGE[ADNIMERGE[\"DX_bl\"]=='CN'].RID)]\n",
    "print(\"Number of controls: \", MMSE_CN.shape[0])"
   ]
  },
  {
   "cell_type": "code",
   "execution_count": null,
   "id": "cb988f9a",
   "metadata": {},
   "outputs": [],
   "source": [
    "#filter table to show only tests results\n",
    "MMSE_CN = MMSE_CN[MMSE_columns]\n",
    "MMSE_CN.head()"
   ]
  },
  {
   "cell_type": "code",
   "execution_count": null,
   "id": "cf050fea",
   "metadata": {},
   "outputs": [],
   "source": [
    "#Control summary statistics\n",
    "MMSE_CN.describe()"
   ]
  },
  {
   "cell_type": "markdown",
   "id": "0830a7e3",
   "metadata": {},
   "source": [
    "#### Fit the scaler with the controls data"
   ]
  },
  {
   "cell_type": "code",
   "execution_count": null,
   "id": "cb5e3842",
   "metadata": {},
   "outputs": [],
   "source": [
    "scaler = StandardScaler()\n",
    "\n",
    "scaler.fit(MMSE_CN)"
   ]
  },
  {
   "cell_type": "markdown",
   "id": "84b90e68",
   "metadata": {},
   "source": [
    "#### Transform data"
   ]
  },
  {
   "cell_type": "code",
   "execution_count": null,
   "id": "83ae33aa",
   "metadata": {},
   "outputs": [],
   "source": [
    "MMSE_DX = pd.merge(MMSE,ADNIMERGE,on='RID')\n",
    "\n",
    "X_MMSE = MMSE_DX[MMSE_columns] #tests scores\n",
    "Y_MMSE = pd.DataFrame(MMSE_DX[\"DX_bl\"]) #diagnosis\n",
    "\n",
    "#scale data\n",
    "X_MMSE = scaler.transform(X_MMSE)\n",
    "\n",
    "\n",
    "#Convert into pandas dataframe\n",
    "X_MMSE = pd.DataFrame(X_MMSE,columns=MMSE_columns)\n",
    "X_MMSE.head()"
   ]
  },
  {
   "cell_type": "markdown",
   "id": "bb7fab89",
   "metadata": {},
   "source": [
    "#### Divide data by diagnostic group"
   ]
  },
  {
   "cell_type": "code",
   "execution_count": null,
   "id": "a5358e53",
   "metadata": {},
   "outputs": [],
   "source": [
    "#Get indexes of subjects belonging to each group\n",
    "MMSE_indexes = {} #Create empty dictionary\n",
    "dx_groups = [\"CN\",\"MCI\", \"AD\"] #diagnostic groups list\n",
    "\n",
    "Y_MMSE = Y_MMSE.replace({'EMCI':'MCI', 'LMCI':'MCI',\"SMC\":\"CN\"})\n",
    "\n",
    "for dx in dx_groups:\n",
    "    MMSE_indexes[dx] = Y_MMSE.index[Y_MMSE['DX_bl'] == dx].tolist()\n",
    "    \n",
    "#Filter results table by diagnostic group\n",
    "X_MMSE_CN = X_MMSE.iloc[MMSE_indexes[\"CN\"]]\n",
    "X_MMSE_MCI = X_MMSE.iloc[MMSE_indexes[\"MCI\"]]\n",
    "X_MMSE_AD = X_MMSE.iloc[MMSE_indexes[\"AD\"]]\n",
    "\n",
    "print(\"Number of instances CN: \", X_MMSE_CN.shape[0])\n",
    "print(\"Number of instances MCI: \", X_MMSE_MCI.shape[0])\n",
    "print(\"Number of instances AD: \", X_MMSE_AD.shape[0])"
   ]
  },
  {
   "cell_type": "markdown",
   "id": "b39e7a83",
   "metadata": {},
   "source": [
    "#### Plot z-scores by domain"
   ]
  },
  {
   "cell_type": "code",
   "execution_count": null,
   "id": "89c5c8f3",
   "metadata": {},
   "outputs": [],
   "source": [
    "metadata_path = \"./Tests/MMSE_Metadata.csv\"\n",
    "#Compute zscores means for each cognitive domain by diagnostic group\n",
    "MMSE_means_CN = zscores_means(X_MMSE_CN, \"CN\", metadata_path)\n",
    "MMSE_means_MCI = zscores_means(X_MMSE_MCI, \"MCI\", metadata_path)\n",
    "MMSE_means_AD = zscores_means(X_MMSE_AD, \"AD\", metadata_path)\n",
    "\n",
    "#Concanetate all dataframes\n",
    "MMSE_means_df = pd.concat([MMSE_means_CN, MMSE_means_MCI, MMSE_means_AD])\n",
    "MMSE_means_df.index = range(len(MMSE_means_df))\n",
    "\n",
    "#plot dataframe\n",
    "sns.lineplot(data=MMSE_means_df, x='Cognitive Domain', y='Mean', hue='Diagnostic')\n",
    "plt.title(\"Cognitive phenotype groups mean scores (MMSE)\")\n",
    "plt.ylabel(\"Mean z-scores\")\n",
    "plt.legend(title=\"Diagnostic group\")\n",
    "plt.show()"
   ]
  },
  {
   "cell_type": "markdown",
   "id": "84382fbc",
   "metadata": {},
   "source": [
    "### 4.3. MOCA"
   ]
  },
  {
   "cell_type": "code",
   "execution_count": null,
   "id": "ec3ef7a1",
   "metadata": {},
   "outputs": [],
   "source": [
    "#get test results for the controls\n",
    "MOCA_CN = MOCA[MOCA.RID.isin(ADNIMERGE[ADNIMERGE[\"DX_bl\"]=='CN'].RID)]\n",
    "print(\"Number of controls: \", MOCA_CN.shape[0])"
   ]
  },
  {
   "cell_type": "code",
   "execution_count": null,
   "id": "a33a97a4",
   "metadata": {},
   "outputs": [],
   "source": [
    "#filter table to show only tests results\n",
    "MOCA_CN = MOCA_CN[MOCA_columns]\n",
    "MOCA_CN.head()"
   ]
  },
  {
   "cell_type": "code",
   "execution_count": null,
   "id": "a4ab5297",
   "metadata": {},
   "outputs": [],
   "source": [
    "#Control summary statistics\n",
    "MOCA_CN.describe()"
   ]
  },
  {
   "cell_type": "markdown",
   "id": "f3786935",
   "metadata": {},
   "source": [
    "#### Fit the scaler with the controls data"
   ]
  },
  {
   "cell_type": "code",
   "execution_count": null,
   "id": "5e2eedb7",
   "metadata": {},
   "outputs": [],
   "source": [
    "scaler = StandardScaler()\n",
    "\n",
    "scaler.fit(MOCA_CN)"
   ]
  },
  {
   "cell_type": "markdown",
   "id": "9b1ecaeb",
   "metadata": {},
   "source": [
    "#### Transform data"
   ]
  },
  {
   "cell_type": "code",
   "execution_count": null,
   "id": "b3748f72",
   "metadata": {},
   "outputs": [],
   "source": [
    "MOCA_DX = pd.merge(MOCA,ADNIMERGE,on='RID')\n",
    "\n",
    "X_MOCA = MOCA_DX[MOCA_columns] #tests scores\n",
    "Y_MOCA = pd.DataFrame(MOCA_DX[\"DX_bl\"]) #diagnosis\n",
    "\n",
    "#scale data\n",
    "X_MOCA = scaler.transform(X_MOCA)\n",
    "\n",
    "#Convert into pandas dataframe\n",
    "X_MOCA = pd.DataFrame(X_MOCA,columns=MOCA_columns)\n",
    "X_MOCA.head()"
   ]
  },
  {
   "cell_type": "markdown",
   "id": "40371c45",
   "metadata": {},
   "source": [
    "#### Plot z-scores by domain"
   ]
  },
  {
   "cell_type": "markdown",
   "id": "3a6d0531",
   "metadata": {},
   "source": [
    "#### Divide data by diagnostic group"
   ]
  },
  {
   "cell_type": "code",
   "execution_count": null,
   "id": "5bd185f3",
   "metadata": {},
   "outputs": [],
   "source": [
    "#Get indexes of subjects belonging to each group\n",
    "MOCA_indexes = {} #Create empty dictionary\n",
    "dx_groups = [\"CN\",\"MCI\", \"AD\"] #diagnostic groups list\n",
    "\n",
    "Y_MOCA = Y_MOCA.replace({'EMCI':'MCI', 'LMCI':'MCI',\"SMC\":\"CN\"})\n",
    "\n",
    "for dx in dx_groups:\n",
    "    MOCA_indexes[dx] = Y_MOCA.index[Y_MOCA['DX_bl'] == dx].tolist()\n",
    "    \n",
    "#Filter results table by diagnostic group\n",
    "X_MOCA_CN = X_MOCA.iloc[MOCA_indexes[\"CN\"]]\n",
    "X_MOCA_MCI = X_MOCA.iloc[MOCA_indexes[\"MCI\"]]\n",
    "X_MOCA_AD = X_MOCA.iloc[MOCA_indexes[\"AD\"]]\n",
    "\n",
    "print(\"Number of instances CN: \", X_MOCA_CN.shape[0])\n",
    "print(\"Number of instances MCI: \", X_MOCA_MCI.shape[0])\n",
    "print(\"Number of instances AD: \", X_MOCA_AD.shape[0])"
   ]
  },
  {
   "cell_type": "code",
   "execution_count": null,
   "id": "32392923",
   "metadata": {},
   "outputs": [],
   "source": [
    "metadata_path = \"./Tests/MOCA_Metadata.csv\"\n",
    "#Compute zscores means for each cognitive domain by diagnostic group\n",
    "MOCA_means_CN = zscores_means(X_MOCA_CN, \"CN\", metadata_path)\n",
    "MOCA_means_MCI = zscores_means(X_MOCA_MCI, \"MCI\", metadata_path)\n",
    "MOCA_means_AD = zscores_means(X_MOCA_AD, \"AD\", metadata_path)\n",
    "\n",
    "#Concanetate all dataframes\n",
    "MOCA_means_df = pd.concat([MOCA_means_CN, MOCA_means_MCI, MOCA_means_AD])\n",
    "MOCA_means_df.index = range(len(MOCA_means_df))\n",
    "\n",
    "#plot dataframe\n",
    "sns.lineplot(data=MOCA_means_df, x='Cognitive Domain', y='Mean', hue='Diagnostic')\n",
    "plt.title(\"Cognitive phenotype groups mean scores (MOCA)\")\n",
    "plt.ylabel(\"Mean z-scores\")\n",
    "plt.legend(title=\"Diagnostic group\")\n",
    "plt.show()"
   ]
  },
  {
   "cell_type": "markdown",
   "id": "02f02b8b",
   "metadata": {},
   "source": [
    "### 4.4. Merged data"
   ]
  },
  {
   "cell_type": "code",
   "execution_count": null,
   "id": "d48702fc",
   "metadata": {},
   "outputs": [],
   "source": [
    "#get test results for the controls\n",
    "merged_CN = df[df.RID.isin(ADNIMERGE[ADNIMERGE[\"DX_bl\"]=='CN'].RID)]\n",
    "print(\"Number of controls: \", merged_CN.shape[0])"
   ]
  },
  {
   "cell_type": "code",
   "execution_count": null,
   "id": "4b8ffff8",
   "metadata": {},
   "outputs": [],
   "source": [
    "#filter table to show only tests results\n",
    "merged_columns = ADAS_columns + MMSE_columns + MOCA_columns\n",
    "merged_CN = merged_CN[merged_columns]\n",
    "merged_CN.head()"
   ]
  },
  {
   "cell_type": "markdown",
   "id": "ed0ffe68",
   "metadata": {},
   "source": [
    "#### Fit the scaler with the controls data"
   ]
  },
  {
   "cell_type": "code",
   "execution_count": null,
   "id": "e1c690d4",
   "metadata": {},
   "outputs": [],
   "source": [
    "scaler = StandardScaler()\n",
    "\n",
    "scaler.fit(merged_CN)"
   ]
  },
  {
   "cell_type": "markdown",
   "id": "7bc73a57",
   "metadata": {},
   "source": [
    "#### Transform data"
   ]
  },
  {
   "cell_type": "code",
   "execution_count": null,
   "id": "6a69519e",
   "metadata": {},
   "outputs": [],
   "source": [
    "merged_DX = pd.merge(df,ADNIMERGE,on='RID')\n",
    "\n",
    "X_merged = merged_DX[merged_columns] #tests scores\n",
    "Y_merged = pd.DataFrame(merged_DX[\"DX_bl\"]) #diagnosis\n",
    "\n",
    "#scale data\n",
    "X_merged = scaler.transform(X_merged)\n",
    "\n",
    "#Convert into pandas dataframe\n",
    "X_merged = pd.DataFrame(X_merged,columns=merged_columns)\n",
    "X_merged.head()"
   ]
  },
  {
   "cell_type": "markdown",
   "id": "b34c68de",
   "metadata": {},
   "source": [
    "#### Divide data by diagnostic group"
   ]
  },
  {
   "cell_type": "code",
   "execution_count": null,
   "id": "c15ebae6",
   "metadata": {},
   "outputs": [],
   "source": [
    "#Get indexes of subjects belonging to each group\n",
    "merged_indexes = {} #Create empty dictionary\n",
    "dx_groups = [\"CN\",\"MCI\", \"AD\"] #diagnostic groups list\n",
    "\n",
    "Y_merged = Y_merged.replace({'EMCI':'MCI', 'LMCI':'MCI',\"SMC\":\"CN\"})\n",
    "\n",
    "for dx in dx_groups:\n",
    "    merged_indexes[dx] = Y_merged.index[Y_merged['DX_bl'] == dx].tolist()\n",
    "    \n",
    "#Filter results table by diagnostic group\n",
    "X_merged_CN = X_merged.iloc[merged_indexes[\"CN\"]]\n",
    "X_merged_MCI = X_merged.iloc[merged_indexes[\"MCI\"]]\n",
    "X_merged_AD = X_merged.iloc[merged_indexes[\"AD\"]]\n",
    "\n",
    "print(\"Number of instances CN: \", X_merged_CN.shape[0])\n",
    "print(\"Number of instances MCI: \", X_merged_MCI.shape[0])\n",
    "print(\"Number of instances AD: \", X_merged_AD.shape[0])"
   ]
  },
  {
   "cell_type": "markdown",
   "id": "a4bcda2a",
   "metadata": {},
   "source": [
    "#### Plot z-scores by domain"
   ]
  },
  {
   "cell_type": "code",
   "execution_count": null,
   "id": "4a148f2c",
   "metadata": {},
   "outputs": [],
   "source": [
    "metadata_path = \"./Tests/merged_Metadata.csv\"\n",
    "#Compute zscores means for each cognitive domain by diagnostic group\n",
    "merged_means_CN = zscores_means(X_merged_CN, \"CN\", metadata_path)\n",
    "merged_means_MCI = zscores_means(X_merged_MCI, \"MCI\", metadata_path)\n",
    "merged_means_AD = zscores_means(X_merged_AD, \"AD\", metadata_path)\n",
    "\n",
    "#Concanetate all dataframes\n",
    "merged_means_df = pd.concat([merged_means_CN, merged_means_MCI, merged_means_AD])\n",
    "merged_means_df.index = range(len(merged_means_df))\n",
    "\n",
    "#plot dataframe\n",
    "sns.lineplot(data=merged_means_df, x='Cognitive Domain', y='Mean', hue='Diagnostic')\n",
    "plt.title(\"Cognitive phenotype groups mean scores (merged)\")\n",
    "plt.ylabel(\"Mean z-scores\")\n",
    "plt.legend(title=\"Diagnostic group\")\n",
    "plt.show()"
   ]
  },
  {
   "cell_type": "markdown",
   "id": "17399d68",
   "metadata": {},
   "source": [
    "## 5. ADJACENCY MATRIX"
   ]
  },
  {
   "cell_type": "markdown",
   "id": "2c203c31",
   "metadata": {},
   "source": [
    "Simple correlation (a.k.a. Pearson correlation coefficient) may not give a complete picture while trying to understand the relationship between two variables (A and B) especially when there exist other influencing variables that affect A (and/or) B.\n",
    "In fact, simple correlation mainly focuses on finding the influence of each variable on the other.\n",
    "\n",
    "Whereas **partial correlation** is used to find the refined relationship between two variables with the effect of the other influencing variables being excluded/controlled."
   ]
  },
  {
   "cell_type": "markdown",
   "id": "bb8776cf",
   "metadata": {},
   "source": [
    "#### Import required packages"
   ]
  },
  {
   "cell_type": "code",
   "execution_count": null,
   "id": "d09ad829",
   "metadata": {},
   "outputs": [],
   "source": [
    "#!pip install pingouin"
   ]
  },
  {
   "cell_type": "code",
   "execution_count": null,
   "id": "601dedaf",
   "metadata": {},
   "outputs": [],
   "source": [
    "from pingouin import partial_corr"
   ]
  },
  {
   "cell_type": "markdown",
   "id": "09951a97",
   "metadata": {},
   "source": [
    "#### Create partial correlation function"
   ]
  },
  {
   "cell_type": "code",
   "execution_count": null,
   "id": "c39e9546",
   "metadata": {},
   "outputs": [],
   "source": [
    "def par_corr(data_df):\n",
    "    \"\"\"\n",
    "    Compute partial pairwise correlation of columns. \n",
    "    When a pair of columns are picked, then all other columns are treated as control variables. \n",
    "    \n",
    "    @param data_df DataFrame\n",
    "    @return DataFrame, whose data is a symmetric matrix\n",
    "    \"\"\" \n",
    "    \n",
    "    n = data_df.shape[1] #total number of tests\n",
    "    mat = np.empty((n, n)) #empty matrix to store results \n",
    "    np.fill_diagonal(mat, 1) #diagonal elements have correlation equal to 1.0\n",
    "    \n",
    "    for i in range(n):\n",
    "        for j in range(i + 1, n):\n",
    "            #get columns names\n",
    "            x = data_df.columns[i]\n",
    "            y = data_df.columns[j]\n",
    "            xy_colnames = [data_df.columns[index] for index in [i,j]]\n",
    "            covar = [ var for var in data_df.columns if var not in xy_colnames]\n",
    "            \n",
    "            #partial correlation\n",
    "            corr_df = partial_corr(data=data_df, x=x, y=y, covar=covar, method='pearson') #partial correlation stats\n",
    "            corr = corr_df.iloc[0]['r'] #get partial correlation value\n",
    "\n",
    "            #store results\n",
    "            mat[i, j] = corr\n",
    "            mat[j, i] = corr\n",
    "            \n",
    "    return pd.DataFrame(mat, index=data_df.columns, columns=data_df.columns)"
   ]
  },
  {
   "cell_type": "code",
   "execution_count": null,
   "id": "cb65e036",
   "metadata": {},
   "outputs": [],
   "source": [
    "def plot_adjacency_mx(CN_mx, MCI_mx, AD_mx, battery_name):\n",
    "    \n",
    "    fig, axes = plt.subplots(1,3, figsize=(20,6))\n",
    "\n",
    "    sns.heatmap(ax=axes[0],data=CN_mx, annot=False, cmap=\"Spectral\", vmin=-1, vmax=1)\n",
    "    sns.heatmap(ax=axes[1],data=MCI_mx, annot=False, cmap=\"Spectral\", vmin=-1, vmax=1)\n",
    "    sns.heatmap(ax=axes[2],data=AD_mx, annot=False, cmap=\"Spectral\", vmin=-1, vmax=1)\n",
    "\n",
    "    #add titles to subfigures\n",
    "    fig.suptitle('Adjacency matrixes (' + battery_name + ')')\n",
    "    axes[0].title.set_text(\"Controls\")\n",
    "    axes[1].title.set_text(\"MCI\")\n",
    "    axes[2].title.set_text(\"AD\")\n",
    "\n",
    "    plt.show()"
   ]
  },
  {
   "cell_type": "markdown",
   "id": "e944ba19",
   "metadata": {},
   "source": [
    "### ADAS-Cog"
   ]
  },
  {
   "cell_type": "markdown",
   "id": "d6c6c92b",
   "metadata": {},
   "source": [
    "#### Divide data by diagnostic group"
   ]
  },
  {
   "cell_type": "code",
   "execution_count": null,
   "id": "27340f22",
   "metadata": {},
   "outputs": [],
   "source": [
    "#Get indexes of subjects belonging to each group\n",
    "ADAS_indexes = {} #Create empty dictionary\n",
    "dx_groups = [\"CN\",\"MCI\", \"AD\"] #diagnostic groups list\n",
    "\n",
    "Y_ADAS = Y_ADAS.replace({'EMCI':'MCI', 'LMCI':'MCI',\"SMC\":\"CN\"})\n",
    "\n",
    "for dx in dx_groups:\n",
    "    ADAS_indexes[dx] = Y_ADAS.index[Y_ADAS['DX_bl'] == dx].tolist()\n",
    "    \n",
    "#Filter results table by diagnostic group\n",
    "X_ADAS_CN = X_ADAS.iloc[ADAS_indexes[\"CN\"]]\n",
    "X_ADAS_MCI = X_ADAS.iloc[ADAS_indexes[\"MCI\"]]\n",
    "X_ADAS_AD = X_ADAS.iloc[ADAS_indexes[\"AD\"]]\n",
    "\n",
    "print(\"Number of instances CN: \", X_ADAS_CN.shape[0])\n",
    "print(\"Number of instances MCI: \", X_ADAS_MCI.shape[0])\n",
    "print(\"Number of instances AD: \", X_ADAS_AD.shape[0])"
   ]
  },
  {
   "cell_type": "markdown",
   "id": "34816fd4",
   "metadata": {},
   "source": [
    "#### Compute adjacency matrixes"
   ]
  },
  {
   "cell_type": "code",
   "execution_count": null,
   "id": "52948f15",
   "metadata": {},
   "outputs": [],
   "source": [
    "ADAS_CN_mx = par_corr(X_ADAS_CN)\n",
    "ADAS_MCI_mx = par_corr(X_ADAS_MCI)\n",
    "ADAS_AD_mx = par_corr(X_ADAS_AD)"
   ]
  },
  {
   "cell_type": "markdown",
   "id": "caaf4248",
   "metadata": {},
   "source": [
    "#### Plot correlation matrixes as heatmaps"
   ]
  },
  {
   "cell_type": "code",
   "execution_count": null,
   "id": "809f3261",
   "metadata": {},
   "outputs": [],
   "source": [
    "plot_adjacency_mx(ADAS_CN_mx, ADAS_MCI_mx, ADAS_AD_mx, 'ADAS')"
   ]
  },
  {
   "cell_type": "markdown",
   "id": "47bf7c84",
   "metadata": {},
   "source": [
    "### MMSE"
   ]
  },
  {
   "cell_type": "markdown",
   "id": "b86ab8b2",
   "metadata": {},
   "source": [
    "#### Divide data by diagnostic group"
   ]
  },
  {
   "cell_type": "code",
   "execution_count": null,
   "id": "7caa50ca",
   "metadata": {},
   "outputs": [],
   "source": [
    "#Get indexes of subjects belonging to each group\n",
    "MMSE_indexes = {} #Create empty dictionary\n",
    "dx_groups = [\"CN\",\"MCI\", \"AD\"] #diagnostic groups list\n",
    "\n",
    "Y_MMSE = Y_MMSE.replace({'EMCI':'MCI', 'LMCI':'MCI',\"SMC\":\"CN\"})\n",
    "\n",
    "for dx in dx_groups:\n",
    "    MMSE_indexes[dx] = Y_MMSE.index[Y_MMSE['DX_bl'] == dx].tolist()\n",
    "    \n",
    "#Filter results table by diagnostic group\n",
    "X_MMSE_CN = X_MMSE.iloc[MMSE_indexes[\"CN\"]]\n",
    "X_MMSE_MCI = X_MMSE.iloc[MMSE_indexes[\"MCI\"]]\n",
    "X_MMSE_AD = X_MMSE.iloc[MMSE_indexes[\"AD\"]]\n",
    "\n",
    "print(\"Number of instances CN: \", X_MMSE_CN.shape[0])\n",
    "print(\"Number of instances MCI: \", X_MMSE_MCI.shape[0])\n",
    "print(\"Number of instances AD: \", X_MMSE_AD.shape[0])"
   ]
  },
  {
   "cell_type": "markdown",
   "id": "1c646a2c",
   "metadata": {},
   "source": [
    "#### Compute adjacency matrixes"
   ]
  },
  {
   "cell_type": "code",
   "execution_count": null,
   "id": "b15e600e",
   "metadata": {},
   "outputs": [],
   "source": [
    "MMSE_CN_mx = par_corr(X_MMSE_CN)\n",
    "MMSE_MCI_mx = par_corr(X_MMSE_MCI)\n",
    "MMSE_AD_mx = par_corr(X_MMSE_AD)"
   ]
  },
  {
   "cell_type": "markdown",
   "id": "976d72fd",
   "metadata": {},
   "source": [
    "#### Plot correlation matrixes as heatmaps"
   ]
  },
  {
   "cell_type": "code",
   "execution_count": null,
   "id": "3d12cccb",
   "metadata": {},
   "outputs": [],
   "source": [
    "plot_adjacency_mx(MMSE_CN_mx, MMSE_MCI_mx, MMSE_AD_mx, 'MMSE')"
   ]
  },
  {
   "cell_type": "markdown",
   "id": "72e2a70a",
   "metadata": {},
   "source": [
    "Blank variables are those that are constant in the controls. Thus, the standard deviation is 0 (and the mean) is 0 and when computing the partial correlation matrixes it will raise an error. "
   ]
  },
  {
   "cell_type": "markdown",
   "id": "6a7fceed",
   "metadata": {},
   "source": [
    "### MOCA"
   ]
  },
  {
   "cell_type": "markdown",
   "id": "d58b2b6c",
   "metadata": {},
   "source": [
    "#### Divide data by diagnostic group"
   ]
  },
  {
   "cell_type": "code",
   "execution_count": null,
   "id": "798192c0",
   "metadata": {},
   "outputs": [],
   "source": [
    "#Get indexes of subjects belonging to each group\n",
    "MOCA_indexes = {} #Create empty dictionary\n",
    "dx_groups = [\"CN\",\"MCI\", \"AD\"] #diagnostic groups list\n",
    "\n",
    "Y_MOCA = Y_MOCA.replace({'EMCI':'MCI', 'LMCI':'MCI',\"SMC\":\"CN\"})\n",
    "\n",
    "for dx in dx_groups:\n",
    "    MOCA_indexes[dx] = Y_MOCA.index[Y_MOCA['DX_bl'] == dx].tolist()\n",
    "    \n",
    "#Filter results table by diagnostic group\n",
    "X_MOCA_CN = X_MOCA.iloc[MOCA_indexes[\"CN\"]]\n",
    "X_MOCA_MCI = X_MOCA.iloc[MOCA_indexes[\"MCI\"]]\n",
    "X_MOCA_AD = X_MOCA.iloc[MOCA_indexes[\"AD\"]]\n",
    "\n",
    "print(\"Number of instances CN: \", X_MOCA_CN.shape[0])\n",
    "print(\"Number of instances MCI: \", X_MOCA_MCI.shape[0])\n",
    "print(\"Number of instances AD: \", X_MOCA_AD.shape[0])"
   ]
  },
  {
   "cell_type": "markdown",
   "id": "a4d0ce6d",
   "metadata": {},
   "source": [
    "#### Compute adjacency matrixes"
   ]
  },
  {
   "cell_type": "code",
   "execution_count": null,
   "id": "3b99541a",
   "metadata": {},
   "outputs": [],
   "source": [
    "MOCA_CN_mx = par_corr(X_MOCA_CN)\n",
    "MOCA_MCI_mx = par_corr(X_MOCA_MCI)\n",
    "MOCA_AD_mx = par_corr(X_MOCA_AD)"
   ]
  },
  {
   "cell_type": "markdown",
   "id": "84aa3dec",
   "metadata": {},
   "source": [
    "#### Plot correlation matrixes as heatmaps"
   ]
  },
  {
   "cell_type": "code",
   "execution_count": null,
   "id": "46e30f67",
   "metadata": {
    "scrolled": false
   },
   "outputs": [],
   "source": [
    "plot_adjacency_mx(MOCA_CN_mx, MOCA_MCI_mx, MOCA_AD_mx, 'MOCA')"
   ]
  },
  {
   "cell_type": "markdown",
   "id": "47f85df1",
   "metadata": {},
   "source": [
    "He encontrado un artículo que puede ser interesante (hacen algo parecido a lo que queremos hacer), aunque todavía no he tenido tiempo de leerlo: https://doi.org/10.3390/healthcare10102045. Se centra especialmente en métodos de clasificación de Machine Learning clásicos usando ADAS-cog. Sin embargo, también realizan una matriz de correlaciones. "
   ]
  },
  {
   "cell_type": "markdown",
   "id": "a87fb531",
   "metadata": {},
   "source": [
    "### MOCA"
   ]
  },
  {
   "cell_type": "markdown",
   "id": "824a0de9",
   "metadata": {},
   "source": [
    "#### Divide data by diagnostic group"
   ]
  },
  {
   "cell_type": "code",
   "execution_count": null,
   "id": "888603e9",
   "metadata": {},
   "outputs": [],
   "source": [
    "#Get indexes of subjects belonging to each group\n",
    "merged_indexes = {} #Create empty dictionary\n",
    "dx_groups = [\"CN\",\"MCI\", \"AD\"] #diagnostic groups list\n",
    "\n",
    "Y_merged = Y_merged.replace({'EMCI':'MCI', 'LMCI':'MCI',\"SMC\":\"CN\"})\n",
    "\n",
    "for dx in dx_groups:\n",
    "    merged_indexes[dx] = Y_merged.index[Y_merged['DX_bl'] == dx].tolist()\n",
    "    \n",
    "#Filter results table by diagnostic group\n",
    "X_merged_CN = X_merged.iloc[merged_indexes[\"CN\"]]\n",
    "X_merged_MCI = X_merged.iloc[merged_indexes[\"MCI\"]]\n",
    "X_merged_AD = X_merged.iloc[merged_indexes[\"AD\"]]\n",
    "\n",
    "print(\"Number of instances CN: \", X_merged_CN.shape[0])\n",
    "print(\"Number of instances MCI: \", X_merged_MCI.shape[0])\n",
    "print(\"Number of instances AD: \", X_merged_AD.shape[0])"
   ]
  },
  {
   "cell_type": "markdown",
   "id": "5d3bb3b4",
   "metadata": {},
   "source": [
    "#### Compute adjacency matrixes"
   ]
  },
  {
   "cell_type": "code",
   "execution_count": null,
   "id": "5575fa2a",
   "metadata": {},
   "outputs": [],
   "source": [
    "merged_CN_mx = par_corr(X_merged_CN)\n",
    "merged_MCI_mx = par_corr(X_merged_MCI)\n",
    "merged_AD_mx = par_corr(X_merged_AD)"
   ]
  },
  {
   "cell_type": "markdown",
   "id": "2c5e38fd",
   "metadata": {},
   "source": [
    "#### Plot correlation matrixes as heatmaps"
   ]
  },
  {
   "cell_type": "code",
   "execution_count": null,
   "id": "8ee313b0",
   "metadata": {
    "scrolled": false
   },
   "outputs": [],
   "source": [
    "plot_adjacency_mx(merged_CN_mx, merged_MCI_mx, merged_AD_mx, 'All batteries')"
   ]
  },
  {
   "cell_type": "markdown",
   "id": "9707ea84",
   "metadata": {},
   "source": [
    "## 6. GRAPH CONSTRUCTION"
   ]
  },
  {
   "cell_type": "code",
   "execution_count": null,
   "id": "57fa6906",
   "metadata": {},
   "outputs": [],
   "source": [
    "import networkx as nx"
   ]
  },
  {
   "cell_type": "code",
   "execution_count": null,
   "id": "02bc6482",
   "metadata": {},
   "outputs": [],
   "source": [
    "def cognitive_network(mx):\n",
    "    \"\"\"Function to remove diagonal elements and convert scores into absolute values. It returns a networkx graph\"\"\"\n",
    "\n",
    "    for i in range(mx.shape[1]): #iterate matrix elements\n",
    "        colname = mx.columns[i]\n",
    "        #Remove diagonal elements\n",
    "        mx[colname] =np.where((mx[colname]==1.0) | (mx[colname].isnull()),0, mx[colname]) \n",
    "        #Convert negative correlations in positive ones\n",
    "        mx[colname] = np.where((mx[colname]<0),-1*mx[colname], mx[colname]) \n",
    "    \n",
    "    #Create graph from adjacency matrix\n",
    "    g = nx.from_numpy_array(mx.to_numpy())\n",
    "    \n",
    "    return g"
   ]
  },
  {
   "cell_type": "code",
   "execution_count": null,
   "id": "3188e576",
   "metadata": {},
   "outputs": [],
   "source": [
    "def node_attributes(metadata_path, graphs_ls): \n",
    "    \"\"\"Function to add attributes to the nodes of the graph\"\"\"\n",
    "    \n",
    "    attribute_ls = ['Node', 'ADNI column', 'Test', 'Cognitive Domain']\n",
    "    \n",
    "    #Import node metadata\n",
    "    metadata_df = pd.read_csv(metadata_path, sep=\";\", \n",
    "                                usecols = attribute_ls)\n",
    "    \n",
    "    #Add attributes\n",
    "    for graph in graphs_ls:\n",
    "        for attribute in attribute_ls:\n",
    "            nx.set_node_attributes(graph, dict(zip(metadata_df.Node, metadata_df[attribute])), name=attribute)"
   ]
  },
  {
   "cell_type": "code",
   "execution_count": null,
   "id": "5c856a0e",
   "metadata": {},
   "outputs": [],
   "source": [
    "def draw_graph(graphs_ls, test_labels, pos, mapping, battery_name):\n",
    "    \n",
    "    #Color by NC domain\n",
    "    ATTRIBUTE_NAME = 'Cognitive Domain'\n",
    "    \n",
    "    colors=[]\n",
    "    for node in list(graphs_ls[0].nodes()): #iterate each node\n",
    "        domain = graphs_ls[0].nodes[node][ATTRIBUTE_NAME]\n",
    "        colors.append(mapping[domain])\n",
    "\n",
    "    #Plot\n",
    "    fig, axes = plt.subplots(1,3, figsize=(20,6))\n",
    "    \n",
    "    for i in range(len(graphs_ls)):\n",
    "        \n",
    "        graph = graphs_ls[i]\n",
    "\n",
    "        #get edges weights\n",
    "        weights = list(nx.get_edge_attributes(graph,'weight').values())\n",
    "        \n",
    "        if test_labels is not None: \n",
    "            nx.draw(ax=axes[i], G=graph, pos=pos, labels=test_labels, with_labels=True, node_color=colors, \n",
    "                   edge_color=weights, edge_cmap=plt.cm.Greys, width=[ x*10 for x in weights])\n",
    "        \n",
    "        else:\n",
    "            nx.draw(ax=axes[i], G=graph, pos=pos, with_labels=True, node_color=colors, \n",
    "                   edge_color=weights, edge_cmap=plt.cm.Greys, width=[ x*10 for x in weights])\n",
    "    \n",
    "\n",
    "    #add title to subfigures\n",
    "    axes[0].title.set_text(\"Controls\")\n",
    "    axes[1].title.set_text(\"MCI\")\n",
    "    axes[2].title.set_text(\"AD\")\n",
    "    \n",
    "    figure_path = \"./Results/Figures/Graphs/\"+ battery_name + \".svg\"\n",
    "\n",
    "    plt.savefig(figure_path, format=\"svg\")\n",
    "    plt.show()"
   ]
  },
  {
   "cell_type": "markdown",
   "id": "f1ba680e",
   "metadata": {},
   "source": [
    "### ADAS-Cog"
   ]
  },
  {
   "cell_type": "markdown",
   "id": "02c9fbe6",
   "metadata": {},
   "source": [
    "#### 6.1 Compute graph"
   ]
  },
  {
   "cell_type": "code",
   "execution_count": null,
   "id": "a2559413",
   "metadata": {},
   "outputs": [],
   "source": [
    "import networkx as nx\n",
    "\n",
    "#convert adjacency matrix into graph\n",
    "ADAS_CN_graph = cognitive_network(ADAS_CN_mx)\n",
    "ADAS_MCI_graph = cognitive_network(ADAS_MCI_mx)\n",
    "ADAS_AD_graph = cognitive_network(ADAS_AD_mx)"
   ]
  },
  {
   "cell_type": "code",
   "execution_count": null,
   "id": "b57698c1",
   "metadata": {},
   "outputs": [],
   "source": [
    "#count nodes and edges\n",
    "print(\"CN-------------------------\")\n",
    "print(\"- Number of nodes: \", ADAS_CN_graph.number_of_nodes())\n",
    "print(\"- Number of edges: \", ADAS_CN_graph.number_of_edges())\n",
    "print()\n",
    "print(\"MCI-------------------------\")\n",
    "print(\"- Number of nodes: \", ADAS_MCI_graph.number_of_nodes())\n",
    "print(\"- Number of edges: \", ADAS_MCI_graph.number_of_edges())\n",
    "print()\n",
    "print(\"AD-------------------------\")\n",
    "print(\"- Number of nodes: \", ADAS_AD_graph.number_of_nodes())\n",
    "print(\"- Number of edges: \", ADAS_AD_graph.number_of_edges())"
   ]
  },
  {
   "cell_type": "markdown",
   "id": "9d519180",
   "metadata": {},
   "source": [
    "#### 6.2. Add node attributes\n",
    "\n",
    "As the nodes represent different tests they are going to have the following attributes:\n",
    "\n",
    "- ADNI column: name of the test in the ADNI database\n",
    "- Test description\n",
    "- Cognitive domain"
   ]
  },
  {
   "cell_type": "code",
   "execution_count": null,
   "id": "aba5db0a",
   "metadata": {},
   "outputs": [],
   "source": [
    "metadata_path = \"./Tests/ADAS_Metadata.csv\"\n",
    "graphs_ls = [ADAS_CN_graph, ADAS_MCI_graph, ADAS_AD_graph]\n",
    "\n",
    "node_attributes(metadata_path, graphs_ls)"
   ]
  },
  {
   "cell_type": "markdown",
   "id": "12ab75bc",
   "metadata": {},
   "source": [
    "#### 6.3. Draw graph"
   ]
  },
  {
   "cell_type": "code",
   "execution_count": null,
   "id": "1884383e",
   "metadata": {},
   "outputs": [],
   "source": [
    "#Node labels\n",
    "test_labels = {0:\"Q1\", 1:\"Q2\", 2:\"Q3\", 3:\"Q4\", 4:\"Q5\", 5: \"Q6\", 6:\"Q7\",\n",
    "              7:\"Q8\",8:\"Q9\", 9:\"Q10\", 10:\"Q11\", 11:\"Q12\", 12:\"Q13\"}\n",
    "\n",
    "#convert domains into numeric keys\n",
    "mapping_ADAS = {'Attention':0, 'Executive':1, 'Language':2, 'Memory':3, 'Orientation':4} \n",
    "\n",
    "#fix position\n",
    "pos_ADAS=nx.spring_layout(ADAS_CN_graph, weight='weight', seed=0)\n",
    "\n",
    "draw_graph(graphs_ls, test_labels, pos_ADAS, mapping_ADAS, 'ADAS')"
   ]
  },
  {
   "cell_type": "markdown",
   "id": "80a66014",
   "metadata": {},
   "source": [
    "#### Edges weights"
   ]
  },
  {
   "cell_type": "code",
   "execution_count": null,
   "id": "59e91d4e",
   "metadata": {},
   "outputs": [],
   "source": [
    "#Create dataframe with weights\n",
    "weights_df_CN = pd.DataFrame(list(nx.get_edge_attributes(ADAS_CN_graph,'weight').values()), columns=[\"Weight\"])\n",
    "weights_df_CN['Diagnostic'] = \"CN\"\n",
    "weights_df_MCI = pd.DataFrame(list(nx.get_edge_attributes(ADAS_MCI_graph,'weight').values()), columns=[\"Weight\"])\n",
    "weights_df_MCI['Diagnostic'] = \"MCI\"\n",
    "weights_df_AD = pd.DataFrame(list(nx.get_edge_attributes(ADAS_AD_graph,'weight').values()), columns=[\"Weight\"])\n",
    "weights_df_AD['Diagnostic'] = \"AD\"\n",
    "\n",
    "#merge all\n",
    "weights_df = pd.concat([weights_df_CN, weights_df_MCI, weights_df_AD], ignore_index=True)\n",
    "\n",
    "#plot histogram\n",
    "sns.histplot(data=weights_df, x=\"Weight\", hue=\"Diagnostic\")\n",
    "plt.title(\"Edge weights distribution\")\n",
    "plt.savefig(\"./Figures/ADAS_weights.png\", format=\"png\")\n",
    "plt.show()"
   ]
  },
  {
   "cell_type": "markdown",
   "id": "e04d29cb",
   "metadata": {},
   "source": [
    "### MMSE"
   ]
  },
  {
   "cell_type": "markdown",
   "id": "1d12a958",
   "metadata": {},
   "source": [
    "#### 6.1 Compute graph"
   ]
  },
  {
   "cell_type": "code",
   "execution_count": null,
   "id": "7177cd72",
   "metadata": {},
   "outputs": [],
   "source": [
    "import networkx as nx\n",
    "\n",
    "#convert adjacency matrix into graph\n",
    "MMSE_CN_graph = cognitive_network(MMSE_CN_mx)\n",
    "MMSE_MCI_graph = cognitive_network(MMSE_MCI_mx)\n",
    "MMSE_AD_graph = cognitive_network(MMSE_AD_mx)"
   ]
  },
  {
   "cell_type": "code",
   "execution_count": null,
   "id": "2391f701",
   "metadata": {},
   "outputs": [],
   "source": [
    "#count nodes and edges\n",
    "print(\"CN-------------------------\")\n",
    "print(\"- Number of nodes: \", MMSE_CN_graph.number_of_nodes())\n",
    "print(\"- Number of edges: \", MMSE_CN_graph.number_of_edges())\n",
    "print()\n",
    "print(\"MCI-------------------------\")\n",
    "print(\"- Number of nodes: \", MMSE_MCI_graph.number_of_nodes())\n",
    "print(\"- Number of edges: \", MMSE_MCI_graph.number_of_edges())\n",
    "print()\n",
    "print(\"AD-------------------------\")\n",
    "print(\"- Number of nodes: \", MMSE_AD_graph.number_of_nodes())\n",
    "print(\"- Number of edges: \", MMSE_AD_graph.number_of_edges())"
   ]
  },
  {
   "cell_type": "markdown",
   "id": "38a194c8",
   "metadata": {},
   "source": [
    "#### 6.2. Add node attributes\n",
    "\n",
    "As the nodes represent different tests they are going to have the following attributes:\n",
    "\n",
    "- ADNI column: name of the test in the ADNI database\n",
    "- Test description\n",
    "- Cognitive domain"
   ]
  },
  {
   "cell_type": "code",
   "execution_count": null,
   "id": "3c039c84",
   "metadata": {},
   "outputs": [],
   "source": [
    "metadata_path = \"./Tests/MMSE_Metadata.csv\"\n",
    "graphs_ls = [MMSE_CN_graph, MMSE_MCI_graph, MMSE_AD_graph]\n",
    "\n",
    "node_attributes(metadata_path, graphs_ls)"
   ]
  },
  {
   "cell_type": "markdown",
   "id": "ee514761",
   "metadata": {},
   "source": [
    "#### 6.3. Draw graph"
   ]
  },
  {
   "cell_type": "code",
   "execution_count": null,
   "id": "3d4d5868",
   "metadata": {},
   "outputs": [],
   "source": [
    "#Node labels\n",
    "test_labels = {} #create empty dictionary\n",
    "\n",
    "for i in range(MMSE_CN_mx.shape[1]):\n",
    "    test_labels[i] = MMSE_CN_mx.columns[i]\n",
    "\n",
    "#convert domains into numeric keys\n",
    "mapping_MMSE = {'Concentration':0, 'Language':1, 'Memory':2, 'Orientation':3, 'Visuospatial ':4} \n",
    "\n",
    "#fix position\n",
    "pos_MMSE=nx.spring_layout(MMSE_MCI_graph, weight='weight', seed=0)\n",
    "\n",
    "draw_graph(graphs_ls, test_labels, pos_MMSE, mapping_MMSE, 'MMSE')"
   ]
  },
  {
   "cell_type": "markdown",
   "id": "b7f17e81",
   "metadata": {},
   "source": [
    "#### Edges weights"
   ]
  },
  {
   "cell_type": "code",
   "execution_count": null,
   "id": "d056a3fa",
   "metadata": {},
   "outputs": [],
   "source": [
    "#Create dataframe with weights\n",
    "weights_df_CN = pd.DataFrame(list(nx.get_edge_attributes(MMSE_CN_graph,'weight').values()), columns=[\"Weight\"])\n",
    "weights_df_CN['Diagnostic'] = \"CN\"\n",
    "weights_df_MCI = pd.DataFrame(list(nx.get_edge_attributes(MMSE_MCI_graph,'weight').values()), columns=[\"Weight\"])\n",
    "weights_df_MCI['Diagnostic'] = \"MCI\"\n",
    "weights_df_AD = pd.DataFrame(list(nx.get_edge_attributes(MMSE_AD_graph,'weight').values()), columns=[\"Weight\"])\n",
    "weights_df_AD['Diagnostic'] = \"AD\"\n",
    "\n",
    "#merge all\n",
    "weights_df = pd.concat([weights_df_CN, weights_df_MCI, weights_df_AD], ignore_index=True)\n",
    "\n",
    "#plot histogram\n",
    "sns.histplot(data=weights_df, x=\"Weight\", hue=\"Diagnostic\")\n",
    "plt.title(\"Edge weights distribution\")\n",
    "plt.savefig(\"./Figures/MMSE_weights.png\", format=\"png\")\n",
    "plt.show()"
   ]
  },
  {
   "cell_type": "markdown",
   "id": "7adbe884",
   "metadata": {},
   "source": [
    "### MOCA"
   ]
  },
  {
   "cell_type": "markdown",
   "id": "4adaa39c",
   "metadata": {},
   "source": [
    "#### 6.1 Compute graph"
   ]
  },
  {
   "cell_type": "code",
   "execution_count": null,
   "id": "41f74baa",
   "metadata": {},
   "outputs": [],
   "source": [
    "import networkx as nx\n",
    "\n",
    "#convert adjacency matrix into graph\n",
    "MOCA_CN_graph = cognitive_network(MOCA_CN_mx)\n",
    "MOCA_MCI_graph = cognitive_network(MOCA_MCI_mx)\n",
    "MOCA_AD_graph = cognitive_network(MOCA_AD_mx)"
   ]
  },
  {
   "cell_type": "code",
   "execution_count": null,
   "id": "ecb9afe2",
   "metadata": {},
   "outputs": [],
   "source": [
    "#count nodes and edges\n",
    "print(\"CN-------------------------\")\n",
    "print(\"- Number of nodes: \", MOCA_CN_graph.number_of_nodes())\n",
    "print(\"- Number of edges: \", MOCA_CN_graph.number_of_edges())\n",
    "print()\n",
    "print(\"MCI-------------------------\")\n",
    "print(\"- Number of nodes: \", MOCA_MCI_graph.number_of_nodes())\n",
    "print(\"- Number of edges: \", MOCA_MCI_graph.number_of_edges())\n",
    "print()\n",
    "print(\"AD-------------------------\")\n",
    "print(\"- Number of nodes: \", MOCA_AD_graph.number_of_nodes())\n",
    "print(\"- Number of edges: \", MOCA_AD_graph.number_of_edges())"
   ]
  },
  {
   "cell_type": "markdown",
   "id": "28c02eda",
   "metadata": {},
   "source": [
    "#### 6.2. Add node attributes\n",
    "\n",
    "As the nodes represent different tests they are going to have the following attributes:\n",
    "\n",
    "- ADNI column: name of the test in the ADNI database\n",
    "- Test description\n",
    "- Cognitive domain"
   ]
  },
  {
   "cell_type": "code",
   "execution_count": null,
   "id": "183188d5",
   "metadata": {},
   "outputs": [],
   "source": [
    "metadata_path = \"./Tests/MOCA_Metadata.csv\"\n",
    "graphs_ls = [MOCA_CN_graph, MOCA_MCI_graph, MOCA_AD_graph]\n",
    "\n",
    "node_attributes(metadata_path, graphs_ls)"
   ]
  },
  {
   "cell_type": "markdown",
   "id": "941627e4",
   "metadata": {},
   "source": [
    "#### 6.3. Draw graph"
   ]
  },
  {
   "cell_type": "code",
   "execution_count": null,
   "id": "6bf165a5",
   "metadata": {},
   "outputs": [],
   "source": [
    "#Node labels\n",
    "test_labels = None\n",
    "\n",
    "#convert domains into numeric keys\n",
    "mapping_MOCA = {'Attention':0, 'Executive function':1, 'Language':2, 'Memory':3, 'Orientation':4, \n",
    "          'Visuospatial':5}  \n",
    "\n",
    "#fix position\n",
    "pos_MOCA=nx.spring_layout(MOCA_CN_graph, weight='weight', seed=0)\n",
    "\n",
    "draw_graph(graphs_ls, test_labels, pos_MOCA, mapping_MOCA, 'MOCA')"
   ]
  },
  {
   "cell_type": "markdown",
   "id": "6655a0f3",
   "metadata": {},
   "source": [
    "#### Edges weights"
   ]
  },
  {
   "cell_type": "code",
   "execution_count": null,
   "id": "312b9e06",
   "metadata": {},
   "outputs": [],
   "source": [
    "#Create dataframe with weights\n",
    "weights_df_CN = pd.DataFrame(list(nx.get_edge_attributes(MOCA_CN_graph,'weight').values()), columns=[\"Weight\"])\n",
    "weights_df_CN['Diagnostic'] = \"CN\"\n",
    "weights_df_MCI = pd.DataFrame(list(nx.get_edge_attributes(MOCA_MCI_graph,'weight').values()), columns=[\"Weight\"])\n",
    "weights_df_MCI['Diagnostic'] = \"MCI\"\n",
    "weights_df_AD = pd.DataFrame(list(nx.get_edge_attributes(MOCA_AD_graph,'weight').values()), columns=[\"Weight\"])\n",
    "weights_df_AD['Diagnostic'] = \"AD\"\n",
    "\n",
    "#merge all\n",
    "weights_df = pd.concat([weights_df_CN, weights_df_MCI, weights_df_AD], ignore_index=True)\n",
    "\n",
    "#plot histogram\n",
    "sns.histplot(data=weights_df, x=\"Weight\", hue=\"Diagnostic\")\n",
    "plt.title(\"Edge weights distribution\")\n",
    "plt.savefig(\"./Figures/MOCA_weights.png\", format=\"png\")\n",
    "plt.show()"
   ]
  },
  {
   "cell_type": "markdown",
   "id": "a03266c5",
   "metadata": {},
   "source": [
    "### Merged"
   ]
  },
  {
   "cell_type": "markdown",
   "id": "f99a4e08",
   "metadata": {},
   "source": [
    "#### 6.1 Compute graph"
   ]
  },
  {
   "cell_type": "code",
   "execution_count": null,
   "id": "c9d97c6b",
   "metadata": {},
   "outputs": [],
   "source": [
    "import networkx as nx\n",
    "\n",
    "#convert adjacency matrix into graph\n",
    "merged_CN_graph = cognitive_network(merged_CN_mx)\n",
    "merged_MCI_graph = cognitive_network(merged_MCI_mx)\n",
    "merged_AD_graph = cognitive_network(merged_AD_mx)"
   ]
  },
  {
   "cell_type": "code",
   "execution_count": null,
   "id": "d177215c",
   "metadata": {},
   "outputs": [],
   "source": [
    "#count nodes and edges\n",
    "print(\"CN-------------------------\")\n",
    "print(\"- Number of nodes: \", merged_CN_graph.number_of_nodes())\n",
    "print(\"- Number of edges: \", merged_CN_graph.number_of_edges())\n",
    "print()\n",
    "print(\"MCI-------------------------\")\n",
    "print(\"- Number of nodes: \", merged_MCI_graph.number_of_nodes())\n",
    "print(\"- Number of edges: \", merged_MCI_graph.number_of_edges())\n",
    "print()\n",
    "print(\"AD-------------------------\")\n",
    "print(\"- Number of nodes: \", merged_AD_graph.number_of_nodes())\n",
    "print(\"- Number of edges: \", merged_AD_graph.number_of_edges())"
   ]
  },
  {
   "cell_type": "markdown",
   "id": "aec5c6d6",
   "metadata": {},
   "source": [
    "#### 6.2. Add node attributes\n",
    "\n",
    "As the nodes represent different tests they are going to have the following attributes:\n",
    "\n",
    "- ADNI column: name of the test in the ADNI database\n",
    "- Test description\n",
    "- Cognitive domain"
   ]
  },
  {
   "cell_type": "code",
   "execution_count": null,
   "id": "92bfb122",
   "metadata": {},
   "outputs": [],
   "source": [
    "metadata_path = \"./Tests/merged_Metadata.csv\"\n",
    "graphs_ls = [merged_CN_graph, merged_MCI_graph, merged_AD_graph]\n",
    "\n",
    "node_attributes(metadata_path, graphs_ls)"
   ]
  },
  {
   "cell_type": "markdown",
   "id": "64297156",
   "metadata": {},
   "source": [
    "#### 6.3. Draw graph"
   ]
  },
  {
   "cell_type": "code",
   "execution_count": null,
   "id": "3907d66c",
   "metadata": {},
   "outputs": [],
   "source": [
    "#Node labels\n",
    "test_labels = None\n",
    "\n",
    "#convert domains into numeric keys\n",
    "mapping_merged = {'Attention':0, 'Concentration':1, 'Executive':2, 'Language':3, 'Memory':4,\n",
    "          'Orientation':5, 'Visuospatial':6} \n",
    "\n",
    "#fix position\n",
    "pos_merged=nx.spring_layout(merged_AD_graph, weight='weight', seed=0)\n",
    "\n",
    "draw_graph(graphs_ls, test_labels, pos_merged, mapping_merged, 'merged')"
   ]
  },
  {
   "cell_type": "markdown",
   "id": "10fc864e",
   "metadata": {},
   "source": [
    "#### Edges weights"
   ]
  },
  {
   "cell_type": "code",
   "execution_count": null,
   "id": "766c8a92",
   "metadata": {},
   "outputs": [],
   "source": [
    "#Create dataframe with weights\n",
    "weights_df_CN = pd.DataFrame(list(nx.get_edge_attributes(merged_CN_graph,'weight').values()), columns=[\"Weight\"])\n",
    "weights_df_CN['Diagnostic'] = \"CN\"\n",
    "weights_df_MCI = pd.DataFrame(list(nx.get_edge_attributes(merged_MCI_graph,'weight').values()), columns=[\"Weight\"])\n",
    "weights_df_MCI['Diagnostic'] = \"MCI\"\n",
    "weights_df_AD = pd.DataFrame(list(nx.get_edge_attributes(merged_AD_graph,'weight').values()), columns=[\"Weight\"])\n",
    "weights_df_AD['Diagnostic'] = \"AD\"\n",
    "\n",
    "#merge all\n",
    "weights_df = pd.concat([weights_df_CN, weights_df_MCI, weights_df_AD], ignore_index=True)\n",
    "\n",
    "#plot histogram\n",
    "sns.histplot(data=weights_df, x=\"Weight\", hue=\"Diagnostic\")\n",
    "plt.title(\"Edge weights distribution\")\n",
    "plt.savefig(\"./Figures/merged_weights.png\", format=\"png\")\n",
    "plt.show()"
   ]
  },
  {
   "cell_type": "markdown",
   "id": "6f4048dd",
   "metadata": {},
   "source": [
    "## 7. NETWORK ANALYSIS"
   ]
  },
  {
   "cell_type": "markdown",
   "id": "e1b1afc9",
   "metadata": {},
   "source": [
    "#### 1. CENTRALITY MEASURES\n",
    "\n",
    "#### Degree Centrality\n",
    "\n",
    "In network analysis, measures of the importance of nodes are referred to as **centrality** measures. **Degree** is the simplest and the most common way of finding important nodes. A node’s degree is the sum of its edges between all the possible connections. This is the centrality measure used in the epilepsy paper. "
   ]
  },
  {
   "cell_type": "markdown",
   "id": "e5342de4",
   "metadata": {},
   "source": [
    "#### Other centrality measures\n",
    "\n",
    "- **Closeness centrality**: is a way of detecting nodes that are able to spread information very efficiently through a graph. The closeness centrality of a node measures its average farness (inverse distance) to all other nodes. \n",
    "- **Eigenvector centrality**: is a kind of extension of degree—it looks at a combination of a node’s edges and the edges of that node’s neighbors. Eigenvector centrality cares if you are a hub, but it also cares how many hubs you are connected to. It’s calculated as a value from 0 to 1: the closer to one, the greater the centrality. Eigenvector centrality is useful for understanding which nodes can get information to many other nodes quickly. \n",
    "- **Betweenness centrality**: t doesn’t care about the number of edges any one node or set of nodes has. Betweenness centrality looks at all the shortest paths that pass through a particular node (see above). Betweenness centrality, which is also expressed on a scale of 0 to 1, is fairly good at finding nodes that connect two otherwise disparate parts of a network."
   ]
  },
  {
   "cell_type": "code",
   "execution_count": null,
   "id": "b5cdbebb",
   "metadata": {},
   "outputs": [],
   "source": [
    "def centrality(graph,columns):\n",
    "    \n",
    "    \"\"\"Function to compute a table with the different centrality measures for each node.\"\"\"\n",
    "    \n",
    "    #compute edges distances based on weights\n",
    "    g_distance_dict = {(e1, e2): 1/weight for e1, e2, weight in graph.edges(data='weight')}\n",
    "    nx.set_edge_attributes(graph, g_distance_dict, 'distance')\n",
    "    \n",
    "    #DC = nx.degree_centrality(graph) #degree centrality\n",
    "    #CC = nx.closeness_centrality(graph) #closeness centrality     \n",
    "    DC = [graph.degree(n, weight='weight') for n in graph.nodes()] #degree centrality\n",
    "    CC = nx.closeness_centrality(graph, distance='distance')\n",
    "    EC = nx.eigenvector_centrality(graph, weight='weight') #eigenvector centrality\n",
    "    BC = nx.betweenness_centrality(graph, weight='weight') #betweenness centrality\n",
    "    \n",
    "    \n",
    "    centrality_df = pd.DataFrame() #create empty dataframe\n",
    "    \n",
    "    for node in BC:\n",
    "        centrality_df.at[node, \"Degree_Centrality\"] = DC[node] / (len(DC) - 1)\n",
    "        centrality_df.at[node, \"Closeness_Centrality\"] = CC[node] \n",
    "        centrality_df.at[node, \"Eigenvector_Centrality\"] = EC[node] \n",
    "        centrality_df.at[node, \"Betweenness_Centrality\"] = BC[node] \n",
    "    \n",
    "    centrality_df.index = columns\n",
    "        \n",
    "    return centrality_df"
   ]
  },
  {
   "cell_type": "code",
   "execution_count": null,
   "id": "9ed35022",
   "metadata": {},
   "outputs": [],
   "source": [
    "### Plot degree centrality\n",
    "\n",
    "def plot_centrality_top5(graph_CN, graph_MCI, graph_AD, columns, centrality_metric):\n",
    "    #Compute centrality measures\n",
    "    df_CN = centrality(graph_CN, columns)\n",
    "    df_MCI = centrality(graph_MCI, columns)\n",
    "    df_AD = centrality(graph_AD, columns)\n",
    "    \n",
    "    #Order dataframe by centrality\n",
    "    df_CN = df_CN.sort_values(by=[centrality_metric],ascending = False)\n",
    "    df_MCI = df_MCI.sort_values(by=[centrality_metric],ascending = False)\n",
    "    df_AD = df_AD.sort_values(by=[centrality_metric],ascending = False)\n",
    "    \n",
    "    #Truncate table to show only top 5 tests by centrality measure\n",
    "    top_CN = df_CN.iloc[0:5]\n",
    "    top_MCI = df_MCI.iloc[0:5] \n",
    "    top_AD = df_AD.iloc[0:5] \n",
    "    \n",
    "    #Plot \n",
    "    fig, ax = plt.subplots(1,3, figsize=(20,6))\n",
    "    \n",
    "    sns.barplot(ax=ax[0], x=top_CN.index, y=centrality_metric, data=top_CN, palette=['#1f77b4']) \n",
    "    sns.barplot(ax=ax[1], x=top_MCI.index, y=centrality_metric, data=top_MCI, palette=['#ff7f0e']) \n",
    "    sns.barplot(ax=ax[2], x=top_AD.index, y=centrality_metric, data=top_AD, palette=['#2ca02c']) \n",
    "    \n",
    "    for i in range(3):\n",
    "        ax[i].set_xlabel(\"Test\")\n",
    "    \n",
    "    plt.show()"
   ]
  },
  {
   "cell_type": "code",
   "execution_count": null,
   "id": "953171e0",
   "metadata": {},
   "outputs": [],
   "source": [
    "def plot_centrality(graph_CN, graph_MCI, graph_AD, columns, centrality_metric):\n",
    "    #Compute centrality measures\n",
    "    df_CN = centrality(graph_CN, columns)\n",
    "    df_MCI = centrality(graph_MCI, columns)\n",
    "    df_AD = centrality(graph_AD, columns)\n",
    "    \n",
    "    #Order dataframe by centrality\n",
    "    df_CN = df_CN.sort_values(by=[centrality_metric],ascending = False)\n",
    "    df_MCI = df_MCI.sort_values(by=[centrality_metric],ascending = False)\n",
    "    df_AD = df_AD.sort_values(by=[centrality_metric],ascending = False)\n",
    "    \n",
    "    \n",
    "    #Plot \n",
    "    fig, ax = plt.subplots(1,3, figsize=(24,10))\n",
    "    \n",
    "    sns.barplot(ax=ax[0], x=centrality_metric, y=df_CN.index, data=df_CN, palette=['#1f77b4']) \n",
    "    sns.barplot(ax=ax[1], x=centrality_metric, y=df_MCI.index, data=df_MCI, palette=['#ff7f0e']) \n",
    "    sns.barplot(ax=ax[2], x=centrality_metric, y=df_AD.index, data=df_AD, palette=['#2ca02c']) \n",
    "    \n",
    "    for i in range(3):\n",
    "        ax[i].set_ylabel(\"Test\")\n",
    "    \n",
    "    plt.show()"
   ]
  },
  {
   "cell_type": "code",
   "execution_count": null,
   "id": "4b22f7b1",
   "metadata": {},
   "outputs": [],
   "source": [
    "#print(sns.color_palette().as_hex()[0])\n",
    "#print(sns.color_palette().as_hex()[1])\n",
    "#print(sns.color_palette().as_hex()[2])"
   ]
  },
  {
   "cell_type": "markdown",
   "id": "03f0ba73",
   "metadata": {},
   "source": [
    "#### 2. GLOBAL METRICS\n",
    "\n",
    "#### Average clustering coefficient"
   ]
  },
  {
   "cell_type": "markdown",
   "id": "0a705231",
   "metadata": {},
   "source": [
    "In graph theory, a **clustering coefficient** is a measure of the degree to which nodes in a graph tend to cluster together. Two versions of this measure exist: the global and the local. The global version was designed to give an overall indication of the clustering in the network, whereas the local gives an indication of the embeddedness of single nodes. In this work we are computing **global measures**.\n",
    "\n",
    "The clustering coefficient for the graph is the average,\n",
    "\n",
    "$$\n",
    "    C = \\frac{1}{n}\\sum_{v \\in G}c_v\n",
    "$$\n",
    "\n",
    "where $n$ is the number of nodes in the graph $G$."
   ]
  },
  {
   "cell_type": "markdown",
   "id": "68cde1a6",
   "metadata": {},
   "source": [
    "#### Global efficiency\n",
    "\n",
    "The **efficiency** of a pair of nodes in a graph is the multiplicative inverse of the shortest path distance between the nodes. The average global efficiency of a graph is the average efficiency of all pairs of nodes. Edge weights are ignored when computing the shortest path distances.\n",
    "\n",
    "Note than in the epilepsy paper they computed *normalized global efficiencies*."
   ]
  },
  {
   "cell_type": "markdown",
   "id": "66d9bea7",
   "metadata": {},
   "source": [
    "#### Global measures summary\n",
    "\n",
    "The following global metrics are going to be computed:\n",
    "\n",
    "- **Number of nodes**: number of entities\n",
    "- **Number of edges**: pairs of connected entities\n",
    "- **Diameter**: the diameter of a graph is definded as the largest shortest path distance in the graph. It is the maximum value of $d(u,v)$ overf all $u,v$ pairs, where $d(u,v)$ denotes the shortest path distance from vertex $u$ to vertex $v$.\n",
    "- **Density**: it is the ratio of actual edges in the network to all possible connections between the entities of the network. Network density gives you a quick sense of how closely knit your network is. It is also know as the *sparsity* of the graph and ranges between 0 and 1. Low values would indicate a network with a few specific conexions, whereas high values are indicative of a low specificity. \n",
    "- **Average degree**: The average degree of an undirected graph is used to measure the number of edges compared to the number of nodes. To do this we simply divide the summation of all nodes' degree by the total number of nodes. \n",
    "- **Transitivity**: it is the ratio of all triangles over all possible triangles. So transitivity, like density, expresses how interconnected a graph is in terms of a ratio of actual over possible connections. \n",
    "- **Average clustering coefficient**: In graph theory, a clustering coefficient is a measure of the degree to which nodes in a graph tend to cluster together. The global clustering coefficient is based on triplets of nodes. The global clustering coefficient is the number of closed triplets (or 3 x triangles) over the total number of triplets (both open and closed). \n",
    "- **Glogbal Efficiency**: In network science, the efficiency of a network is a measure of how efficiently it exchanges information and it is also called *communication efficiency*. The global efficiency is the average inverse shortest path length in the network."
   ]
  },
  {
   "cell_type": "code",
   "execution_count": null,
   "id": "6eee7627",
   "metadata": {},
   "outputs": [],
   "source": [
    "def global_metrics(graphs_ls):\n",
    "    \n",
    "    \"\"\"Function to compute a table with some global metrics of the graphs. \n",
    "    It returns a pandas DataFrame object.\"\"\"\n",
    "    \n",
    "    columns = ['NNodes', 'NEdges', 'Diameter', 'Density', 'AvDegree', 'Transitivity','AvCC', 'AvGE']\n",
    "    index = ['CN', 'MCI', 'AD']\n",
    "    \n",
    "    df = pd.DataFrame(columns = columns,\n",
    "                     index = index) #empty dataframe\n",
    "    \n",
    "    #GLOBAL METRICS\n",
    "    \n",
    "    for i in range(len(index)): \n",
    "        graph = graphs_ls[i]\n",
    "        dx = index[i]\n",
    "        \n",
    "        df.loc[dx,'NNodes'] = graph.number_of_nodes() #number of nodes\n",
    "        df.loc[dx,'NEdges'] = graph.number_of_edges() #number of edges\n",
    "        df.loc[dx,'Diameter'] = nx.diameter(graph) #diameter of graph\n",
    "        df.loc[dx,'Density'] = nx.density(graph) #density of graph\n",
    "        df.loc[dx,'AvDegree'] = sum(dict(graph.degree(weight='weight')).values())/graph.number_of_nodes() #average degree\n",
    "        df.loc[dx,'Transitivity'] = nx.transitivity(graph) #transitivity of graph\n",
    "        df.loc[dx,'AvCC'] = nx.average_clustering(graph,weight='weight') #average clustering coefficient\n",
    "        df.loc[dx,'AvGE'] = nx.global_efficiency(graph) #average global efficiency (shortest path)\n",
    "    \n",
    "    return df"
   ]
  },
  {
   "cell_type": "code",
   "execution_count": null,
   "id": "2792497f",
   "metadata": {},
   "outputs": [],
   "source": [
    "def plot_global_metrics(gm, battery_name):\n",
    "    \"\"\"Function to plot global metrics.\"\"\"\n",
    "\n",
    "    fig, ax = plt.subplots(2, 3, figsize=(22,13))\n",
    "\n",
    "    sns.barplot(ax=ax[0,0], x=\"index\", y=\"NEdges\", data=gm) \n",
    "    sns.barplot(ax=ax[0,1], x=\"index\", y=\"Diameter\", data=gm)\n",
    "    sns.barplot(ax=ax[0,2], x=\"index\", y=\"Density\", data=ADAS_gm) \n",
    "    sns.barplot(ax=ax[1,0], x=\"index\", y=\"AvDegree\", data=gm) \n",
    "    sns.barplot(ax=ax[1,1], x=\"index\", y=\"AvCC\", data=gm)\n",
    "    sns.barplot(ax=ax[1,2], x=\"index\", y=\"AvGE\",  data=gm)\n",
    "\n",
    "    fig.suptitle(\"Global metrics (\" + battery_name +\")\", fontsize=20)\n",
    "\n",
    "    rows, cols = 2, 3\n",
    "    for i in range(rows):\n",
    "        for j in range(cols):\n",
    "            ax[i, j].set_xlabel('Diagnostic group')\n",
    "\n",
    "    plt.show()"
   ]
  },
  {
   "cell_type": "markdown",
   "id": "e6e8097f",
   "metadata": {},
   "source": [
    "### 7.1. ADAS-Cog"
   ]
  },
  {
   "cell_type": "markdown",
   "id": "c1b640b7",
   "metadata": {},
   "source": [
    "#### 7.1.1. CENTRALITY MEASURES"
   ]
  },
  {
   "cell_type": "code",
   "execution_count": null,
   "id": "e51126e4",
   "metadata": {
    "scrolled": true
   },
   "outputs": [],
   "source": [
    "print(\"Controls----------------------------------\")\n",
    "display(centrality(ADAS_CN_graph, ADAS_columns))\n",
    "print(\"MCI----------------------------------\")\n",
    "display(centrality(ADAS_MCI_graph, ADAS_columns))\n",
    "print(\"AD----------------------------------\")\n",
    "display(centrality(ADAS_AD_graph, ADAS_columns))"
   ]
  },
  {
   "cell_type": "markdown",
   "id": "2f304919",
   "metadata": {},
   "source": [
    "#### Plot centrality metrics"
   ]
  },
  {
   "cell_type": "code",
   "execution_count": null,
   "id": "fd8ad249",
   "metadata": {
    "scrolled": true
   },
   "outputs": [],
   "source": [
    "plot_centrality(ADAS_CN_graph, ADAS_MCI_graph, ADAS_AD_graph, ADAS_columns, \"Degree_Centrality\")"
   ]
  },
  {
   "cell_type": "markdown",
   "id": "551a0b80",
   "metadata": {},
   "source": [
    "#### Relation between node degree and betweenness centrality"
   ]
  },
  {
   "cell_type": "code",
   "execution_count": null,
   "id": "41291725",
   "metadata": {},
   "outputs": [],
   "source": [
    "#Get centrality metrics table\n",
    "ADAS_CN_centrality = centrality(ADAS_CN_graph, ADAS_columns)\n",
    "ADAS_MCI_centrality = centrality(ADAS_MCI_graph, ADAS_columns)\n",
    "ADAS_AD_centrality = centrality(ADAS_AD_graph, ADAS_columns)\n",
    "\n",
    "#Plot\n",
    "fig, axes = plt.subplots(1,3, figsize=(20,6))\n",
    "\n",
    "\n",
    "sns.scatterplot(ax=axes[0],data=ADAS_CN_centrality, x=\"Degree_Centrality\", y=\"Betweenness_Centrality\", s=50)\n",
    "sns.scatterplot(ax=axes[1],data=ADAS_MCI_centrality, x=\"Degree_Centrality\", y=\"Betweenness_Centrality\", s=50)\n",
    "sns.scatterplot(ax=axes[2],data=ADAS_AD_centrality, x=\"Degree_Centrality\", y=\"Betweenness_Centrality\", s=50)\n",
    "\n",
    "#labels\n",
    "axes[0].set_ylabel(\"Betweenness Centrality\")\n",
    "axes[1].set_ylabel(\"Betweenness Centrality\")\n",
    "axes[2].set_ylabel(\"Betweenness Centrality\")\n",
    "axes[0].set_xlabel(\"Degree Centrality\")\n",
    "axes[1].set_xlabel(\"Degree Centrality\")\n",
    "axes[2].set_xlabel(\"Degree Centrality\")\n",
    "\n",
    "#add title\n",
    "fig.suptitle('Node degree vs betweenness centrality (ADAS)')\n",
    "\n",
    "#add title to subfigures\n",
    "axes[0].title.set_text(\"Controls\")\n",
    "axes[1].title.set_text(\"MCI\")\n",
    "axes[2].title.set_text(\"AD\")\n",
    "\n",
    "\n",
    "plt.show()"
   ]
  },
  {
   "cell_type": "markdown",
   "id": "1c8c1b74",
   "metadata": {},
   "source": [
    "#### 7.1.2. GLOBAL METRICS"
   ]
  },
  {
   "cell_type": "code",
   "execution_count": null,
   "id": "21cb279e",
   "metadata": {
    "scrolled": true
   },
   "outputs": [],
   "source": [
    "ADAS_gm = global_metrics([ADAS_CN_graph, ADAS_MCI_graph, ADAS_AD_graph])\n",
    "ADAS_gm.reset_index(inplace=True)\n",
    "ADAS_gm"
   ]
  },
  {
   "cell_type": "code",
   "execution_count": null,
   "id": "6b2c7260",
   "metadata": {
    "scrolled": true
   },
   "outputs": [],
   "source": [
    "plot_global_metrics(ADAS_gm, 'ADAS')"
   ]
  },
  {
   "cell_type": "markdown",
   "id": "a96b232d",
   "metadata": {},
   "source": [
    "### 7.2. MMSE"
   ]
  },
  {
   "cell_type": "markdown",
   "id": "3d52f50d",
   "metadata": {},
   "source": [
    "#### 7.2.1. CENTRALITY MEASURES"
   ]
  },
  {
   "cell_type": "code",
   "execution_count": null,
   "id": "e4d1ea78",
   "metadata": {
    "scrolled": true
   },
   "outputs": [],
   "source": [
    "print(\"Controls----------------------------------\")\n",
    "display(centrality(MMSE_CN_graph, MMSE_columns))\n",
    "print(\"MCI----------------------------------\")\n",
    "display(centrality(MMSE_MCI_graph, MMSE_columns))\n",
    "print(\"AD----------------------------------\")\n",
    "display(centrality(MMSE_AD_graph, MMSE_columns))"
   ]
  },
  {
   "cell_type": "markdown",
   "id": "9aa95831",
   "metadata": {},
   "source": [
    "#### Plot centrality metrics"
   ]
  },
  {
   "cell_type": "code",
   "execution_count": null,
   "id": "73c3849c",
   "metadata": {
    "scrolled": true
   },
   "outputs": [],
   "source": [
    "plot_centrality(MMSE_CN_graph, MMSE_MCI_graph, MMSE_AD_graph, MMSE_columns, \"Degree_Centrality\")"
   ]
  },
  {
   "cell_type": "markdown",
   "id": "2f19e9dd",
   "metadata": {},
   "source": [
    "#### Relation between node degree and betweenness centrality"
   ]
  },
  {
   "cell_type": "code",
   "execution_count": null,
   "id": "13a429a2",
   "metadata": {},
   "outputs": [],
   "source": [
    "#Get centrality metrics table\n",
    "MMSE_CN_centrality = centrality(MMSE_CN_graph, MMSE_columns)\n",
    "MMSE_MCI_centrality = centrality(MMSE_MCI_graph, MMSE_columns)\n",
    "MMSE_AD_centrality = centrality(MMSE_AD_graph, MMSE_columns)\n",
    "\n",
    "#Plot\n",
    "fig, axes = plt.subplots(1,3, figsize=(20,6))\n",
    "\n",
    "\n",
    "sns.scatterplot(ax=axes[0],data=MMSE_CN_centrality, x=\"Degree_Centrality\", y=\"Betweenness_Centrality\", s=50)\n",
    "sns.scatterplot(ax=axes[1],data=MMSE_MCI_centrality, x=\"Degree_Centrality\", y=\"Betweenness_Centrality\", s=50)\n",
    "sns.scatterplot(ax=axes[2],data=MMSE_AD_centrality, x=\"Degree_Centrality\", y=\"Betweenness_Centrality\", s=50)\n",
    "\n",
    "#labels\n",
    "axes[0].set_ylabel(\"Betweenness Centrality\")\n",
    "axes[1].set_ylabel(\"Betweenness Centrality\")\n",
    "axes[2].set_ylabel(\"Betweenness Centrality\")\n",
    "axes[0].set_xlabel(\"Degree Centrality\")\n",
    "axes[1].set_xlabel(\"Degree Centrality\")\n",
    "axes[2].set_xlabel(\"Degree Centrality\")\n",
    "\n",
    "#add title\n",
    "fig.suptitle('Node degree vs betweenness centrality (MMSE)')\n",
    "\n",
    "#add title to subfigures\n",
    "axes[0].title.set_text(\"Controls\")\n",
    "axes[1].title.set_text(\"MCI\")\n",
    "axes[2].title.set_text(\"AD\")\n",
    "\n",
    "\n",
    "plt.show()"
   ]
  },
  {
   "cell_type": "markdown",
   "id": "386c2c5c",
   "metadata": {},
   "source": [
    "#### 7.1.2. GLOBAL METRICS"
   ]
  },
  {
   "cell_type": "code",
   "execution_count": null,
   "id": "fcf02926",
   "metadata": {
    "scrolled": true
   },
   "outputs": [],
   "source": [
    "MMSE_gm = global_metrics([MMSE_CN_graph, MMSE_MCI_graph, MMSE_AD_graph])\n",
    "MMSE_gm.reset_index(inplace=True)\n",
    "MMSE_gm"
   ]
  },
  {
   "cell_type": "code",
   "execution_count": null,
   "id": "6ac92411",
   "metadata": {
    "scrolled": true
   },
   "outputs": [],
   "source": [
    "plot_global_metrics(MMSE_gm, 'MMSE')"
   ]
  },
  {
   "cell_type": "markdown",
   "id": "527a9cf6",
   "metadata": {},
   "source": [
    "### 7.3. MoCA"
   ]
  },
  {
   "cell_type": "markdown",
   "id": "f43bd523",
   "metadata": {},
   "source": [
    "#### 7.1.1. CENTRALITY MEASURES"
   ]
  },
  {
   "cell_type": "code",
   "execution_count": null,
   "id": "e804c296",
   "metadata": {
    "scrolled": true
   },
   "outputs": [],
   "source": [
    "print(\"Controls----------------------------------\")\n",
    "display(centrality(MOCA_CN_graph, MOCA_columns))\n",
    "print(\"MCI----------------------------------\")\n",
    "display(centrality(MOCA_MCI_graph, MOCA_columns))\n",
    "print(\"AD----------------------------------\")\n",
    "display(centrality(MOCA_AD_graph, MOCA_columns))"
   ]
  },
  {
   "cell_type": "markdown",
   "id": "dca4199f",
   "metadata": {},
   "source": [
    "#### Plot centrality metrics"
   ]
  },
  {
   "cell_type": "code",
   "execution_count": null,
   "id": "0483f095",
   "metadata": {
    "scrolled": true
   },
   "outputs": [],
   "source": [
    "plot_centrality(MOCA_CN_graph, MOCA_MCI_graph, MOCA_AD_graph, MOCA_columns, \"Degree_Centrality\")"
   ]
  },
  {
   "cell_type": "markdown",
   "id": "ea66e69e",
   "metadata": {},
   "source": [
    "#### Relation between node degree and betweenness centrality"
   ]
  },
  {
   "cell_type": "code",
   "execution_count": null,
   "id": "c5b23dae",
   "metadata": {},
   "outputs": [],
   "source": [
    "#Get centrality metrics table\n",
    "MOCA_CN_centrality = centrality(MOCA_CN_graph, MOCA_columns)\n",
    "MOCA_MCI_centrality = centrality(MOCA_MCI_graph, MOCA_columns)\n",
    "MOCA_AD_centrality = centrality(MOCA_AD_graph, MOCA_columns)\n",
    "\n",
    "#Plot\n",
    "fig, axes = plt.subplots(1,3, figsize=(20,6))\n",
    "\n",
    "\n",
    "sns.scatterplot(ax=axes[0],data=MOCA_CN_centrality, x=\"Degree_Centrality\", y=\"Betweenness_Centrality\", s=50)\n",
    "sns.scatterplot(ax=axes[1],data=MOCA_MCI_centrality, x=\"Degree_Centrality\", y=\"Betweenness_Centrality\", s=50)\n",
    "sns.scatterplot(ax=axes[2],data=MOCA_AD_centrality, x=\"Degree_Centrality\", y=\"Betweenness_Centrality\", s=50)\n",
    "\n",
    "#labels\n",
    "axes[0].set_ylabel(\"Betweenness Centrality\")\n",
    "axes[1].set_ylabel(\"Betweenness Centrality\")\n",
    "axes[2].set_ylabel(\"Betweenness Centrality\")\n",
    "axes[0].set_xlabel(\"Degree Centrality\")\n",
    "axes[1].set_xlabel(\"Degree Centrality\")\n",
    "axes[2].set_xlabel(\"Degree Centrality\")\n",
    "\n",
    "#add title\n",
    "fig.suptitle('Node degree vs betweenness centrality (MOCA)')\n",
    "\n",
    "#add title to subfigures\n",
    "axes[0].title.set_text(\"Controls\")\n",
    "axes[1].title.set_text(\"MCI\")\n",
    "axes[2].title.set_text(\"AD\")\n",
    "\n",
    "\n",
    "plt.show()"
   ]
  },
  {
   "cell_type": "markdown",
   "id": "3a64c9d0",
   "metadata": {},
   "source": [
    "#### 7.1.2. GLOBAL METRICS"
   ]
  },
  {
   "cell_type": "code",
   "execution_count": null,
   "id": "13d74072",
   "metadata": {
    "scrolled": true
   },
   "outputs": [],
   "source": [
    "MOCA_gm = global_metrics([MOCA_CN_graph, MOCA_MCI_graph, MOCA_AD_graph])\n",
    "MOCA_gm.reset_index(inplace=True)\n",
    "MOCA_gm"
   ]
  },
  {
   "cell_type": "code",
   "execution_count": null,
   "id": "140b5f88",
   "metadata": {
    "scrolled": true
   },
   "outputs": [],
   "source": [
    "plot_global_metrics(MOCA_gm, 'MOCA')"
   ]
  },
  {
   "cell_type": "markdown",
   "id": "1c2a5dcd",
   "metadata": {},
   "source": [
    "### 7.4. Merged"
   ]
  },
  {
   "cell_type": "markdown",
   "id": "c91c5ea9",
   "metadata": {},
   "source": [
    "#### 7.1.1. CENTRALITY MEASURES"
   ]
  },
  {
   "cell_type": "code",
   "execution_count": null,
   "id": "a8d78003",
   "metadata": {
    "scrolled": true
   },
   "outputs": [],
   "source": [
    "print(\"Controls----------------------------------\")\n",
    "display(centrality(merged_CN_graph, merged_columns))\n",
    "print(\"MCI----------------------------------\")\n",
    "display(centrality(merged_MCI_graph, merged_columns))\n",
    "print(\"AD----------------------------------\")\n",
    "display(centrality(merged_AD_graph, merged_columns))"
   ]
  },
  {
   "cell_type": "markdown",
   "id": "dded1cfd",
   "metadata": {},
   "source": [
    "#### Plot centrality metrics"
   ]
  },
  {
   "cell_type": "code",
   "execution_count": null,
   "id": "c900c89c",
   "metadata": {
    "scrolled": true
   },
   "outputs": [],
   "source": [
    "plot_centrality(merged_CN_graph, merged_MCI_graph, merged_AD_graph, merged_columns, \"Degree_Centrality\")"
   ]
  },
  {
   "cell_type": "markdown",
   "id": "06fc38a2",
   "metadata": {},
   "source": [
    "#### Relation between node degree and betweenness centrality"
   ]
  },
  {
   "cell_type": "code",
   "execution_count": null,
   "id": "15118b14",
   "metadata": {},
   "outputs": [],
   "source": [
    "#Get centrality metrics table\n",
    "merged_CN_centrality = centrality(merged_CN_graph, merged_columns)\n",
    "merged_MCI_centrality = centrality(merged_MCI_graph, merged_columns)\n",
    "merged_AD_centrality = centrality(merged_AD_graph, merged_columns)\n",
    "\n",
    "#Plot\n",
    "fig, axes = plt.subplots(1,3, figsize=(20,6))\n",
    "\n",
    "\n",
    "sns.scatterplot(ax=axes[0],data=merged_CN_centrality, x=\"Degree_Centrality\", y=\"Betweenness_Centrality\", s=50)\n",
    "sns.scatterplot(ax=axes[1],data=merged_MCI_centrality, x=\"Degree_Centrality\", y=\"Betweenness_Centrality\", s=50)\n",
    "sns.scatterplot(ax=axes[2],data=merged_AD_centrality, x=\"Degree_Centrality\", y=\"Betweenness_Centrality\", s=50)\n",
    "\n",
    "#labels\n",
    "axes[0].set_ylabel(\"Betweenness Centrality\")\n",
    "axes[1].set_ylabel(\"Betweenness Centrality\")\n",
    "axes[2].set_ylabel(\"Betweenness Centrality\")\n",
    "axes[0].set_xlabel(\"Degree Centrality\")\n",
    "axes[1].set_xlabel(\"Degree Centrality\")\n",
    "axes[2].set_xlabel(\"Degree Centrality\")\n",
    "\n",
    "#add title\n",
    "fig.suptitle('Node degree vs betweenness centrality (merged)')\n",
    "\n",
    "#add title to subfigures\n",
    "axes[0].title.set_text(\"Controls\")\n",
    "axes[1].title.set_text(\"MCI\")\n",
    "axes[2].title.set_text(\"AD\")\n",
    "\n",
    "\n",
    "plt.show()"
   ]
  },
  {
   "cell_type": "markdown",
   "id": "bb476511",
   "metadata": {},
   "source": [
    "#### 7.1.2. GLOBAL METRICS"
   ]
  },
  {
   "cell_type": "code",
   "execution_count": null,
   "id": "2a8e3afa",
   "metadata": {
    "scrolled": true
   },
   "outputs": [],
   "source": [
    "merged_gm = global_metrics([merged_CN_graph, merged_MCI_graph, merged_AD_graph])\n",
    "merged_gm.reset_index(inplace=True)\n",
    "merged_gm"
   ]
  },
  {
   "cell_type": "code",
   "execution_count": null,
   "id": "0ec25446",
   "metadata": {
    "scrolled": true
   },
   "outputs": [],
   "source": [
    "plot_global_metrics(merged_gm, 'merged')"
   ]
  },
  {
   "cell_type": "markdown",
   "id": "1e8fb2d1",
   "metadata": {},
   "source": [
    "## 8. COMMUNITY DETECTION"
   ]
  },
  {
   "cell_type": "code",
   "execution_count": null,
   "id": "e2fd04cc",
   "metadata": {},
   "outputs": [],
   "source": [
    "import networkx.algorithms.community as nx_comm"
   ]
  },
  {
   "cell_type": "markdown",
   "id": "808be0d4",
   "metadata": {},
   "source": [
    "#### 1. PARTITIONS"
   ]
  },
  {
   "cell_type": "markdown",
   "id": "82046992",
   "metadata": {},
   "source": [
    "#### 1.1. Louvain algorithm:\n",
    "\n",
    "**Louvain Community Detection Algorithm** is a simple method to extract the community structure of a network. This is a heuristic method based on modularity optimization. \n",
    "\n",
    "The community structure of a network indexes the sub-division of such a network into segregated communities ormodules that contribute to the same processes while alsoallowing for a visual inspection of the network\n",
    "\n",
    "Note that the order in which the nodes are considered can affect the final output. In the algorithm the ordering happens using a random shuffle. \n",
    "\n",
    "- In the epilepsy paper they calculated modularity 1,000 times for each group, and the highest proportion was chosen as the number of modules in that group. \n",
    "\n",
    "- Furthermore, in order to be certain regarding the module assignment for each node, they created a script that calculated the proportion of module assignment for each node in order to have each node assigned to the module with the highest probability. "
   ]
  },
  {
   "cell_type": "markdown",
   "id": "e650bb20",
   "metadata": {},
   "source": [
    "#### 1.2. Greedy modularity algorithm\n",
    "\n",
    "This function uses **Clauset-Newman-Moore greedy modularity maximization** to find the community partition with the largest modularity.\n",
    "\n",
    "Greedy modularity maximization begins with each node in its own community and repeatedly joins the pair of communities that lead to the largest modularity until no further increase in modularity is possible (a maximum)."
   ]
  },
  {
   "cell_type": "markdown",
   "id": "954a547c",
   "metadata": {},
   "source": [
    "#### 1.3. Kernighan-Lin bisection algorithm\n",
    "\n",
    "This function uses **Kernighan-Lin bipartition algorithm** to partition a graph into two blocks.\n",
    "\n",
    "This algorithm partitions a network into two sets by iteratively swapping pairs of nodes to reduce the edge cut between the two sets. The pairs are chosen according to a modified form of Kernighan-Lin, which moves node individually, alternating between sides to keep the bisection balanced."
   ]
  },
  {
   "cell_type": "markdown",
   "id": "4afb18fb",
   "metadata": {},
   "source": [
    "#### 1.4. Modularity index (Label propagation)\n",
    "\n",
    "This function uses the **asynchronous label propagation algorithm** which is probabilistic and the found communities may vary on different executions.\n",
    "\n",
    "The algorithm proceeds as follows. After initializing each node with a unique label, the algorithm repeatedly sets the label of a node to be the label that appears most frequently among that nodes neighbors. The algorithm halts when each node has the label that appears most frequently among its neighbors. The algorithm is asynchronous because each node is updated without waiting for updates on the remaining nodes."
   ]
  },
  {
   "cell_type": "code",
   "execution_count": null,
   "id": "59f18d21",
   "metadata": {},
   "outputs": [],
   "source": [
    "def community_detection(graphs_ls, algorithm):\n",
    "    \n",
    "    print(\"--------------------------------\")\n",
    "    print(algorithm, \"algorithm\")\n",
    "    print(\"--------------------------------\")\n",
    "      \n",
    "    partition_ls = []\n",
    "    dx_ls = ['CN', 'MCI', 'AD']\n",
    "    \n",
    "    for i in range(len(graphs_ls)):\n",
    "        if algorithm == \"Louvain\": \n",
    "            partition = nx_comm.louvain_communities(graphs_ls[i], weight='weight',seed=0)\n",
    "            \n",
    "        elif algorithm == \"Greedy\":\n",
    "            partition = nx_comm.greedy_modularity_communities(graphs_ls[i], weight='weight')\n",
    "        \n",
    "        elif algorithm == \"Bisection\":\n",
    "            partition = nx_comm.kernighan_lin_bisection(graphs_ls[i], weight='weight', seed=0)\n",
    "            \n",
    "        elif algorithm == \"Label Propagation\":\n",
    "            partition = list(nx_comm.asyn_lpa_communities(graphs_ls[i], weight='weight', seed=0))\n",
    "        \n",
    "        else:\n",
    "            print(\"This algorithm is not implemented. Please, try again.\")\n",
    "            break\n",
    "            \n",
    "        partition_ls.append(partition) #partitions\n",
    "        print(dx_ls[i], \": \", partition)\n",
    "        \n",
    "        MI = nx_comm.modularity(graphs_ls[i], partition, weight='weight') #modularity index  \n",
    "        print(\"Modularity Index: \", MI, \"\\n\")\n",
    "    \n",
    "    return partition_ls"
   ]
  },
  {
   "cell_type": "markdown",
   "id": "f233d089",
   "metadata": {},
   "source": [
    "#### 2. DRAW GRAPH BY COMMUNITIES"
   ]
  },
  {
   "cell_type": "code",
   "execution_count": null,
   "id": "b15e48e9",
   "metadata": {},
   "outputs": [],
   "source": [
    "def color_communities(graph, partition):\n",
    "    \n",
    "    colors = {} #create empty node dictionary\n",
    "    \n",
    "    #Convert set of partitions into node dictionary\n",
    "    for i in range(len(partition)): #iterate for each group\n",
    "        for node in partition[i]:\n",
    "            colors[node] = i\n",
    "            \n",
    "    #Sort dictionary by keys\n",
    "    node_list = list(colors.keys())\n",
    "    node_list.sort()\n",
    "    sorted_colors = {i: colors[i] for i in node_list}\n",
    "            \n",
    "    return list(sorted_colors.values())"
   ]
  },
  {
   "cell_type": "code",
   "execution_count": null,
   "id": "fde9c172",
   "metadata": {},
   "outputs": [],
   "source": [
    "def draw_graph_communities(graphs_ls, partition_ls, test_labels, pos, battery_name, algorithm):\n",
    "\n",
    "    #Plot\n",
    "    fig, axes = plt.subplots(1,3, figsize=(20,6))\n",
    "    \n",
    "    for i in range(len(graphs_ls)):\n",
    "        \n",
    "        graph = graphs_ls[i]\n",
    "        partition = partition_ls[i]\n",
    "        \n",
    "        #node colors\n",
    "        colors = color_communities(graph, partition)\n",
    "\n",
    "        #get edges weights\n",
    "        weights = list(nx.get_edge_attributes(graph,'weight').values())\n",
    "        \n",
    "        if test_labels is not None: \n",
    "            nx.draw(ax=axes[i], G=graph, pos=pos, labels=test_labels, with_labels=True, node_color=colors, \n",
    "                   edge_color=weights, edge_cmap=plt.cm.Greys, width=[ x*10 for x in weights])\n",
    "        \n",
    "        else:\n",
    "            nx.draw(ax=axes[i], G=graph, pos=pos, with_labels=True, node_color=colors, \n",
    "                   edge_color=weights, edge_cmap=plt.cm.Greys, width=[ x*10 for x in weights])\n",
    "    \n",
    "\n",
    "    #add title to subfigures\n",
    "    fig.suptitle(algorithm + \" (\" + battery_name +\")\", fontsize=20)\n",
    "    axes[0].title.set_text(\"Controls\")\n",
    "    axes[1].title.set_text(\"MCI\")\n",
    "    axes[2].title.set_text(\"AD\")\n",
    "    \n",
    "    figure_path = \"./Results/Figures/Modularity/\"+ battery_name + \"/\"+ algorithm +\".svg\"\n",
    "\n",
    "    plt.savefig(figure_path, format=\"svg\")\n",
    "    plt.show()"
   ]
  },
  {
   "cell_type": "markdown",
   "id": "ae59fe1a",
   "metadata": {},
   "source": [
    "#### 3. COMMUNITY SUBGRAPH METRICS\n",
    "\n",
    "Each community detected by an algorithm is going to be considered as a subgraph. "
   ]
  },
  {
   "cell_type": "code",
   "execution_count": null,
   "id": "579f1a93",
   "metadata": {},
   "outputs": [],
   "source": [
    "def metrics(graph):\n",
    "    \"\"\"Function to create a dictionary with all the metrics computed for a community\"\"\"\n",
    "    \n",
    "    metrics_dict = {}\n",
    "    \n",
    "    #GLOBAL METRICS\n",
    "    #Compute the number of nodes \n",
    "    metrics_dict['NNodes'] = graph.number_of_nodes()\n",
    "    #Compute the number of edges \n",
    "    metrics_dict['NEdges'] = graph.number_of_edges()\n",
    "    #Compute the diameter of the graph\n",
    "    metrics_dict['Diameter'] = nx.diameter(graph)\n",
    "    #Compute the density of the graph\n",
    "    metrics_dict['Density'] = nx.density(graph)\n",
    "    #Compute the average degree of the network  \n",
    "    metrics_dict['AvDegree'] = sum(dict(graph.degree(weight='weight')).values())/graph.number_of_nodes()\n",
    "    #Compute the transitivity of the graph\n",
    "    metrics_dict['Transitivity'] = nx.transitivity(graph)\n",
    "    #Compute the average clustering coefficient\n",
    "    metrics_dict['AvCC'] = nx.average_clustering(graph,weight='weight')\n",
    "    #Compute the average global efficiency (shortest path)\n",
    "    metrics_dict['AvGE'] = nx.global_efficiency(graph)\n",
    "    \n",
    "    #TESTS BELONGING TO THE COMMUNITY\n",
    "    metrics_dict['Tests'] = list(dict(graph.nodes(data=\"Test\")).values())\n",
    "    \n",
    "    return metrics_dict"
   ]
  },
  {
   "cell_type": "code",
   "execution_count": null,
   "id": "7eab036f",
   "metadata": {},
   "outputs": [],
   "source": [
    "def community_metrics(graph, partition):\n",
    "    \n",
    "    \"\"\"Function to create a dataframe with all the metrics computed for each of the communities\"\"\"\n",
    "    \n",
    "    domains_list = list(dict(graph.nodes(data=\"Cognitive Domain\")).values())\n",
    "    domains = [*set(domains_list)] #unique list of domains\n",
    "    \n",
    "    df = pd.DataFrame(columns = ['Index','NNodes', 'NEdges', 'Diameter', 'Density', 'AvDegree', \n",
    "                                 'Transitivity','AvCC', 'AvGE', 'Tests'] + domains) #empty dataframe\n",
    "    \n",
    "    for i in range(len(partition)): #iterate for each community\n",
    "        #create subgraph for this community\n",
    "        subgraph = graph.subgraph(partition[i]) \n",
    "        #compute metrics for the subgraph \n",
    "        metrics_dict = metrics(subgraph)\n",
    "        \n",
    "        #community index\n",
    "        metrics_dict['Index'] = i\n",
    "        \n",
    "        #representation of each neurocognitive domain\n",
    "        domains_list_community = list(dict(subgraph.nodes(data=\"Cognitive Domain\")).values())\n",
    "        \n",
    "        for domain in domains: \n",
    "            #domain_count_total = domains_list.count(domain)\n",
    "            domain_count_community = domains_list_community.count(domain)\n",
    "            domain_count_total = len(domains_list_community)\n",
    "            metrics_dict[domain] = domain_count_community/domain_count_total #percentage of representation \n",
    "        \n",
    "        #introduce metrics in new row\n",
    "        df = df.append(metrics_dict, ignore_index=True)\n",
    "        \n",
    "    return df"
   ]
  },
  {
   "cell_type": "markdown",
   "id": "cb0c4e3f",
   "metadata": {},
   "source": [
    "#### 4. DOMAINS REPRESENTATION IN EACH COMMUNITY"
   ]
  },
  {
   "cell_type": "code",
   "execution_count": null,
   "id": "edc0f219",
   "metadata": {},
   "outputs": [],
   "source": [
    "def domains_rep(graphs_ls, partition_ls, battery_name, algorithm): \n",
    "    domains_ls = np.unique(list(nx.get_node_attributes(graphs_ls[0], 'Cognitive Domain').values())).tolist()\n",
    "    columns = ['Index'] + domains_ls\n",
    "    dx_ls = ['CN', 'MCI', 'AD']\n",
    "    for i in range(len(graphs_ls)):\n",
    "        graph = graphs_ls[i]\n",
    "        partition = partition_ls[i]\n",
    "        domains = community_metrics(graph, partition)[columns] #get data\n",
    "        \n",
    "        #Reshape data with melt() function\n",
    "        domains_rs = domains.melt(id_vars=['Index'], var_name=\"Domain\", value_name='Percentage')\n",
    "        \n",
    "        #send data to build stacked barplot in R\n",
    "        filepath = \"./Results/\" + battery_name + \"/\" + algorithm + \"_\" + dx_ls[i] + \".csv\" \n",
    "        domains_rs.to_csv(filepath, index=False) "
   ]
  },
  {
   "cell_type": "markdown",
   "id": "ecc5ee1d",
   "metadata": {},
   "source": [
    "### 8.1. ADAS-Cog"
   ]
  },
  {
   "cell_type": "code",
   "execution_count": null,
   "id": "4914621e",
   "metadata": {},
   "outputs": [],
   "source": [
    "graphs_ls = [ADAS_CN_graph, ADAS_MCI_graph, ADAS_AD_graph]"
   ]
  },
  {
   "cell_type": "markdown",
   "id": "9d642d37",
   "metadata": {},
   "source": [
    "#### 8.1.1. LOUVAIN ALGORITHM"
   ]
  },
  {
   "cell_type": "code",
   "execution_count": null,
   "id": "10d4912f",
   "metadata": {},
   "outputs": [],
   "source": [
    "ADAS_Louvain_partitions = community_detection(graphs_ls, \"Louvain\")"
   ]
  },
  {
   "cell_type": "code",
   "execution_count": null,
   "id": "223d1863",
   "metadata": {},
   "outputs": [],
   "source": [
    "test_labels = {0:\"Q1\", 1:\"Q2\", 2:\"Q3\", 3:\"Q4\", 4:\"Q5\", 5: \"Q6\", 6:\"Q7\",\n",
    "              7:\"Q8\",8:\"Q9\", 9:\"Q10\", 10:\"Q11\", 11:\"Q12\", 12:\"Q13\"}\n",
    "\n",
    "draw_graph_communities(graphs_ls, ADAS_Louvain_partitions, test_labels, pos_ADAS, 'ADAS', 'Louvain')"
   ]
  },
  {
   "cell_type": "markdown",
   "id": "6c693723",
   "metadata": {},
   "source": [
    "#### Subgraph metrics"
   ]
  },
  {
   "cell_type": "code",
   "execution_count": null,
   "id": "cd9305eb",
   "metadata": {
    "scrolled": true
   },
   "outputs": [],
   "source": [
    "dx_ls = ['CN', 'MCI', 'AD']\n",
    "for i in range(len(ADAS_Louvain_partitions)):\n",
    "    print(dx_ls[i], \"---------------------\")\n",
    "    display(community_metrics(graphs_ls[i], ADAS_Louvain_partitions[i]))"
   ]
  },
  {
   "cell_type": "markdown",
   "id": "bc4e99e3",
   "metadata": {},
   "source": [
    "#### Export results"
   ]
  },
  {
   "cell_type": "code",
   "execution_count": null,
   "id": "02ee2c36",
   "metadata": {},
   "outputs": [],
   "source": [
    "domains_rep(graphs_ls, ADAS_Louvain_partitions, 'ADAS', 'Louvain')"
   ]
  },
  {
   "cell_type": "markdown",
   "id": "7c5e0851",
   "metadata": {},
   "source": [
    "#### 8.1.2. GREEDY ALGORITHM"
   ]
  },
  {
   "cell_type": "code",
   "execution_count": null,
   "id": "98862173",
   "metadata": {},
   "outputs": [],
   "source": [
    "ADAS_Greedy_partitions = community_detection(graphs_ls, \"Greedy\")"
   ]
  },
  {
   "cell_type": "code",
   "execution_count": null,
   "id": "08046182",
   "metadata": {},
   "outputs": [],
   "source": [
    "draw_graph_communities(graphs_ls, ADAS_Greedy_partitions, test_labels, pos_ADAS, 'ADAS', 'Greedy')"
   ]
  },
  {
   "cell_type": "markdown",
   "id": "474c725d",
   "metadata": {},
   "source": [
    "#### Subgraph metrics"
   ]
  },
  {
   "cell_type": "code",
   "execution_count": null,
   "id": "656d6e4b",
   "metadata": {
    "scrolled": true
   },
   "outputs": [],
   "source": [
    "dx_ls = ['CN', 'MCI', 'AD']\n",
    "for i in range(len(ADAS_Greedy_partitions)):\n",
    "    print(dx_ls[i], \"---------------------\")\n",
    "    display(community_metrics(graphs_ls[i], ADAS_Greedy_partitions[i]))"
   ]
  },
  {
   "cell_type": "markdown",
   "id": "3e61cc65",
   "metadata": {},
   "source": [
    "#### Export results"
   ]
  },
  {
   "cell_type": "code",
   "execution_count": null,
   "id": "0d7053c0",
   "metadata": {},
   "outputs": [],
   "source": [
    "domains_rep(graphs_ls, ADAS_Greedy_partitions, 'ADAS', 'Greedy')"
   ]
  },
  {
   "cell_type": "markdown",
   "id": "13e97870",
   "metadata": {},
   "source": [
    "#### 8.1.3. BISECTION ALGORITHM"
   ]
  },
  {
   "cell_type": "code",
   "execution_count": null,
   "id": "fda44336",
   "metadata": {},
   "outputs": [],
   "source": [
    "ADAS_Bisection_partitions = community_detection(graphs_ls, \"Bisection\")"
   ]
  },
  {
   "cell_type": "code",
   "execution_count": null,
   "id": "8844ba70",
   "metadata": {},
   "outputs": [],
   "source": [
    "draw_graph_communities(graphs_ls, ADAS_Bisection_partitions, test_labels, pos_ADAS, 'ADAS', 'Bisection')"
   ]
  },
  {
   "cell_type": "markdown",
   "id": "b1278fad",
   "metadata": {},
   "source": [
    "#### Subgraph metrics"
   ]
  },
  {
   "cell_type": "code",
   "execution_count": null,
   "id": "e76ea9d7",
   "metadata": {
    "scrolled": true
   },
   "outputs": [],
   "source": [
    "dx_ls = ['CN', 'MCI', 'AD']\n",
    "for i in range(len(ADAS_Bisection_partitions)):\n",
    "    print(dx_ls[i], \"---------------------\")\n",
    "    display(community_metrics(graphs_ls[i], ADAS_Bisection_partitions[i]))"
   ]
  },
  {
   "cell_type": "markdown",
   "id": "07df4773",
   "metadata": {},
   "source": [
    "#### Export results"
   ]
  },
  {
   "cell_type": "code",
   "execution_count": null,
   "id": "4a72bfbe",
   "metadata": {},
   "outputs": [],
   "source": [
    "domains_rep(graphs_ls, ADAS_Bisection_partitions, 'ADAS', 'Bisection')"
   ]
  },
  {
   "cell_type": "markdown",
   "id": "95cf9bfb",
   "metadata": {},
   "source": [
    "#### 8.1.4. LABEL PROPAGATION ALGORITHM"
   ]
  },
  {
   "cell_type": "code",
   "execution_count": null,
   "id": "0b6ff790",
   "metadata": {},
   "outputs": [],
   "source": [
    "ADAS_Label_partitions = community_detection(graphs_ls, \"Label Propagation\")"
   ]
  },
  {
   "cell_type": "code",
   "execution_count": null,
   "id": "86904816",
   "metadata": {},
   "outputs": [],
   "source": [
    "draw_graph_communities(graphs_ls, ADAS_Label_partitions, test_labels, pos_ADAS, 'ADAS', 'Label Propagation')"
   ]
  },
  {
   "cell_type": "markdown",
   "id": "050ac9ea",
   "metadata": {},
   "source": [
    "#### Subgraph metrics"
   ]
  },
  {
   "cell_type": "code",
   "execution_count": null,
   "id": "38723d86",
   "metadata": {
    "scrolled": true
   },
   "outputs": [],
   "source": [
    "dx_ls = ['CN', 'MCI', 'AD']\n",
    "for i in range(len(ADAS_Label_partitions)):\n",
    "    print(dx_ls[i], \"---------------------\")\n",
    "    display(community_metrics(graphs_ls[i], ADAS_Label_partitions[i]))"
   ]
  },
  {
   "cell_type": "markdown",
   "id": "875ced1f",
   "metadata": {},
   "source": [
    "#### Export results"
   ]
  },
  {
   "cell_type": "code",
   "execution_count": null,
   "id": "feed4f94",
   "metadata": {},
   "outputs": [],
   "source": [
    "domains_rep(graphs_ls, ADAS_Label_partitions, 'ADAS', 'Asyn')"
   ]
  },
  {
   "cell_type": "markdown",
   "id": "0ca4f48d",
   "metadata": {},
   "source": [
    "### 8.2. MMSE"
   ]
  },
  {
   "cell_type": "code",
   "execution_count": null,
   "id": "abddafa2",
   "metadata": {},
   "outputs": [],
   "source": [
    "graphs_ls = [MMSE_CN_graph, MMSE_MCI_graph, MMSE_AD_graph]"
   ]
  },
  {
   "cell_type": "markdown",
   "id": "2a4c8f16",
   "metadata": {},
   "source": [
    "#### 8.2.1. LOUVAIN ALGORITHM"
   ]
  },
  {
   "cell_type": "code",
   "execution_count": null,
   "id": "3d720db9",
   "metadata": {},
   "outputs": [],
   "source": [
    "MMSE_Louvain_partitions = community_detection(graphs_ls, \"Louvain\")"
   ]
  },
  {
   "cell_type": "code",
   "execution_count": null,
   "id": "9f52e9f4",
   "metadata": {},
   "outputs": [],
   "source": [
    "test_labels = None\n",
    "\n",
    "draw_graph_communities(graphs_ls, MMSE_Louvain_partitions, test_labels, pos_MMSE, 'MMSE', 'Louvain')"
   ]
  },
  {
   "cell_type": "markdown",
   "id": "afb11fb7",
   "metadata": {},
   "source": [
    "#### Subgraph metrics"
   ]
  },
  {
   "cell_type": "code",
   "execution_count": null,
   "id": "2e1534de",
   "metadata": {
    "scrolled": true
   },
   "outputs": [],
   "source": [
    "dx_ls = ['CN', 'MCI', 'AD']\n",
    "for i in range(len(MMSE_Louvain_partitions)):\n",
    "    print(dx_ls[i], \"---------------------\")\n",
    "    display(community_metrics(graphs_ls[i], MMSE_Louvain_partitions[i]))"
   ]
  },
  {
   "cell_type": "markdown",
   "id": "31d9540e",
   "metadata": {},
   "source": [
    "#### Export results"
   ]
  },
  {
   "cell_type": "code",
   "execution_count": null,
   "id": "c259300e",
   "metadata": {},
   "outputs": [],
   "source": [
    "domains_rep(graphs_ls, MMSE_Louvain_partitions, 'MMSE', 'Louvain')"
   ]
  },
  {
   "cell_type": "markdown",
   "id": "7d4ff81b",
   "metadata": {},
   "source": [
    "#### 8.2.2. GREEDY ALGORITHM"
   ]
  },
  {
   "cell_type": "code",
   "execution_count": null,
   "id": "fd0807d1",
   "metadata": {},
   "outputs": [],
   "source": [
    "MMSE_Greedy_partitions = community_detection(graphs_ls, \"Greedy\")"
   ]
  },
  {
   "cell_type": "code",
   "execution_count": null,
   "id": "794774a3",
   "metadata": {},
   "outputs": [],
   "source": [
    "draw_graph_communities(graphs_ls, MMSE_Greedy_partitions, test_labels, pos_MMSE, 'MMSE', 'Greedy')"
   ]
  },
  {
   "cell_type": "markdown",
   "id": "4c2a6944",
   "metadata": {},
   "source": [
    "#### Subgraph metrics"
   ]
  },
  {
   "cell_type": "code",
   "execution_count": null,
   "id": "c7a520cb",
   "metadata": {
    "scrolled": true
   },
   "outputs": [],
   "source": [
    "dx_ls = ['CN', 'MCI', 'AD']\n",
    "for i in range(len(MMSE_Greedy_partitions)):\n",
    "    print(dx_ls[i], \"---------------------\")\n",
    "    display(community_metrics(graphs_ls[i], MMSE_Greedy_partitions[i]))"
   ]
  },
  {
   "cell_type": "markdown",
   "id": "d6308d08",
   "metadata": {},
   "source": [
    "#### Export results"
   ]
  },
  {
   "cell_type": "code",
   "execution_count": null,
   "id": "8859dbdb",
   "metadata": {},
   "outputs": [],
   "source": [
    "domains_rep(graphs_ls, MMSE_Greedy_partitions, 'MMSE', 'Greedy')"
   ]
  },
  {
   "cell_type": "markdown",
   "id": "b89dc6f9",
   "metadata": {},
   "source": [
    "#### 8.2.3. BISECTION ALGORITHM"
   ]
  },
  {
   "cell_type": "code",
   "execution_count": null,
   "id": "a09f7049",
   "metadata": {},
   "outputs": [],
   "source": [
    "MMSE_Bisection_partitions = community_detection(graphs_ls, \"Bisection\")"
   ]
  },
  {
   "cell_type": "code",
   "execution_count": null,
   "id": "3afca79e",
   "metadata": {},
   "outputs": [],
   "source": [
    "draw_graph_communities(graphs_ls, MMSE_Bisection_partitions, test_labels, pos_MMSE, 'MMSE', 'Bisection')"
   ]
  },
  {
   "cell_type": "markdown",
   "id": "95e13fdf",
   "metadata": {},
   "source": [
    "#### Subgraph metrics"
   ]
  },
  {
   "cell_type": "code",
   "execution_count": null,
   "id": "c61cecf1",
   "metadata": {
    "scrolled": true
   },
   "outputs": [],
   "source": [
    "dx_ls = ['CN', 'MCI', 'AD']\n",
    "for i in range(len(MMSE_Bisection_partitions)):\n",
    "    print(dx_ls[i], \"---------------------\")\n",
    "    display(community_metrics(graphs_ls[i], MMSE_Bisection_partitions[i]))"
   ]
  },
  {
   "cell_type": "markdown",
   "id": "bf2189ac",
   "metadata": {},
   "source": [
    "#### Export results"
   ]
  },
  {
   "cell_type": "code",
   "execution_count": null,
   "id": "d7323e82",
   "metadata": {},
   "outputs": [],
   "source": [
    "domains_rep(graphs_ls, MMSE_Bisection_partitions, 'MMSE', 'Bisection')"
   ]
  },
  {
   "cell_type": "markdown",
   "id": "75c39d63",
   "metadata": {},
   "source": [
    "#### 8.2.4. LABEL PROPAGATION ALGORITHM"
   ]
  },
  {
   "cell_type": "code",
   "execution_count": null,
   "id": "6c03c7d9",
   "metadata": {},
   "outputs": [],
   "source": [
    "MMSE_Label_partitions = community_detection(graphs_ls, \"Label Propagation\")"
   ]
  },
  {
   "cell_type": "code",
   "execution_count": null,
   "id": "8c8abe01",
   "metadata": {},
   "outputs": [],
   "source": [
    "draw_graph_communities(graphs_ls, MMSE_Label_partitions, test_labels, pos_MMSE, 'MMSE', 'Label Propagation')"
   ]
  },
  {
   "cell_type": "markdown",
   "id": "ec4f54a4",
   "metadata": {},
   "source": [
    "#### Subgraph metrics"
   ]
  },
  {
   "cell_type": "code",
   "execution_count": null,
   "id": "fed10e25",
   "metadata": {
    "scrolled": true
   },
   "outputs": [],
   "source": [
    "dx_ls = ['CN', 'MCI', 'AD']\n",
    "for i in range(len(MMSE_Label_partitions)):\n",
    "    print(dx_ls[i], \"---------------------\")\n",
    "    display(community_metrics(graphs_ls[i], MMSE_Label_partitions[i]))"
   ]
  },
  {
   "cell_type": "markdown",
   "id": "fa60af94",
   "metadata": {},
   "source": [
    "#### Export results"
   ]
  },
  {
   "cell_type": "code",
   "execution_count": null,
   "id": "d8fc72b5",
   "metadata": {},
   "outputs": [],
   "source": [
    "domains_rep(graphs_ls, MMSE_Label_partitions, 'MMSE', 'Asyn')"
   ]
  },
  {
   "cell_type": "markdown",
   "id": "f3d45ee4",
   "metadata": {},
   "source": [
    "### 8.3. MOCA"
   ]
  },
  {
   "cell_type": "code",
   "execution_count": null,
   "id": "f80f582c",
   "metadata": {},
   "outputs": [],
   "source": [
    "graphs_ls = [MOCA_CN_graph, MOCA_MCI_graph, MOCA_AD_graph]"
   ]
  },
  {
   "cell_type": "markdown",
   "id": "47488dfc",
   "metadata": {},
   "source": [
    "#### 8.3.1. LOUVAIN ALGORITHM"
   ]
  },
  {
   "cell_type": "code",
   "execution_count": null,
   "id": "67d8c0d5",
   "metadata": {},
   "outputs": [],
   "source": [
    "MOCA_Louvain_partitions = community_detection(graphs_ls, \"Louvain\")"
   ]
  },
  {
   "cell_type": "code",
   "execution_count": null,
   "id": "9f8e0311",
   "metadata": {},
   "outputs": [],
   "source": [
    "draw_graph_communities(graphs_ls, MOCA_Louvain_partitions, test_labels, pos_MOCA, 'MOCA', 'Louvain')"
   ]
  },
  {
   "cell_type": "markdown",
   "id": "a2134bfb",
   "metadata": {},
   "source": [
    "#### Subgraph metrics"
   ]
  },
  {
   "cell_type": "code",
   "execution_count": null,
   "id": "d72110a2",
   "metadata": {
    "scrolled": true
   },
   "outputs": [],
   "source": [
    "dx_ls = ['CN', 'MCI', 'AD']\n",
    "for i in range(len(MOCA_Louvain_partitions)):\n",
    "    print(dx_ls[i], \"---------------------\")\n",
    "    display(community_metrics(graphs_ls[i], MOCA_Louvain_partitions[i]))"
   ]
  },
  {
   "cell_type": "markdown",
   "id": "b22ab4dd",
   "metadata": {},
   "source": [
    "#### Export results"
   ]
  },
  {
   "cell_type": "code",
   "execution_count": null,
   "id": "bb82e08f",
   "metadata": {},
   "outputs": [],
   "source": [
    "domains_rep(graphs_ls, MOCA_Louvain_partitions, 'MOCA', 'Louvain')"
   ]
  },
  {
   "cell_type": "markdown",
   "id": "ba345578",
   "metadata": {},
   "source": [
    "#### 8.3.2. GREEDY ALGORITHM"
   ]
  },
  {
   "cell_type": "code",
   "execution_count": null,
   "id": "3a62080f",
   "metadata": {},
   "outputs": [],
   "source": [
    "MOCA_Greedy_partitions = community_detection(graphs_ls, \"Greedy\")"
   ]
  },
  {
   "cell_type": "code",
   "execution_count": null,
   "id": "ed7a6c51",
   "metadata": {},
   "outputs": [],
   "source": [
    "draw_graph_communities(graphs_ls, MOCA_Greedy_partitions, test_labels, pos_MOCA, 'MOCA', 'Greedy')"
   ]
  },
  {
   "cell_type": "markdown",
   "id": "02fc7d81",
   "metadata": {},
   "source": [
    "#### Subgraph metrics"
   ]
  },
  {
   "cell_type": "code",
   "execution_count": null,
   "id": "691c4dcd",
   "metadata": {
    "scrolled": true
   },
   "outputs": [],
   "source": [
    "dx_ls = ['CN', 'MCI', 'AD']\n",
    "for i in range(len(MOCA_Greedy_partitions)):\n",
    "    print(dx_ls[i], \"---------------------\")\n",
    "    display(community_metrics(graphs_ls[i], MOCA_Greedy_partitions[i]))"
   ]
  },
  {
   "cell_type": "markdown",
   "id": "842b6a9c",
   "metadata": {},
   "source": [
    "#### Export results"
   ]
  },
  {
   "cell_type": "code",
   "execution_count": null,
   "id": "85cbcca3",
   "metadata": {},
   "outputs": [],
   "source": [
    "domains_rep(graphs_ls, MOCA_Greedy_partitions, 'MOCA', 'Greedy')"
   ]
  },
  {
   "cell_type": "markdown",
   "id": "38127918",
   "metadata": {},
   "source": [
    "#### 8.3.3. BISECTION ALGORITHM"
   ]
  },
  {
   "cell_type": "code",
   "execution_count": null,
   "id": "75303422",
   "metadata": {},
   "outputs": [],
   "source": [
    "MOCA_Bisection_partitions = community_detection(graphs_ls, \"Bisection\")"
   ]
  },
  {
   "cell_type": "code",
   "execution_count": null,
   "id": "bd31ec88",
   "metadata": {},
   "outputs": [],
   "source": [
    "draw_graph_communities(graphs_ls, MOCA_Bisection_partitions, test_labels, pos_MOCA, 'MOCA', 'Bisection')"
   ]
  },
  {
   "cell_type": "markdown",
   "id": "7f64b75c",
   "metadata": {},
   "source": [
    "#### Subgraph metrics"
   ]
  },
  {
   "cell_type": "code",
   "execution_count": null,
   "id": "3aa09e51",
   "metadata": {
    "scrolled": true
   },
   "outputs": [],
   "source": [
    "dx_ls = ['CN', 'MCI', 'AD']\n",
    "for i in range(len(MOCA_Bisection_partitions)):\n",
    "    print(dx_ls[i], \"---------------------\")\n",
    "    display(community_metrics(graphs_ls[i], MOCA_Bisection_partitions[i]))"
   ]
  },
  {
   "cell_type": "markdown",
   "id": "1be7c372",
   "metadata": {},
   "source": [
    "#### Export results"
   ]
  },
  {
   "cell_type": "code",
   "execution_count": null,
   "id": "f1a98cc1",
   "metadata": {},
   "outputs": [],
   "source": [
    "domains_rep(graphs_ls, MOCA_Bisection_partitions, 'MOCA', 'Bisection')"
   ]
  },
  {
   "cell_type": "markdown",
   "id": "a1711181",
   "metadata": {},
   "source": [
    "#### 8.3.4. LABEL PROPAGATION ALGORITHM"
   ]
  },
  {
   "cell_type": "code",
   "execution_count": null,
   "id": "bcb00b33",
   "metadata": {},
   "outputs": [],
   "source": [
    "MOCA_Label_partitions = community_detection(graphs_ls, \"Label Propagation\")"
   ]
  },
  {
   "cell_type": "code",
   "execution_count": null,
   "id": "92059e7a",
   "metadata": {},
   "outputs": [],
   "source": [
    "draw_graph_communities(graphs_ls, MOCA_Label_partitions, test_labels, pos_MOCA, 'MOCA', 'Label Propagation')"
   ]
  },
  {
   "cell_type": "markdown",
   "id": "908aa4b5",
   "metadata": {},
   "source": [
    "#### Subgraph metrics"
   ]
  },
  {
   "cell_type": "code",
   "execution_count": null,
   "id": "876aa9e8",
   "metadata": {
    "scrolled": true
   },
   "outputs": [],
   "source": [
    "dx_ls = ['CN', 'MCI', 'AD']\n",
    "for i in range(len(MOCA_Label_partitions)):\n",
    "    print(dx_ls[i], \"---------------------\")\n",
    "    display(community_metrics(graphs_ls[i], MOCA_Label_partitions[i]))"
   ]
  },
  {
   "cell_type": "markdown",
   "id": "91d25bee",
   "metadata": {},
   "source": [
    "#### Export results"
   ]
  },
  {
   "cell_type": "code",
   "execution_count": null,
   "id": "f50a5f14",
   "metadata": {},
   "outputs": [],
   "source": [
    "domains_rep(graphs_ls, MOCA_Label_partitions, 'MOCA', 'Asyn')"
   ]
  },
  {
   "cell_type": "markdown",
   "id": "4539e4ae",
   "metadata": {},
   "source": [
    "### 8.4. Merged"
   ]
  },
  {
   "cell_type": "code",
   "execution_count": null,
   "id": "2f2f95c4",
   "metadata": {},
   "outputs": [],
   "source": [
    "graphs_ls = [ADAS_CN_graph, ADAS_MCI_graph, ADAS_AD_graph]"
   ]
  },
  {
   "cell_type": "markdown",
   "id": "7e5c6ae7",
   "metadata": {},
   "source": [
    "#### 8.4.1. LOUVAIN ALGORITHM"
   ]
  },
  {
   "cell_type": "code",
   "execution_count": null,
   "id": "9a0a52f7",
   "metadata": {},
   "outputs": [],
   "source": [
    "merged_Louvain_partitions = community_detection(graphs_ls, \"Louvain\")"
   ]
  },
  {
   "cell_type": "code",
   "execution_count": null,
   "id": "7f1d7476",
   "metadata": {},
   "outputs": [],
   "source": [
    "draw_graph_communities(graphs_ls, merged_Louvain_partitions, test_labels, pos_merged, 'merged', 'Louvain')"
   ]
  },
  {
   "cell_type": "markdown",
   "id": "c769a6a2",
   "metadata": {},
   "source": [
    "#### Subgraph metrics"
   ]
  },
  {
   "cell_type": "code",
   "execution_count": null,
   "id": "eade902a",
   "metadata": {
    "scrolled": true
   },
   "outputs": [],
   "source": [
    "dx_ls = ['CN', 'MCI', 'AD']\n",
    "for i in range(len(merged_Louvain_partitions)):\n",
    "    print(dx_ls[i], \"---------------------\")\n",
    "    display(community_metrics(graphs_ls[i], merged_Louvain_partitions[i]))"
   ]
  },
  {
   "cell_type": "markdown",
   "id": "9d4d255b",
   "metadata": {},
   "source": [
    "#### Export results"
   ]
  },
  {
   "cell_type": "code",
   "execution_count": null,
   "id": "0854c21f",
   "metadata": {},
   "outputs": [],
   "source": [
    "domains_rep(graphs_ls, merged_Louvain_partitions, 'merged', 'Louvain')"
   ]
  },
  {
   "cell_type": "markdown",
   "id": "a27451a6",
   "metadata": {},
   "source": [
    "#### 8.4.2. GREEDY ALGORITHM"
   ]
  },
  {
   "cell_type": "code",
   "execution_count": null,
   "id": "21ca85a1",
   "metadata": {},
   "outputs": [],
   "source": [
    "merged_Greedy_partitions = community_detection(graphs_ls, \"Greedy\")"
   ]
  },
  {
   "cell_type": "code",
   "execution_count": null,
   "id": "06064d8c",
   "metadata": {},
   "outputs": [],
   "source": [
    "draw_graph_communities(graphs_ls, merged_Greedy_partitions, test_labels, pos_merged, 'merged', 'Greedy')"
   ]
  },
  {
   "cell_type": "markdown",
   "id": "b4e684aa",
   "metadata": {},
   "source": [
    "#### Subgraph metrics"
   ]
  },
  {
   "cell_type": "code",
   "execution_count": null,
   "id": "69f2dd09",
   "metadata": {
    "scrolled": true
   },
   "outputs": [],
   "source": [
    "dx_ls = ['CN', 'MCI', 'AD']\n",
    "for i in range(len(merged_Greedy_partitions)):\n",
    "    print(dx_ls[i], \"---------------------\")\n",
    "    display(community_metrics(graphs_ls[i], merged_Greedy_partitions[i]))"
   ]
  },
  {
   "cell_type": "markdown",
   "id": "7e2361c5",
   "metadata": {},
   "source": [
    "#### Export results"
   ]
  },
  {
   "cell_type": "code",
   "execution_count": null,
   "id": "49ec32d0",
   "metadata": {},
   "outputs": [],
   "source": [
    "domains_rep(graphs_ls, merged_Greedy_partitions, 'merged', 'Greedy')"
   ]
  },
  {
   "cell_type": "markdown",
   "id": "9f63dbc9",
   "metadata": {},
   "source": [
    "#### 8.4.3. BISECTION ALGORITHM"
   ]
  },
  {
   "cell_type": "code",
   "execution_count": null,
   "id": "d6018fe7",
   "metadata": {},
   "outputs": [],
   "source": [
    "merged_Bisection_partitions = community_detection(graphs_ls, \"Bisection\")"
   ]
  },
  {
   "cell_type": "code",
   "execution_count": null,
   "id": "3755097f",
   "metadata": {},
   "outputs": [],
   "source": [
    "draw_graph_communities(graphs_ls, merged_Bisection_partitions, test_labels, pos_merged, 'merged', 'Bisection')"
   ]
  },
  {
   "cell_type": "markdown",
   "id": "e9e220d3",
   "metadata": {},
   "source": [
    "#### Subgraph metrics"
   ]
  },
  {
   "cell_type": "code",
   "execution_count": null,
   "id": "6f79fcc0",
   "metadata": {
    "scrolled": true
   },
   "outputs": [],
   "source": [
    "dx_ls = ['CN', 'MCI', 'AD']\n",
    "for i in range(len(merged_Bisection_partitions)):\n",
    "    print(dx_ls[i], \"---------------------\")\n",
    "    display(community_metrics(graphs_ls[i], merged_Bisection_partitions[i]))"
   ]
  },
  {
   "cell_type": "markdown",
   "id": "f6f82e67",
   "metadata": {},
   "source": [
    "#### Export results"
   ]
  },
  {
   "cell_type": "code",
   "execution_count": null,
   "id": "7821840b",
   "metadata": {},
   "outputs": [],
   "source": [
    "domains_rep(graphs_ls, merged_Bisection_partitions, 'merged', 'Bisection')"
   ]
  },
  {
   "cell_type": "markdown",
   "id": "ed9789cf",
   "metadata": {},
   "source": [
    "#### 8.4.4. LABEL PROPAGATION ALGORITHM"
   ]
  },
  {
   "cell_type": "code",
   "execution_count": null,
   "id": "82c946ae",
   "metadata": {},
   "outputs": [],
   "source": [
    "merged_Label_partitions = community_detection(graphs_ls, \"Label Propagation\")"
   ]
  },
  {
   "cell_type": "code",
   "execution_count": null,
   "id": "817c3fb6",
   "metadata": {},
   "outputs": [],
   "source": [
    "draw_graph_communities(graphs_ls, merged_Label_partitions, test_labels, pos_merged, 'merged', 'Label Propagation')"
   ]
  },
  {
   "cell_type": "markdown",
   "id": "2972219a",
   "metadata": {},
   "source": [
    "#### Subgraph metrics"
   ]
  },
  {
   "cell_type": "code",
   "execution_count": null,
   "id": "6aba0379",
   "metadata": {
    "scrolled": true
   },
   "outputs": [],
   "source": [
    "dx_ls = ['CN', 'MCI', 'AD']\n",
    "for i in range(len(merged_Label_partitions)):\n",
    "    print(dx_ls[i], \"---------------------\")\n",
    "    display(community_metrics(graphs_ls[i], merged_Label_partitions[i]))"
   ]
  },
  {
   "cell_type": "markdown",
   "id": "bcda2d4e",
   "metadata": {},
   "source": [
    "#### Export results"
   ]
  },
  {
   "cell_type": "code",
   "execution_count": null,
   "id": "65672819",
   "metadata": {},
   "outputs": [],
   "source": [
    "domains_rep(graphs_ls, merged_Label_partitions, 'merged', 'Asyn')"
   ]
  },
  {
   "cell_type": "code",
   "execution_count": null,
   "id": "bf33e934",
   "metadata": {},
   "outputs": [],
   "source": [
    "import networkx.algorithms.community as nx_comm\n",
    "\n",
    "ADAS_CN_partition = nx_comm.louvain_communities(ADAS_CN_graph, weight='weight',seed=0)\n",
    "ADAS_MCI_partition = nx_comm.louvain_communities(ADAS_MCI_graph, weight='weight',seed=0)\n",
    "ADAS_AD_partition = nx_comm.louvain_communities(ADAS_AD_graph, weight='weight',seed=0)\n",
    "\n",
    "print(\"--------------------------------\")\n",
    "print(\"LOUVAIN COMMUNITIES\"\n",
    "print(\"--------------------------------\")\n",
    "print()\n",
    "print(\"Controls: \", ADAS_CN_partition)\n",
    "print()\n",
    "print(\"MCI: \", ADAS_MCI_partition)\n",
    "print()\n",
    "print(\"AD: \", ADAS_AD_partition)\n",
    "\n",
    "print()\n",
    "print(\"--------------------------------\")\n",
    "print(\"MODULARITY INDEX\")\n",
    "print(\"--------------------------------\")\n",
    "print()\n",
    "print(\"Controls: \", nx_comm.modularity(ADAS_CN_graph, ADAS_CN_partition, weight='weight'))\n",
    "print()\n",
    "print(\"MCI: \", nx_comm.modularity(ADAS_MCI_graph, ADAS_MCI_partition, weight='weight'))\n",
    "print()\n",
    "print(\"AD: \", nx_comm.modularity(ADAS_AD_graph, ADAS_AD_partition, weight='weight'))"
   ]
  },
  {
   "cell_type": "markdown",
   "id": "78cc236e",
   "metadata": {},
   "source": [
    "#### Draw graph displaying communities (Louvain communities)"
   ]
  },
  {
   "cell_type": "code",
   "execution_count": null,
   "id": "d3af96c0",
   "metadata": {},
   "outputs": [],
   "source": [
    "def color_communities(graph, partition):\n",
    "    \n",
    "    colors = {} #create empty node dictionary\n",
    "    \n",
    "    #Convert set of partitions into node dictionary\n",
    "    for i in range(len(partition)): #iterate for each group\n",
    "        for node in partition[i]:\n",
    "            colors[node] = i\n",
    "            \n",
    "    #Sort dictionary by keys\n",
    "    node_list = list(colors.keys())\n",
    "    node_list.sort()\n",
    "    sorted_colors = {i: colors[i] for i in node_list}\n",
    "            \n",
    "    return list(sorted_colors.values())"
   ]
  },
  {
   "cell_type": "code",
   "execution_count": null,
   "id": "52ed5db8",
   "metadata": {},
   "outputs": [],
   "source": [
    "#Plot\n",
    "fig, axes = plt.subplots(1,3, figsize=(20,6))\n",
    "\n",
    "#Node labels\n",
    "test_labels = {0:\"Q1\", 1:\"Q2\", 2:\"Q3\", 3:\"Q4\", 4:\"Q5\", 5: \"Q6\", 6:\"Q7\",\n",
    "              7:\"Q8\",8:\"Q9\", 9:\"Q10\", 10:\"Q11\", 11:\"Q12\", 12:\"Q13\"}\n",
    "\n",
    "#get colors\n",
    "ADAS_CN_colors = color_communities(ADAS_CN_graph, ADAS_CN_partition)\n",
    "ADAS_MCI_colors = color_communities(ADAS_MCI_graph, ADAS_MCI_partition)\n",
    "ADAS_AD_colors = color_communities(ADAS_AD_graph, ADAS_AD_partition)\n",
    "\n",
    "#fix positions\n",
    "#pos=nx.spring_layout(ADAS_CN_graph)\n",
    "\n",
    "#get edges weights\n",
    "#edges_CN,weights_CN = zip(*nx.get_edge_attributes(ADAS_CN_graph,'weight').items())\n",
    "#edges_MCI,weights_MCI = zip(*nx.get_edge_attributes(ADAS_MCI_graph,'weight').items())\n",
    "#edges_AD,weights_AD = zip(*nx.get_edge_attributes(ADAS_AD_graph,'weight').items())\n",
    "\n",
    "weights_CN = list(nx.get_edge_attributes(ADAS_CN_graph,'weight').values())\n",
    "weights_MCI = list(nx.get_edge_attributes(ADAS_MCI_graph,'weight').values())\n",
    "weights_AD = list(nx.get_edge_attributes(ADAS_AD_graph,'weight').values())\n",
    "\n",
    "#draw graphs\n",
    "nx.draw(ax=axes[0], G=ADAS_CN_graph, pos=pos, labels=test_labels, with_labels=True, node_color=ADAS_CN_colors,\n",
    "       edge_color=weights_CN, edge_cmap=plt.cm.Greys, width=[ x*10 for x in weights_CN])\n",
    "nx.draw(ax=axes[1], G=ADAS_MCI_graph, pos=pos, labels=test_labels, with_labels=True, node_color=ADAS_MCI_colors,\n",
    "       edge_color=weights_MCI, edge_cmap=plt.cm.Greys, width=[ x*10 for x in weights_MCI])\n",
    "nx.draw(ax=axes[2], G=ADAS_AD_graph, pos=pos, labels=test_labels, with_labels=True, node_color=ADAS_AD_colors,\n",
    "       edge_color=weights_AD, edge_cmap=plt.cm.Greys, width=[ x*10 for x in weights_AD])\n",
    "\n",
    "#add title to subfigures\n",
    "axes[0].title.set_text(\"Controls\")\n",
    "axes[1].title.set_text(\"MCI\")\n",
    "axes[2].title.set_text(\"AD\")\n",
    "\n",
    "plt.show()"
   ]
  },
  {
   "cell_type": "markdown",
   "id": "a83fc98d",
   "metadata": {},
   "source": [
    "Community metrics for the controls group:"
   ]
  },
  {
   "cell_type": "code",
   "execution_count": null,
   "id": "b28da242",
   "metadata": {
    "scrolled": false
   },
   "outputs": [],
   "source": [
    "import warnings\n",
    "warnings.filterwarnings('ignore')\n",
    "\n",
    "display(community_metrics(ADAS_CN_graph, ADAS_CN_partition))"
   ]
  },
  {
   "cell_type": "markdown",
   "id": "b9bd2d16",
   "metadata": {},
   "source": [
    "MCI group:"
   ]
  },
  {
   "cell_type": "code",
   "execution_count": null,
   "id": "eb6b5eca",
   "metadata": {},
   "outputs": [],
   "source": [
    "community_metrics(ADAS_MCI_graph, ADAS_MCI_partition)"
   ]
  },
  {
   "cell_type": "markdown",
   "id": "95030248",
   "metadata": {},
   "source": [
    "AD group: "
   ]
  },
  {
   "cell_type": "code",
   "execution_count": null,
   "id": "e6a75ef6",
   "metadata": {
    "scrolled": true
   },
   "outputs": [],
   "source": [
    "community_metrics(ADAS_AD_graph, ADAS_AD_partition)"
   ]
  },
  {
   "cell_type": "markdown",
   "id": "9bca41d6",
   "metadata": {},
   "source": [
    "#### Representation of the domains in each community"
   ]
  },
  {
   "cell_type": "code",
   "execution_count": null,
   "id": "b02c8e13",
   "metadata": {},
   "outputs": [],
   "source": [
    "#Get data \n",
    "ADAS_CN_domains = community_metrics(ADAS_CN_graph, ADAS_CN_partition)[['Index','Language','Memory', 'Attention',\n",
    "                                                                     'Executive', 'Orientation']]\n",
    "ADAS_MCI_domains = community_metrics(ADAS_MCI_graph, ADAS_MCI_partition)[['Index','Language','Memory', 'Attention',\n",
    "                                                                     'Executive', 'Orientation']]\n",
    "ADAS_AD_domains = community_metrics(ADAS_AD_graph, ADAS_AD_partition)[['Index','Language','Memory', 'Attention',\n",
    "                                                                     'Executive', 'Orientation']]\n",
    "\n",
    "#Reshape data with melt() function\n",
    "ADAS_CN_domains = ADAS_CN_domains.melt(id_vars=['Index'], var_name=\"Domain\", value_name='Percentage')\n",
    "ADAS_MCI_domains = ADAS_MCI_domains.melt(id_vars=['Index'], var_name=\"Domain\", value_name='Percentage')\n",
    "ADAS_AD_domains = ADAS_AD_domains.melt(id_vars=['Index'], var_name=\"Domain\", value_name='Percentage')\n",
    "\n",
    "#plot \n",
    "fig, axes = plt.subplots(1,3, figsize=(20,5))\n",
    "sns.barplot(ax=axes[0], x=\"Domain\", y=\"Percentage\", hue=\"Index\", data=ADAS_CN_domains)\n",
    "sns.barplot(ax=axes[1], x=\"Domain\", y=\"Percentage\", hue=\"Index\", data=ADAS_MCI_domains)\n",
    "sns.barplot(ax=axes[2], x=\"Domain\", y=\"Percentage\", hue=\"Index\", data=ADAS_AD_domains)\n",
    "\n",
    "\n",
    "#ADAS_CN_domains.plot(kind='bar',ax=axes[0], x=\"Domain\", y=\"Per. of representation\", hue=\"Index\", stacked=True)\n",
    "\n",
    "fig.suptitle(\"Neurocognitive domains distribution\")\n",
    "plt.legend(title='Community')\n",
    "\n",
    "plt.show()\n",
    "\n",
    "#send data to build stacked barplot in R\n",
    "ADAS_CN_domains.to_csv('./Results/ADAS/Louvain_CN.csv', index=False) \n",
    "ADAS_MCI_domains.to_csv('./Results/ADAS/Louvain_MCI.csv', index=False) \n",
    "ADAS_AD_domains.to_csv('./Results/ADAS/Louvain_AD.csv', index=False) "
   ]
  },
  {
   "cell_type": "markdown",
   "id": "e29bbbfa",
   "metadata": {},
   "source": [
    "#### Modularity index (Greedy modularity algorithm)\n",
    "\n",
    "This function uses **Clauset-Newman-Moore greedy modularity maximization** to find the community partition with the largest modularity.\n",
    "\n",
    "Greedy modularity maximization begins with each node in its own community and repeatedly joins the pair of communities that lead to the largest modularity until no further increase in modularity is possible (a maximum)."
   ]
  },
  {
   "cell_type": "code",
   "execution_count": null,
   "id": "13ad4afb",
   "metadata": {},
   "outputs": [],
   "source": [
    "import networkx.algorithms.community as nx_comm\n",
    "\n",
    "ADAS_CN_partition = nx_comm.greedy_modularity_communities(ADAS_CN_graph, weight='weight')\n",
    "ADAS_MCI_partition = nx_comm.greedy_modularity_communities(ADAS_MCI_graph, weight='weight')\n",
    "ADAS_AD_partition = nx_comm.greedy_modularity_communities(ADAS_AD_graph, weight='weight')\n",
    "\n",
    "print(\"--------------------------------\")\n",
    "print(\"GREEDY MODULARITY COMMUNITIES\")\n",
    "print(\"--------------------------------\")\n",
    "print()\n",
    "print(\"Controls: \", ADAS_CN_partition)\n",
    "print()\n",
    "print(\"MCI: \", ADAS_MCI_partition)\n",
    "print()\n",
    "print(\"AD: \", ADAS_AD_partition)\n",
    "\n",
    "print()\n",
    "print(\"--------------------------------\")\n",
    "print(\"MODULARITY INDEX\")\n",
    "print(\"--------------------------------\")\n",
    "print()\n",
    "print(\"Controls: \", nx_comm.modularity(ADAS_CN_graph, ADAS_CN_partition, weight='weight'))\n",
    "print()\n",
    "print(\"MCI: \", nx_comm.modularity(ADAS_MCI_graph, ADAS_MCI_partition, weight='weight'))\n",
    "print()\n",
    "print(\"AD: \", nx_comm.modularity(ADAS_AD_graph, ADAS_AD_partition, weight='weight'))"
   ]
  },
  {
   "cell_type": "markdown",
   "id": "637781ea",
   "metadata": {},
   "source": [
    "#### Draw graph displaying communities (Greedy modularity communities)"
   ]
  },
  {
   "cell_type": "code",
   "execution_count": null,
   "id": "c140e02e",
   "metadata": {},
   "outputs": [],
   "source": [
    "#Plot\n",
    "fig, axes = plt.subplots(1,3, figsize=(20,6))\n",
    "\n",
    "#Node labels\n",
    "test_labels = {0:\"Q1\", 1:\"Q2\", 2:\"Q3\", 3:\"Q4\", 4:\"Q5\", 5: \"Q6\", 6:\"Q7\",\n",
    "              7:\"Q8\",8:\"Q9\", 9:\"Q10\", 10:\"Q11\", 11:\"Q12\", 12:\"Q13\"}\n",
    "\n",
    "#get colors\n",
    "ADAS_CN_colors = color_communities(ADAS_CN_graph, ADAS_CN_partition)\n",
    "ADAS_MCI_colors = color_communities(ADAS_MCI_graph, ADAS_MCI_partition)\n",
    "ADAS_AD_colors = color_communities(ADAS_AD_graph, ADAS_AD_partition)\n",
    "\n",
    "#fix positions\n",
    "#pos=nx.spring_layout(ADAS_CN_graph)\n",
    "\n",
    "#get edges weights\n",
    "#edges_CN,weights_CN = zip(*nx.get_edge_attributes(ADAS_CN_graph,'weight').items())\n",
    "#edges_MCI,weights_MCI = zip(*nx.get_edge_attributes(ADAS_MCI_graph,'weight').items())\n",
    "#edges_AD,weights_AD = zip(*nx.get_edge_attributes(ADAS_AD_graph,'weight').items())\n",
    "\n",
    "weights_CN = list(nx.get_edge_attributes(ADAS_CN_graph,'weight').values())\n",
    "weights_MCI = list(nx.get_edge_attributes(ADAS_MCI_graph,'weight').values())\n",
    "weights_AD = list(nx.get_edge_attributes(ADAS_AD_graph,'weight').values())\n",
    "\n",
    "#draw graphs\n",
    "nx.draw(ax=axes[0], G=ADAS_CN_graph, pos=pos, labels=test_labels, with_labels=True, node_color=ADAS_CN_colors,\n",
    "       edge_color=weights_CN, edge_cmap=plt.cm.Greys, width=[ x*10 for x in weights_CN])\n",
    "nx.draw(ax=axes[1], G=ADAS_MCI_graph, pos=pos, labels=test_labels, with_labels=True, node_color=ADAS_MCI_colors,\n",
    "       edge_color=weights_MCI, edge_cmap=plt.cm.Greys, width=[ x*10 for x in weights_MCI])\n",
    "nx.draw(ax=axes[2], G=ADAS_AD_graph, pos=pos, labels=test_labels, with_labels=True, node_color=ADAS_AD_colors,\n",
    "       edge_color=weights_AD, edge_cmap=plt.cm.Greys, width=[ x*10 for x in weights_AD])\n",
    "\n",
    "#add title to subfigures\n",
    "axes[0].title.set_text(\"Controls\")\n",
    "axes[1].title.set_text(\"MCI\")\n",
    "axes[2].title.set_text(\"AD\")\n",
    "\n",
    "plt.show()"
   ]
  },
  {
   "cell_type": "markdown",
   "id": "eae0425b",
   "metadata": {},
   "source": [
    "#### Get subgraphs metrics (Greedy modularity algorithm)\n",
    "\n",
    "Each community detected is going to be considered as a subgraph. "
   ]
  },
  {
   "cell_type": "markdown",
   "id": "b9b5fb5f",
   "metadata": {},
   "source": [
    "Community metrics for the controls group:"
   ]
  },
  {
   "cell_type": "code",
   "execution_count": null,
   "id": "8f90b9d2",
   "metadata": {
    "scrolled": true
   },
   "outputs": [],
   "source": [
    "import warnings\n",
    "warnings.filterwarnings('ignore')\n",
    "\n",
    "display(community_metrics(ADAS_CN_graph, ADAS_CN_partition))"
   ]
  },
  {
   "cell_type": "markdown",
   "id": "8073b459",
   "metadata": {},
   "source": [
    "MCI group:"
   ]
  },
  {
   "cell_type": "code",
   "execution_count": null,
   "id": "3036930a",
   "metadata": {
    "scrolled": true
   },
   "outputs": [],
   "source": [
    "community_metrics(ADAS_MCI_graph, ADAS_MCI_partition)"
   ]
  },
  {
   "cell_type": "markdown",
   "id": "49aed58e",
   "metadata": {},
   "source": [
    "AD group: "
   ]
  },
  {
   "cell_type": "code",
   "execution_count": null,
   "id": "271845bb",
   "metadata": {
    "scrolled": true
   },
   "outputs": [],
   "source": [
    "community_metrics(ADAS_AD_graph, ADAS_AD_partition)"
   ]
  },
  {
   "cell_type": "markdown",
   "id": "2db8302f",
   "metadata": {},
   "source": [
    "#### Representation of the domains in each community"
   ]
  },
  {
   "cell_type": "code",
   "execution_count": null,
   "id": "fa26a22d",
   "metadata": {
    "scrolled": true
   },
   "outputs": [],
   "source": [
    "#Get data \n",
    "ADAS_CN_domains = community_metrics(ADAS_CN_graph, ADAS_CN_partition)[['Index','Language','Memory', 'Attention',\n",
    "                                                                     'Executive', 'Orientation']]\n",
    "ADAS_MCI_domains = community_metrics(ADAS_MCI_graph, ADAS_MCI_partition)[['Index','Language','Memory', 'Attention',\n",
    "                                                                     'Executive', 'Orientation']]\n",
    "ADAS_AD_domains = community_metrics(ADAS_AD_graph, ADAS_AD_partition)[['Index','Language','Memory', 'Attention',\n",
    "                                                                     'Executive', 'Orientation']]\n",
    "\n",
    "#Reshape data with melt() function\n",
    "ADAS_CN_domains = ADAS_CN_domains.melt(id_vars=['Index'], var_name=\"Domain\", value_name='Percentage')\n",
    "ADAS_MCI_domains = ADAS_MCI_domains.melt(id_vars=['Index'], var_name=\"Domain\", value_name='Percentage')\n",
    "ADAS_AD_domains = ADAS_AD_domains.melt(id_vars=['Index'], var_name=\"Domain\", value_name='Percentage')\n",
    "\n",
    "#plot \n",
    "fig, axes = plt.subplots(1,3, figsize=(20,5))\n",
    "sns.barplot(ax=axes[0], x=\"Domain\", y=\"Percentage\", hue=\"Index\", data=ADAS_CN_domains)\n",
    "sns.barplot(ax=axes[1], x=\"Domain\", y=\"Percentage\", hue=\"Index\", data=ADAS_MCI_domains)\n",
    "sns.barplot(ax=axes[2], x=\"Domain\", y=\"Percentage\", hue=\"Index\", data=ADAS_AD_domains)\n",
    "\n",
    "\n",
    "#ADAS_CN_domains.plot(kind='bar',ax=axes[0], x=\"Domain\", y=\"Per. of representation\", hue=\"Index\", stacked=True)\n",
    "\n",
    "fig.suptitle(\"Neurocognitive domains distribution\")\n",
    "plt.legend(title='Community')\n",
    "\n",
    "plt.show()\n",
    "\n",
    "#send data to build stacked barplot in R\n",
    "ADAS_CN_domains.to_csv('./Results/ADAS/Greedy_CN.csv', index=False) \n",
    "ADAS_MCI_domains.to_csv('./Results/ADAS/Greedy_MCI.csv', index=False) \n",
    "ADAS_AD_domains.to_csv('./Results/ADAS/Greedy_AD.csv', index=False) "
   ]
  },
  {
   "cell_type": "markdown",
   "id": "ccbebec8",
   "metadata": {},
   "source": [
    "#### Modularity index (Kernighan-Lin bipartition algorithm)\n",
    "\n",
    "This function uses **Kernighan-Lin bipartition algorithm** to partition a graph into two blocks.\n",
    "\n",
    "This algorithm partitions a network into two sets by iteratively swapping pairs of nodes to reduce the edge cut between the two sets. The pairs are chosen according to a modified form of Kernighan-Lin, which moves node individually, alternating between sides to keep the bisection balanced."
   ]
  },
  {
   "cell_type": "code",
   "execution_count": null,
   "id": "ac7963a8",
   "metadata": {},
   "outputs": [],
   "source": [
    "import networkx.algorithms.community as nx_comm\n",
    "\n",
    "ADAS_CN_partition = nx_comm.kernighan_lin_bisection(ADAS_CN_graph, weight='weight', seed=0)\n",
    "ADAS_MCI_partition = nx_comm.kernighan_lin_bisection(ADAS_MCI_graph, weight='weight', seed=0)\n",
    "ADAS_AD_partition = nx_comm.kernighan_lin_bisection(ADAS_AD_graph, weight='weight', seed=0)\n",
    "\n",
    "print(\"--------------------------------\")\n",
    "print(\"GREEDY MODULARITY COMMUNITIES\")\n",
    "print(\"--------------------------------\")\n",
    "print()\n",
    "print(\"Controls: \", ADAS_CN_partition)\n",
    "print()\n",
    "print(\"MCI: \", ADAS_MCI_partition)\n",
    "print()\n",
    "print(\"AD: \", ADAS_AD_partition)\n",
    "\n",
    "print()\n",
    "print(\"--------------------------------\")\n",
    "print(\"MODULARITY INDEX\")\n",
    "print(\"--------------------------------\")\n",
    "print()\n",
    "print(\"Controls: \", nx_comm.modularity(ADAS_CN_graph, ADAS_CN_partition, weight='weight'))\n",
    "print()\n",
    "print(\"MCI: \", nx_comm.modularity(ADAS_MCI_graph, ADAS_MCI_partition, weight='weight'))\n",
    "print()\n",
    "print(\"AD: \", nx_comm.modularity(ADAS_AD_graph, ADAS_AD_partition, weight='weight'))"
   ]
  },
  {
   "cell_type": "markdown",
   "id": "af011417",
   "metadata": {},
   "source": [
    "#### Draw graph displaying communities (Greedy modularity communities)"
   ]
  },
  {
   "cell_type": "code",
   "execution_count": null,
   "id": "f2b54c0b",
   "metadata": {},
   "outputs": [],
   "source": [
    "#Plot\n",
    "fig, axes = plt.subplots(1,3, figsize=(20,6))\n",
    "\n",
    "#Node labels\n",
    "test_labels = {0:\"Q1\", 1:\"Q2\", 2:\"Q3\", 3:\"Q4\", 4:\"Q5\", 5: \"Q6\", 6:\"Q7\",\n",
    "              7:\"Q8\",8:\"Q9\", 9:\"Q10\", 10:\"Q11\", 11:\"Q12\", 12:\"Q13\"}\n",
    "\n",
    "#get colors\n",
    "ADAS_CN_colors = color_communities(ADAS_CN_graph, ADAS_CN_partition)\n",
    "ADAS_MCI_colors = color_communities(ADAS_MCI_graph, ADAS_MCI_partition)\n",
    "ADAS_AD_colors = color_communities(ADAS_AD_graph, ADAS_AD_partition)\n",
    "\n",
    "#fix positions\n",
    "#pos=nx.spring_layout(ADAS_CN_graph)\n",
    "\n",
    "#get edges weights\n",
    "#edges_CN,weights_CN = zip(*nx.get_edge_attributes(ADAS_CN_graph,'weight').items())\n",
    "#edges_MCI,weights_MCI = zip(*nx.get_edge_attributes(ADAS_MCI_graph,'weight').items())\n",
    "#edges_AD,weights_AD = zip(*nx.get_edge_attributes(ADAS_AD_graph,'weight').items())\n",
    "\n",
    "weights_CN = list(nx.get_edge_attributes(ADAS_CN_graph,'weight').values())\n",
    "weights_MCI = list(nx.get_edge_attributes(ADAS_MCI_graph,'weight').values())\n",
    "weights_AD = list(nx.get_edge_attributes(ADAS_AD_graph,'weight').values())\n",
    "\n",
    "#draw graphs\n",
    "nx.draw(ax=axes[0], G=ADAS_CN_graph, pos=pos, labels=test_labels, with_labels=True, node_color=ADAS_CN_colors,\n",
    "       edge_color=weights_CN, edge_cmap=plt.cm.Greys, width=[ x*10 for x in weights_CN])\n",
    "nx.draw(ax=axes[1], G=ADAS_MCI_graph, pos=pos, labels=test_labels, with_labels=True, node_color=ADAS_MCI_colors,\n",
    "       edge_color=weights_MCI, edge_cmap=plt.cm.Greys, width=[ x*10 for x in weights_MCI])\n",
    "nx.draw(ax=axes[2], G=ADAS_AD_graph, pos=pos, labels=test_labels, with_labels=True, node_color=ADAS_AD_colors,\n",
    "       edge_color=weights_AD, edge_cmap=plt.cm.Greys, width=[ x*10 for x in weights_AD])\n",
    "\n",
    "#add title to subfigures\n",
    "axes[0].title.set_text(\"Controls\")\n",
    "axes[1].title.set_text(\"MCI\")\n",
    "axes[2].title.set_text(\"AD\")\n",
    "\n",
    "plt.show()"
   ]
  },
  {
   "cell_type": "markdown",
   "id": "48130c84",
   "metadata": {},
   "source": [
    "#### Get subgraphs metrics (Kernighan-Lin bisection algorithm)\n",
    "\n",
    "Each community detected is going to be considered as a subgraph. "
   ]
  },
  {
   "cell_type": "markdown",
   "id": "de015c85",
   "metadata": {},
   "source": [
    "Community metrics for the controls group:"
   ]
  },
  {
   "cell_type": "code",
   "execution_count": null,
   "id": "6690989a",
   "metadata": {
    "scrolled": true
   },
   "outputs": [],
   "source": [
    "import warnings\n",
    "warnings.filterwarnings('ignore')\n",
    "\n",
    "display(community_metrics(ADAS_CN_graph, ADAS_CN_partition))"
   ]
  },
  {
   "cell_type": "markdown",
   "id": "e04647f6",
   "metadata": {},
   "source": [
    "MCI group:"
   ]
  },
  {
   "cell_type": "code",
   "execution_count": null,
   "id": "4f31c07e",
   "metadata": {
    "scrolled": true
   },
   "outputs": [],
   "source": [
    "community_metrics(ADAS_MCI_graph, ADAS_MCI_partition)"
   ]
  },
  {
   "cell_type": "markdown",
   "id": "4e31349b",
   "metadata": {},
   "source": [
    "AD group: "
   ]
  },
  {
   "cell_type": "code",
   "execution_count": null,
   "id": "e2a404ef",
   "metadata": {
    "scrolled": true
   },
   "outputs": [],
   "source": [
    "community_metrics(ADAS_AD_graph, ADAS_AD_partition)"
   ]
  },
  {
   "cell_type": "markdown",
   "id": "0e03a820",
   "metadata": {},
   "source": [
    "#### Representation of the domains in each community"
   ]
  },
  {
   "cell_type": "code",
   "execution_count": null,
   "id": "0480d7b7",
   "metadata": {
    "scrolled": true
   },
   "outputs": [],
   "source": [
    "#Get data \n",
    "ADAS_CN_domains = community_metrics(ADAS_CN_graph, ADAS_CN_partition)[['Index','Language','Memory', 'Attention',\n",
    "                                                                     'Executive', 'Orientation']]\n",
    "ADAS_MCI_domains = community_metrics(ADAS_MCI_graph, ADAS_MCI_partition)[['Index','Language','Memory', 'Attention',\n",
    "                                                                     'Executive', 'Orientation']]\n",
    "ADAS_AD_domains = community_metrics(ADAS_AD_graph, ADAS_AD_partition)[['Index','Language','Memory', 'Attention',\n",
    "                                                                     'Executive', 'Orientation']]\n",
    "\n",
    "#Reshape data with melt() function\n",
    "ADAS_CN_domains = ADAS_CN_domains.melt(id_vars=['Index'], var_name=\"Domain\", value_name='Percentage')\n",
    "ADAS_MCI_domains = ADAS_MCI_domains.melt(id_vars=['Index'], var_name=\"Domain\", value_name='Percentage')\n",
    "ADAS_AD_domains = ADAS_AD_domains.melt(id_vars=['Index'], var_name=\"Domain\", value_name='Percentage')\n",
    "\n",
    "#plot \n",
    "fig, axes = plt.subplots(1,3, figsize=(20,5))\n",
    "sns.barplot(ax=axes[0], x=\"Domain\", y=\"Percentage\", hue=\"Index\", data=ADAS_CN_domains)\n",
    "sns.barplot(ax=axes[1], x=\"Domain\", y=\"Percentage\", hue=\"Index\", data=ADAS_MCI_domains)\n",
    "sns.barplot(ax=axes[2], x=\"Domain\", y=\"Percentage\", hue=\"Index\", data=ADAS_AD_domains)\n",
    "\n",
    "\n",
    "#ADAS_CN_domains.plot(kind='bar',ax=axes[0], x=\"Domain\", y=\"Per. of representation\", hue=\"Index\", stacked=True)\n",
    "\n",
    "fig.suptitle(\"Neurocognitive domains distribution\")\n",
    "plt.legend(title='Community')\n",
    "\n",
    "plt.show()\n",
    "\n",
    "#send data to build stacked barplot in R\n",
    "ADAS_CN_domains.to_csv('./Results/ADAS/Bisection_CN.csv', index=False) \n",
    "ADAS_MCI_domains.to_csv('./Results/ADAS/Bisection_MCI.csv', index=False) \n",
    "ADAS_AD_domains.to_csv('./Results/ADAS/Bisection_AD.csv', index=False) "
   ]
  },
  {
   "cell_type": "markdown",
   "id": "f3cbd97a",
   "metadata": {},
   "source": [
    "#### Modularity index (Label propagation)\n",
    "\n",
    "This function uses the **asynchronous label propagation algorithm** which is probabilistic and the found communities may vary on different executions.\n",
    "\n",
    "The algorithm proceeds as follows. After initializing each node with a unique label, the algorithm repeatedly sets the label of a node to be the label that appears most frequently among that nodes neighbors. The algorithm halts when each node has the label that appears most frequently among its neighbors. The algorithm is asynchronous because each node is updated without waiting for updates on the remaining nodes."
   ]
  },
  {
   "cell_type": "code",
   "execution_count": null,
   "id": "1e831f7f",
   "metadata": {},
   "outputs": [],
   "source": [
    "import networkx.algorithms.community as nx_comm\n",
    "\n",
    "ADAS_CN_partition = list(nx_comm.asyn_lpa_communities(ADAS_CN_graph, weight='weight', seed=0))\n",
    "ADAS_MCI_partition = list(nx_comm.asyn_lpa_communities(ADAS_MCI_graph, weight='weight', seed=0))\n",
    "ADAS_AD_partition = list(nx_comm.asyn_lpa_communities(ADAS_AD_graph, weight='weight', seed=0))\n",
    "\n",
    "print(\"--------------------------------\")\n",
    "print(\"GREEDY MODULARITY COMMUNITIES\")\n",
    "print(\"--------------------------------\")\n",
    "print()\n",
    "print(\"Controls: \", ADAS_CN_partition)\n",
    "print()\n",
    "print(\"MCI: \", ADAS_MCI_partition)\n",
    "print()\n",
    "print(\"AD: \", ADAS_AD_partition)\n",
    "\n",
    "print()\n",
    "print(\"--------------------------------\")\n",
    "print(\"MODULARITY INDEX\")\n",
    "print(\"--------------------------------\")\n",
    "print()\n",
    "print(\"Controls: \", nx_comm.modularity(ADAS_CN_graph, ADAS_CN_partition, weight='weight'))\n",
    "print()\n",
    "print(\"MCI: \", nx_comm.modularity(ADAS_MCI_graph, ADAS_MCI_partition, weight='weight'))\n",
    "print()\n",
    "print(\"AD: \", nx_comm.modularity(ADAS_AD_graph, ADAS_AD_partition, weight='weight'))"
   ]
  },
  {
   "cell_type": "markdown",
   "id": "afd617df",
   "metadata": {},
   "source": [
    "#### Draw graph displaying communities (Greedy modularity communities)"
   ]
  },
  {
   "cell_type": "code",
   "execution_count": null,
   "id": "8e5e10b3",
   "metadata": {},
   "outputs": [],
   "source": [
    "#Plot\n",
    "fig, axes = plt.subplots(1,3, figsize=(20,6))\n",
    "\n",
    "#Node labels\n",
    "test_labels = {0:\"Q1\", 1:\"Q2\", 2:\"Q3\", 3:\"Q4\", 4:\"Q5\", 5: \"Q6\", 6:\"Q7\",\n",
    "              7:\"Q8\",8:\"Q9\", 9:\"Q10\", 10:\"Q11\", 11:\"Q12\", 12:\"Q13\"}\n",
    "\n",
    "#get colors\n",
    "ADAS_CN_colors = color_communities(ADAS_CN_graph, ADAS_CN_partition)\n",
    "ADAS_MCI_colors = color_communities(ADAS_MCI_graph, ADAS_MCI_partition)\n",
    "ADAS_AD_colors = color_communities(ADAS_AD_graph, ADAS_AD_partition)\n",
    "\n",
    "#fix positions\n",
    "#pos=nx.spring_layout(ADAS_CN_graph)\n",
    "\n",
    "#get edges weights\n",
    "#edges_CN,weights_CN = zip(*nx.get_edge_attributes(ADAS_CN_graph,'weight').items())\n",
    "#edges_MCI,weights_MCI = zip(*nx.get_edge_attributes(ADAS_MCI_graph,'weight').items())\n",
    "#edges_AD,weights_AD = zip(*nx.get_edge_attributes(ADAS_AD_graph,'weight').items())\n",
    "\n",
    "weights_CN = list(nx.get_edge_attributes(ADAS_CN_graph,'weight').values())\n",
    "weights_MCI = list(nx.get_edge_attributes(ADAS_MCI_graph,'weight').values())\n",
    "weights_AD = list(nx.get_edge_attributes(ADAS_AD_graph,'weight').values())\n",
    "\n",
    "#draw graphs\n",
    "nx.draw(ax=axes[0], G=ADAS_CN_graph, pos=pos, labels=test_labels, with_labels=True, node_color=ADAS_CN_colors,\n",
    "       edge_color=weights_CN, edge_cmap=plt.cm.Greys, width=[ x*10 for x in weights_CN])\n",
    "nx.draw(ax=axes[1], G=ADAS_MCI_graph, pos=pos, labels=test_labels, with_labels=True, node_color=ADAS_MCI_colors,\n",
    "       edge_color=weights_MCI, edge_cmap=plt.cm.Greys, width=[ x*10 for x in weights_MCI])\n",
    "nx.draw(ax=axes[2], G=ADAS_AD_graph, pos=pos, labels=test_labels, with_labels=True, node_color=ADAS_AD_colors,\n",
    "       edge_color=weights_AD, edge_cmap=plt.cm.Greys, width=[ x*10 for x in weights_AD])\n",
    "\n",
    "#add title to subfigures\n",
    "axes[0].title.set_text(\"Controls\")\n",
    "axes[1].title.set_text(\"MCI\")\n",
    "axes[2].title.set_text(\"AD\")\n",
    "\n",
    "plt.show()"
   ]
  },
  {
   "cell_type": "markdown",
   "id": "883e663c",
   "metadata": {},
   "source": [
    "#### Get subgraphs metrics (Greedy modularity algorithm)\n",
    "\n",
    "Each community detected is going to be considered as a subgraph. "
   ]
  },
  {
   "cell_type": "markdown",
   "id": "cedf5368",
   "metadata": {},
   "source": [
    "Community metrics for the controls group:"
   ]
  },
  {
   "cell_type": "code",
   "execution_count": null,
   "id": "2a5186db",
   "metadata": {
    "scrolled": true
   },
   "outputs": [],
   "source": [
    "import warnings\n",
    "warnings.filterwarnings('ignore')\n",
    "\n",
    "display(community_metrics(ADAS_CN_graph, ADAS_CN_partition))"
   ]
  },
  {
   "cell_type": "markdown",
   "id": "b986ec53",
   "metadata": {},
   "source": [
    "MCI group:"
   ]
  },
  {
   "cell_type": "code",
   "execution_count": null,
   "id": "8f52dcbc",
   "metadata": {
    "scrolled": false
   },
   "outputs": [],
   "source": [
    "community_metrics(ADAS_MCI_graph, ADAS_MCI_partition)"
   ]
  },
  {
   "cell_type": "markdown",
   "id": "432ff569",
   "metadata": {},
   "source": [
    "AD group: "
   ]
  },
  {
   "cell_type": "code",
   "execution_count": null,
   "id": "a7ac3b36",
   "metadata": {
    "scrolled": false
   },
   "outputs": [],
   "source": [
    "community_metrics(ADAS_AD_graph, ADAS_AD_partition)"
   ]
  },
  {
   "cell_type": "markdown",
   "id": "5cf2434d",
   "metadata": {},
   "source": [
    "#### Representation of the domains in each community"
   ]
  },
  {
   "cell_type": "code",
   "execution_count": null,
   "id": "2f6cc941",
   "metadata": {
    "scrolled": true
   },
   "outputs": [],
   "source": [
    "#Get data \n",
    "ADAS_CN_domains = community_metrics(ADAS_CN_graph, ADAS_CN_partition)[['Index','Language','Memory', 'Attention',\n",
    "                                                                     'Executive', 'Orientation']]\n",
    "ADAS_MCI_domains = community_metrics(ADAS_MCI_graph, ADAS_MCI_partition)[['Index','Language','Memory', 'Attention',\n",
    "                                                                     'Executive', 'Orientation']]\n",
    "ADAS_AD_domains = community_metrics(ADAS_AD_graph, ADAS_AD_partition)[['Index','Language','Memory', 'Attention',\n",
    "                                                                     'Executive', 'Orientation']]\n",
    "\n",
    "#Reshape data with melt() function\n",
    "ADAS_CN_domains = ADAS_CN_domains.melt(id_vars=['Index'], var_name=\"Domain\", value_name='Percentage')\n",
    "ADAS_MCI_domains = ADAS_MCI_domains.melt(id_vars=['Index'], var_name=\"Domain\", value_name='Percentage')\n",
    "ADAS_AD_domains = ADAS_AD_domains.melt(id_vars=['Index'], var_name=\"Domain\", value_name='Percentage')\n",
    "\n",
    "#plot \n",
    "fig, axes = plt.subplots(1,3, figsize=(20,5))\n",
    "sns.barplot(ax=axes[0], x=\"Domain\", y=\"Percentage\", hue=\"Index\", data=ADAS_CN_domains)\n",
    "sns.barplot(ax=axes[1], x=\"Domain\", y=\"Percentage\", hue=\"Index\", data=ADAS_MCI_domains)\n",
    "sns.barplot(ax=axes[2], x=\"Domain\", y=\"Percentage\", hue=\"Index\", data=ADAS_AD_domains)\n",
    "\n",
    "\n",
    "#ADAS_CN_domains.plot(kind='bar',ax=axes[0], x=\"Domain\", y=\"Per. of representation\", hue=\"Index\", stacked=True)\n",
    "\n",
    "fig.suptitle(\"Neurocognitive domains distribution\")\n",
    "plt.legend(title='Community')\n",
    "\n",
    "plt.show()\n",
    "\n",
    "#send data to build stacked barplot in R\n",
    "ADAS_CN_domains.to_csv('./Results/ADAS/Asyn_CN.csv', index=False) \n",
    "ADAS_MCI_domains.to_csv('./Results/ADAS/Asyn_MCI.csv', index=False) \n",
    "ADAS_AD_domains.to_csv('./Results/ADAS/Asyn_AD.csv', index=False) "
   ]
  },
  {
   "cell_type": "markdown",
   "id": "901f343e",
   "metadata": {},
   "source": [
    "### MMSE\n",
    "\n",
    "#### Divide data by diagnostic group"
   ]
  },
  {
   "cell_type": "code",
   "execution_count": null,
   "id": "9edf3735",
   "metadata": {},
   "outputs": [],
   "source": [
    "#Get indexes of subjects belonging to each group\n",
    "MMSE_indexes = {} #Create empty dictionary\n",
    "dx_groups = [\"CN\",\"MCI\", \"AD\"] #diagnostic groups list\n",
    "\n",
    "Y_MMSE = Y_MMSE.replace({'EMCI':'MCI', 'LMCI':'MCI',\"SMC\":\"CN\"})\n",
    "\n",
    "for dx in dx_groups:\n",
    "    MMSE_indexes[dx] = Y_MMSE.index[Y_MMSE['DX_bl'] == dx].tolist()\n",
    "    \n",
    "#Filter results table by diagnostic group\n",
    "X_MMSE_CN = X_MMSE.iloc[MMSE_indexes[\"CN\"]]\n",
    "X_MMSE_MCI = X_MMSE.iloc[MMSE_indexes[\"MCI\"]]\n",
    "X_MMSE_AD = X_MMSE.iloc[MMSE_indexes[\"AD\"]]\n",
    "\n",
    "print(\"Number of instances CN: \", X_MMSE_CN.shape[0])\n",
    "print(\"Number of instances MCI: \", X_MMSE_MCI.shape[0])\n",
    "print(\"Number of instances AD: \", X_MMSE_AD.shape[0])"
   ]
  },
  {
   "cell_type": "markdown",
   "id": "d2160cb3",
   "metadata": {},
   "source": [
    "#### Plot z-scores by cognitive domain\n",
    "\n",
    "1. Compute averages of each test\n",
    "2. Group by NC domain\n",
    "3. Compute the average of each domain"
   ]
  },
  {
   "cell_type": "code",
   "execution_count": null,
   "id": "9ce3938f",
   "metadata": {},
   "outputs": [],
   "source": [
    "metadata_path = \"./Tests/MMSE_Metadata.csv\"\n",
    "#Compute zscores means for each cognitive domain by diagnostic group\n",
    "MMSE_means_CN = zscores_means(X_MMSE_CN, \"CN\", metadata_path)\n",
    "MMSE_means_MCI = zscores_means(X_MMSE_MCI, \"MCI\", metadata_path)\n",
    "MMSE_means_AD = zscores_means(X_MMSE_AD, \"AD\", metadata_path)\n",
    "\n",
    "#Concanetate all dataframes\n",
    "MMSE_means_df = pd.concat([MMSE_means_CN, MMSE_means_MCI, MMSE_means_AD])\n",
    "MMSE_means_df.index = range(len(MMSE_means_df))\n",
    "\n",
    "#plot dataframe\n",
    "sns.lineplot(data=MMSE_means_df, x='Cognitive Domain', y='Mean', hue='Diagnostic')\n",
    "plt.title(\"Cognitive phenotype groups mean scores (MMSE)\")\n",
    "plt.ylabel(\"Mean z-scores\")\n",
    "plt.legend(title=\"Diagnostic group\")\n",
    "plt.show()"
   ]
  },
  {
   "cell_type": "markdown",
   "id": "327d6def",
   "metadata": {},
   "source": [
    "#### Compute adjacency matrixes"
   ]
  },
  {
   "cell_type": "code",
   "execution_count": null,
   "id": "4272dcc8",
   "metadata": {},
   "outputs": [],
   "source": [
    "MMSE_CN_mx = par_corr(X_MMSE_CN)\n",
    "MMSE_MCI_mx = par_corr(X_MMSE_MCI)\n",
    "MMSE_AD_mx = par_corr(X_MMSE_AD)"
   ]
  },
  {
   "cell_type": "markdown",
   "id": "707b571b",
   "metadata": {},
   "source": [
    "#### Plot adjacency matrixes"
   ]
  },
  {
   "cell_type": "code",
   "execution_count": null,
   "id": "fbd2e004",
   "metadata": {},
   "outputs": [],
   "source": [
    "fig, axes = plt.subplots(1,3, figsize=(20,6))\n",
    "\n",
    "\n",
    "fig.suptitle('MMSE Adjacency matrixes')\n",
    "\n",
    "sns.heatmap(ax=axes[0],data=MMSE_CN_mx, annot=False, cmap=\"Spectral\", vmin=-1, vmax=1)\n",
    "sns.heatmap(ax=axes[1],data=MMSE_MCI_mx, annot=False, cmap=\"Spectral\", vmin=-1, vmax=1)\n",
    "sns.heatmap(ax=axes[2],data=MMSE_AD_mx, annot=False, cmap=\"Spectral\", vmin=-1, vmax=1)\n",
    "\n",
    "#add title to subfigures\n",
    "axes[0].title.set_text(\"Controls\")\n",
    "axes[1].title.set_text(\"MCI\")\n",
    "axes[2].title.set_text(\"AD\")\n",
    "\n",
    "plt.show()"
   ]
  },
  {
   "cell_type": "markdown",
   "id": "177ba6eb",
   "metadata": {},
   "source": [
    "The 4 variables that are causing problems in the controls are: `MMYEAR`, `MMSTATE`, `MMBALL` and `MMWATCH`. All of them are binary variables, but it is the same for most of the MMSE features. \n",
    "\n",
    "- `MMYEAR`: patients are asked to say which is the current year. \n",
    "- `MMSTATE`: patients are asked to say which is the current state. \n",
    "- `MMBALL`: the patients have to name this object (and later repeat it: `MMBALLDL`) \n",
    "- `MMWATCH`: patient has to name this object.\n",
    "\n",
    "The problem with these 4 variables seem to be that all control subjects are able to correctly pass the tests, so all of them have received 1 point and, therefore, at normalizing it using z-scores all values are 0, which is giving problems when computing partial correlations due to \"division by 0\". "
   ]
  },
  {
   "cell_type": "markdown",
   "id": "74e84972",
   "metadata": {},
   "source": [
    "#### Compute graph"
   ]
  },
  {
   "cell_type": "code",
   "execution_count": null,
   "id": "3cee5bbc",
   "metadata": {},
   "outputs": [],
   "source": [
    "#Remove diagonal elements and negative correlations from the matrix\n",
    "\n",
    "for i in range(MMSE_MCI_mx.shape[1]):\n",
    "    colname = MMSE_MCI_mx.columns[i]\n",
    "    #MMSE_CN_mx[colname] = np.where((MMSE_CN_mx[colname]< 0) | (MMSE_CN_mx[colname]==1.0) | (MMSE_CN_mx[colname].isnull()),0, MMSE_CN_mx[colname]) \n",
    "    #MMSE_MCI_mx[colname] = np.where((MMSE_MCI_mx[colname]< 0) | (MMSE_MCI_mx[colname]==1.0) | (MMSE_MCI_mx[colname].isnull()),0, MMSE_MCI_mx[colname]) \n",
    "    #MMSE_AD_mx[colname] = np.where((MMSE_AD_mx[colname]< 0) | (MMSE_AD_mx[colname]==1.0) | (MMSE_AD_mx[colname].isnull()),0, MMSE_AD_mx[colname]) \n",
    "    MMSE_CN_mx[colname] = np.where((MMSE_CN_mx[colname]==1.0) | (MMSE_CN_mx[colname].isnull()),0, MMSE_CN_mx[colname]) \n",
    "    MMSE_MCI_mx[colname] = np.where((MMSE_MCI_mx[colname]==1.0) | (MMSE_MCI_mx[colname].isnull()),0, MMSE_MCI_mx[colname]) \n",
    "    MMSE_AD_mx[colname] = np.where((MMSE_AD_mx[colname]==1.0) | (MMSE_AD_mx[colname].isnull()),0, MMSE_AD_mx[colname]) \n",
    "    #Convert negative correlations in positive ones\n",
    "    MMSE_CN_mx[colname] = np.where((MMSE_CN_mx[colname]<0),-1*MMSE_CN_mx[colname], MMSE_CN_mx[colname]) \n",
    "    MMSE_MCI_mx[colname] = np.where((MMSE_MCI_mx[colname]<0),-1*MMSE_MCI_mx[colname], MMSE_MCI_mx[colname]) \n",
    "    MMSE_AD_mx[colname] = np.where((MMSE_AD_mx[colname]<0),-1*MMSE_AD_mx[colname], MMSE_AD_mx[colname]) "
   ]
  },
  {
   "cell_type": "code",
   "execution_count": null,
   "id": "51f3242a",
   "metadata": {},
   "outputs": [],
   "source": [
    "import networkx as nx\n",
    "\n",
    "#convert adjacency matrix into graph\n",
    "MMSE_CN_graph = nx.from_numpy_array(MMSE_CN_mx.to_numpy())\n",
    "MMSE_MCI_graph = nx.from_numpy_array(MMSE_MCI_mx.to_numpy())\n",
    "MMSE_AD_graph = nx.from_numpy_array(MMSE_AD_mx.to_numpy())"
   ]
  },
  {
   "cell_type": "code",
   "execution_count": null,
   "id": "0bfb0108",
   "metadata": {},
   "outputs": [],
   "source": [
    "#count nodes and edges\n",
    "print(\"CN-------------------------\")\n",
    "print(\"- Number of nodes: \", MMSE_CN_graph.number_of_nodes())\n",
    "print(\"- Number of edges: \", MMSE_CN_graph.number_of_edges())\n",
    "print()\n",
    "print(\"MCI-------------------------\")\n",
    "print(\"- Number of nodes: \", MMSE_MCI_graph.number_of_nodes())\n",
    "print(\"- Number of edges: \", MMSE_MCI_graph.number_of_edges())\n",
    "print()\n",
    "print(\"AD-------------------------\")\n",
    "print(\"- Number of nodes: \", MMSE_AD_graph.number_of_nodes())\n",
    "print(\"- Number of edges: \", MMSE_AD_graph.number_of_edges())"
   ]
  },
  {
   "cell_type": "markdown",
   "id": "a1132304",
   "metadata": {},
   "source": [
    "#### Add node attributes\n",
    "\n",
    "As the nodes represent different tests they are going to have the following attributes:\n",
    "\n",
    "- ADNI column: name of the test in the ADNI database\n",
    "- Test description\n",
    "- Cognitive domain"
   ]
  },
  {
   "cell_type": "code",
   "execution_count": null,
   "id": "e0239184",
   "metadata": {},
   "outputs": [],
   "source": [
    "#Import node metadata\n",
    "MMSE_metadata = pd.read_csv(\"./Tests/MMSE_Metadata.csv\", sep=\";\", \n",
    "                            usecols = ['Node', 'ADNI column', 'Test', 'Cognitive Domain'])\n",
    "\n",
    "graphs = [MMSE_CN_graph, MMSE_MCI_graph, MMSE_AD_graph]\n",
    "\n",
    "for graph in graphs:\n",
    "    #ADNI column\n",
    "    nx.set_node_attributes(graph, dict(zip(MMSE_metadata.Node, MMSE_metadata['ADNI column'])), name=\"ADNIColumn\")\n",
    "    #Test\n",
    "    nx.set_node_attributes(graph, dict(zip(MMSE_metadata.Node, MMSE_metadata['Test'])), name=\"Test\")\n",
    "    #Cognitive domain\n",
    "    nx.set_node_attributes(graph, dict(zip(MMSE_metadata.Node, MMSE_metadata['Cognitive Domain'])), name=\"Domain\")"
   ]
  },
  {
   "cell_type": "markdown",
   "id": "50deeacf",
   "metadata": {},
   "source": [
    "#### Draw graph"
   ]
  },
  {
   "cell_type": "code",
   "execution_count": null,
   "id": "53cfda5f",
   "metadata": {},
   "outputs": [],
   "source": [
    "#Labels\n",
    "\n",
    "test_labels = {} #create empty dictionary\n",
    "\n",
    "for i in range(MMSE_CN_mx.shape[1]):\n",
    "    test_labels[i] = MMSE_CN_mx.columns[i]\n",
    "    \n",
    "\n",
    "#Plot\n",
    "fig, axes = plt.subplots(1,3, figsize=(20,6))\n",
    "\n",
    "#fix position\n",
    "pos=nx.spring_layout(MMSE_MCI_graph)\n",
    "\n",
    "#get edges weights\n",
    "#edges_CN,weights_CN = zip(*nx.get_edge_attributes(MMSE_CN_graph,'weight').items())\n",
    "#edges_MCI,weights_MCI = zip(*nx.get_edge_attributes(MMSE_MCI_graph,'weight').items())\n",
    "#edges_AD,weights_AD = zip(*nx.get_edge_attributes(MMSE_AD_graph,'weight').items())\n",
    "\n",
    "weights_CN = list(nx.get_edge_attributes(MMSE_CN_graph,'weight').values())\n",
    "weights_MCI = list(nx.get_edge_attributes(MMSE_MCI_graph,'weight').values())\n",
    "weights_AD = list(nx.get_edge_attributes(MMSE_AD_graph,'weight').values())\n",
    "\n",
    "#color by nc domain\n",
    "ATTRIBUTE_NAME = 'Domain'\n",
    "#convert domains into numeric keys\n",
    "mapping = {'Concentration':0, 'Language':1, 'Memory':2, 'Orientation':3, 'Visuospatial ':4} \n",
    "\n",
    "colors=[]\n",
    "for node in list(MMSE_CN_graph.nodes()): #iterate each node\n",
    "    domain = MMSE_CN_graph.nodes[node][ATTRIBUTE_NAME]\n",
    "    colors.append(mapping[domain])\n",
    "\n",
    "#draw graphs\n",
    "nx.draw(ax=axes[0], G=MMSE_CN_graph, pos=pos, labels=test_labels, with_labels=True, node_color=colors,\n",
    "       edge_color=weights_CN, edge_cmap=plt.cm.Greys, width=[ x*10 for x in weights_CN])\n",
    "nx.draw(ax=axes[1], G=MMSE_MCI_graph, pos=pos, labels=test_labels, with_labels=True, node_color=colors,\n",
    "       edge_color=weights_MCI, edge_cmap=plt.cm.Greys, width=[ x*10 for x in weights_MCI])\n",
    "nx.draw(ax=axes[2], G=MMSE_AD_graph, pos=pos, labels=test_labels, with_labels=True, node_color=colors,\n",
    "       edge_color=weights_AD, edge_cmap=plt.cm.Greys, width=[ x*10 for x in weights_AD])\n",
    "\n",
    "#add title to subfigures\n",
    "axes[0].title.set_text(\"Controls\")\n",
    "axes[1].title.set_text(\"MCI\")\n",
    "axes[2].title.set_text(\"AD\")\n",
    "\n",
    "plt.savefig(\"./Results/Figures/Graphs/MMSE.svg\", format=\"svg\")\n",
    "\n",
    "plt.show()"
   ]
  },
  {
   "cell_type": "markdown",
   "id": "87dc3f99",
   "metadata": {},
   "source": [
    "#### Edges weights"
   ]
  },
  {
   "cell_type": "code",
   "execution_count": null,
   "id": "ee5aa951",
   "metadata": {},
   "outputs": [],
   "source": [
    "#Create dataframe with weights\n",
    "weights_df_CN = pd.DataFrame(weights_CN, columns=[\"Weight\"])\n",
    "weights_df_CN['Diagnostic'] = \"CN\"\n",
    "weights_df_MCI = pd.DataFrame(weights_MCI, columns=[\"Weight\"])\n",
    "weights_df_MCI['Diagnostic'] = \"MCI\"\n",
    "weights_df_AD = pd.DataFrame(weights_AD, columns=[\"Weight\"])\n",
    "weights_df_AD['Diagnostic'] = \"AD\"\n",
    "\n",
    "#merge all\n",
    "weights_df = pd.concat([weights_df_CN, weights_df_MCI, weights_df_AD], ignore_index=True)\n",
    "\n",
    "#plot histogram\n",
    "sns.histplot(data=weights_df, x=\"Weight\", hue=\"Diagnostic\")\n",
    "plt.title(\"Edge weights distribution\")\n",
    "plt.show()"
   ]
  },
  {
   "cell_type": "markdown",
   "id": "0c958949",
   "metadata": {},
   "source": [
    "#### Node centrality"
   ]
  },
  {
   "cell_type": "code",
   "execution_count": null,
   "id": "3485cb45",
   "metadata": {},
   "outputs": [],
   "source": [
    "#Node degree\n",
    "\n",
    "print(\"---------------------\")\n",
    "print(\"DEGREE CENTRALITY\")\n",
    "print(\"---------------------\")\n",
    "print()\n",
    "print(\"Controls: \", nx.degree_centrality(MMSE_CN_graph))\n",
    "print()\n",
    "print(\"MCI: \", nx.degree_centrality(MMSE_MCI_graph))\n",
    "print()\n",
    "print(\"AD: \", nx.degree_centrality(MMSE_AD_graph))"
   ]
  },
  {
   "cell_type": "markdown",
   "id": "f0cbf071",
   "metadata": {},
   "source": [
    "Based on the **node centrality**, there is only one hub for each group: node 18 in controls, 20 in MCI and 1 in AD. "
   ]
  },
  {
   "cell_type": "markdown",
   "id": "df758d0a",
   "metadata": {},
   "source": [
    "#### Other centrality measures"
   ]
  },
  {
   "cell_type": "code",
   "execution_count": null,
   "id": "c6a46fa9",
   "metadata": {
    "scrolled": true
   },
   "outputs": [],
   "source": [
    "print(\"Controls----------------------------------\")\n",
    "display(centrality(MMSE_CN_graph, MMSE_columns))\n",
    "print(\"MCI----------------------------------\")\n",
    "display(centrality(MMSE_MCI_graph, MMSE_columns))\n",
    "print(\"AD----------------------------------\")\n",
    "display(centrality(MMSE_AD_graph, MMSE_columns))"
   ]
  },
  {
   "cell_type": "code",
   "execution_count": null,
   "id": "4db84b93",
   "metadata": {},
   "outputs": [],
   "source": [
    "plot_centrality(MMSE_CN_graph, MMSE_MCI_graph, MMSE_AD_graph, MMSE_columns, \"Degree_Centrality\")"
   ]
  },
  {
   "cell_type": "markdown",
   "id": "210d1782",
   "metadata": {},
   "source": [
    "#### Relation between node degree and betweenness centrality"
   ]
  },
  {
   "cell_type": "code",
   "execution_count": null,
   "id": "3a977f4f",
   "metadata": {},
   "outputs": [],
   "source": [
    "#Get centrality metrics table\n",
    "MMSE_CN_centrality = centrality(MMSE_CN_graph, MMSE_columns)\n",
    "MMSE_MCI_centrality = centrality(MMSE_MCI_graph, MMSE_columns)\n",
    "MMSE_AD_centrality = centrality(MMSE_AD_graph, MMSE_columns)\n",
    "\n",
    "#Plot\n",
    "fig, axes = plt.subplots(1,3, figsize=(20,6))\n",
    "\n",
    "\n",
    "sns.scatterplot(ax=axes[0],data=MMSE_CN_centrality, x=\"Degree_Centrality\", y=\"Betweenness_Centrality\", s=50)\n",
    "sns.scatterplot(ax=axes[1],data=MMSE_MCI_centrality, x=\"Degree_Centrality\", y=\"Betweenness_Centrality\", s=50)\n",
    "sns.scatterplot(ax=axes[2],data=MMSE_AD_centrality, x=\"Degree_Centrality\", y=\"Betweenness_Centrality\", s=50)\n",
    "\n",
    "#labels\n",
    "axes[0].set_ylabel(\"Betweenness Centrality\")\n",
    "axes[1].set_ylabel(\"Betweenness Centrality\")\n",
    "axes[2].set_ylabel(\"Betweenness Centrality\")\n",
    "axes[0].set_xlabel(\"Degree Centrality\")\n",
    "axes[1].set_xlabel(\"Degree Centrality\")\n",
    "axes[2].set_xlabel(\"Degree Centrality\")\n",
    "\n",
    "#add title\n",
    "fig.suptitle('Node degree vs betweenness centrality')\n",
    "\n",
    "#add title to subfigures\n",
    "axes[0].title.set_text(\"Controls\")\n",
    "axes[1].title.set_text(\"MCI\")\n",
    "axes[2].title.set_text(\"AD\")\n",
    "\n",
    "\n",
    "plt.show()"
   ]
  },
  {
   "cell_type": "markdown",
   "id": "c1b8caf3",
   "metadata": {},
   "source": [
    "#### Average clustering coefficient"
   ]
  },
  {
   "cell_type": "code",
   "execution_count": null,
   "id": "ba994884",
   "metadata": {},
   "outputs": [],
   "source": [
    "print(\"--------------------------------\")\n",
    "print(\"AVERAGE CLUSTERING COEFFICIENT\")\n",
    "print(\"--------------------------------\")\n",
    "print()\n",
    "print(\"Controls: \", nx.average_clustering(MMSE_CN_graph,weight='weight'))\n",
    "print()\n",
    "print(\"MCI: \", nx.average_clustering(MMSE_MCI_graph,weight='weight'))\n",
    "print()\n",
    "print(\"AD: \", nx.average_clustering(MMSE_AD_graph,weight='weight'))"
   ]
  },
  {
   "cell_type": "markdown",
   "id": "d2b34c79",
   "metadata": {},
   "source": [
    "#### Global efficiency"
   ]
  },
  {
   "cell_type": "code",
   "execution_count": null,
   "id": "3d2084e0",
   "metadata": {},
   "outputs": [],
   "source": [
    "print(\"--------------------------------\")\n",
    "print(\"AVERAGE GLOBAL EFFICIENCY\")\n",
    "print(\"--------------------------------\")\n",
    "print()\n",
    "print(\"Controls: \", nx.global_efficiency(MMSE_CN_graph))\n",
    "print()\n",
    "print(\"MCI: \", nx.global_efficiency(MMSE_MCI_graph))\n",
    "print()\n",
    "print(\"AD: \", nx.global_efficiency(MMSE_AD_graph))"
   ]
  },
  {
   "cell_type": "markdown",
   "id": "b53429a5",
   "metadata": {},
   "source": [
    "#### Global metrics summary"
   ]
  },
  {
   "cell_type": "code",
   "execution_count": null,
   "id": "18b862ce",
   "metadata": {
    "scrolled": true
   },
   "outputs": [],
   "source": [
    "MMSE_gm = global_metrics(MMSE_CN_graph, MMSE_MCI_graph, MMSE_AD_graph)\n",
    "MMSE_gm.reset_index(inplace=True)\n",
    "MMSE_gm"
   ]
  },
  {
   "cell_type": "code",
   "execution_count": null,
   "id": "510bcc5d",
   "metadata": {},
   "outputs": [],
   "source": [
    "fig, ax = plt.subplots(2, 3, figsize=(22,13))\n",
    "\n",
    "sns.barplot(ax=ax[0,0], x=\"index\", y=\"NEdges\", data=MMSE_gm) \n",
    "sns.barplot(ax=ax[0,1], x=\"index\", y=\"Diameter\", data=MMSE_gm)\n",
    "sns.barplot(ax=ax[0,2], x=\"index\", y=\"Density\", data=MMSE_gm) \n",
    "sns.barplot(ax=ax[1,0], x=\"index\", y=\"AvDegree\", data=MMSE_gm) \n",
    "sns.barplot(ax=ax[1,1], x=\"index\", y=\"AvCC\", data=MMSE_gm)\n",
    "sns.barplot(ax=ax[1,2], x=\"index\", y=\"AvGE\",  data=MMSE_gm)\n",
    "\n",
    "fig.suptitle(\"Global metrics (MMSE)\", fontsize=20)\n",
    "\n",
    "rows, cols = 2, 3\n",
    "for i in range(rows):\n",
    "    for j in range(cols):\n",
    "        ax[i, j].set_xlabel('Diagnostic group')\n",
    "\n",
    "plt.show()"
   ]
  },
  {
   "cell_type": "markdown",
   "id": "66b32a4a",
   "metadata": {},
   "source": [
    "#### Modularity index (Louvain Algorithm)"
   ]
  },
  {
   "cell_type": "code",
   "execution_count": null,
   "id": "7e12820b",
   "metadata": {},
   "outputs": [],
   "source": [
    "import networkx.algorithms.community as nx_comm\n",
    "\n",
    "MMSE_CN_partition = nx_comm.louvain_communities(MMSE_CN_graph, weight='weight',seed=0)\n",
    "MMSE_MCI_partition = nx_comm.louvain_communities(MMSE_MCI_graph, weight='weight',seed=0)\n",
    "MMSE_AD_partition = nx_comm.louvain_communities(MMSE_AD_graph, weight='weight',seed=0)\n",
    "\n",
    "print(\"--------------------------------\")\n",
    "print(\"LOUVAIN COMMUNITIES\")\n",
    "print(\"--------------------------------\")\n",
    "print()\n",
    "print(\"Controls: \", MMSE_CN_partition)\n",
    "print()\n",
    "print(\"MCI: \", MMSE_MCI_partition)\n",
    "print()\n",
    "print(\"AD: \", MMSE_AD_partition)\n",
    "\n",
    "print()\n",
    "print(\"--------------------------------\")\n",
    "print(\"MODULARITY INDEX\")\n",
    "print(\"--------------------------------\")\n",
    "print()\n",
    "print(\"Controls: \", nx_comm.modularity(MMSE_CN_graph, MMSE_CN_partition, weight='weight'))\n",
    "print()\n",
    "print(\"MCI: \", nx_comm.modularity(MMSE_MCI_graph, MMSE_MCI_partition, weight='weight'))\n",
    "print()\n",
    "print(\"AD: \", nx_comm.modularity(MMSE_AD_graph, MMSE_AD_partition, weight='weight'))"
   ]
  },
  {
   "cell_type": "markdown",
   "id": "b48e70e7",
   "metadata": {},
   "source": [
    "#### Draw graph (color by communities)"
   ]
  },
  {
   "cell_type": "code",
   "execution_count": null,
   "id": "89148bed",
   "metadata": {},
   "outputs": [],
   "source": [
    "#Plot\n",
    "fig, axes = plt.subplots(1,3, figsize=(20,6))\n",
    "\n",
    "#Node Labels\n",
    "\n",
    "test_labels = {} #create empty dictionary\n",
    "\n",
    "for i in range(MMSE_CN_mx.shape[1]):\n",
    "    test_labels[i] = MMSE_CN_mx.columns[i]\n",
    "\n",
    "#get colors\n",
    "MMSE_CN_colors = color_communities(MMSE_CN_graph, MMSE_CN_partition)\n",
    "MMSE_MCI_colors = color_communities(MMSE_MCI_graph, MMSE_MCI_partition)\n",
    "MMSE_AD_colors = color_communities(MMSE_AD_graph, MMSE_AD_partition)\n",
    "\n",
    "#Plot\n",
    "\n",
    "#fix position\n",
    "#pos=nx.spring_layout(MMSE_MCI_graph)\n",
    "\n",
    "#get edges weights\n",
    "#edges_CN,weights_CN = zip(*nx.get_edge_attributes(MMSE_CN_graph,'weight').items())\n",
    "#edges_MCI,weights_MCI = zip(*nx.get_edge_attributes(MMSE_MCI_graph,'weight').items())\n",
    "#edges_AD,weights_AD = zip(*nx.get_edge_attributes(MMSE_AD_graph,'weight').items())\n",
    "\n",
    "weights_CN = list(nx.get_edge_attributes(MMSE_CN_graph,'weight').values())\n",
    "weights_MCI = list(nx.get_edge_attributes(MMSE_MCI_graph,'weight').values())\n",
    "weights_AD = list(nx.get_edge_attributes(MMSE_AD_graph,'weight').values())\n",
    "\n",
    "#draw graphs\n",
    "nx.draw(ax=axes[0], G=MMSE_CN_graph, pos=pos, labels=test_labels, with_labels=True, node_color=MMSE_CN_colors,\n",
    "       edge_color=weights_CN, edge_cmap=plt.cm.Greys, width=[ x*10 for x in weights_CN])\n",
    "nx.draw(ax=axes[1], G=MMSE_MCI_graph, pos=pos,  labels=test_labels, with_labels=True, node_color=MMSE_MCI_colors,\n",
    "       edge_color=weights_MCI, edge_cmap=plt.cm.Greys, width=[ x*10 for x in weights_MCI])\n",
    "nx.draw(ax=axes[2], G=MMSE_AD_graph, pos=pos, labels=test_labels, with_labels=True, node_color=MMSE_AD_colors,\n",
    "       edge_color=weights_AD, edge_cmap=plt.cm.Greys, width=[ x*10 for x in weights_AD])\n",
    "\n",
    "#add title to subfigures\n",
    "axes[0].title.set_text(\"Controls\")\n",
    "axes[1].title.set_text(\"MCI\")\n",
    "axes[2].title.set_text(\"AD\")\n",
    "\n",
    "plt.show()"
   ]
  },
  {
   "cell_type": "markdown",
   "id": "a4b1ab67",
   "metadata": {},
   "source": [
    "Community metrics for the controls group:"
   ]
  },
  {
   "cell_type": "code",
   "execution_count": null,
   "id": "256b5145",
   "metadata": {
    "scrolled": true
   },
   "outputs": [],
   "source": [
    "import warnings\n",
    "warnings.filterwarnings('ignore')\n",
    "\n",
    "display(community_metrics(MMSE_CN_graph, MMSE_CN_partition))"
   ]
  },
  {
   "cell_type": "markdown",
   "id": "615c2cd5",
   "metadata": {},
   "source": [
    "MCI group:"
   ]
  },
  {
   "cell_type": "code",
   "execution_count": null,
   "id": "73231c09",
   "metadata": {},
   "outputs": [],
   "source": [
    "community_metrics(MMSE_MCI_graph, MMSE_MCI_partition)"
   ]
  },
  {
   "cell_type": "markdown",
   "id": "0295986f",
   "metadata": {},
   "source": [
    "AD group: "
   ]
  },
  {
   "cell_type": "code",
   "execution_count": null,
   "id": "fed33b30",
   "metadata": {
    "scrolled": true
   },
   "outputs": [],
   "source": [
    "community_metrics(MMSE_AD_graph, MMSE_AD_partition)"
   ]
  },
  {
   "cell_type": "markdown",
   "id": "e7e8f11c",
   "metadata": {},
   "source": [
    "#### Representation of the domains in each community"
   ]
  },
  {
   "cell_type": "code",
   "execution_count": null,
   "id": "0ebf9b8c",
   "metadata": {},
   "outputs": [],
   "source": [
    "#Get data \n",
    "MMSE_CN_domains = community_metrics(MMSE_CN_graph, MMSE_CN_partition)[['Index','Language','Memory', 'Concentration',\n",
    "                                                                      'Orientation', 'Visuospatial ']]\n",
    "MMSE_MCI_domains = community_metrics(MMSE_MCI_graph, MMSE_MCI_partition)[['Index','Language','Memory', 'Concentration',\n",
    "                                                                      'Orientation', 'Visuospatial ']]\n",
    "MMSE_AD_domains = community_metrics(MMSE_AD_graph, MMSE_AD_partition)[['Index','Language','Memory', 'Concentration',\n",
    "                                                                     'Orientation', 'Visuospatial ']]\n",
    "\n",
    "#Reshape data with melt() function\n",
    "MMSE_CN_domains = MMSE_CN_domains.melt(id_vars=['Index'], var_name=\"Domain\", value_name='Percentage')\n",
    "MMSE_MCI_domains = MMSE_MCI_domains.melt(id_vars=['Index'], var_name=\"Domain\", value_name='Percentage')\n",
    "MMSE_AD_domains = MMSE_AD_domains.melt(id_vars=['Index'], var_name=\"Domain\", value_name='Percentage')\n",
    "\n",
    "#plot \n",
    "fig, axes = plt.subplots(1,3, figsize=(20,5))\n",
    "sns.barplot(ax=axes[0], x=\"Domain\", y=\"Percentage\", hue=\"Index\", data=MMSE_CN_domains)\n",
    "sns.barplot(ax=axes[1], x=\"Domain\", y=\"Percentage\", hue=\"Index\", data=MMSE_MCI_domains)\n",
    "sns.barplot(ax=axes[2], x=\"Domain\", y=\"Percentage\", hue=\"Index\", data=MMSE_AD_domains)\n",
    "\n",
    "\n",
    "#MMSE_CN_domains.plot(kind='bar',ax=axes[0], x=\"Domain\", y=\"Per. of representation\", hue=\"Index\", stacked=True)\n",
    "\n",
    "fig.suptitle(\"Neurocognitive domains distribution\")\n",
    "plt.legend(title='Community')\n",
    "\n",
    "plt.show()\n",
    "\n",
    "#send data to build stacked barplot in R\n",
    "MMSE_CN_domains.to_csv('./Results/MMSE/Louvain_CN.csv', index=False) \n",
    "MMSE_MCI_domains.to_csv('./Results/MMSE/Louvain_MCI.csv', index=False) \n",
    "MMSE_AD_domains.to_csv('./Results/MMSE/Louvain_AD.csv', index=False) "
   ]
  },
  {
   "cell_type": "markdown",
   "id": "4edf0514",
   "metadata": {},
   "source": [
    "#### Modularity index (Greedy modularity algorithm)\n",
    "\n",
    "This function uses **Clauset-Newman-Moore greedy modularity maximization** to find the community partition with the largest modularity.\n",
    "\n",
    "Greedy modularity maximization begins with each node in its own community and repeatedly joins the pair of communities that lead to the largest modularity until no further increase in modularity is possible (a maximum)."
   ]
  },
  {
   "cell_type": "code",
   "execution_count": null,
   "id": "c9294d60",
   "metadata": {},
   "outputs": [],
   "source": [
    "import networkx.algorithms.community as nx_comm\n",
    "\n",
    "MMSE_CN_partition = nx_comm.greedy_modularity_communities(MMSE_CN_graph, weight='weight')\n",
    "MMSE_MCI_partition = nx_comm.greedy_modularity_communities(MMSE_MCI_graph, weight='weight')\n",
    "MMSE_AD_partition = nx_comm.greedy_modularity_communities(MMSE_AD_graph, weight='weight')\n",
    "\n",
    "print(\"--------------------------------\")\n",
    "print(\"GREEDY MODULARITY COMMUNITIES\")\n",
    "print(\"--------------------------------\")\n",
    "print()\n",
    "print(\"Controls: \", MMSE_CN_partition)\n",
    "print()\n",
    "print(\"MCI: \", MMSE_MCI_partition)\n",
    "print()\n",
    "print(\"AD: \", MMSE_AD_partition)\n",
    "\n",
    "print()\n",
    "print(\"--------------------------------\")\n",
    "print(\"MODULARITY INDEX\")\n",
    "print(\"--------------------------------\")\n",
    "print()\n",
    "print(\"Controls: \", nx_comm.modularity(MMSE_CN_graph, MMSE_CN_partition, weight='weight'))\n",
    "print()\n",
    "print(\"MCI: \", nx_comm.modularity(MMSE_MCI_graph, MMSE_MCI_partition, weight='weight'))\n",
    "print()\n",
    "print(\"AD: \", nx_comm.modularity(MMSE_AD_graph, MMSE_AD_partition, weight='weight'))"
   ]
  },
  {
   "cell_type": "markdown",
   "id": "c0ca4cdf",
   "metadata": {},
   "source": [
    "#### Draw graph displaying communities (Greedy modularity communities)"
   ]
  },
  {
   "cell_type": "code",
   "execution_count": null,
   "id": "814d53b7",
   "metadata": {},
   "outputs": [],
   "source": [
    "#Plot\n",
    "fig, axes = plt.subplots(1,3, figsize=(20,6))\n",
    "\n",
    "#Node Labels\n",
    "\n",
    "test_labels = {} #create empty dictionary\n",
    "\n",
    "for i in range(MMSE_CN_mx.shape[1]):\n",
    "    test_labels[i] = MMSE_CN_mx.columns[i]\n",
    "\n",
    "#get colors\n",
    "MMSE_CN_colors = color_communities(MMSE_CN_graph, MMSE_CN_partition)\n",
    "MMSE_MCI_colors = color_communities(MMSE_MCI_graph, MMSE_MCI_partition)\n",
    "MMSE_AD_colors = color_communities(MMSE_AD_graph, MMSE_AD_partition)\n",
    "\n",
    "#fix positions\n",
    "#pos=nx.spring_layout(MMSE_MCI_graph)\n",
    "\n",
    "#get edges weights\n",
    "#edges_CN,weights_CN = zip(*nx.get_edge_attributes(MMSE_CN_graph,'weight').items())\n",
    "#edges_MCI,weights_MCI = zip(*nx.get_edge_attributes(MMSE_MCI_graph,'weight').items())\n",
    "#edges_AD,weights_AD = zip(*nx.get_edge_attributes(MMSE_AD_graph,'weight').items())\n",
    "\n",
    "weights_CN = list(nx.get_edge_attributes(MMSE_CN_graph,'weight').values())\n",
    "weights_MCI = list(nx.get_edge_attributes(MMSE_MCI_graph,'weight').values())\n",
    "weights_AD = list(nx.get_edge_attributes(MMSE_AD_graph,'weight').values())\n",
    "\n",
    "#draw graphs\n",
    "nx.draw(ax=axes[0], G=MMSE_CN_graph, pos=pos, labels=test_labels, with_labels=True, node_color=MMSE_CN_colors,\n",
    "       edge_color=weights_CN, edge_cmap=plt.cm.Greys, width=[ x*10 for x in weights_CN])\n",
    "nx.draw(ax=axes[1], G=MMSE_MCI_graph, pos=pos, labels=test_labels, with_labels=True, node_color=MMSE_MCI_colors,\n",
    "       edge_color=weights_MCI, edge_cmap=plt.cm.Greys, width=[ x*10 for x in weights_MCI])\n",
    "nx.draw(ax=axes[2], G=MMSE_AD_graph, pos=pos, labels=test_labels, with_labels=True, node_color=MMSE_AD_colors,\n",
    "       edge_color=weights_AD, edge_cmap=plt.cm.Greys, width=[ x*10 for x in weights_AD])\n",
    "\n",
    "#add title to subfigures\n",
    "axes[0].title.set_text(\"Controls\")\n",
    "axes[1].title.set_text(\"MCI\")\n",
    "axes[2].title.set_text(\"AD\")\n",
    "\n",
    "plt.show()"
   ]
  },
  {
   "cell_type": "markdown",
   "id": "6c8ee305",
   "metadata": {},
   "source": [
    "Community metrics for the controls group:"
   ]
  },
  {
   "cell_type": "code",
   "execution_count": null,
   "id": "88ea0f34",
   "metadata": {
    "scrolled": true
   },
   "outputs": [],
   "source": [
    "import warnings\n",
    "warnings.filterwarnings('ignore')\n",
    "\n",
    "display(community_metrics(MMSE_CN_graph, MMSE_CN_partition))"
   ]
  },
  {
   "cell_type": "markdown",
   "id": "1dcb4304",
   "metadata": {},
   "source": [
    "MCI group:"
   ]
  },
  {
   "cell_type": "code",
   "execution_count": null,
   "id": "a3de1e49",
   "metadata": {
    "scrolled": true
   },
   "outputs": [],
   "source": [
    "community_metrics(MMSE_MCI_graph, MMSE_MCI_partition)"
   ]
  },
  {
   "cell_type": "markdown",
   "id": "44a8327d",
   "metadata": {},
   "source": [
    "AD group: "
   ]
  },
  {
   "cell_type": "code",
   "execution_count": null,
   "id": "33ab926c",
   "metadata": {
    "scrolled": true
   },
   "outputs": [],
   "source": [
    "community_metrics(MMSE_AD_graph, MMSE_AD_partition)"
   ]
  },
  {
   "cell_type": "markdown",
   "id": "094127d6",
   "metadata": {},
   "source": [
    "#### Representation of the domains in each community"
   ]
  },
  {
   "cell_type": "code",
   "execution_count": null,
   "id": "707d2eb1",
   "metadata": {},
   "outputs": [],
   "source": [
    "#Get data \n",
    "MMSE_CN_domains = community_metrics(MMSE_CN_graph, MMSE_CN_partition)[['Index','Language','Memory', 'Concentration',\n",
    "                                                                     'Orientation', 'Visuospatial ']]\n",
    "MMSE_MCI_domains = community_metrics(MMSE_MCI_graph, MMSE_MCI_partition)[['Index','Language','Memory', 'Concentration',\n",
    "                                                                     'Orientation', 'Visuospatial ']]\n",
    "MMSE_AD_domains = community_metrics(MMSE_AD_graph, MMSE_AD_partition)[['Index','Language','Memory', 'Concentration',\n",
    "                                                                     'Orientation', 'Visuospatial ']]\n",
    "\n",
    "#Reshape data with melt() function\n",
    "MMSE_CN_domains = MMSE_CN_domains.melt(id_vars=['Index'], var_name=\"Domain\", value_name='Percentage')\n",
    "MMSE_MCI_domains = MMSE_MCI_domains.melt(id_vars=['Index'], var_name=\"Domain\", value_name='Percentage')\n",
    "MMSE_AD_domains = MMSE_AD_domains.melt(id_vars=['Index'], var_name=\"Domain\", value_name='Percentage')\n",
    "\n",
    "#plot \n",
    "fig, axes = plt.subplots(1,3, figsize=(20,5))\n",
    "sns.barplot(ax=axes[0], x=\"Domain\", y=\"Percentage\", hue=\"Index\", data=MMSE_CN_domains)\n",
    "sns.barplot(ax=axes[1], x=\"Domain\", y=\"Percentage\", hue=\"Index\", data=MMSE_MCI_domains)\n",
    "sns.barplot(ax=axes[2], x=\"Domain\", y=\"Percentage\", hue=\"Index\", data=MMSE_AD_domains)\n",
    "\n",
    "\n",
    "#MMSE_CN_domains.plot(kind='bar',ax=axes[0], x=\"Domain\", y=\"Per. of representation\", hue=\"Index\", stacked=True)\n",
    "\n",
    "fig.suptitle(\"Neurocognitive domains distribution\")\n",
    "plt.legend(title='Community')\n",
    "\n",
    "plt.show()\n",
    "\n",
    "#send data to build stacked barplot in R\n",
    "MMSE_CN_domains.to_csv('./Results/MMSE/Greedy_CN.csv', index=False) \n",
    "MMSE_MCI_domains.to_csv('./Results/MMSE/Greedy_MCI.csv', index=False) \n",
    "MMSE_AD_domains.to_csv('./Results/MMSE/Greedy_AD.csv', index=False) "
   ]
  },
  {
   "cell_type": "markdown",
   "id": "6d1327a0",
   "metadata": {},
   "source": [
    "#### Modularity index (Kernighan-Lin bipartition algorithm)\n",
    "\n",
    "This function uses **Kernighan-Lin bipartition algorithm** to partition a graph into two blocks.\n",
    "\n",
    "This algorithm partitions a network into two sets by iteratively swapping pairs of nodes to reduce the edge cut between the two sets. The pairs are chosen according to a modified form of Kernighan-Lin, which moves node individually, alternating between sides to keep the bisection balanced."
   ]
  },
  {
   "cell_type": "code",
   "execution_count": null,
   "id": "d503e9ee",
   "metadata": {},
   "outputs": [],
   "source": [
    "import networkx.algorithms.community as nx_comm\n",
    "\n",
    "MMSE_CN_partition = nx_comm.kernighan_lin_bisection(MMSE_CN_graph, weight='weight', seed=0)\n",
    "MMSE_MCI_partition = nx_comm.kernighan_lin_bisection(MMSE_MCI_graph, weight='weight', seed=0)\n",
    "MMSE_AD_partition = nx_comm.kernighan_lin_bisection(MMSE_AD_graph, weight='weight', seed=0)\n",
    "\n",
    "print(\"--------------------------------\")\n",
    "print(\"KL MODULARITY COMMUNITIES\")\n",
    "print(\"--------------------------------\")\n",
    "print()\n",
    "print(\"Controls: \", MMSE_CN_partition)\n",
    "print()\n",
    "print(\"MCI: \", MMSE_MCI_partition)\n",
    "print()\n",
    "print(\"AD: \", MMSE_AD_partition)\n",
    "\n",
    "print()\n",
    "print(\"--------------------------------\")\n",
    "print(\"MODULARITY INDEX\")\n",
    "print(\"--------------------------------\")\n",
    "print()\n",
    "print(\"Controls: \", nx_comm.modularity(MMSE_CN_graph, MMSE_CN_partition, weight='weight'))\n",
    "print()\n",
    "print(\"MCI: \", nx_comm.modularity(MMSE_MCI_graph, MMSE_MCI_partition, weight='weight'))\n",
    "print()\n",
    "print(\"AD: \", nx_comm.modularity(MMSE_AD_graph, MMSE_AD_partition, weight='weight'))"
   ]
  },
  {
   "cell_type": "markdown",
   "id": "2be0d270",
   "metadata": {},
   "source": [
    "#### Draw graph displaying communities (communities)"
   ]
  },
  {
   "cell_type": "code",
   "execution_count": null,
   "id": "966ca519",
   "metadata": {},
   "outputs": [],
   "source": [
    "#Plot\n",
    "fig, axes = plt.subplots(1,3, figsize=(20,6))\n",
    "\n",
    "#Node labels\n",
    "test_labels = {} #create empty dictionary\n",
    "\n",
    "for i in range(MMSE_CN_mx.shape[1]):\n",
    "    test_labels[i] = MMSE_CN_mx.columns[i]\n",
    "\n",
    "#get colors\n",
    "MMSE_CN_colors = color_communities(MMSE_CN_graph, MMSE_CN_partition)\n",
    "MMSE_MCI_colors = color_communities(MMSE_MCI_graph, MMSE_MCI_partition)\n",
    "MMSE_AD_colors = color_communities(MMSE_AD_graph, MMSE_AD_partition)\n",
    "\n",
    "#fix positions\n",
    "#pos=nx.spring_layout(MMSE_MCI_graph)\n",
    "\n",
    "#get edges weights\n",
    "edges_CN,weights_CN = zip(*nx.get_edge_attributes(MMSE_CN_graph,'weight').items())\n",
    "edges_MCI,weights_MCI = zip(*nx.get_edge_attributes(MMSE_MCI_graph,'weight').items())\n",
    "edges_AD,weights_AD = zip(*nx.get_edge_attributes(MMSE_AD_graph,'weight').items())\n",
    "\n",
    "weights_CN = list(nx.get_edge_attributes(MMSE_CN_graph,'weight').values())\n",
    "weights_MCI = list(nx.get_edge_attributes(MMSE_MCI_graph,'weight').values())\n",
    "weights_AD = list(nx.get_edge_attributes(MMSE_AD_graph,'weight').values())\n",
    "\n",
    "#draw graphs\n",
    "nx.draw(ax=axes[0], G=MMSE_CN_graph, pos=pos, labels=test_labels, with_labels=True, node_color=MMSE_CN_colors,\n",
    "       edge_color=weights_CN, edge_cmap=plt.cm.Greys, width=[ x*10 for x in weights_CN])\n",
    "nx.draw(ax=axes[1], G=MMSE_MCI_graph, pos=pos, labels=test_labels, with_labels=True, node_color=MMSE_MCI_colors,\n",
    "       edge_color=weights_MCI, edge_cmap=plt.cm.Greys, width=[ x*10 for x in weights_MCI])\n",
    "nx.draw(ax=axes[2], G=MMSE_AD_graph, pos=pos, labels=test_labels, with_labels=True, node_color=MMSE_AD_colors,\n",
    "       edge_color=weights_AD, edge_cmap=plt.cm.Greys, width=[ x*10 for x in weights_AD])\n",
    "\n",
    "#add title to subfigures\n",
    "axes[0].title.set_text(\"Controls\")\n",
    "axes[1].title.set_text(\"MCI\")\n",
    "axes[2].title.set_text(\"AD\")\n",
    "\n",
    "plt.show()"
   ]
  },
  {
   "cell_type": "markdown",
   "id": "dce5f31d",
   "metadata": {},
   "source": [
    "#### Get subgraphs metrics (Kernighan-Lin bisection algorithm)\n",
    "\n",
    "Each community detected is going to be considered as a subgraph. "
   ]
  },
  {
   "cell_type": "markdown",
   "id": "b0a08b12",
   "metadata": {},
   "source": [
    "Community metrics for the controls group:"
   ]
  },
  {
   "cell_type": "code",
   "execution_count": null,
   "id": "1d59fcbf",
   "metadata": {
    "scrolled": true
   },
   "outputs": [],
   "source": [
    "import warnings\n",
    "warnings.filterwarnings('ignore')\n",
    "\n",
    "display(community_metrics(MMSE_CN_graph, MMSE_CN_partition))"
   ]
  },
  {
   "cell_type": "markdown",
   "id": "620ac4a7",
   "metadata": {},
   "source": [
    "MCI group:"
   ]
  },
  {
   "cell_type": "code",
   "execution_count": null,
   "id": "b746ae93",
   "metadata": {
    "scrolled": true
   },
   "outputs": [],
   "source": [
    "community_metrics(MMSE_MCI_graph, MMSE_MCI_partition)"
   ]
  },
  {
   "cell_type": "markdown",
   "id": "efcdb29b",
   "metadata": {},
   "source": [
    "AD group: "
   ]
  },
  {
   "cell_type": "code",
   "execution_count": null,
   "id": "d9a3ca12",
   "metadata": {
    "scrolled": true
   },
   "outputs": [],
   "source": [
    "community_metrics(MMSE_AD_graph, MMSE_AD_partition)"
   ]
  },
  {
   "cell_type": "markdown",
   "id": "389b9819",
   "metadata": {},
   "source": [
    "#### Representation of the domains in each community"
   ]
  },
  {
   "cell_type": "code",
   "execution_count": null,
   "id": "c6617978",
   "metadata": {
    "scrolled": true
   },
   "outputs": [],
   "source": [
    "#Get data \n",
    "MMSE_CN_domains = community_metrics(MMSE_CN_graph, MMSE_CN_partition)[['Index','Language','Memory', 'Concentration',\n",
    "                                                                     'Orientation', 'Visuospatial ']]\n",
    "MMSE_MCI_domains = community_metrics(MMSE_MCI_graph, MMSE_MCI_partition)[['Index','Language','Memory', 'Concentration',\n",
    "                                                                     'Orientation', 'Visuospatial ']]\n",
    "MMSE_AD_domains = community_metrics(MMSE_AD_graph, MMSE_AD_partition)[['Index','Language','Memory', 'Concentration',\n",
    "                                                                     'Orientation', 'Visuospatial ']]\n",
    "\n",
    "#Reshape data with melt() function\n",
    "MMSE_CN_domains = MMSE_CN_domains.melt(id_vars=['Index'], var_name=\"Domain\", value_name='Percentage')\n",
    "MMSE_MCI_domains = MMSE_MCI_domains.melt(id_vars=['Index'], var_name=\"Domain\", value_name='Percentage')\n",
    "MMSE_AD_domains = MMSE_AD_domains.melt(id_vars=['Index'], var_name=\"Domain\", value_name='Percentage')\n",
    "\n",
    "#plot \n",
    "fig, axes = plt.subplots(1,3, figsize=(20,5))\n",
    "sns.barplot(ax=axes[0], x=\"Domain\", y=\"Percentage\", hue=\"Index\", data=MMSE_CN_domains)\n",
    "sns.barplot(ax=axes[1], x=\"Domain\", y=\"Percentage\", hue=\"Index\", data=MMSE_MCI_domains)\n",
    "sns.barplot(ax=axes[2], x=\"Domain\", y=\"Percentage\", hue=\"Index\", data=MMSE_AD_domains)\n",
    "\n",
    "\n",
    "#MMSE_CN_domains.plot(kind='bar',ax=axes[0], x=\"Domain\", y=\"Per. of representation\", hue=\"Index\", stacked=True)\n",
    "\n",
    "fig.suptitle(\"Neurocognitive domains distribution\")\n",
    "plt.legend(title='Community')\n",
    "\n",
    "plt.show()\n",
    "\n",
    "#send data to build stacked barplot in R\n",
    "MMSE_CN_domains.to_csv('./Results/MMSE/Bisection_CN.csv', index=False) \n",
    "MMSE_MCI_domains.to_csv('./Results/MMSE/Bisection_MCI.csv', index=False) \n",
    "MMSE_AD_domains.to_csv('./Results/MMSE/Bisection_AD.csv', index=False) "
   ]
  },
  {
   "cell_type": "markdown",
   "id": "e164f2e2",
   "metadata": {},
   "source": [
    "#### Modularity index (Label propagation)\n",
    "\n",
    "This function uses the **asynchronous label propagation algorithm** which is probabilistic and the found communities may vary on different executions.\n",
    "\n",
    "The algorithm proceeds as follows. After initializing each node with a unique label, the algorithm repeatedly sets the label of a node to be the label that appears most frequently among that nodes neighbors. The algorithm halts when each node has the label that appears most frequently among its neighbors. The algorithm is asynchronous because each node is updated without waiting for updates on the remaining nodes."
   ]
  },
  {
   "cell_type": "code",
   "execution_count": null,
   "id": "c4e5b22a",
   "metadata": {},
   "outputs": [],
   "source": [
    "import networkx.algorithms.community as nx_comm\n",
    "\n",
    "MMSE_CN_partition = list(nx_comm.asyn_lpa_communities(MMSE_CN_graph, weight='weight', seed=0))\n",
    "MMSE_MCI_partition = list(nx_comm.asyn_lpa_communities(MMSE_MCI_graph, weight='weight', seed=0))\n",
    "MMSE_AD_partition = list(nx_comm.asyn_lpa_communities(MMSE_AD_graph, weight='weight', seed=0))\n",
    "\n",
    "print(\"--------------------------------\")\n",
    "print(\"LABEL PROPAGATION COMMUNITIES\")\n",
    "print(\"--------------------------------\")\n",
    "print()\n",
    "print(\"Controls: \", MMSE_CN_partition)\n",
    "print()\n",
    "print(\"MCI: \", MMSE_MCI_partition)\n",
    "print()\n",
    "print(\"AD: \", MMSE_AD_partition)\n",
    "\n",
    "print()\n",
    "print(\"--------------------------------\")\n",
    "print(\"MODULARITY INDEX\")\n",
    "print(\"--------------------------------\")\n",
    "print()\n",
    "print(\"Controls: \", nx_comm.modularity(MMSE_CN_graph, MMSE_CN_partition, weight='weight'))\n",
    "print()\n",
    "print(\"MCI: \", nx_comm.modularity(MMSE_MCI_graph, MMSE_MCI_partition, weight='weight'))\n",
    "print()\n",
    "print(\"AD: \", nx_comm.modularity(MMSE_AD_graph, MMSE_AD_partition, weight='weight'))"
   ]
  },
  {
   "cell_type": "markdown",
   "id": "fc60f5d2",
   "metadata": {},
   "source": [
    "#### Draw graph displaying communities (Greedy modularity communities)"
   ]
  },
  {
   "cell_type": "code",
   "execution_count": null,
   "id": "f75d08f2",
   "metadata": {},
   "outputs": [],
   "source": [
    "#Plot\n",
    "fig, axes = plt.subplots(1,3, figsize=(20,6))\n",
    "\n",
    "#Node labels\n",
    "test_labels = {} #create empty dictionary\n",
    "\n",
    "for i in range(MMSE_CN_mx.shape[1]):\n",
    "    test_labels[i] = MMSE_CN_mx.columns[i]\n",
    "\n",
    "#get colors\n",
    "MMSE_CN_colors = color_communities(MMSE_CN_graph, MMSE_CN_partition)\n",
    "MMSE_MCI_colors = color_communities(MMSE_MCI_graph, MMSE_MCI_partition)\n",
    "MMSE_AD_colors = color_communities(MMSE_AD_graph, MMSE_AD_partition)\n",
    "\n",
    "#fix positions\n",
    "#pos=nx.spring_layout(MMSE_MCI_graph)\n",
    "\n",
    "#get edges weights\n",
    "#edges_CN,weights_CN = zip(*nx.get_edge_attributes(MMSE_CN_graph,'weight').items())\n",
    "#edges_MCI,weights_MCI = zip(*nx.get_edge_attributes(MMSE_MCI_graph,'weight').items())\n",
    "#edges_AD,weights_AD = zip(*nx.get_edge_attributes(MMSE_AD_graph,'weight').items())\n",
    "\n",
    "weights_CN = list(nx.get_edge_attributes(MMSE_CN_graph,'weight').values())\n",
    "weights_MCI = list(nx.get_edge_attributes(MMSE_MCI_graph,'weight').values())\n",
    "weights_AD = list(nx.get_edge_attributes(MMSE_AD_graph,'weight').values())\n",
    "\n",
    "#draw graphs\n",
    "nx.draw(ax=axes[0], G=MMSE_CN_graph, pos=pos, labels=test_labels, with_labels=True, node_color=MMSE_CN_colors,\n",
    "       edge_color=weights_CN, edge_cmap=plt.cm.Greys, width=[ x*10 for x in weights_CN])\n",
    "nx.draw(ax=axes[1], G=MMSE_MCI_graph, pos=pos, labels=test_labels, with_labels=True, node_color=MMSE_MCI_colors,\n",
    "       edge_color=weights_MCI, edge_cmap=plt.cm.Greys, width=[ x*10 for x in weights_MCI])\n",
    "nx.draw(ax=axes[2], G=MMSE_AD_graph, pos=pos, labels=test_labels, with_labels=True, node_color=MMSE_AD_colors,\n",
    "       edge_color=weights_AD, edge_cmap=plt.cm.Greys, width=[ x*10 for x in weights_AD])\n",
    "\n",
    "#add title to subfigures\n",
    "axes[0].title.set_text(\"Controls\")\n",
    "axes[1].title.set_text(\"MCI\")\n",
    "axes[2].title.set_text(\"AD\")\n",
    "\n",
    "plt.show()"
   ]
  },
  {
   "cell_type": "markdown",
   "id": "ef4ee9b4",
   "metadata": {},
   "source": [
    "#### Get subgraphs metrics (Greedy modularity algorithm)\n",
    "\n",
    "Each community detected is going to be considered as a subgraph. "
   ]
  },
  {
   "cell_type": "markdown",
   "id": "757b75ac",
   "metadata": {},
   "source": [
    "Community metrics for the controls group:"
   ]
  },
  {
   "cell_type": "code",
   "execution_count": null,
   "id": "2ee25378",
   "metadata": {
    "scrolled": true
   },
   "outputs": [],
   "source": [
    "import warnings\n",
    "warnings.filterwarnings('ignore')\n",
    "\n",
    "display(community_metrics(MMSE_CN_graph, MMSE_CN_partition))"
   ]
  },
  {
   "cell_type": "markdown",
   "id": "fc1be2f0",
   "metadata": {},
   "source": [
    "MCI group:"
   ]
  },
  {
   "cell_type": "code",
   "execution_count": null,
   "id": "ec2b17c7",
   "metadata": {
    "scrolled": false
   },
   "outputs": [],
   "source": [
    "community_metrics(MMSE_MCI_graph, MMSE_MCI_partition)"
   ]
  },
  {
   "cell_type": "markdown",
   "id": "a36657bf",
   "metadata": {},
   "source": [
    "AD group: "
   ]
  },
  {
   "cell_type": "code",
   "execution_count": null,
   "id": "ef38154b",
   "metadata": {
    "scrolled": false
   },
   "outputs": [],
   "source": [
    "community_metrics(MMSE_AD_graph, MMSE_AD_partition)"
   ]
  },
  {
   "cell_type": "markdown",
   "id": "81f56a16",
   "metadata": {},
   "source": [
    "#### Representation of the domains in each community"
   ]
  },
  {
   "cell_type": "code",
   "execution_count": null,
   "id": "c90f47b7",
   "metadata": {
    "scrolled": true
   },
   "outputs": [],
   "source": [
    "#Get data \n",
    "MMSE_CN_domains = community_metrics(MMSE_CN_graph, MMSE_CN_partition)[['Index','Language','Memory', 'Concentration',\n",
    "                                                                     'Orientation', 'Visuospatial ']]\n",
    "MMSE_MCI_domains = community_metrics(MMSE_MCI_graph, MMSE_MCI_partition)[['Index','Language','Memory', 'Concentration',\n",
    "                                                                     'Orientation', 'Visuospatial ']]\n",
    "MMSE_AD_domains = community_metrics(MMSE_AD_graph, MMSE_AD_partition)[['Index','Language','Memory', 'Concentration',\n",
    "                                                                     'Orientation', 'Visuospatial ']]\n",
    "\n",
    "#Reshape data with melt() function\n",
    "MMSE_CN_domains = MMSE_CN_domains.melt(id_vars=['Index'], var_name=\"Domain\", value_name='Percentage')\n",
    "MMSE_MCI_domains = MMSE_MCI_domains.melt(id_vars=['Index'], var_name=\"Domain\", value_name='Percentage')\n",
    "MMSE_AD_domains = MMSE_AD_domains.melt(id_vars=['Index'], var_name=\"Domain\", value_name='Percentage')\n",
    "\n",
    "#plot \n",
    "fig, axes = plt.subplots(1,3, figsize=(20,5))\n",
    "sns.barplot(ax=axes[0], x=\"Domain\", y=\"Percentage\", hue=\"Index\", data=MMSE_CN_domains)\n",
    "sns.barplot(ax=axes[1], x=\"Domain\", y=\"Percentage\", hue=\"Index\", data=MMSE_MCI_domains)\n",
    "sns.barplot(ax=axes[2], x=\"Domain\", y=\"Percentage\", hue=\"Index\", data=MMSE_AD_domains)\n",
    "\n",
    "\n",
    "#MMSE_CN_domains.plot(kind='bar',ax=axes[0], x=\"Domain\", y=\"Per. of representation\", hue=\"Index\", stacked=True)\n",
    "\n",
    "fig.suptitle(\"Neurocognitive domains distribution\")\n",
    "plt.legend(title='Community')\n",
    "\n",
    "plt.show()\n",
    "\n",
    "#send data to build stacked barplot in R\n",
    "MMSE_CN_domains.to_csv('./Results/MMSE/Asyn_CN.csv', index=False) \n",
    "MMSE_MCI_domains.to_csv('./Results/MMSE/Asyn_MCI.csv', index=False) \n",
    "MMSE_AD_domains.to_csv('./Results/MMSE/Asyn_AD.csv', index=False) "
   ]
  },
  {
   "cell_type": "markdown",
   "id": "ff5628e7",
   "metadata": {},
   "source": [
    "### MOCA\n",
    "\n",
    "#### Divide data by diagnostic group"
   ]
  },
  {
   "cell_type": "code",
   "execution_count": null,
   "id": "224913c2",
   "metadata": {},
   "outputs": [],
   "source": [
    "#Get indexes of subjects belonging to each group\n",
    "MOCA_indexes = {} #Create empty dictionary\n",
    "dx_groups = [\"CN\",\"MCI\", \"AD\"] #diagnostic groups list\n",
    "\n",
    "Y_MOCA = Y_MOCA.replace({'EMCI':'MCI', 'LMCI':'MCI',\"SMC\":\"CN\"})\n",
    "\n",
    "for dx in dx_groups:\n",
    "    MOCA_indexes[dx] = Y_MOCA.index[Y_MOCA['DX_bl'] == dx].tolist()\n",
    "    \n",
    "#Filter results table by diagnostic group\n",
    "X_MOCA_CN = X_MOCA.iloc[MOCA_indexes[\"CN\"]]\n",
    "X_MOCA_MCI = X_MOCA.iloc[MOCA_indexes[\"MCI\"]]\n",
    "X_MOCA_AD = X_MOCA.iloc[MOCA_indexes[\"AD\"]]\n",
    "\n",
    "print(\"Number of instances CN: \", X_MOCA_CN.shape[0])\n",
    "print(\"Number of instances MCI: \", X_MOCA_MCI.shape[0])\n",
    "print(\"Number of instances AD: \", X_MOCA_AD.shape[0])"
   ]
  },
  {
   "cell_type": "markdown",
   "id": "fc4758bd",
   "metadata": {},
   "source": [
    "#### Plot z-scores by cognitive domain\n",
    "\n",
    "1. Compute averages of each test\n",
    "2. Group by NC domain\n",
    "3. Compute the average of each domain"
   ]
  },
  {
   "cell_type": "code",
   "execution_count": null,
   "id": "95bd8fa8",
   "metadata": {},
   "outputs": [],
   "source": [
    "metadata_path = \"./Tests/MOCA_Metadata.csv\"\n",
    "#Compute zscores means for each cognitive domain by diagnostic group\n",
    "MOCA_means_CN = zscores_means(X_MOCA_CN, \"CN\", metadata_path)\n",
    "MOCA_means_MCI = zscores_means(X_MOCA_MCI, \"MCI\", metadata_path)\n",
    "MOCA_means_AD = zscores_means(X_MOCA_AD, \"AD\", metadata_path)\n",
    "\n",
    "#Concanetate all dataframes\n",
    "MOCA_means_df = pd.concat([MOCA_means_CN, MOCA_means_MCI, MOCA_means_AD])\n",
    "MOCA_means_df.index = range(len(MOCA_means_df))\n",
    "\n",
    "#plot dataframe\n",
    "plt.figure(figsize=(8, 5), dpi=80)\n",
    "sns.lineplot(data=MOCA_means_df, x='Cognitive Domain', y='Mean', hue='Diagnostic')\n",
    "plt.title(\"Cognitive phenotype groups mean scores (MOCA)\")\n",
    "plt.ylabel(\"Mean z-scores\")\n",
    "plt.legend(title=\"Diagnostic group\")\n",
    "plt.show()"
   ]
  },
  {
   "cell_type": "markdown",
   "id": "1ca4224a",
   "metadata": {},
   "source": [
    "#### Compute adjacency matrixes"
   ]
  },
  {
   "cell_type": "code",
   "execution_count": null,
   "id": "616afc5f",
   "metadata": {},
   "outputs": [],
   "source": [
    "MOCA_CN_mx = par_corr(X_MOCA_CN)\n",
    "MOCA_MCI_mx = par_corr(X_MOCA_MCI)\n",
    "MOCA_AD_mx = par_corr(X_MOCA_AD)"
   ]
  },
  {
   "cell_type": "markdown",
   "id": "1d6be1b7",
   "metadata": {},
   "source": [
    "#### Plot adjacency matrixes"
   ]
  },
  {
   "cell_type": "code",
   "execution_count": null,
   "id": "96187ac1",
   "metadata": {},
   "outputs": [],
   "source": [
    "fig, axes = plt.subplots(1,3, figsize=(20,6))\n",
    "\n",
    "\n",
    "fig.suptitle('MOCA Adjacency matrixes')\n",
    "\n",
    "sns.heatmap(ax=axes[0],data=MOCA_CN_mx, annot=False, cmap=\"Spectral\", vmin=-1, vmax=1)\n",
    "sns.heatmap(ax=axes[1],data=MOCA_MCI_mx, annot=False, cmap=\"Spectral\", vmin=-1, vmax=1)\n",
    "sns.heatmap(ax=axes[2],data=MOCA_AD_mx, annot=False, cmap=\"Spectral\", vmin=-1, vmax=1)\n",
    "\n",
    "#add title to subfigures\n",
    "axes[0].title.set_text(\"Controls\")\n",
    "axes[1].title.set_text(\"MCI\")\n",
    "axes[2].title.set_text(\"AD\")\n",
    "\n",
    "plt.show()"
   ]
  },
  {
   "cell_type": "markdown",
   "id": "a9f84bae",
   "metadata": {},
   "source": [
    "#### Compute graph"
   ]
  },
  {
   "cell_type": "code",
   "execution_count": null,
   "id": "fbc5c813",
   "metadata": {},
   "outputs": [],
   "source": [
    "#Remove diagonal elements and negative correlations from the matrix\n",
    "\n",
    "for i in range(MOCA_MCI_mx.shape[1]):\n",
    "    colname = MOCA_MCI_mx.columns[i]\n",
    "    #MOCA_CN_mx[colname] = np.where((MOCA_CN_mx[colname]< 0) | (MOCA_CN_mx[colname]==1.0),0, MOCA_CN_mx[colname]) \n",
    "    #MOCA_MCI_mx[colname] = np.where((MOCA_MCI_mx[colname]< 0) | (MOCA_MCI_mx[colname]==1.0),0, MOCA_MCI_mx[colname]) \n",
    "    #MOCA_AD_mx[colname] = np.where((MOCA_AD_mx[colname]< 0) | (MOCA_AD_mx[colname]==1.0),0, MOCA_AD_mx[colname]) \n",
    "    MOCA_CN_mx[colname] = np.where((MOCA_CN_mx[colname]==1.0),0, MOCA_CN_mx[colname]) \n",
    "    MOCA_MCI_mx[colname] = np.where((MOCA_MCI_mx[colname]==1.0),0, MOCA_MCI_mx[colname]) \n",
    "    MOCA_AD_mx[colname] = np.where((MOCA_AD_mx[colname]==1.0),0, MOCA_AD_mx[colname]) \n",
    "    #Convert negative correlations in positive ones\n",
    "    MOCA_CN_mx[colname] = np.where((MOCA_CN_mx[colname]<0),-1*MOCA_CN_mx[colname], MOCA_CN_mx[colname]) \n",
    "    MOCA_MCI_mx[colname] = np.where((MOCA_MCI_mx[colname]<0),-1*MOCA_MCI_mx[colname], MOCA_MCI_mx[colname]) \n",
    "    MOCA_AD_mx[colname] = np.where((MOCA_AD_mx[colname]<0),-1*MOCA_AD_mx[colname], MOCA_AD_mx[colname]) "
   ]
  },
  {
   "cell_type": "code",
   "execution_count": null,
   "id": "ea794e4d",
   "metadata": {},
   "outputs": [],
   "source": [
    "import networkx as nx\n",
    "\n",
    "#convert adjacency matrix into graph\n",
    "MOCA_CN_graph = nx.from_numpy_array(MOCA_CN_mx.to_numpy())\n",
    "MOCA_MCI_graph = nx.from_numpy_array(MOCA_MCI_mx.to_numpy())\n",
    "MOCA_AD_graph = nx.from_numpy_array(MOCA_AD_mx.to_numpy())"
   ]
  },
  {
   "cell_type": "code",
   "execution_count": null,
   "id": "725eab72",
   "metadata": {},
   "outputs": [],
   "source": [
    "#count nodes and edges\n",
    "print(\"CN-------------------------\")\n",
    "print(\"- Number of nodes: \", MOCA_CN_graph.number_of_nodes())\n",
    "print(\"- Number of edges: \", MOCA_CN_graph.number_of_edges())\n",
    "print()\n",
    "print(\"MCI-------------------------\")\n",
    "print(\"- Number of nodes: \", MOCA_MCI_graph.number_of_nodes())\n",
    "print(\"- Number of edges: \", MOCA_MCI_graph.number_of_edges())\n",
    "print()\n",
    "print(\"AD-------------------------\")\n",
    "print(\"- Number of nodes: \", MOCA_AD_graph.number_of_nodes())\n",
    "print(\"- Number of edges: \", MOCA_AD_graph.number_of_edges())"
   ]
  },
  {
   "cell_type": "markdown",
   "id": "7948cb75",
   "metadata": {},
   "source": [
    "#### Add node attributes\n",
    "\n",
    "As the nodes represent different tests they are going to have the following attributes:\n",
    "\n",
    "- ADNI column: name of the test in the ADNI database\n",
    "- Test description\n",
    "- Cognitive domain"
   ]
  },
  {
   "cell_type": "code",
   "execution_count": null,
   "id": "8ff3e56a",
   "metadata": {},
   "outputs": [],
   "source": [
    "#Import node metadata\n",
    "MOCA_metadata = pd.read_csv(\"./Tests/MOCA_Metadata.csv\", sep=\";\", \n",
    "                            usecols = ['Node', 'ADNI column', 'Test', 'Cognitive Domain'])\n",
    "\n",
    "graphs = [MOCA_CN_graph, MOCA_MCI_graph, MOCA_AD_graph]\n",
    "\n",
    "for graph in graphs:\n",
    "    #ADNI column\n",
    "    nx.set_node_attributes(graph, dict(zip(MOCA_metadata.Node, MOCA_metadata['ADNI column'])), name=\"ADNIColumn\")\n",
    "    #Test\n",
    "    nx.set_node_attributes(graph, dict(zip(MOCA_metadata.Node, MOCA_metadata['Test'])), name=\"Test\")\n",
    "    #Cognitive domain\n",
    "    nx.set_node_attributes(graph, dict(zip(MOCA_metadata.Node, MOCA_metadata['Cognitive Domain'])), name=\"Domain\")"
   ]
  },
  {
   "cell_type": "markdown",
   "id": "465ee691",
   "metadata": {},
   "source": [
    "#### Draw graph"
   ]
  },
  {
   "cell_type": "code",
   "execution_count": null,
   "id": "5c013706",
   "metadata": {},
   "outputs": [],
   "source": [
    "#Plot\n",
    "fig, axes = plt.subplots(1,3, figsize=(20,6))\n",
    "\n",
    "#fix position\n",
    "pos=nx.spring_layout(MOCA_CN_graph)\n",
    "\n",
    "#get edges weights\n",
    "edges_CN,weights_CN = zip(*nx.get_edge_attributes(MOCA_CN_graph,'weight').items())\n",
    "edges_MCI,weights_MCI = zip(*nx.get_edge_attributes(MOCA_MCI_graph,'weight').items())\n",
    "edges_AD,weights_AD = zip(*nx.get_edge_attributes(MOCA_AD_graph,'weight').items())\n",
    "\n",
    "weights_CN = list(nx.get_edge_attributes(MOCA_CN_graph,'weight').values())\n",
    "weights_MCI = list(nx.get_edge_attributes(MOCA_MCI_graph,'weight').values())\n",
    "weights_AD = list(nx.get_edge_attributes(MOCA_AD_graph,'weight').values())\n",
    "\n",
    "#color by nc domain\n",
    "ATTRIBUTE_NAME = 'Domain'\n",
    "#convert domains into numeric keys\n",
    "mapping = {'Attention':0, 'Executive function':1, 'Language':2, 'Memory':3, 'Orientation':4, \n",
    "          'Visuospatial':5} \n",
    "\n",
    "colors=[]\n",
    "for node in list(MOCA_CN_graph.nodes()): #iterate each node\n",
    "    domain = MOCA_CN_graph.nodes[node][ATTRIBUTE_NAME]\n",
    "    colors.append(mapping[domain])\n",
    "\n",
    "#draw graphs\n",
    "nx.draw(ax=axes[0], G=MOCA_CN_graph, pos=pos, with_labels=True, node_color=colors,\n",
    "       edge_color=weights_CN, edge_cmap=plt.cm.Greys, width=[ x*10 for x in weights_CN])\n",
    "nx.draw(ax=axes[1], G=MOCA_MCI_graph, pos=pos, with_labels=True, node_color=colors,\n",
    "       edge_color=weights_MCI, edge_cmap=plt.cm.Greys, width=[ x*10 for x in weights_MCI])\n",
    "nx.draw(ax=axes[2], G=MOCA_AD_graph, pos=pos, with_labels=True, node_color=colors,\n",
    "       edge_color=weights_AD, edge_cmap=plt.cm.Greys, width=[ x*10 for x in weights_AD])\n",
    "\n",
    "#add title to subfigures\n",
    "axes[0].title.set_text(\"Controls\")\n",
    "axes[1].title.set_text(\"MCI\")\n",
    "axes[2].title.set_text(\"AD\")\n",
    "\n",
    "plt.savefig(\"./Results/Figures/Graphs/MOCA.svg\", format=\"svg\")\n",
    "\n",
    "plt.show()"
   ]
  },
  {
   "cell_type": "markdown",
   "id": "10f60581",
   "metadata": {},
   "source": [
    "#### Edges weights"
   ]
  },
  {
   "cell_type": "code",
   "execution_count": null,
   "id": "c2571dc1",
   "metadata": {},
   "outputs": [],
   "source": [
    "#Create dataframe with weights\n",
    "weights_df_CN = pd.DataFrame(weights_CN, columns=[\"Weight\"])\n",
    "weights_df_CN['Diagnostic'] = \"CN\"\n",
    "weights_df_MCI = pd.DataFrame(weights_MCI, columns=[\"Weight\"])\n",
    "weights_df_MCI['Diagnostic'] = \"MCI\"\n",
    "weights_df_AD = pd.DataFrame(weights_AD, columns=[\"Weight\"])\n",
    "weights_df_AD['Diagnostic'] = \"AD\"\n",
    "\n",
    "#merge all\n",
    "weights_df = pd.concat([weights_df_CN, weights_df_MCI, weights_df_AD], ignore_index=True)\n",
    "\n",
    "#plot histogram\n",
    "sns.histplot(data=weights_df, x=\"Weight\", hue=\"Diagnostic\")\n",
    "plt.title(\"Edge weights distribution\")\n",
    "plt.show()"
   ]
  },
  {
   "cell_type": "markdown",
   "id": "10478c1e",
   "metadata": {},
   "source": [
    "#### Node centrality"
   ]
  },
  {
   "cell_type": "code",
   "execution_count": null,
   "id": "dc602f29",
   "metadata": {
    "scrolled": true
   },
   "outputs": [],
   "source": [
    "#Node degree\n",
    "\n",
    "print(\"---------------------\")\n",
    "print(\"DEGREE CENTRALITY\")\n",
    "print(\"---------------------\")\n",
    "print()\n",
    "print(\"Controls: \", nx.degree_centrality(MOCA_CN_graph))\n",
    "print()\n",
    "print(\"MCI: \", nx.degree_centrality(MOCA_MCI_graph))\n",
    "print()\n",
    "print(\"AD: \", nx.degree_centrality(MOCA_AD_graph))"
   ]
  },
  {
   "cell_type": "markdown",
   "id": "710e74f7",
   "metadata": {},
   "source": [
    "There are 2 hubs in the controls (1, 27), 1 in the MCI group (22) and 2 in the AD group (17 and 21). "
   ]
  },
  {
   "cell_type": "markdown",
   "id": "ea680a32",
   "metadata": {},
   "source": [
    "#### Other centrality measures"
   ]
  },
  {
   "cell_type": "code",
   "execution_count": null,
   "id": "6adfbc8f",
   "metadata": {
    "scrolled": true
   },
   "outputs": [],
   "source": [
    "print(\"Controls----------------------------------\")\n",
    "display(centrality(MOCA_CN_graph, MOCA_columns))\n",
    "print(\"MCI----------------------------------\")\n",
    "display(centrality(MOCA_MCI_graph, MOCA_columns))\n",
    "print(\"AD----------------------------------\")\n",
    "display(centrality(MOCA_AD_graph, MOCA_columns))"
   ]
  },
  {
   "cell_type": "code",
   "execution_count": null,
   "id": "c315d4d6",
   "metadata": {},
   "outputs": [],
   "source": [
    "plot_centrality(MOCA_CN_graph, MOCA_MCI_graph, MOCA_AD_graph, MOCA_columns, \"Degree_Centrality\")"
   ]
  },
  {
   "cell_type": "markdown",
   "id": "3258d031",
   "metadata": {},
   "source": [
    "#### Relation between node degree and betweenness centrality"
   ]
  },
  {
   "cell_type": "code",
   "execution_count": null,
   "id": "97e649ce",
   "metadata": {},
   "outputs": [],
   "source": [
    "#Get centrality metrics table\n",
    "MOCA_CN_centrality = centrality(MOCA_CN_graph, MOCA_columns)\n",
    "MOCA_MCI_centrality = centrality(MOCA_MCI_graph, MOCA_columns)\n",
    "MOCA_AD_centrality = centrality(MOCA_AD_graph, MOCA_columns)\n",
    "\n",
    "#Plot\n",
    "fig, axes = plt.subplots(1,3, figsize=(20,6))\n",
    "\n",
    "\n",
    "sns.scatterplot(ax=axes[0],data=MOCA_CN_centrality, x=\"Degree_Centrality\", y=\"Betweenness_Centrality\", s=50)\n",
    "sns.scatterplot(ax=axes[1],data=MOCA_MCI_centrality, x=\"Degree_Centrality\", y=\"Betweenness_Centrality\", s=50)\n",
    "sns.scatterplot(ax=axes[2],data=MOCA_AD_centrality, x=\"Degree_Centrality\", y=\"Betweenness_Centrality\", s=50)\n",
    "\n",
    "#labels\n",
    "axes[0].set_ylabel(\"Betweenness Centrality\")\n",
    "axes[1].set_ylabel(\"Betweenness Centrality\")\n",
    "axes[2].set_ylabel(\"Betweenness Centrality\")\n",
    "axes[0].set_xlabel(\"Degree Centrality\")\n",
    "axes[1].set_xlabel(\"Degree Centrality\")\n",
    "axes[2].set_xlabel(\"Degree Centrality\")\n",
    "\n",
    "#add title\n",
    "fig.suptitle('Node degree vs betweenness centrality')\n",
    "\n",
    "#add title to subfigures\n",
    "axes[0].title.set_text(\"Controls\")\n",
    "axes[1].title.set_text(\"MCI\")\n",
    "axes[2].title.set_text(\"AD\")\n",
    "\n",
    "\n",
    "plt.show()"
   ]
  },
  {
   "cell_type": "markdown",
   "id": "d2047cc7",
   "metadata": {},
   "source": [
    "#### Average clustering coefficient "
   ]
  },
  {
   "cell_type": "code",
   "execution_count": null,
   "id": "ffa37a95",
   "metadata": {},
   "outputs": [],
   "source": [
    "print(\"--------------------------------\")\n",
    "print(\"AVERAGE CLUSTERING COEFFICIENT\")\n",
    "print(\"--------------------------------\")\n",
    "print()\n",
    "print(\"Controls: \", nx.average_clustering(MOCA_CN_graph,weight='weight'))\n",
    "print()\n",
    "print(\"MCI: \", nx.average_clustering(MOCA_MCI_graph,weight='weight'))\n",
    "print()\n",
    "print(\"AD: \", nx.average_clustering(MOCA_AD_graph,weight='weight'))"
   ]
  },
  {
   "cell_type": "markdown",
   "id": "4651440e",
   "metadata": {},
   "source": [
    "#### Global efficiency"
   ]
  },
  {
   "cell_type": "code",
   "execution_count": null,
   "id": "ea2fd5b8",
   "metadata": {},
   "outputs": [],
   "source": [
    "print(\"--------------------------------\")\n",
    "print(\"AVERAGE GLOBAL EFFICIENCY\")\n",
    "print(\"--------------------------------\")\n",
    "print()\n",
    "print(\"Controls: \", nx.global_efficiency(MOCA_CN_graph))\n",
    "print()\n",
    "print(\"MCI: \", nx.global_efficiency(MOCA_MCI_graph))\n",
    "print()\n",
    "print(\"AD: \", nx.global_efficiency(MOCA_AD_graph))"
   ]
  },
  {
   "cell_type": "markdown",
   "id": "9a3d1e92",
   "metadata": {},
   "source": [
    "#### Global metrics summary"
   ]
  },
  {
   "cell_type": "code",
   "execution_count": null,
   "id": "bb9020bc",
   "metadata": {
    "scrolled": true
   },
   "outputs": [],
   "source": [
    "MOCA_gm = global_metrics(MOCA_CN_graph, MOCA_MCI_graph, MOCA_AD_graph)\n",
    "MOCA_gm.reset_index(inplace=True)\n",
    "MOCA_gm"
   ]
  },
  {
   "cell_type": "code",
   "execution_count": null,
   "id": "fbe25ec1",
   "metadata": {},
   "outputs": [],
   "source": [
    "fig, ax = plt.subplots(2, 3, figsize=(22,13))\n",
    "\n",
    "sns.barplot(ax=ax[0,0], x=\"index\", y=\"NEdges\", data=MOCA_gm) \n",
    "sns.barplot(ax=ax[0,1], x=\"index\", y=\"Diameter\", data=MOCA_gm)\n",
    "sns.barplot(ax=ax[0,2], x=\"index\", y=\"Density\", data=MOCA_gm) \n",
    "sns.barplot(ax=ax[1,0], x=\"index\", y=\"AvDegree\", data=MOCA_gm) \n",
    "sns.barplot(ax=ax[1,1], x=\"index\", y=\"AvCC\", data=MOCA_gm)\n",
    "sns.barplot(ax=ax[1,2], x=\"index\", y=\"AvGE\",  data=MOCA_gm)\n",
    "\n",
    "fig.suptitle(\"Global metrics (MOCA)\", fontsize=20)\n",
    "\n",
    "rows, cols = 2, 3\n",
    "for i in range(rows):\n",
    "    for j in range(cols):\n",
    "        ax[i, j].set_xlabel('Diagnostic group')\n",
    "    \n",
    "plt.show()"
   ]
  },
  {
   "cell_type": "markdown",
   "id": "887f60f9",
   "metadata": {},
   "source": [
    "#### Modularity Index (Louvain Algorithm)"
   ]
  },
  {
   "cell_type": "code",
   "execution_count": null,
   "id": "b11f5d35",
   "metadata": {},
   "outputs": [],
   "source": [
    "import networkx.algorithms.community as nx_comm\n",
    "\n",
    "MOCA_CN_partition = nx_comm.louvain_communities(MOCA_CN_graph, weight='weight',seed=0)\n",
    "MOCA_MCI_partition = nx_comm.louvain_communities(MOCA_MCI_graph, weight='weight',seed=0)\n",
    "MOCA_AD_partition = nx_comm.louvain_communities(MOCA_AD_graph, weight='weight',seed=0)\n",
    "\n",
    "print(\"--------------------------------\")\n",
    "print(\"LOUVAIN COMMUNITIES\")\n",
    "print(\"--------------------------------\")\n",
    "print()\n",
    "print(\"Controls: \", MOCA_CN_partition)\n",
    "print()\n",
    "print(\"MCI: \", MOCA_MCI_partition)\n",
    "print()\n",
    "print(\"AD: \", MOCA_AD_partition)\n",
    "\n",
    "print()\n",
    "print(\"--------------------------------\")\n",
    "print(\"MODULARITY INDEX\")\n",
    "print(\"--------------------------------\")\n",
    "print()\n",
    "print(\"Controls: \", nx_comm.modularity(MOCA_CN_graph, MOCA_CN_partition, weight='weight'))\n",
    "print()\n",
    "print(\"MCI: \", nx_comm.modularity(MOCA_MCI_graph, MOCA_MCI_partition, weight='weight'))\n",
    "print()\n",
    "print(\"AD: \", nx_comm.modularity(MOCA_AD_graph, MOCA_AD_partition, weight='weight'))"
   ]
  },
  {
   "cell_type": "markdown",
   "id": "a1edfa7e",
   "metadata": {},
   "source": [
    "#### Draw graph (by communities)"
   ]
  },
  {
   "cell_type": "code",
   "execution_count": null,
   "id": "e72407c0",
   "metadata": {},
   "outputs": [],
   "source": [
    "#Plot\n",
    "fig, axes = plt.subplots(1,3, figsize=(20,6))\n",
    "\n",
    "\n",
    "#get colors\n",
    "MOCA_CN_colors = color_communities(MOCA_CN_graph, MOCA_CN_partition)\n",
    "MOCA_MCI_colors = color_communities(MOCA_MCI_graph, MOCA_MCI_partition)\n",
    "MOCA_AD_colors = color_communities(MOCA_AD_graph, MOCA_AD_partition)\n",
    "\n",
    "#Plot\n",
    "\n",
    "#fix position\n",
    "#pos=nx.spring_layout(MOCA_CN_graph)\n",
    "\n",
    "#get edges weights\n",
    "#edges_CN,weights_CN = zip(*nx.get_edge_attributes(MOCA_CN_graph,'weight').items())\n",
    "#edges_MCI,weights_MCI = zip(*nx.get_edge_attributes(MOCA_MCI_graph,'weight').items())\n",
    "#edges_AD,weights_AD = zip(*nx.get_edge_attributes(MOCA_AD_graph,'weight').items())\n",
    "\n",
    "weights_CN = list(nx.get_edge_attributes(MOCA_CN_graph,'weight').values())\n",
    "weights_MCI = list(nx.get_edge_attributes(MOCA_MCI_graph,'weight').values())\n",
    "weights_AD = list(nx.get_edge_attributes(MOCA_AD_graph,'weight').values())\n",
    "\n",
    "#draw graphs\n",
    "nx.draw(ax=axes[0], G=MOCA_CN_graph, pos=pos, node_color=MOCA_CN_colors, with_labels=True,\n",
    "       edge_color=weights_CN, edge_cmap=plt.cm.Greys, width=[ x*10 for x in weights_CN])\n",
    "nx.draw(ax=axes[1], G=MOCA_MCI_graph, pos=pos, node_color=MOCA_MCI_colors, with_labels=True,\n",
    "       edge_color=weights_MCI, edge_cmap=plt.cm.Greys, width=[ x*10 for x in weights_MCI])\n",
    "nx.draw(ax=axes[2], G=MOCA_AD_graph, pos=pos, node_color=MOCA_AD_colors, with_labels=True,\n",
    "       edge_color=weights_AD, edge_cmap=plt.cm.Greys, width=[ x*10 for x in weights_AD])\n",
    "\n",
    "#add title to subfigures\n",
    "axes[0].title.set_text(\"Controls\")\n",
    "axes[1].title.set_text(\"MCI\")\n",
    "axes[2].title.set_text(\"AD\")\n",
    "\n",
    "plt.show()"
   ]
  },
  {
   "cell_type": "markdown",
   "id": "49a08471",
   "metadata": {},
   "source": [
    "Community metrics for the controls group:"
   ]
  },
  {
   "cell_type": "code",
   "execution_count": null,
   "id": "471329ec",
   "metadata": {
    "scrolled": true
   },
   "outputs": [],
   "source": [
    "import warnings\n",
    "warnings.filterwarnings('ignore')\n",
    "\n",
    "display(community_metrics(MOCA_CN_graph, MOCA_CN_partition))"
   ]
  },
  {
   "cell_type": "markdown",
   "id": "9074c50a",
   "metadata": {},
   "source": [
    "MCI group:"
   ]
  },
  {
   "cell_type": "code",
   "execution_count": null,
   "id": "6a5eeb8b",
   "metadata": {
    "scrolled": true
   },
   "outputs": [],
   "source": [
    "community_metrics(MOCA_MCI_graph, MOCA_MCI_partition)"
   ]
  },
  {
   "cell_type": "markdown",
   "id": "b9ba9c3f",
   "metadata": {},
   "source": [
    "AD group: "
   ]
  },
  {
   "cell_type": "code",
   "execution_count": null,
   "id": "a29e7aac",
   "metadata": {
    "scrolled": true
   },
   "outputs": [],
   "source": [
    "community_metrics(MOCA_AD_graph, MOCA_AD_partition)"
   ]
  },
  {
   "cell_type": "markdown",
   "id": "b27ceb8f",
   "metadata": {},
   "source": [
    "#### Representation of the domains in each community"
   ]
  },
  {
   "cell_type": "code",
   "execution_count": null,
   "id": "f137c889",
   "metadata": {},
   "outputs": [],
   "source": [
    "#Get data \n",
    "MOCA_CN_domains = community_metrics(MOCA_CN_graph, MOCA_CN_partition)[['Index','Executive function','Language', 'Memory',\n",
    "                                                                      'Visuospatial', 'Attention', 'Orientation']]\n",
    "MOCA_MCI_domains = community_metrics(MOCA_MCI_graph, MOCA_MCI_partition)[['Index','Executive function','Language', 'Memory',\n",
    "                                                                      'Visuospatial', 'Attention', 'Orientation']]\n",
    "MOCA_AD_domains = community_metrics(MOCA_AD_graph, MOCA_AD_partition)[['Index','Executive function','Language', 'Memory',\n",
    "                                                                      'Visuospatial', 'Attention', 'Orientation']]\n",
    "\n",
    "#Reshape data with melt() function\n",
    "MOCA_CN_domains = MOCA_CN_domains.melt(id_vars=['Index'], var_name=\"Domain\", value_name='Percentage')\n",
    "MOCA_MCI_domains = MOCA_MCI_domains.melt(id_vars=['Index'], var_name=\"Domain\", value_name='Percentage')\n",
    "MOCA_AD_domains = MOCA_AD_domains.melt(id_vars=['Index'], var_name=\"Domain\", value_name='Percentage')\n",
    "\n",
    "#plot \n",
    "fig, axes = plt.subplots(1,3, figsize=(20,5))\n",
    "sns.barplot(ax=axes[0], x=\"Domain\", y=\"Percentage\", hue=\"Index\", data=MOCA_CN_domains)\n",
    "sns.barplot(ax=axes[1], x=\"Domain\", y=\"Percentage\", hue=\"Index\", data=MOCA_MCI_domains)\n",
    "sns.barplot(ax=axes[2], x=\"Domain\", y=\"Percentage\", hue=\"Index\", data=MOCA_AD_domains)\n",
    "\n",
    "\n",
    "#MOCA_CN_domains.plot(kind='bar',ax=axes[0], x=\"Domain\", y=\"Per. of representation\", hue=\"Index\", stacked=True)\n",
    "\n",
    "fig.suptitle(\"Neurocognitive domains distribution\")\n",
    "plt.legend(title='Community')\n",
    "\n",
    "plt.show()\n",
    "\n",
    "#send data to build stacked barplot in R\n",
    "MOCA_CN_domains.to_csv('./Results/MOCA/Louvain_CN.csv', index=False) \n",
    "MOCA_MCI_domains.to_csv('./Results/MOCA/Louvain_MCI.csv', index=False) \n",
    "MOCA_AD_domains.to_csv('./Results/MOCA/Louvain_AD.csv', index=False) "
   ]
  },
  {
   "cell_type": "markdown",
   "id": "1bb8704a",
   "metadata": {},
   "source": [
    "#### Modularity index (Greedy modularity algorithm)\n",
    "\n",
    "This function uses **Clauset-Newman-Moore greedy modularity maximization** to find the community partition with the largest modularity.\n",
    "\n",
    "Greedy modularity maximization begins with each node in its own community and repeatedly joins the pair of communities that lead to the largest modularity until no further increase in modularity is possible (a maximum)."
   ]
  },
  {
   "cell_type": "code",
   "execution_count": null,
   "id": "948ed621",
   "metadata": {},
   "outputs": [],
   "source": [
    "import networkx.algorithms.community as nx_comm\n",
    "\n",
    "MOCA_CN_partition = nx_comm.greedy_modularity_communities(MOCA_CN_graph, weight='weight')\n",
    "MOCA_MCI_partition = nx_comm.greedy_modularity_communities(MOCA_MCI_graph, weight='weight')\n",
    "MOCA_AD_partition = nx_comm.greedy_modularity_communities(MOCA_AD_graph, weight='weight')\n",
    "\n",
    "print(\"--------------------------------\")\n",
    "print(\"GREEDY MODULARITY COMMUNITIES\")\n",
    "print(\"--------------------------------\")\n",
    "print()\n",
    "print(\"Controls: \", MOCA_CN_partition)\n",
    "print()\n",
    "print(\"MCI: \", MOCA_MCI_partition)\n",
    "print()\n",
    "print(\"AD: \", MOCA_AD_partition)\n",
    "\n",
    "print()\n",
    "print(\"--------------------------------\")\n",
    "print(\"MODULARITY INDEX\")\n",
    "print(\"--------------------------------\")\n",
    "print()\n",
    "print(\"Controls: \", nx_comm.modularity(MOCA_CN_graph, MOCA_CN_partition, weight='weight'))\n",
    "print()\n",
    "print(\"MCI: \", nx_comm.modularity(MOCA_MCI_graph, MOCA_MCI_partition, weight='weight'))\n",
    "print()\n",
    "print(\"AD: \", nx_comm.modularity(MOCA_AD_graph, MOCA_AD_partition, weight='weight'))"
   ]
  },
  {
   "cell_type": "markdown",
   "id": "c799295c",
   "metadata": {},
   "source": [
    "#### Draw graph displaying communities (Greedy modularity communities)"
   ]
  },
  {
   "cell_type": "code",
   "execution_count": null,
   "id": "ac355d13",
   "metadata": {},
   "outputs": [],
   "source": [
    "#Plot\n",
    "fig, axes = plt.subplots(1,3, figsize=(20,6))\n",
    "\n",
    "#get colors\n",
    "MOCA_CN_colors = color_communities(MOCA_CN_graph, MOCA_CN_partition)\n",
    "MOCA_MCI_colors = color_communities(MOCA_MCI_graph, MOCA_MCI_partition)\n",
    "MOCA_AD_colors = color_communities(MOCA_AD_graph, MOCA_AD_partition)\n",
    "\n",
    "#fix positions\n",
    "#pos=nx.spring_layout(MOCA_CN_graph)\n",
    "\n",
    "#get edges weights\n",
    "#edges_CN,weights_CN = zip(*nx.get_edge_attributes(MOCA_CN_graph,'weight').items())\n",
    "#edges_MCI,weights_MCI = zip(*nx.get_edge_attributes(MOCA_MCI_graph,'weight').items())\n",
    "#edges_AD,weights_AD = zip(*nx.get_edge_attributes(MOCA_AD_graph,'weight').items())\n",
    "\n",
    "weights_CN = list(nx.get_edge_attributes(MOCA_CN_graph,'weight').values())\n",
    "weights_MCI = list(nx.get_edge_attributes(MOCA_MCI_graph,'weight').values())\n",
    "weights_AD = list(nx.get_edge_attributes(MOCA_AD_graph,'weight').values())\n",
    "\n",
    "#draw graphs\n",
    "nx.draw(ax=axes[0], G=MOCA_CN_graph, pos=pos, with_labels=True, node_color=MOCA_CN_colors,\n",
    "       edge_color=weights_CN, edge_cmap=plt.cm.Greys, width=[ x*10 for x in weights_CN])\n",
    "nx.draw(ax=axes[1], G=MOCA_MCI_graph, pos=pos, with_labels=True, node_color=MOCA_MCI_colors,\n",
    "       edge_color=weights_MCI, edge_cmap=plt.cm.Greys, width=[ x*10 for x in weights_MCI])\n",
    "nx.draw(ax=axes[2], G=MOCA_AD_graph, pos=pos, with_labels=True, node_color=MOCA_AD_colors,\n",
    "       edge_color=weights_AD, edge_cmap=plt.cm.Greys, width=[ x*10 for x in weights_AD])\n",
    "\n",
    "#add title to subfigures\n",
    "axes[0].title.set_text(\"Controls\")\n",
    "axes[1].title.set_text(\"MCI\")\n",
    "axes[2].title.set_text(\"AD\")\n",
    "\n",
    "plt.show()"
   ]
  },
  {
   "cell_type": "markdown",
   "id": "e75b5812",
   "metadata": {},
   "source": [
    "Community metrics for the controls group:"
   ]
  },
  {
   "cell_type": "code",
   "execution_count": null,
   "id": "08f75dce",
   "metadata": {
    "scrolled": true
   },
   "outputs": [],
   "source": [
    "import warnings\n",
    "warnings.filterwarnings('ignore')\n",
    "\n",
    "display(community_metrics(MOCA_CN_graph, MOCA_CN_partition))"
   ]
  },
  {
   "cell_type": "markdown",
   "id": "cc801621",
   "metadata": {},
   "source": [
    "MCI group:"
   ]
  },
  {
   "cell_type": "code",
   "execution_count": null,
   "id": "54a1e24e",
   "metadata": {
    "scrolled": true
   },
   "outputs": [],
   "source": [
    "community_metrics(MOCA_MCI_graph, MOCA_MCI_partition)"
   ]
  },
  {
   "cell_type": "markdown",
   "id": "42909f38",
   "metadata": {},
   "source": [
    "AD group: "
   ]
  },
  {
   "cell_type": "code",
   "execution_count": null,
   "id": "51b4c41d",
   "metadata": {
    "scrolled": true
   },
   "outputs": [],
   "source": [
    "community_metrics(MOCA_AD_graph, MOCA_AD_partition)"
   ]
  },
  {
   "cell_type": "markdown",
   "id": "a21c16cb",
   "metadata": {},
   "source": [
    "#### Representation of the domains in each community"
   ]
  },
  {
   "cell_type": "code",
   "execution_count": null,
   "id": "48bbe8bf",
   "metadata": {},
   "outputs": [],
   "source": [
    "#Get data \n",
    "MOCA_CN_domains = community_metrics(MOCA_CN_graph, MOCA_CN_partition)[['Index','Executive function','Language', 'Memory',\n",
    "                                                                      'Visuospatial', 'Attention', 'Orientation']]\n",
    "MOCA_MCI_domains = community_metrics(MOCA_MCI_graph, MOCA_MCI_partition)[['Index','Executive function','Language', 'Memory',\n",
    "                                                                      'Visuospatial', 'Attention', 'Orientation']]\n",
    "MOCA_AD_domains = community_metrics(MOCA_AD_graph, MOCA_AD_partition)[['Index','Executive function','Language', 'Memory',\n",
    "                                                                      'Visuospatial', 'Attention', 'Orientation']]\n",
    "\n",
    "#Reshape data with melt() function\n",
    "MOCA_CN_domains = MOCA_CN_domains.melt(id_vars=['Index'], var_name=\"Domain\", value_name='Percentage')\n",
    "MOCA_MCI_domains = MOCA_MCI_domains.melt(id_vars=['Index'], var_name=\"Domain\", value_name='Percentage')\n",
    "MOCA_AD_domains = MOCA_AD_domains.melt(id_vars=['Index'], var_name=\"Domain\", value_name='Percentage')\n",
    "\n",
    "#plot \n",
    "fig, axes = plt.subplots(1,3, figsize=(20,5))\n",
    "sns.barplot(ax=axes[0], x=\"Domain\", y=\"Percentage\", hue=\"Index\", data=MOCA_CN_domains)\n",
    "sns.barplot(ax=axes[1], x=\"Domain\", y=\"Percentage\", hue=\"Index\", data=MOCA_MCI_domains)\n",
    "sns.barplot(ax=axes[2], x=\"Domain\", y=\"Percentage\", hue=\"Index\", data=MOCA_AD_domains)\n",
    "\n",
    "\n",
    "#MOCA_CN_domains.plot(kind='bar',ax=axes[0], x=\"Domain\", y=\"Per. of representation\", hue=\"Index\", stacked=True)\n",
    "\n",
    "fig.suptitle(\"Neurocognitive domains distribution\")\n",
    "plt.legend(title='Community')\n",
    "\n",
    "plt.show()\n",
    "\n",
    "#send data to build stacked barplot in R\n",
    "MOCA_CN_domains.to_csv('./Results/MOCA/Greedy_CN.csv', index=False) \n",
    "MOCA_MCI_domains.to_csv('./Results/MOCA/Greedy_MCI.csv', index=False) \n",
    "MOCA_AD_domains.to_csv('./Results/MOCA/Greedy_AD.csv', index=False) "
   ]
  },
  {
   "cell_type": "markdown",
   "id": "85f8acaa",
   "metadata": {},
   "source": [
    "#### Modularity index (Kernighan-Lin bipartition algorithm)\n",
    "\n",
    "This function uses **Kernighan-Lin bipartition algorithm** to partition a graph into two blocks.\n",
    "\n",
    "This algorithm partitions a network into two sets by iteratively swapping pairs of nodes to reduce the edge cut between the two sets. The pairs are chosen according to a modified form of Kernighan-Lin, which moves node individually, alternating between sides to keep the bisection balanced."
   ]
  },
  {
   "cell_type": "code",
   "execution_count": null,
   "id": "3a074ea2",
   "metadata": {},
   "outputs": [],
   "source": [
    "import networkx.algorithms.community as nx_comm\n",
    "\n",
    "MOCA_CN_partition = nx_comm.kernighan_lin_bisection(MOCA_CN_graph, weight='weight', seed=0)\n",
    "MOCA_MCI_partition = nx_comm.kernighan_lin_bisection(MOCA_MCI_graph, weight='weight', seed=0)\n",
    "MOCA_AD_partition = nx_comm.kernighan_lin_bisection(MOCA_AD_graph, weight='weight', seed=0)\n",
    "\n",
    "print(\"--------------------------------\")\n",
    "print(\"KL MODULARITY COMMUNITIES\")\n",
    "print(\"--------------------------------\")\n",
    "print()\n",
    "print(\"Controls: \", MOCA_CN_partition)\n",
    "print()\n",
    "print(\"MCI: \", MOCA_MCI_partition)\n",
    "print()\n",
    "print(\"AD: \", MOCA_AD_partition)\n",
    "\n",
    "print()\n",
    "print(\"--------------------------------\")\n",
    "print(\"MODULARITY INDEX\")\n",
    "print(\"--------------------------------\")\n",
    "print()\n",
    "print(\"Controls: \", nx_comm.modularity(MOCA_CN_graph, MOCA_CN_partition, weight='weight'))\n",
    "print()\n",
    "print(\"MCI: \", nx_comm.modularity(MOCA_MCI_graph, MOCA_MCI_partition, weight='weight'))\n",
    "print()\n",
    "print(\"AD: \", nx_comm.modularity(MOCA_AD_graph, MOCA_AD_partition, weight='weight'))"
   ]
  },
  {
   "cell_type": "markdown",
   "id": "94614f6f",
   "metadata": {},
   "source": [
    "#### Draw graph displaying communities (Greedy modularity communities)"
   ]
  },
  {
   "cell_type": "code",
   "execution_count": null,
   "id": "b7dc75b7",
   "metadata": {},
   "outputs": [],
   "source": [
    "#Plot\n",
    "fig, axes = plt.subplots(1,3, figsize=(20,6))\n",
    "\n",
    "#get colors\n",
    "MOCA_CN_colors = color_communities(MOCA_CN_graph, MOCA_CN_partition)\n",
    "MOCA_MCI_colors = color_communities(MOCA_MCI_graph, MOCA_MCI_partition)\n",
    "MOCA_AD_colors = color_communities(MOCA_AD_graph, MOCA_AD_partition)\n",
    "\n",
    "#fix positions\n",
    "#pos=nx.spring_layout(MOCA_CN_graph)\n",
    "\n",
    "#get edges weights\n",
    "#edges_CN,weights_CN = zip(*nx.get_edge_attributes(MOCA_CN_graph,'weight').items())\n",
    "#edges_MCI,weights_MCI = zip(*nx.get_edge_attributes(MOCA_MCI_graph,'weight').items())\n",
    "#edges_AD,weights_AD = zip(*nx.get_edge_attributes(MOCA_AD_graph,'weight').items())\n",
    "\n",
    "weights_CN = list(nx.get_edge_attributes(MOCA_CN_graph,'weight').values())\n",
    "weights_MCI = list(nx.get_edge_attributes(MOCA_MCI_graph,'weight').values())\n",
    "weights_AD = list(nx.get_edge_attributes(MOCA_AD_graph,'weight').values())\n",
    "\n",
    "#draw graphs\n",
    "nx.draw(ax=axes[0], G=MOCA_CN_graph, pos=pos, with_labels=True, node_color=MOCA_CN_colors,\n",
    "       edge_color=weights_CN, edge_cmap=plt.cm.Greys, width=[ x*10 for x in weights_CN])\n",
    "nx.draw(ax=axes[1], G=MOCA_MCI_graph, pos=pos, with_labels=True, node_color=MOCA_MCI_colors,\n",
    "       edge_color=weights_MCI, edge_cmap=plt.cm.Greys, width=[ x*10 for x in weights_MCI])\n",
    "nx.draw(ax=axes[2], G=MOCA_AD_graph, pos=pos, with_labels=True, node_color=MOCA_AD_colors,\n",
    "       edge_color=weights_AD, edge_cmap=plt.cm.Greys, width=[ x*10 for x in weights_AD])\n",
    "\n",
    "#add title to subfigures\n",
    "axes[0].title.set_text(\"Controls\")\n",
    "axes[1].title.set_text(\"MCI\")\n",
    "axes[2].title.set_text(\"AD\")\n",
    "\n",
    "plt.show()"
   ]
  },
  {
   "cell_type": "markdown",
   "id": "e502369f",
   "metadata": {},
   "source": [
    "#### Get subgraphs metrics (Kernighan-Lin bisection algorithm)\n",
    "\n",
    "Each community detected is going to be considered as a subgraph. "
   ]
  },
  {
   "cell_type": "markdown",
   "id": "7f96cd39",
   "metadata": {},
   "source": [
    "Community metrics for the controls group:"
   ]
  },
  {
   "cell_type": "code",
   "execution_count": null,
   "id": "986a7a26",
   "metadata": {
    "scrolled": true
   },
   "outputs": [],
   "source": [
    "import warnings\n",
    "warnings.filterwarnings('ignore')\n",
    "\n",
    "display(community_metrics(MOCA_CN_graph, MOCA_CN_partition))"
   ]
  },
  {
   "cell_type": "markdown",
   "id": "540ad1a0",
   "metadata": {},
   "source": [
    "MCI group:"
   ]
  },
  {
   "cell_type": "code",
   "execution_count": null,
   "id": "7fe0d77b",
   "metadata": {
    "scrolled": true
   },
   "outputs": [],
   "source": [
    "community_metrics(MOCA_MCI_graph, MOCA_MCI_partition)"
   ]
  },
  {
   "cell_type": "markdown",
   "id": "f8fb2053",
   "metadata": {},
   "source": [
    "AD group: "
   ]
  },
  {
   "cell_type": "code",
   "execution_count": null,
   "id": "0a8bfcf9",
   "metadata": {
    "scrolled": true
   },
   "outputs": [],
   "source": [
    "community_metrics(MOCA_AD_graph, MOCA_AD_partition)"
   ]
  },
  {
   "cell_type": "markdown",
   "id": "c1cc6856",
   "metadata": {},
   "source": [
    "#### Representation of the domains in each community"
   ]
  },
  {
   "cell_type": "code",
   "execution_count": null,
   "id": "01ef868d",
   "metadata": {
    "scrolled": true
   },
   "outputs": [],
   "source": [
    "#Get data \n",
    "MOCA_CN_domains = community_metrics(MOCA_CN_graph, MOCA_CN_partition)[['Index','Executive function','Language', 'Memory',\n",
    "                                                                      'Visuospatial', 'Attention', 'Orientation']]\n",
    "MOCA_MCI_domains = community_metrics(MOCA_MCI_graph, MOCA_MCI_partition)[['Index','Executive function','Language', 'Memory',\n",
    "                                                                      'Visuospatial', 'Attention', 'Orientation']]\n",
    "MOCA_AD_domains = community_metrics(MOCA_AD_graph, MOCA_AD_partition)[['Index','Executive function','Language', 'Memory',\n",
    "                                                                      'Visuospatial', 'Attention', 'Orientation']]\n",
    "\n",
    "#Reshape data with melt() function\n",
    "MOCA_CN_domains = MOCA_CN_domains.melt(id_vars=['Index'], var_name=\"Domain\", value_name='Percentage')\n",
    "MOCA_MCI_domains = MOCA_MCI_domains.melt(id_vars=['Index'], var_name=\"Domain\", value_name='Percentage')\n",
    "MOCA_AD_domains = MOCA_AD_domains.melt(id_vars=['Index'], var_name=\"Domain\", value_name='Percentage')\n",
    "\n",
    "#plot \n",
    "fig, axes = plt.subplots(1,3, figsize=(20,5))\n",
    "sns.barplot(ax=axes[0], x=\"Domain\", y=\"Percentage\", hue=\"Index\", data=MOCA_CN_domains)\n",
    "sns.barplot(ax=axes[1], x=\"Domain\", y=\"Percentage\", hue=\"Index\", data=MOCA_MCI_domains)\n",
    "sns.barplot(ax=axes[2], x=\"Domain\", y=\"Percentage\", hue=\"Index\", data=MOCA_AD_domains)\n",
    "\n",
    "\n",
    "#MOCA_CN_domains.plot(kind='bar',ax=axes[0], x=\"Domain\", y=\"Per. of representation\", hue=\"Index\", stacked=True)\n",
    "\n",
    "fig.suptitle(\"Neurocognitive domains distribution\")\n",
    "plt.legend(title='Community')\n",
    "\n",
    "plt.show()\n",
    "\n",
    "#send data to build stacked barplot in R\n",
    "MOCA_CN_domains.to_csv('./Results/MOCA/Bisection_CN.csv', index=False) \n",
    "MOCA_MCI_domains.to_csv('./Results/MOCA/Bisection_MCI.csv', index=False) \n",
    "MOCA_AD_domains.to_csv('./Results/MOCA/Bisection_AD.csv', index=False) "
   ]
  },
  {
   "cell_type": "markdown",
   "id": "ab538b10",
   "metadata": {},
   "source": [
    "#### Modularity index (Label propagation)\n",
    "\n",
    "This function uses the **asynchronous label propagation algorithm** which is probabilistic and the found communities may vary on different executions.\n",
    "\n",
    "The algorithm proceeds as follows. After initializing each node with a unique label, the algorithm repeatedly sets the label of a node to be the label that appears most frequently among that nodes neighbors. The algorithm halts when each node has the label that appears most frequently among its neighbors. The algorithm is asynchronous because each node is updated without waiting for updates on the remaining nodes."
   ]
  },
  {
   "cell_type": "code",
   "execution_count": null,
   "id": "189c2126",
   "metadata": {},
   "outputs": [],
   "source": [
    "import networkx.algorithms.community as nx_comm\n",
    "\n",
    "MOCA_CN_partition = list(nx_comm.asyn_lpa_communities(MOCA_CN_graph, weight='weight', seed=1))\n",
    "MOCA_MCI_partition = list(nx_comm.asyn_lpa_communities(MOCA_MCI_graph, weight='weight', seed=1))\n",
    "MOCA_AD_partition = list(nx_comm.asyn_lpa_communities(MOCA_AD_graph, weight='weight', seed=1))\n",
    "\n",
    "print(\"--------------------------------\")\n",
    "print(\"LABEL PROPAGATION COMMUNITIES\")\n",
    "print(\"--------------------------------\")\n",
    "print()\n",
    "print(\"Controls: \", MOCA_CN_partition)\n",
    "print()\n",
    "print(\"MCI: \", MOCA_MCI_partition)\n",
    "print()\n",
    "print(\"AD: \", MOCA_AD_partition)\n",
    "\n",
    "print()\n",
    "print(\"--------------------------------\")\n",
    "print(\"MODULARITY INDEX\")\n",
    "print(\"--------------------------------\")\n",
    "print()\n",
    "print(\"Controls: \", nx_comm.modularity(MOCA_CN_graph, MOCA_CN_partition, weight='weight'))\n",
    "print()\n",
    "print(\"MCI: \", nx_comm.modularity(MOCA_MCI_graph, MOCA_MCI_partition, weight='weight'))\n",
    "print()\n",
    "print(\"AD: \", nx_comm.modularity(MOCA_AD_graph, MOCA_AD_partition, weight='weight'))"
   ]
  },
  {
   "cell_type": "markdown",
   "id": "3760cd6c",
   "metadata": {},
   "source": [
    "#### Draw graph displaying communities (Greedy modularity communities)"
   ]
  },
  {
   "cell_type": "code",
   "execution_count": null,
   "id": "9339cda8",
   "metadata": {},
   "outputs": [],
   "source": [
    "#Plot\n",
    "fig, axes = plt.subplots(1,3, figsize=(20,6))\n",
    "\n",
    "\n",
    "#get colors\n",
    "MOCA_CN_colors = color_communities(MOCA_CN_graph, MOCA_CN_partition)\n",
    "MOCA_MCI_colors = color_communities(MOCA_MCI_graph, MOCA_MCI_partition)\n",
    "MOCA_AD_colors = color_communities(MOCA_AD_graph, MOCA_AD_partition)\n",
    "\n",
    "#fix positions\n",
    "#pos=nx.spring_layout(MOCA_CN_graph)\n",
    "\n",
    "#get edges weights\n",
    "#edges_CN,weights_CN = zip(*nx.get_edge_attributes(MOCA_CN_graph,'weight').items())\n",
    "#edges_MCI,weights_MCI = zip(*nx.get_edge_attributes(MOCA_MCI_graph,'weight').items())\n",
    "#edges_AD,weights_AD = zip(*nx.get_edge_attributes(MOCA_AD_graph,'weight').items())\n",
    "\n",
    "weights_CN = list(nx.get_edge_attributes(MOCA_CN_graph,'weight').values())\n",
    "weights_MCI = list(nx.get_edge_attributes(MOCA_MCI_graph,'weight').values())\n",
    "weights_AD = list(nx.get_edge_attributes(MOCA_AD_graph,'weight').values())\n",
    "\n",
    "#draw graphs\n",
    "nx.draw(ax=axes[0], G=MOCA_CN_graph, pos=pos, with_labels=True, node_color=MOCA_CN_colors,\n",
    "       edge_color=weights_CN, edge_cmap=plt.cm.Greys, width=[ x*10 for x in weights_CN])\n",
    "nx.draw(ax=axes[1], G=MOCA_MCI_graph, pos=pos, with_labels=True, node_color=MOCA_MCI_colors,\n",
    "       edge_color=weights_MCI, edge_cmap=plt.cm.Greys, width=[ x*10 for x in weights_MCI])\n",
    "nx.draw(ax=axes[2], G=MOCA_AD_graph, pos=pos, with_labels=True, node_color=MOCA_AD_colors,\n",
    "       edge_color=weights_AD, edge_cmap=plt.cm.Greys, width=[ x*10 for x in weights_AD])\n",
    "\n",
    "#add title to subfigures\n",
    "axes[0].title.set_text(\"Controls\")\n",
    "axes[1].title.set_text(\"MCI\")\n",
    "axes[2].title.set_text(\"AD\")\n",
    "\n",
    "plt.show()"
   ]
  },
  {
   "cell_type": "markdown",
   "id": "03d9362f",
   "metadata": {},
   "source": [
    "#### Get subgraphs metrics (Greedy modularity algorithm)\n",
    "\n",
    "Each community detected is going to be considered as a subgraph. "
   ]
  },
  {
   "cell_type": "markdown",
   "id": "4c896ed6",
   "metadata": {},
   "source": [
    "Community metrics for the controls group:"
   ]
  },
  {
   "cell_type": "code",
   "execution_count": null,
   "id": "64a01cdd",
   "metadata": {
    "scrolled": true
   },
   "outputs": [],
   "source": [
    "import warnings\n",
    "warnings.filterwarnings('ignore')\n",
    "\n",
    "display(community_metrics(MOCA_CN_graph, MOCA_CN_partition))"
   ]
  },
  {
   "cell_type": "markdown",
   "id": "31273140",
   "metadata": {},
   "source": [
    "MCI group:"
   ]
  },
  {
   "cell_type": "code",
   "execution_count": null,
   "id": "badc1422",
   "metadata": {
    "scrolled": false
   },
   "outputs": [],
   "source": [
    "community_metrics(MOCA_MCI_graph, MOCA_MCI_partition)"
   ]
  },
  {
   "cell_type": "markdown",
   "id": "9860a116",
   "metadata": {},
   "source": [
    "AD group: "
   ]
  },
  {
   "cell_type": "code",
   "execution_count": null,
   "id": "4917d959",
   "metadata": {
    "scrolled": false
   },
   "outputs": [],
   "source": [
    "community_metrics(MOCA_AD_graph, MOCA_AD_partition)"
   ]
  },
  {
   "cell_type": "markdown",
   "id": "3a9f7fd0",
   "metadata": {},
   "source": [
    "#### Representation of the domains in each community"
   ]
  },
  {
   "cell_type": "code",
   "execution_count": null,
   "id": "2ab390ea",
   "metadata": {
    "scrolled": true
   },
   "outputs": [],
   "source": [
    "#Get data \n",
    "MOCA_CN_domains = community_metrics(MOCA_CN_graph, MOCA_CN_partition)[['Index','Executive function','Language', 'Memory',\n",
    "                                                                      'Visuospatial', 'Attention', 'Orientation']]\n",
    "MOCA_MCI_domains = community_metrics(MOCA_MCI_graph, MOCA_MCI_partition)[['Index','Executive function','Language', 'Memory',\n",
    "                                                                      'Visuospatial', 'Attention', 'Orientation']]\n",
    "MOCA_AD_domains = community_metrics(MOCA_AD_graph, MOCA_AD_partition)[['Index','Executive function','Language', 'Memory',\n",
    "                                                                      'Visuospatial', 'Attention', 'Orientation']]\n",
    "\n",
    "#Reshape data with melt() function\n",
    "MOCA_CN_domains = MOCA_CN_domains.melt(id_vars=['Index'], var_name=\"Domain\", value_name='Percentage')\n",
    "MOCA_MCI_domains = MOCA_MCI_domains.melt(id_vars=['Index'], var_name=\"Domain\", value_name='Percentage')\n",
    "MOCA_AD_domains = MOCA_AD_domains.melt(id_vars=['Index'], var_name=\"Domain\", value_name='Percentage')\n",
    "\n",
    "#plot \n",
    "fig, axes = plt.subplots(1,3, figsize=(20,5))\n",
    "sns.barplot(ax=axes[0], x=\"Domain\", y=\"Percentage\", hue=\"Index\", data=MOCA_CN_domains)\n",
    "sns.barplot(ax=axes[1], x=\"Domain\", y=\"Percentage\", hue=\"Index\", data=MOCA_MCI_domains)\n",
    "sns.barplot(ax=axes[2], x=\"Domain\", y=\"Percentage\", hue=\"Index\", data=MOCA_AD_domains)\n",
    "\n",
    "\n",
    "#MOCA_CN_domains.plot(kind='bar',ax=axes[0], x=\"Domain\", y=\"Per. of representation\", hue=\"Index\", stacked=True)\n",
    "\n",
    "fig.suptitle(\"Neurocognitive domains distribution\")\n",
    "plt.legend(title='Community')\n",
    "\n",
    "plt.show()\n",
    "\n",
    "#send data to build stacked barplot in R\n",
    "MOCA_CN_domains.to_csv('./Results/MOCA/Asyn_CN.csv', index=False) \n",
    "MOCA_MCI_domains.to_csv('./Results/MOCA/Asyn_MCI.csv', index=False) \n",
    "MOCA_AD_domains.to_csv('./Results/MOCA/Asyn_AD.csv', index=False) "
   ]
  },
  {
   "cell_type": "markdown",
   "id": "5035ee84",
   "metadata": {},
   "source": [
    "### Merged data\n",
    "\n",
    "#### Divide data by diagnostic group"
   ]
  },
  {
   "cell_type": "code",
   "execution_count": null,
   "id": "b1d6af52",
   "metadata": {},
   "outputs": [],
   "source": [
    "#Get indexes of subjects belonging to each group\n",
    "merged_indexes = {} #Create empty dictionary\n",
    "dx_groups = [\"CN\",\"MCI\", \"AD\"] #diagnostic groups list\n",
    "\n",
    "Y_merged = Y_merged.replace({'EMCI':'MCI', 'LMCI':'MCI',\"SMC\":\"CN\"})\n",
    "\n",
    "for dx in dx_groups:\n",
    "    merged_indexes[dx] = Y_merged.index[Y_merged['DX_bl'] == dx].tolist()\n",
    "    \n",
    "#Filter results table by diagnostic group\n",
    "X_merged_CN = X_merged.iloc[merged_indexes[\"CN\"]]\n",
    "X_merged_MCI = X_merged.iloc[merged_indexes[\"MCI\"]]\n",
    "X_merged_AD = X_merged.iloc[merged_indexes[\"AD\"]]\n",
    "\n",
    "print(\"Number of instances CN: \", X_merged_CN.shape[0])\n",
    "print(\"Number of instances MCI: \", X_merged_MCI.shape[0])\n",
    "print(\"Number of instances AD: \", X_merged_AD.shape[0])"
   ]
  },
  {
   "cell_type": "markdown",
   "id": "22693fdc",
   "metadata": {},
   "source": [
    "#### Plot z-scores by cognitive domain\n",
    "\n",
    "1. Compute averages of each test\n",
    "2. Group by NC domain\n",
    "3. Compute the average of each domain"
   ]
  },
  {
   "cell_type": "code",
   "execution_count": null,
   "id": "e30b0bbd",
   "metadata": {},
   "outputs": [],
   "source": [
    "metadata_path = \"./Tests/merged_Metadata.csv\"\n",
    "#Compute zscores means for each cognitive domain by diagnostic group\n",
    "merged_means_CN = zscores_means(X_merged_CN, \"CN\", metadata_path)\n",
    "merged_means_MCI = zscores_means(X_merged_MCI, \"MCI\", metadata_path)\n",
    "merged_means_AD = zscores_means(X_merged_AD, \"AD\", metadata_path)\n",
    "\n",
    "#Concanetate all dataframes\n",
    "merged_means_df = pd.concat([merged_means_CN, merged_means_MCI, merged_means_AD])\n",
    "merged_means_df.index = range(len(merged_means_df))\n",
    "\n",
    "#plot dataframe\n",
    "plt.figure(figsize=(8, 5), dpi=80)\n",
    "sns.lineplot(data=merged_means_df, x='Cognitive Domain', y='Mean', hue='Diagnostic')\n",
    "plt.title(\"Cognitive phenotype groups mean scores (merged)\")\n",
    "plt.ylabel(\"Mean z-scores\")\n",
    "plt.legend(title=\"Diagnostic group\")\n",
    "plt.show()"
   ]
  },
  {
   "cell_type": "markdown",
   "id": "c6e8769c",
   "metadata": {},
   "source": [
    "#### Compute adjacency matrixes"
   ]
  },
  {
   "cell_type": "code",
   "execution_count": null,
   "id": "eff81c24",
   "metadata": {},
   "outputs": [],
   "source": [
    "merged_CN_mx = par_corr(X_merged_CN)\n",
    "merged_MCI_mx = par_corr(X_merged_MCI)\n",
    "merged_AD_mx = par_corr(X_merged_AD)"
   ]
  },
  {
   "cell_type": "markdown",
   "id": "f9d035be",
   "metadata": {},
   "source": [
    "#### Plot adjacency matrixes"
   ]
  },
  {
   "cell_type": "code",
   "execution_count": null,
   "id": "020d7c2f",
   "metadata": {},
   "outputs": [],
   "source": [
    "fig, axes = plt.subplots(1,3, figsize=(20,6))\n",
    "\n",
    "\n",
    "fig.suptitle('Adjacency matrixes')\n",
    "\n",
    "sns.heatmap(ax=axes[0],data=merged_CN_mx, annot=False, cmap=\"Spectral\", vmin=-1, vmax=1)\n",
    "sns.heatmap(ax=axes[1],data=merged_MCI_mx, annot=False, cmap=\"Spectral\", vmin=-1, vmax=1)\n",
    "sns.heatmap(ax=axes[2],data=merged_AD_mx, annot=False, cmap=\"Spectral\", vmin=-1, vmax=1)\n",
    "\n",
    "#add title to subfigures\n",
    "axes[0].title.set_text(\"Controls\")\n",
    "axes[1].title.set_text(\"MCI\")\n",
    "axes[2].title.set_text(\"AD\")\n",
    "\n",
    "plt.show()"
   ]
  },
  {
   "cell_type": "code",
   "execution_count": null,
   "id": "0ef1290c",
   "metadata": {},
   "outputs": [],
   "source": [
    "X_merged_CN.describe()"
   ]
  },
  {
   "cell_type": "code",
   "execution_count": null,
   "id": "06b0bd5e",
   "metadata": {},
   "outputs": [],
   "source": [
    "X_merged_MCI.describe()"
   ]
  },
  {
   "cell_type": "code",
   "execution_count": null,
   "id": "17674715",
   "metadata": {},
   "outputs": [],
   "source": [
    "X_merged_AD.describe()"
   ]
  },
  {
   "cell_type": "markdown",
   "id": "26568184",
   "metadata": {},
   "source": [
    "#### Compute graph"
   ]
  },
  {
   "cell_type": "code",
   "execution_count": null,
   "id": "245372ff",
   "metadata": {},
   "outputs": [],
   "source": [
    "#Remove diagonal elements and negative correlations from the matrix\n",
    "\n",
    "for i in range(merged_MCI_mx.shape[1]):\n",
    "    colname = merged_MCI_mx.columns[i]\n",
    "    #merged_CN_mx[colname] = np.where((merged_CN_mx[colname]< 0) | (merged_CN_mx[colname]==1.0) | (merged_CN_mx[colname].isnull()),0, merged_CN_mx[colname]) \n",
    "    #merged_MCI_mx[colname] = np.where((merged_MCI_mx[colname]< 0) | (merged_MCI_mx[colname]==1.0) | (merged_MCI_mx[colname].isnull()),0, merged_MCI_mx[colname]) \n",
    "    #merged_AD_mx[colname] = np.where((merged_AD_mx[colname]< 0) | (merged_AD_mx[colname]==1.0) | (merged_AD_mx[colname].isnull()),0, merged_AD_mx[colname])\n",
    "    merged_CN_mx[colname] = np.where((merged_CN_mx[colname]==1.0) | (merged_CN_mx[colname].isnull()),0, merged_CN_mx[colname]) \n",
    "    merged_MCI_mx[colname] = np.where((merged_MCI_mx[colname]==1.0) | (merged_MCI_mx[colname].isnull()),0, merged_MCI_mx[colname]) \n",
    "    merged_AD_mx[colname] = np.where((merged_AD_mx[colname]==1.0) | (merged_AD_mx[colname].isnull()),0, merged_AD_mx[colname])\n",
    "    #Convert negative correlations in positive ones\n",
    "    merged_CN_mx[colname] = np.where((merged_CN_mx[colname]<0),-1*merged_CN_mx[colname], merged_CN_mx[colname]) \n",
    "    merged_MCI_mx[colname] = np.where((merged_MCI_mx[colname]<0),-1*merged_MCI_mx[colname], merged_MCI_mx[colname]) \n",
    "    merged_AD_mx[colname] = np.where((merged_AD_mx[colname]<0),-1*merged_AD_mx[colname], merged_AD_mx[colname]) "
   ]
  },
  {
   "cell_type": "code",
   "execution_count": null,
   "id": "fa67902c",
   "metadata": {},
   "outputs": [],
   "source": [
    "import networkx as nx\n",
    "\n",
    "#convert adjacency matrix into graph\n",
    "merged_CN_graph = nx.from_numpy_array(merged_CN_mx.to_numpy())\n",
    "merged_MCI_graph = nx.from_numpy_array(merged_MCI_mx.to_numpy())\n",
    "merged_AD_graph = nx.from_numpy_array(merged_AD_mx.to_numpy())"
   ]
  },
  {
   "cell_type": "code",
   "execution_count": null,
   "id": "0a0050d5",
   "metadata": {},
   "outputs": [],
   "source": [
    "#count nodes and edges\n",
    "print(\"CN-------------------------\")\n",
    "print(\"- Number of nodes: \", merged_CN_graph.number_of_nodes())\n",
    "print(\"- Number of edges: \", merged_CN_graph.number_of_edges())\n",
    "print()\n",
    "print(\"MCI-------------------------\")\n",
    "print(\"- Number of nodes: \", merged_MCI_graph.number_of_nodes())\n",
    "print(\"- Number of edges: \", merged_MCI_graph.number_of_edges())\n",
    "print()\n",
    "print(\"AD-------------------------\")\n",
    "print(\"- Number of nodes: \", merged_AD_graph.number_of_nodes())\n",
    "print(\"- Number of edges: \", merged_AD_graph.number_of_edges())"
   ]
  },
  {
   "cell_type": "markdown",
   "id": "f44d6a8f",
   "metadata": {},
   "source": [
    "#### Add node attributes\n",
    "\n",
    "As the nodes represent different tests they are going to have the following attributes:\n",
    "\n",
    "- ADNI column: name of the test in the ADNI database\n",
    "- Test description\n",
    "- Cognitive domain"
   ]
  },
  {
   "cell_type": "code",
   "execution_count": null,
   "id": "69aeb53b",
   "metadata": {},
   "outputs": [],
   "source": [
    "#Import node metadata\n",
    "merged_metadata = pd.read_csv(\"./Tests/merged_Metadata.csv\", sep=\";\", \n",
    "                            usecols = ['Node', 'ADNI column', 'Test', 'Cognitive Domain'])\n",
    "\n",
    "graphs = [merged_CN_graph, merged_MCI_graph, merged_AD_graph]\n",
    "\n",
    "for graph in graphs:\n",
    "    #ADNI column\n",
    "    nx.set_node_attributes(graph, dict(zip(merged_metadata.Node, merged_metadata['ADNI column'])), name=\"ADNIColumn\")\n",
    "    #Test\n",
    "    nx.set_node_attributes(graph, dict(zip(merged_metadata.Node, merged_metadata['Test'])), name=\"Test\")\n",
    "    #Cognitive domain\n",
    "    nx.set_node_attributes(graph, dict(zip(merged_metadata.Node, merged_metadata['Cognitive Domain'])), name=\"Domain\")"
   ]
  },
  {
   "cell_type": "markdown",
   "id": "1a48ad89",
   "metadata": {},
   "source": [
    "#### Draw graph"
   ]
  },
  {
   "cell_type": "code",
   "execution_count": null,
   "id": "06c145e7",
   "metadata": {},
   "outputs": [],
   "source": [
    "#Plot\n",
    "fig, axes = plt.subplots(1,3, figsize=(20,6))\n",
    "\n",
    "#fix position\n",
    "pos=nx.spring_layout(merged_AD_graph)\n",
    "\n",
    "#get edges weights\n",
    "#edges_CN,weights_CN = zip(*nx.get_edge_attributes(merged_CN_graph,'weight').items())\n",
    "#edges_MCI,weights_MCI = zip(*nx.get_edge_attributes(merged_MCI_graph,'weight').items())\n",
    "#edges_AD,weights_AD = zip(*nx.get_edge_attributes(merged_AD_graph,'weight').items())\n",
    "\n",
    "weights_CN = list(nx.get_edge_attributes(merged_CN_graph,'weight').values())\n",
    "weights_MCI = list(nx.get_edge_attributes(merged_MCI_graph,'weight').values())\n",
    "weights_AD = list(nx.get_edge_attributes(merged_AD_graph,'weight').values())\n",
    "\n",
    "#color by nc domain\n",
    "ATTRIBUTE_NAME = 'Domain'\n",
    "#convert domains into numeric keys\n",
    "mapping = {'Attention':0, 'Concentration':1, 'Executive':2, 'Language':3, 'Memory':4,\n",
    "          'Orientation':5, 'Visuospatial':6} \n",
    "\n",
    "colors=[]\n",
    "for node in list(merged_CN_graph.nodes()): #iterate each node\n",
    "    domain = merged_CN_graph.nodes[node][ATTRIBUTE_NAME]\n",
    "    colors.append(mapping[domain])\n",
    "\n",
    "#draw graphs\n",
    "nx.draw(ax=axes[0], G=merged_CN_graph, pos=pos, with_labels=True, node_color=colors,\n",
    "       edge_color=weights_CN, edge_cmap=plt.cm.Greys, width=[ x*10 for x in weights_CN])\n",
    "nx.draw(ax=axes[1], G=merged_MCI_graph, pos=pos, with_labels=True, node_color=colors,\n",
    "       edge_color=weights_MCI, edge_cmap=plt.cm.Greys, width=[ x*10 for x in weights_MCI])\n",
    "nx.draw(ax=axes[2], G=merged_AD_graph, pos=pos, with_labels=True, node_color=colors,\n",
    "       edge_color=weights_AD, edge_cmap=plt.cm.Greys, width=[ x*10 for x in weights_AD])\n",
    "\n",
    "#add title to subfigures\n",
    "axes[0].title.set_text(\"Controls\")\n",
    "axes[1].title.set_text(\"MCI\")\n",
    "axes[2].title.set_text(\"AD\")\n",
    "\n",
    "plt.savefig(\"./Results/Figures/Graphs/merged.svg\", format=\"svg\")\n",
    "\n",
    "plt.show()"
   ]
  },
  {
   "cell_type": "markdown",
   "id": "4ae50169",
   "metadata": {},
   "source": [
    "#### Edges weights"
   ]
  },
  {
   "cell_type": "code",
   "execution_count": null,
   "id": "e06f21d0",
   "metadata": {},
   "outputs": [],
   "source": [
    "#Create dataframe with weights\n",
    "weights_df_CN = pd.DataFrame(weights_CN, columns=[\"Weight\"])\n",
    "weights_df_CN['Diagnostic'] = \"CN\"\n",
    "weights_df_MCI = pd.DataFrame(weights_MCI, columns=[\"Weight\"])\n",
    "weights_df_MCI['Diagnostic'] = \"MCI\"\n",
    "weights_df_AD = pd.DataFrame(weights_AD, columns=[\"Weight\"])\n",
    "weights_df_AD['Diagnostic'] = \"AD\"\n",
    "\n",
    "#merge all\n",
    "weights_df = pd.concat([weights_df_CN, weights_df_MCI, weights_df_AD], ignore_index=True)\n",
    "\n",
    "#plot histogram\n",
    "sns.histplot(data=weights_df, x=\"Weight\", hue=\"Diagnostic\")\n",
    "plt.title(\"Edge weights distribution\")\n",
    "plt.show()"
   ]
  },
  {
   "cell_type": "markdown",
   "id": "d858701a",
   "metadata": {},
   "source": [
    "#### Node centrality"
   ]
  },
  {
   "cell_type": "code",
   "execution_count": null,
   "id": "5d45e1a9",
   "metadata": {
    "scrolled": true
   },
   "outputs": [],
   "source": [
    "#Node degree\n",
    "\n",
    "print(\"---------------------\")\n",
    "print(\"DEGREE CENTRALITY\")\n",
    "print(\"---------------------\")\n",
    "print()\n",
    "print(\"Controls: \", nx.degree_centrality(merged_CN_graph))\n",
    "print()\n",
    "print(\"MCI: \", nx.degree_centrality(merged_MCI_graph))\n",
    "print()\n",
    "print(\"AD: \", nx.degree_centrality(merged_AD_graph))"
   ]
  },
  {
   "cell_type": "markdown",
   "id": "d4114211",
   "metadata": {},
   "source": [
    "#### Other centrality measures"
   ]
  },
  {
   "cell_type": "code",
   "execution_count": null,
   "id": "5c29ad19",
   "metadata": {
    "scrolled": true
   },
   "outputs": [],
   "source": [
    "print(\"Controls----------------------------------\")\n",
    "display(centrality(merged_CN_graph, merged_columns))\n",
    "print(\"MCI----------------------------------\")\n",
    "display(centrality(merged_MCI_graph, merged_columns))\n",
    "print(\"AD----------------------------------\")\n",
    "display(centrality(merged_AD_graph, merged_columns))"
   ]
  },
  {
   "cell_type": "code",
   "execution_count": null,
   "id": "56ad7e03",
   "metadata": {},
   "outputs": [],
   "source": [
    "plot_centrality(merged_CN_graph, merged_MCI_graph, merged_AD_graph, merged_columns, \"Degree_Centrality\")"
   ]
  },
  {
   "cell_type": "markdown",
   "id": "a7acc2d3",
   "metadata": {},
   "source": [
    "#### Relation between node degree and betweenness centrality"
   ]
  },
  {
   "cell_type": "code",
   "execution_count": null,
   "id": "9c8bf914",
   "metadata": {},
   "outputs": [],
   "source": [
    "#Get centrality metrics table\n",
    "merged_CN_centrality = centrality(merged_CN_graph, merged_columns)\n",
    "merged_MCI_centrality = centrality(merged_MCI_graph, merged_columns)\n",
    "merged_AD_centrality = centrality(merged_AD_graph, merged_columns)\n",
    "\n",
    "#Plot\n",
    "fig, axes = plt.subplots(1,3, figsize=(20,6))\n",
    "\n",
    "\n",
    "sns.scatterplot(ax=axes[0],data=merged_CN_centrality, x=\"Degree_Centrality\", y=\"Betweenness_Centrality\", s=50)\n",
    "sns.scatterplot(ax=axes[1],data=merged_MCI_centrality, x=\"Degree_Centrality\", y=\"Betweenness_Centrality\", s=50)\n",
    "sns.scatterplot(ax=axes[2],data=merged_AD_centrality, x=\"Degree_Centrality\", y=\"Betweenness_Centrality\", s=50)\n",
    "\n",
    "#labels\n",
    "axes[0].set_ylabel(\"Betweenness Centrality\")\n",
    "axes[1].set_ylabel(\"Betweenness Centrality\")\n",
    "axes[2].set_ylabel(\"Betweenness Centrality\")\n",
    "axes[0].set_xlabel(\"Degree Centrality\")\n",
    "axes[1].set_xlabel(\"Degree Centrality\")\n",
    "axes[2].set_xlabel(\"Degree Centrality\")\n",
    "\n",
    "#add title\n",
    "fig.suptitle('Node degree vs betweenness centrality')\n",
    "\n",
    "#add title to subfigures\n",
    "axes[0].title.set_text(\"Controls\")\n",
    "axes[1].title.set_text(\"MCI\")\n",
    "axes[2].title.set_text(\"AD\")\n",
    "\n",
    "\n",
    "plt.show()"
   ]
  },
  {
   "cell_type": "markdown",
   "id": "afbea8f9",
   "metadata": {},
   "source": [
    "#### Average clustering coefficient"
   ]
  },
  {
   "cell_type": "code",
   "execution_count": null,
   "id": "cd78ad6e",
   "metadata": {},
   "outputs": [],
   "source": [
    "print(\"--------------------------------\")\n",
    "print(\"AVERAGE CLUSTERING COEFFICIENT\")\n",
    "print(\"--------------------------------\")\n",
    "print()\n",
    "print(\"Controls: \", nx.average_clustering(merged_CN_graph,weight='weight'))\n",
    "print()\n",
    "print(\"MCI: \", nx.average_clustering(merged_MCI_graph,weight='weight'))\n",
    "print()\n",
    "print(\"AD: \", nx.average_clustering(merged_AD_graph,weight='weight'))"
   ]
  },
  {
   "cell_type": "markdown",
   "id": "e051a65c",
   "metadata": {},
   "source": [
    "#### Global efficiency"
   ]
  },
  {
   "cell_type": "code",
   "execution_count": null,
   "id": "d57466ad",
   "metadata": {},
   "outputs": [],
   "source": [
    "print(\"--------------------------------\")\n",
    "print(\"AVERAGE GLOBAL EFFICIENCY\")\n",
    "print(\"--------------------------------\")\n",
    "print()\n",
    "print(\"Controls: \", nx.global_efficiency(merged_CN_graph))\n",
    "print()\n",
    "print(\"MCI: \", nx.global_efficiency(merged_MCI_graph))\n",
    "print()\n",
    "print(\"AD: \", nx.global_efficiency(merged_AD_graph))"
   ]
  },
  {
   "cell_type": "markdown",
   "id": "48cd9297",
   "metadata": {},
   "source": [
    "#### Global measures summary"
   ]
  },
  {
   "cell_type": "code",
   "execution_count": null,
   "id": "9b22cd62",
   "metadata": {
    "scrolled": true
   },
   "outputs": [],
   "source": [
    "merged_gm = global_metrics(merged_CN_graph, merged_MCI_graph, merged_AD_graph)\n",
    "merged_gm.reset_index(inplace=True)\n",
    "merged_gm"
   ]
  },
  {
   "cell_type": "code",
   "execution_count": null,
   "id": "07c158d8",
   "metadata": {},
   "outputs": [],
   "source": [
    "fig, ax = plt.subplots(2, 3, figsize=(22,13))\n",
    "\n",
    "sns.barplot(ax=ax[0,0], x=\"index\", y=\"NEdges\", data=merged_gm) \n",
    "sns.barplot(ax=ax[0,1], x=\"index\", y=\"Diameter\", data=merged_gm)\n",
    "sns.barplot(ax=ax[0,2], x=\"index\", y=\"Density\", data=merged_gm) \n",
    "sns.barplot(ax=ax[1,0], x=\"index\", y=\"AvDegree\", data=merged_gm) \n",
    "sns.barplot(ax=ax[1,1], x=\"index\", y=\"AvCC\", data=merged_gm)\n",
    "sns.barplot(ax=ax[1,2], x=\"index\", y=\"AvGE\",  data=merged_gm)\n",
    "\n",
    "fig.suptitle(\"Global metrics (merged)\", fontsize=20)\n",
    "\n",
    "rows, cols = 2, 3\n",
    "for i in range(rows):\n",
    "    for j in range(cols):\n",
    "        ax[i, j].set_xlabel('Diagnostic group')\n",
    "    \n",
    "plt.show()"
   ]
  },
  {
   "cell_type": "markdown",
   "id": "c57610a1",
   "metadata": {},
   "source": [
    "#### Modularity Index (Louvain Algorithm)"
   ]
  },
  {
   "cell_type": "code",
   "execution_count": null,
   "id": "a46f763a",
   "metadata": {},
   "outputs": [],
   "source": [
    "import networkx.algorithms.community as nx_comm\n",
    "\n",
    "merged_CN_partition = nx_comm.louvain_communities(merged_CN_graph, weight='weight',seed=0)\n",
    "merged_MCI_partition = nx_comm.louvain_communities(merged_MCI_graph, weight='weight',seed=0)\n",
    "merged_AD_partition = nx_comm.louvain_communities(merged_AD_graph, weight='weight',seed=0)\n",
    "\n",
    "print(\"--------------------------------\")\n",
    "print(\"LOUVAIN COMMUNITIES\")\n",
    "print(\"--------------------------------\")\n",
    "print()\n",
    "print(\"Controls: \", merged_CN_partition)\n",
    "print()\n",
    "print(\"MCI: \", merged_MCI_partition)\n",
    "print()\n",
    "print(\"AD: \", merged_AD_partition)\n",
    "\n",
    "print()\n",
    "print(\"--------------------------------\")\n",
    "print(\"MODULARITY INDEX\")\n",
    "print(\"--------------------------------\")\n",
    "print()\n",
    "print(\"Controls: \", nx_comm.modularity(merged_CN_graph, merged_CN_partition, weight='weight'))\n",
    "print()\n",
    "print(\"MCI: \", nx_comm.modularity(merged_MCI_graph, merged_MCI_partition, weight='weight'))\n",
    "print()\n",
    "print(\"AD: \", nx_comm.modularity(merged_AD_graph, merged_AD_partition, weight='weight'))"
   ]
  },
  {
   "cell_type": "markdown",
   "id": "d18e33a6",
   "metadata": {},
   "source": [
    "#### Draw graphs (color by communities)"
   ]
  },
  {
   "cell_type": "code",
   "execution_count": null,
   "id": "4b00f07c",
   "metadata": {},
   "outputs": [],
   "source": [
    "#Plot\n",
    "fig, axes = plt.subplots(1,3, figsize=(20,6))\n",
    "\n",
    "\n",
    "#get colors\n",
    "merged_CN_colors = color_communities(merged_CN_graph, merged_CN_partition)\n",
    "merged_MCI_colors = color_communities(merged_MCI_graph, merged_MCI_partition)\n",
    "merged_AD_colors = color_communities(merged_AD_graph, merged_AD_partition)\n",
    "\n",
    "#Plot\n",
    "\n",
    "#fix position\n",
    "#pos=nx.spring_layout(merged_AD_graph)\n",
    "\n",
    "#get edges weights\n",
    "#edges_CN,weights_CN = zip(*nx.get_edge_attributes(merged_CN_graph,'weight').items())\n",
    "#edges_MCI,weights_MCI = zip(*nx.get_edge_attributes(merged_MCI_graph,'weight').items())\n",
    "#edges_AD,weights_AD = zip(*nx.get_edge_attributes(merged_AD_graph,'weight').items())\n",
    "\n",
    "weights_CN = list(nx.get_edge_attributes(merged_CN_graph,'weight').values())\n",
    "weights_MCI = list(nx.get_edge_attributes(merged_MCI_graph,'weight').values())\n",
    "weights_AD = list(nx.get_edge_attributes(merged_AD_graph,'weight').values())\n",
    "\n",
    "#draw graphs\n",
    "nx.draw(ax=axes[0], G=merged_CN_graph, pos=pos, node_color=merged_CN_colors, with_labels=True,\n",
    "       edge_color=weights_CN, edge_cmap=plt.cm.Greys, width=[ x*10 for x in weights_CN])\n",
    "nx.draw(ax=axes[1], G=merged_MCI_graph, pos=pos, node_color=merged_MCI_colors, with_labels=True,\n",
    "       edge_color=weights_MCI, edge_cmap=plt.cm.Greys, width=[ x*10 for x in weights_MCI])\n",
    "nx.draw(ax=axes[2], G=merged_AD_graph, pos=pos, node_color=merged_AD_colors, with_labels=True,\n",
    "       edge_color=weights_AD, edge_cmap=plt.cm.Greys, width=[ x*10 for x in weights_AD])\n",
    "\n",
    "#add title to subfigures\n",
    "axes[0].title.set_text(\"Controls\")\n",
    "axes[1].title.set_text(\"MCI\")\n",
    "axes[2].title.set_text(\"AD\")\n",
    "\n",
    "plt.show()"
   ]
  },
  {
   "cell_type": "markdown",
   "id": "e2b57399",
   "metadata": {},
   "source": [
    "Community metrics for the controls group:"
   ]
  },
  {
   "cell_type": "code",
   "execution_count": null,
   "id": "2cafcbbe",
   "metadata": {
    "scrolled": true
   },
   "outputs": [],
   "source": [
    "import warnings\n",
    "warnings.filterwarnings('ignore')\n",
    "\n",
    "display(community_metrics(merged_CN_graph, merged_CN_partition))"
   ]
  },
  {
   "cell_type": "markdown",
   "id": "7e1937b0",
   "metadata": {},
   "source": [
    "MCI group:"
   ]
  },
  {
   "cell_type": "code",
   "execution_count": null,
   "id": "075e089e",
   "metadata": {},
   "outputs": [],
   "source": [
    "community_metrics(merged_MCI_graph, merged_MCI_partition)"
   ]
  },
  {
   "cell_type": "markdown",
   "id": "69da1831",
   "metadata": {},
   "source": [
    "AD group: "
   ]
  },
  {
   "cell_type": "code",
   "execution_count": null,
   "id": "d5527c1d",
   "metadata": {
    "scrolled": true
   },
   "outputs": [],
   "source": [
    "community_metrics(merged_AD_graph, merged_AD_partition)"
   ]
  },
  {
   "cell_type": "markdown",
   "id": "7684b43e",
   "metadata": {},
   "source": [
    "#### Representation of the domains in each community"
   ]
  },
  {
   "cell_type": "code",
   "execution_count": null,
   "id": "a3c55deb",
   "metadata": {},
   "outputs": [],
   "source": [
    "#Get data \n",
    "merged_CN_domains = community_metrics(merged_CN_graph, merged_CN_partition)[['Index','Language', 'Memory', 'Visuospatial',\n",
    "                                                                      'Executive', 'Attention', 'Concentration', 'Orientation']]\n",
    "merged_MCI_domains = community_metrics(merged_MCI_graph, merged_MCI_partition)[['Index','Language', 'Memory', 'Visuospatial',\n",
    "                                                                      'Executive', 'Attention', 'Concentration', 'Orientation']]\n",
    "merged_AD_domains = community_metrics(merged_AD_graph, merged_AD_partition)[['Index','Language', 'Memory', 'Visuospatial',\n",
    "                                                                      'Executive', 'Attention', 'Concentration', 'Orientation']]\n",
    "\n",
    "#Reshape data with melt() function\n",
    "merged_CN_domains = merged_CN_domains.melt(id_vars=['Index'], var_name=\"Domain\", value_name='Percentage')\n",
    "merged_MCI_domains = merged_MCI_domains.melt(id_vars=['Index'], var_name=\"Domain\", value_name='Percentage')\n",
    "merged_AD_domains = merged_AD_domains.melt(id_vars=['Index'], var_name=\"Domain\", value_name='Percentage')\n",
    "\n",
    "#plot \n",
    "fig, axes = plt.subplots(1,3, figsize=(20,5))\n",
    "sns.barplot(ax=axes[0], x=\"Domain\", y=\"Percentage\", hue=\"Index\", data=merged_CN_domains)\n",
    "sns.barplot(ax=axes[1], x=\"Domain\", y=\"Percentage\", hue=\"Index\", data=merged_MCI_domains)\n",
    "sns.barplot(ax=axes[2], x=\"Domain\", y=\"Percentage\", hue=\"Index\", data=merged_AD_domains)\n",
    "\n",
    "\n",
    "#merged_CN_domains.plot(kind='bar',ax=axes[0], x=\"Domain\", y=\"Per. of representation\", hue=\"Index\", stacked=True)\n",
    "\n",
    "fig.suptitle(\"Neurocognitive domains distribution\")\n",
    "plt.legend(title='Community')\n",
    "\n",
    "plt.show()\n",
    "\n",
    "#send data to build stacked barplot in R\n",
    "merged_CN_domains.to_csv('./Results/merged/Louvain_CN.csv', index=False) \n",
    "merged_MCI_domains.to_csv('./Results/merged/Louvain_MCI.csv', index=False) \n",
    "merged_AD_domains.to_csv('./Results/merged/Louvain_AD.csv', index=False) "
   ]
  },
  {
   "cell_type": "markdown",
   "id": "5ef29693",
   "metadata": {},
   "source": [
    "#### Modularity index (Greedy modularity algorithm)\n",
    "\n",
    "This function uses **Clauset-Newman-Moore greedy modularity maximization** to find the community partition with the largest modularity.\n",
    "\n",
    "Greedy modularity maximization begins with each node in its own community and repeatedly joins the pair of communities that lead to the largest modularity until no further increase in modularity is possible (a maximum)."
   ]
  },
  {
   "cell_type": "code",
   "execution_count": null,
   "id": "f169e899",
   "metadata": {},
   "outputs": [],
   "source": [
    "import networkx.algorithms.community as nx_comm\n",
    "\n",
    "merged_CN_partition = nx_comm.greedy_modularity_communities(merged_CN_graph, weight='weight')\n",
    "merged_MCI_partition = nx_comm.greedy_modularity_communities(merged_MCI_graph, weight='weight')\n",
    "merged_AD_partition = nx_comm.greedy_modularity_communities(merged_AD_graph, weight='weight')\n",
    "\n",
    "print(\"--------------------------------\")\n",
    "print(\"GREEDY MODULARITY COMMUNITIES\")\n",
    "print(\"--------------------------------\")\n",
    "print()\n",
    "print(\"Controls: \", merged_CN_partition)\n",
    "print()\n",
    "print(\"MCI: \", merged_MCI_partition)\n",
    "print()\n",
    "print(\"AD: \", merged_AD_partition)\n",
    "\n",
    "print()\n",
    "print(\"--------------------------------\")\n",
    "print(\"MODULARITY INDEX\")\n",
    "print(\"--------------------------------\")\n",
    "print()\n",
    "print(\"Controls: \", nx_comm.modularity(merged_CN_graph, merged_CN_partition, weight='weight'))\n",
    "print()\n",
    "print(\"MCI: \", nx_comm.modularity(merged_MCI_graph, merged_MCI_partition, weight='weight'))\n",
    "print()\n",
    "print(\"AD: \", nx_comm.modularity(merged_AD_graph, merged_AD_partition, weight='weight'))"
   ]
  },
  {
   "cell_type": "markdown",
   "id": "1d2862b7",
   "metadata": {},
   "source": [
    "#### Draw graph displaying communities (Greedy modularity communities)"
   ]
  },
  {
   "cell_type": "code",
   "execution_count": null,
   "id": "f6d6bcf9",
   "metadata": {},
   "outputs": [],
   "source": [
    "#Plot\n",
    "fig, axes = plt.subplots(1,3, figsize=(20,6))\n",
    "\n",
    "#get colors\n",
    "merged_CN_colors = color_communities(merged_CN_graph, merged_CN_partition)\n",
    "merged_MCI_colors = color_communities(merged_MCI_graph, merged_MCI_partition)\n",
    "merged_AD_colors = color_communities(merged_AD_graph, merged_AD_partition)\n",
    "\n",
    "#fix positions\n",
    "#pos=nx.spring_layout(merged_AD_graph)\n",
    "\n",
    "#get edges weights\n",
    "#edges_CN,weights_CN = zip(*nx.get_edge_attributes(merged_CN_graph,'weight').items())\n",
    "#edges_MCI,weights_MCI = zip(*nx.get_edge_attributes(merged_MCI_graph,'weight').items())\n",
    "#edges_AD,weights_AD = zip(*nx.get_edge_attributes(merged_AD_graph,'weight').items())\n",
    "\n",
    "weights_CN = list(nx.get_edge_attributes(merged_CN_graph,'weight').values())\n",
    "weights_MCI = list(nx.get_edge_attributes(merged_MCI_graph,'weight').values())\n",
    "weights_AD = list(nx.get_edge_attributes(merged_AD_graph,'weight').values())\n",
    "\n",
    "#draw graphs\n",
    "nx.draw(ax=axes[0], G=merged_CN_graph, pos=pos, with_labels=True, node_color=merged_CN_colors,\n",
    "       edge_color=weights_CN, edge_cmap=plt.cm.Greys, width=[ x*10 for x in weights_CN])\n",
    "nx.draw(ax=axes[1], G=merged_MCI_graph, pos=pos, with_labels=True, node_color=merged_MCI_colors,\n",
    "       edge_color=weights_MCI, edge_cmap=plt.cm.Greys, width=[ x*10 for x in weights_MCI])\n",
    "nx.draw(ax=axes[2], G=merged_AD_graph, pos=pos, with_labels=True, node_color=merged_AD_colors,\n",
    "       edge_color=weights_AD, edge_cmap=plt.cm.Greys, width=[ x*10 for x in weights_AD])\n",
    "\n",
    "#add title to subfigures\n",
    "axes[0].title.set_text(\"Controls\")\n",
    "axes[1].title.set_text(\"MCI\")\n",
    "axes[2].title.set_text(\"AD\")\n",
    "\n",
    "plt.show()"
   ]
  },
  {
   "cell_type": "markdown",
   "id": "07d4b8c6",
   "metadata": {},
   "source": [
    "Community metrics for the controls group:"
   ]
  },
  {
   "cell_type": "code",
   "execution_count": null,
   "id": "34681f76",
   "metadata": {
    "scrolled": true
   },
   "outputs": [],
   "source": [
    "import warnings\n",
    "warnings.filterwarnings('ignore')\n",
    "\n",
    "display(community_metrics(merged_CN_graph, merged_CN_partition))"
   ]
  },
  {
   "cell_type": "markdown",
   "id": "9043002f",
   "metadata": {},
   "source": [
    "MCI group:"
   ]
  },
  {
   "cell_type": "code",
   "execution_count": null,
   "id": "66d70c15",
   "metadata": {},
   "outputs": [],
   "source": [
    "community_metrics(merged_MCI_graph, merged_MCI_partition)"
   ]
  },
  {
   "cell_type": "markdown",
   "id": "42d6a311",
   "metadata": {},
   "source": [
    "AD group: "
   ]
  },
  {
   "cell_type": "code",
   "execution_count": null,
   "id": "c912fa96",
   "metadata": {
    "scrolled": true
   },
   "outputs": [],
   "source": [
    "community_metrics(merged_AD_graph, merged_AD_partition)"
   ]
  },
  {
   "cell_type": "markdown",
   "id": "9e55a212",
   "metadata": {},
   "source": [
    "#### Representation of the domains in each community"
   ]
  },
  {
   "cell_type": "code",
   "execution_count": null,
   "id": "a83d604e",
   "metadata": {},
   "outputs": [],
   "source": [
    "#Get data \n",
    "merged_CN_domains = community_metrics(merged_CN_graph, merged_CN_partition)[['Index','Language', 'Memory', 'Visuospatial',\n",
    "                                                                      'Executive', 'Attention', 'Concentration', 'Orientation']]\n",
    "merged_MCI_domains = community_metrics(merged_MCI_graph, merged_MCI_partition)[['Index','Language', 'Memory', 'Visuospatial',\n",
    "                                                                      'Executive', 'Attention', 'Concentration', 'Orientation']]\n",
    "merged_AD_domains = community_metrics(merged_AD_graph, merged_AD_partition)[['Index','Language', 'Memory', 'Visuospatial',\n",
    "                                                                      'Executive', 'Attention', 'Concentration', 'Orientation']]\n",
    "\n",
    "#Reshape data with melt() function\n",
    "merged_CN_domains = merged_CN_domains.melt(id_vars=['Index'], var_name=\"Domain\", value_name='Percentage')\n",
    "merged_MCI_domains = merged_MCI_domains.melt(id_vars=['Index'], var_name=\"Domain\", value_name='Percentage')\n",
    "merged_AD_domains = merged_AD_domains.melt(id_vars=['Index'], var_name=\"Domain\", value_name='Percentage')\n",
    "\n",
    "#plot \n",
    "fig, axes = plt.subplots(1,3, figsize=(20,5))\n",
    "sns.barplot(ax=axes[0], x=\"Domain\", y=\"Percentage\", hue=\"Index\", data=merged_CN_domains)\n",
    "sns.barplot(ax=axes[1], x=\"Domain\", y=\"Percentage\", hue=\"Index\", data=merged_MCI_domains)\n",
    "sns.barplot(ax=axes[2], x=\"Domain\", y=\"Percentage\", hue=\"Index\", data=merged_AD_domains)\n",
    "\n",
    "\n",
    "#merged_CN_domains.plot(kind='bar',ax=axes[0], x=\"Domain\", y=\"Per. of representation\", hue=\"Index\", stacked=True)\n",
    "\n",
    "fig.suptitle(\"Neurocognitive domains distribution\")\n",
    "plt.legend(title='Community')\n",
    "\n",
    "plt.show()\n",
    "\n",
    "#send data to build stacked barplot in R\n",
    "merged_CN_domains.to_csv('./Results/merged/Greedy_CN.csv', index=False) \n",
    "merged_MCI_domains.to_csv('./Results/merged/Greedy_MCI.csv', index=False) \n",
    "merged_AD_domains.to_csv('./Results/merged/Greedy_AD.csv', index=False) "
   ]
  },
  {
   "cell_type": "markdown",
   "id": "adc6ecba",
   "metadata": {},
   "source": [
    "#### Modularity index (Kernighan-Lin bipartition algorithm)\n",
    "\n",
    "This function uses **Kernighan-Lin bipartition algorithm** to partition a graph into two blocks.\n",
    "\n",
    "This algorithm partitions a network into two sets by iteratively swapping pairs of nodes to reduce the edge cut between the two sets. The pairs are chosen according to a modified form of Kernighan-Lin, which moves node individually, alternating between sides to keep the bisection balanced."
   ]
  },
  {
   "cell_type": "code",
   "execution_count": null,
   "id": "c099cb52",
   "metadata": {},
   "outputs": [],
   "source": [
    "import networkx.algorithms.community as nx_comm\n",
    "\n",
    "merged_CN_partition = nx_comm.kernighan_lin_bisection(merged_CN_graph, weight='weight', seed=0)\n",
    "merged_MCI_partition = nx_comm.kernighan_lin_bisection(merged_MCI_graph, weight='weight', seed=0)\n",
    "merged_AD_partition = nx_comm.kernighan_lin_bisection(merged_AD_graph, weight='weight', seed=0)\n",
    "\n",
    "print(\"--------------------------------\")\n",
    "print(\"KL MODULARITY COMMUNITIES\")\n",
    "print(\"--------------------------------\")\n",
    "print()\n",
    "print(\"Controls: \", merged_CN_partition)\n",
    "print()\n",
    "print(\"MCI: \", merged_MCI_partition)\n",
    "print()\n",
    "print(\"AD: \", merged_AD_partition)\n",
    "\n",
    "print()\n",
    "print(\"--------------------------------\")\n",
    "print(\"MODULARITY INDEX\")\n",
    "print(\"--------------------------------\")\n",
    "print()\n",
    "print(\"Controls: \", nx_comm.modularity(merged_CN_graph, merged_CN_partition, weight='weight'))\n",
    "print()\n",
    "print(\"MCI: \", nx_comm.modularity(merged_MCI_graph, merged_MCI_partition, weight='weight'))\n",
    "print()\n",
    "print(\"AD: \", nx_comm.modularity(merged_AD_graph, merged_AD_partition, weight='weight'))"
   ]
  },
  {
   "cell_type": "markdown",
   "id": "b0ffb81e",
   "metadata": {},
   "source": [
    "#### Draw graph displaying communities (Greedy modularity communities)"
   ]
  },
  {
   "cell_type": "code",
   "execution_count": null,
   "id": "397fdde5",
   "metadata": {},
   "outputs": [],
   "source": [
    "#Plot\n",
    "fig, axes = plt.subplots(1,3, figsize=(20,6))\n",
    "\n",
    "#get colors\n",
    "merged_CN_colors = color_communities(merged_CN_graph, merged_CN_partition)\n",
    "merged_MCI_colors = color_communities(merged_MCI_graph, merged_MCI_partition)\n",
    "merged_AD_colors = color_communities(merged_AD_graph, merged_AD_partition)\n",
    "\n",
    "#fix positions\n",
    "#pos=nx.spring_layout(merged_AD_graph)\n",
    "\n",
    "#get edges weights\n",
    "#edges_CN,weights_CN = zip(*nx.get_edge_attributes(merged_CN_graph,'weight').items())\n",
    "#edges_MCI,weights_MCI = zip(*nx.get_edge_attributes(merged_MCI_graph,'weight').items())\n",
    "#edges_AD,weights_AD = zip(*nx.get_edge_attributes(merged_AD_graph,'weight').items())\n",
    "\n",
    "weights_CN = list(nx.get_edge_attributes(merged_CN_graph,'weight').values())\n",
    "weights_MCI = list(nx.get_edge_attributes(merged_MCI_graph,'weight').values())\n",
    "weights_AD = list(nx.get_edge_attributes(merged_AD_graph,'weight').values())\n",
    "\n",
    "#draw graphs\n",
    "nx.draw(ax=axes[0], G=merged_CN_graph, pos=pos, with_labels=True, node_color=merged_CN_colors,\n",
    "       edge_color=weights_CN, edge_cmap=plt.cm.Greys, width=[ x*10 for x in weights_CN])\n",
    "nx.draw(ax=axes[1], G=merged_MCI_graph, pos=pos, with_labels=True, node_color=merged_MCI_colors,\n",
    "       edge_color=weights_MCI, edge_cmap=plt.cm.Greys, width=[ x*10 for x in weights_MCI])\n",
    "nx.draw(ax=axes[2], G=merged_AD_graph, pos=pos, with_labels=True, node_color=merged_AD_colors,\n",
    "       edge_color=weights_AD, edge_cmap=plt.cm.Greys, width=[ x*10 for x in weights_AD])\n",
    "\n",
    "#add title to subfigures\n",
    "axes[0].title.set_text(\"Controls\")\n",
    "axes[1].title.set_text(\"MCI\")\n",
    "axes[2].title.set_text(\"AD\")\n",
    "\n",
    "plt.show()"
   ]
  },
  {
   "cell_type": "markdown",
   "id": "a75a01af",
   "metadata": {},
   "source": [
    "#### Get subgraphs metrics (Kernighan-Lin bisection algorithm)\n",
    "\n",
    "Each community detected is going to be considered as a subgraph. "
   ]
  },
  {
   "cell_type": "markdown",
   "id": "b0c0b828",
   "metadata": {},
   "source": [
    "Community metrics for the controls group:"
   ]
  },
  {
   "cell_type": "code",
   "execution_count": null,
   "id": "5f9622a3",
   "metadata": {
    "scrolled": true
   },
   "outputs": [],
   "source": [
    "import warnings\n",
    "warnings.filterwarnings('ignore')\n",
    "\n",
    "display(community_metrics(merged_CN_graph, merged_CN_partition))"
   ]
  },
  {
   "cell_type": "markdown",
   "id": "e0965135",
   "metadata": {},
   "source": [
    "MCI group:"
   ]
  },
  {
   "cell_type": "code",
   "execution_count": null,
   "id": "56228f24",
   "metadata": {
    "scrolled": true
   },
   "outputs": [],
   "source": [
    "community_metrics(merged_MCI_graph, merged_MCI_partition)"
   ]
  },
  {
   "cell_type": "markdown",
   "id": "b71178ac",
   "metadata": {},
   "source": [
    "AD group: "
   ]
  },
  {
   "cell_type": "code",
   "execution_count": null,
   "id": "5261a5e3",
   "metadata": {
    "scrolled": true
   },
   "outputs": [],
   "source": [
    "community_metrics(merged_AD_graph, merged_AD_partition)"
   ]
  },
  {
   "cell_type": "markdown",
   "id": "2bf8ef67",
   "metadata": {},
   "source": [
    "#### Representation of the domains in each community"
   ]
  },
  {
   "cell_type": "code",
   "execution_count": null,
   "id": "afd0c9d8",
   "metadata": {
    "scrolled": true
   },
   "outputs": [],
   "source": [
    "#Get data \n",
    "merged_CN_domains = community_metrics(merged_CN_graph, merged_CN_partition)[['Index','Language', 'Memory', 'Visuospatial',\n",
    "                                                                      'Executive', 'Attention', 'Concentration', 'Orientation']]\n",
    "merged_MCI_domains = community_metrics(merged_MCI_graph, merged_MCI_partition)[['Index','Language', 'Memory', 'Visuospatial',\n",
    "                                                                      'Executive', 'Attention', 'Concentration', 'Orientation']]\n",
    "merged_AD_domains = community_metrics(merged_AD_graph, merged_AD_partition)[['Index','Language', 'Memory', 'Visuospatial',\n",
    "                                                                      'Executive', 'Attention', 'Concentration', 'Orientation']]\n",
    "\n",
    "#Reshape data with melt() function\n",
    "merged_CN_domains = merged_CN_domains.melt(id_vars=['Index'], var_name=\"Domain\", value_name='Percentage')\n",
    "merged_MCI_domains = merged_MCI_domains.melt(id_vars=['Index'], var_name=\"Domain\", value_name='Percentage')\n",
    "merged_AD_domains = merged_AD_domains.melt(id_vars=['Index'], var_name=\"Domain\", value_name='Percentage')\n",
    "\n",
    "#plot \n",
    "fig, axes = plt.subplots(1,3, figsize=(20,5))\n",
    "sns.barplot(ax=axes[0], x=\"Domain\", y=\"Percentage\", hue=\"Index\", data=merged_CN_domains)\n",
    "sns.barplot(ax=axes[1], x=\"Domain\", y=\"Percentage\", hue=\"Index\", data=merged_MCI_domains)\n",
    "sns.barplot(ax=axes[2], x=\"Domain\", y=\"Percentage\", hue=\"Index\", data=merged_AD_domains)\n",
    "\n",
    "\n",
    "#merged_CN_domains.plot(kind='bar',ax=axes[0], x=\"Domain\", y=\"Per. of representation\", hue=\"Index\", stacked=True)\n",
    "\n",
    "fig.suptitle(\"Neurocognitive domains distribution\")\n",
    "plt.legend(title='Community')\n",
    "\n",
    "plt.show()\n",
    "\n",
    "#send data to build stacked barplot in R\n",
    "merged_CN_domains.to_csv('./Results/merged/Bisection_CN.csv', index=False) \n",
    "merged_MCI_domains.to_csv('./Results/merged/Bisection_MCI.csv', index=False) \n",
    "merged_AD_domains.to_csv('./Results/merged/Bisection_AD.csv', index=False) "
   ]
  },
  {
   "cell_type": "markdown",
   "id": "89858113",
   "metadata": {},
   "source": [
    "#### Modularity index (Label propagation)\n",
    "\n",
    "This function uses the **asynchronous label propagation algorithm** which is probabilistic and the found communities may vary on different executions.\n",
    "\n",
    "The algorithm proceeds as follows. After initializing each node with a unique label, the algorithm repeatedly sets the label of a node to be the label that appears most frequently among that nodes neighbors. The algorithm halts when each node has the label that appears most frequently among its neighbors. The algorithm is asynchronous because each node is updated without waiting for updates on the remaining nodes."
   ]
  },
  {
   "cell_type": "code",
   "execution_count": null,
   "id": "001db964",
   "metadata": {},
   "outputs": [],
   "source": [
    "import networkx.algorithms.community as nx_comm\n",
    "\n",
    "merged_CN_partition = list(nx_comm.asyn_lpa_communities(merged_CN_graph, weight='weight', seed=0))\n",
    "merged_MCI_partition = list(nx_comm.asyn_lpa_communities(merged_MCI_graph, weight='weight', seed=0))\n",
    "merged_AD_partition = list(nx_comm.asyn_lpa_communities(merged_AD_graph, weight='weight', seed=0))\n",
    "\n",
    "print(\"--------------------------------\")\n",
    "print(\"LABEL PROPAGATION COMMUNITIES\")\n",
    "print(\"--------------------------------\")\n",
    "print()\n",
    "print(\"Controls: \", merged_CN_partition)\n",
    "print()\n",
    "print(\"MCI: \", merged_MCI_partition)\n",
    "print()\n",
    "print(\"AD: \", merged_AD_partition)\n",
    "\n",
    "print()\n",
    "print(\"--------------------------------\")\n",
    "print(\"MODULARITY INDEX\")\n",
    "print(\"--------------------------------\")\n",
    "print()\n",
    "print(\"Controls: \", nx_comm.modularity(merged_CN_graph, merged_CN_partition, weight='weight'))\n",
    "print()\n",
    "print(\"MCI: \", nx_comm.modularity(merged_MCI_graph, merged_MCI_partition, weight='weight'))\n",
    "print()\n",
    "print(\"AD: \", nx_comm.modularity(merged_AD_graph, merged_AD_partition, weight='weight'))"
   ]
  },
  {
   "cell_type": "markdown",
   "id": "ba19141b",
   "metadata": {},
   "source": [
    "#### Draw graph displaying communities (Greedy modularity communities)"
   ]
  },
  {
   "cell_type": "code",
   "execution_count": null,
   "id": "0df6be5b",
   "metadata": {},
   "outputs": [],
   "source": [
    "#Plot\n",
    "fig, axes = plt.subplots(1,3, figsize=(20,6))\n",
    "\n",
    "#get colors\n",
    "merged_CN_colors = color_communities(merged_CN_graph, merged_CN_partition)\n",
    "merged_MCI_colors = color_communities(merged_MCI_graph, merged_MCI_partition)\n",
    "merged_AD_colors = color_communities(merged_AD_graph, merged_AD_partition)\n",
    "\n",
    "#fix positions\n",
    "#pos=nx.spring_layout(merged_AD_graph)\n",
    "\n",
    "#get edges weights\n",
    "#edges_CN,weights_CN = zip(*nx.get_edge_attributes(merged_CN_graph,'weight').items())\n",
    "#edges_MCI,weights_MCI = zip(*nx.get_edge_attributes(merged_MCI_graph,'weight').items())\n",
    "#edges_AD,weights_AD = zip(*nx.get_edge_attributes(merged_AD_graph,'weight').items())\n",
    "\n",
    "weights_CN = list(nx.get_edge_attributes(merged_CN_graph,'weight').values())\n",
    "weights_MCI = list(nx.get_edge_attributes(merged_MCI_graph,'weight').values())\n",
    "weights_AD = list(nx.get_edge_attributes(merged_AD_graph,'weight').values())\n",
    "\n",
    "#draw graphs\n",
    "nx.draw(ax=axes[0], G=merged_CN_graph, pos=pos, with_labels=True, node_color=merged_CN_colors,\n",
    "       edge_color=weights_CN, edge_cmap=plt.cm.Greys, width=[ x*10 for x in weights_CN])\n",
    "nx.draw(ax=axes[1], G=merged_MCI_graph, pos=pos,  with_labels=True, node_color=merged_MCI_colors,\n",
    "       edge_color=weights_MCI, edge_cmap=plt.cm.Greys, width=[ x*10 for x in weights_MCI])\n",
    "nx.draw(ax=axes[2], G=merged_AD_graph, pos=pos, with_labels=True, node_color=merged_AD_colors,\n",
    "       edge_color=weights_AD, edge_cmap=plt.cm.Greys, width=[ x*10 for x in weights_AD])\n",
    "\n",
    "#add title to subfigures\n",
    "axes[0].title.set_text(\"Controls\")\n",
    "axes[1].title.set_text(\"MCI\")\n",
    "axes[2].title.set_text(\"AD\")\n",
    "\n",
    "plt.show()"
   ]
  },
  {
   "cell_type": "markdown",
   "id": "b145c41d",
   "metadata": {},
   "source": [
    "#### Get subgraphs metrics (Greedy modularity algorithm)\n",
    "\n",
    "Each community detected is going to be considered as a subgraph. "
   ]
  },
  {
   "cell_type": "markdown",
   "id": "209cb957",
   "metadata": {},
   "source": [
    "Community metrics for the controls group:"
   ]
  },
  {
   "cell_type": "code",
   "execution_count": null,
   "id": "55ad9488",
   "metadata": {
    "scrolled": true
   },
   "outputs": [],
   "source": [
    "import warnings\n",
    "warnings.filterwarnings('ignore')\n",
    "\n",
    "display(community_metrics(merged_CN_graph, merged_CN_partition))"
   ]
  },
  {
   "cell_type": "markdown",
   "id": "97b2bace",
   "metadata": {},
   "source": [
    "MCI group:"
   ]
  },
  {
   "cell_type": "code",
   "execution_count": null,
   "id": "3df4de45",
   "metadata": {
    "scrolled": false
   },
   "outputs": [],
   "source": [
    "community_metrics(merged_MCI_graph, merged_MCI_partition)"
   ]
  },
  {
   "cell_type": "markdown",
   "id": "dba0e733",
   "metadata": {},
   "source": [
    "AD group: "
   ]
  },
  {
   "cell_type": "code",
   "execution_count": null,
   "id": "f10ab9ca",
   "metadata": {
    "scrolled": false
   },
   "outputs": [],
   "source": [
    "community_metrics(merged_AD_graph, merged_AD_partition)"
   ]
  },
  {
   "cell_type": "markdown",
   "id": "40c91617",
   "metadata": {},
   "source": [
    "#### Representation of the domains in each community"
   ]
  },
  {
   "cell_type": "code",
   "execution_count": null,
   "id": "f62969fd",
   "metadata": {
    "scrolled": true
   },
   "outputs": [],
   "source": [
    "#Get data \n",
    "merged_CN_domains = community_metrics(merged_CN_graph, merged_CN_partition)[['Index','Language', 'Memory', 'Visuospatial',\n",
    "                                                                      'Executive', 'Attention', 'Concentration', 'Orientation']]\n",
    "merged_MCI_domains = community_metrics(merged_MCI_graph, merged_MCI_partition)[['Index','Language', 'Memory', 'Visuospatial',\n",
    "                                                                      'Executive', 'Attention', 'Concentration', 'Orientation']]\n",
    "merged_AD_domains = community_metrics(merged_AD_graph, merged_AD_partition)[['Index','Language', 'Memory', 'Visuospatial',\n",
    "                                                                      'Executive', 'Attention', 'Concentration', 'Orientation']]\n",
    "\n",
    "#Reshape data with melt() function\n",
    "merged_CN_domains = merged_CN_domains.melt(id_vars=['Index'], var_name=\"Domain\", value_name='Percentage')\n",
    "merged_MCI_domains = merged_MCI_domains.melt(id_vars=['Index'], var_name=\"Domain\", value_name='Percentage')\n",
    "merged_AD_domains = merged_AD_domains.melt(id_vars=['Index'], var_name=\"Domain\", value_name='Percentage')\n",
    "\n",
    "#plot \n",
    "fig, axes = plt.subplots(1,3, figsize=(20,5))\n",
    "sns.barplot(ax=axes[0], x=\"Domain\", y=\"Percentage\", hue=\"Index\", data=merged_CN_domains)\n",
    "sns.barplot(ax=axes[1], x=\"Domain\", y=\"Percentage\", hue=\"Index\", data=merged_MCI_domains)\n",
    "sns.barplot(ax=axes[2], x=\"Domain\", y=\"Percentage\", hue=\"Index\", data=merged_AD_domains)\n",
    "\n",
    "\n",
    "#merged_CN_domains.plot(kind='bar',ax=axes[0], x=\"Domain\", y=\"Per. of representation\", hue=\"Index\", stacked=True)\n",
    "\n",
    "fig.suptitle(\"Neurocognitive domains distribution\")\n",
    "plt.legend(title='Community')\n",
    "\n",
    "plt.show()\n",
    "\n",
    "#send data to build stacked barplot in R\n",
    "merged_CN_domains.to_csv('./Results/merged/Asyn_CN.csv', index=False) \n",
    "merged_MCI_domains.to_csv('./Results/merged/Asyn_MCI.csv', index=False) \n",
    "merged_AD_domains.to_csv('./Results/merged/Asyn_AD.csv', index=False) "
   ]
  },
  {
   "cell_type": "code",
   "execution_count": null,
   "id": "761791f7",
   "metadata": {},
   "outputs": [],
   "source": []
  },
  {
   "cell_type": "code",
   "execution_count": null,
   "id": "594054f2",
   "metadata": {},
   "outputs": [],
   "source": []
  },
  {
   "cell_type": "code",
   "execution_count": null,
   "id": "daf62764",
   "metadata": {},
   "outputs": [],
   "source": []
  }
 ],
 "metadata": {
  "kernelspec": {
   "display_name": "Python 3 (ipykernel)",
   "language": "python",
   "name": "python3"
  },
  "language_info": {
   "codemirror_mode": {
    "name": "ipython",
    "version": 3
   },
   "file_extension": ".py",
   "mimetype": "text/x-python",
   "name": "python",
   "nbconvert_exporter": "python",
   "pygments_lexer": "ipython3",
   "version": "3.9.12"
  }
 },
 "nbformat": 4,
 "nbformat_minor": 5
}
